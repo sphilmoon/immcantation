{
 "cells": [
  {
   "cell_type": "code",
   "execution_count": 25,
   "id": "planned-republican",
   "metadata": {},
   "outputs": [],
   "source": [
    "# Load required packages\n",
    "library(alakazam)\n",
    "library(ggplot2)\n",
    "\n",
    "db <- readChangeoDb(\"all_contig_heavy_germ-pass.tsv\", select = NULL, drop = NULL, seq_upper = TRUE)"
   ]
  },
  {
   "cell_type": "code",
   "execution_count": 26,
   "id": "reflected-discharge",
   "metadata": {},
   "outputs": [
    {
     "data": {
      "text/html": [
       "<table class=\"dataframe\">\n",
       "<caption>A tibble: 5 × 3</caption>\n",
       "<thead>\n",
       "\t<tr><th scope=col>clone_id</th><th scope=col>seq_count</th><th scope=col>seq_freq</th></tr>\n",
       "\t<tr><th scope=col>&lt;chr&gt;</th><th scope=col>&lt;int&gt;</th><th scope=col>&lt;dbl&gt;</th></tr>\n",
       "</thead>\n",
       "<tbody>\n",
       "\t<tr><td>3461_1115</td><td>8</td><td>0.0011494253</td></tr>\n",
       "\t<tr><td>1390_61  </td><td>7</td><td>0.0010057471</td></tr>\n",
       "\t<tr><td>2679_702 </td><td>5</td><td>0.0007183908</td></tr>\n",
       "\t<tr><td>168_4431 </td><td>3</td><td>0.0004310345</td></tr>\n",
       "\t<tr><td>2679_1482</td><td>3</td><td>0.0004310345</td></tr>\n",
       "</tbody>\n",
       "</table>\n"
      ],
      "text/latex": [
       "A tibble: 5 × 3\n",
       "\\begin{tabular}{lll}\n",
       " clone\\_id & seq\\_count & seq\\_freq\\\\\n",
       " <chr> & <int> & <dbl>\\\\\n",
       "\\hline\n",
       "\t 3461\\_1115 & 8 & 0.0011494253\\\\\n",
       "\t 1390\\_61   & 7 & 0.0010057471\\\\\n",
       "\t 2679\\_702  & 5 & 0.0007183908\\\\\n",
       "\t 168\\_4431  & 3 & 0.0004310345\\\\\n",
       "\t 2679\\_1482 & 3 & 0.0004310345\\\\\n",
       "\\end{tabular}\n"
      ],
      "text/markdown": [
       "\n",
       "A tibble: 5 × 3\n",
       "\n",
       "| clone_id &lt;chr&gt; | seq_count &lt;int&gt; | seq_freq &lt;dbl&gt; |\n",
       "|---|---|---|\n",
       "| 3461_1115 | 8 | 0.0011494253 |\n",
       "| 1390_61   | 7 | 0.0010057471 |\n",
       "| 2679_702  | 5 | 0.0007183908 |\n",
       "| 168_4431  | 3 | 0.0004310345 |\n",
       "| 2679_1482 | 3 | 0.0004310345 |\n",
       "\n"
      ],
      "text/plain": [
       "  clone_id  seq_count seq_freq    \n",
       "1 3461_1115 8         0.0011494253\n",
       "2 1390_61   7         0.0010057471\n",
       "3 2679_702  5         0.0007183908\n",
       "4 168_4431  3         0.0004310345\n",
       "5 2679_1482 3         0.0004310345"
      ]
     },
     "metadata": {},
     "output_type": "display_data"
    }
   ],
   "source": [
    "# Partitions the data based on the sample column\n",
    "clones <- countClones(db)\n",
    "head(clones, 5)"
   ]
  },
  {
   "cell_type": "code",
   "execution_count": 27,
   "id": "awful-fancy",
   "metadata": {},
   "outputs": [
    {
     "data": {
      "text/html": [
       "<table class=\"dataframe\">\n",
       "<caption>A grouped_df: 5 × 4</caption>\n",
       "<thead>\n",
       "\t<tr><th scope=col>c_call</th><th scope=col>clone_id</th><th scope=col>seq_count</th><th scope=col>seq_freq</th></tr>\n",
       "\t<tr><th scope=col>&lt;chr&gt;</th><th scope=col>&lt;chr&gt;</th><th scope=col>&lt;int&gt;</th><th scope=col>&lt;dbl&gt;</th></tr>\n",
       "</thead>\n",
       "<tbody>\n",
       "\t<tr><td>IGHM</td><td>3461_1115</td><td>8</td><td>0.0015847861</td></tr>\n",
       "\t<tr><td>IGHM</td><td>1390_61  </td><td>6</td><td>0.0011885895</td></tr>\n",
       "\t<tr><td>IGHA</td><td>2679_702 </td><td>5</td><td>0.1111111111</td></tr>\n",
       "\t<tr><td>IGHA</td><td>2679_1482</td><td>3</td><td>0.0666666667</td></tr>\n",
       "\t<tr><td>IGHM</td><td>168_4431 </td><td>3</td><td>0.0005942948</td></tr>\n",
       "</tbody>\n",
       "</table>\n"
      ],
      "text/latex": [
       "A grouped\\_df: 5 × 4\n",
       "\\begin{tabular}{llll}\n",
       " c\\_call & clone\\_id & seq\\_count & seq\\_freq\\\\\n",
       " <chr> & <chr> & <int> & <dbl>\\\\\n",
       "\\hline\n",
       "\t IGHM & 3461\\_1115 & 8 & 0.0015847861\\\\\n",
       "\t IGHM & 1390\\_61   & 6 & 0.0011885895\\\\\n",
       "\t IGHA & 2679\\_702  & 5 & 0.1111111111\\\\\n",
       "\t IGHA & 2679\\_1482 & 3 & 0.0666666667\\\\\n",
       "\t IGHM & 168\\_4431  & 3 & 0.0005942948\\\\\n",
       "\\end{tabular}\n"
      ],
      "text/markdown": [
       "\n",
       "A grouped_df: 5 × 4\n",
       "\n",
       "| c_call &lt;chr&gt; | clone_id &lt;chr&gt; | seq_count &lt;int&gt; | seq_freq &lt;dbl&gt; |\n",
       "|---|---|---|---|\n",
       "| IGHM | 3461_1115 | 8 | 0.0015847861 |\n",
       "| IGHM | 1390_61   | 6 | 0.0011885895 |\n",
       "| IGHA | 2679_702  | 5 | 0.1111111111 |\n",
       "| IGHA | 2679_1482 | 3 | 0.0666666667 |\n",
       "| IGHM | 168_4431  | 3 | 0.0005942948 |\n",
       "\n"
      ],
      "text/plain": [
       "  c_call clone_id  seq_count seq_freq    \n",
       "1 IGHM   3461_1115 8         0.0015847861\n",
       "2 IGHM   1390_61   6         0.0011885895\n",
       "3 IGHA   2679_702  5         0.1111111111\n",
       "4 IGHA   2679_1482 3         0.0666666667\n",
       "5 IGHM   168_4431  3         0.0005942948"
      ]
     },
     "metadata": {},
     "output_type": "display_data"
    }
   ],
   "source": [
    "# Partitions the data based on both the sample_id and c_call columns\n",
    "# Weights the clone sizes by the duplicate_count column\n",
    "clones <- countClones(db, group=c(\"c_call\"), clone=\"clone_id\")\n",
    "head(clones, 5)"
   ]
  },
  {
   "cell_type": "code",
   "execution_count": 28,
   "id": "general-lightweight",
   "metadata": {},
   "outputs": [],
   "source": [
    "# Partitions the data on the sample column\n",
    "# Calculates a 70% confidence interval via 200 bootstrap realizations\n",
    "curve <- estimateAbundance(db, ci=0.70, nboot=200, clone=\"clone_id\")"
   ]
  },
  {
   "cell_type": "code",
   "execution_count": 29,
   "id": "fancy-distinction",
   "metadata": {},
   "outputs": [
    {
     "data": {
      "image/png": "[encoded data removed]",
      "text/plain": [
       "plot without title"
      ]
     },
     "metadata": {
      "image/png": {
       "height": 420,
       "width": 420
      }
     },
     "output_type": "display_data"
    }
   ],
   "source": [
    "# Plots a rank abundance curve of the relative clonal abundances\n",
    "sample_colors <- c(\"-1h\"=\"seagreen\", \"+7d\"=\"steelblue\")\n",
    "plot(curve, colors = sample_colors, legend_title=\"Sample\")"
   ]
  },
  {
   "cell_type": "code",
   "execution_count": 30,
   "id": "ancient-gates",
   "metadata": {},
   "outputs": [
    {
     "name": "stderr",
     "output_type": "stream",
     "text": [
      "Warning message in estimateAbundance(data, ci = 0.95, ...):\n",
      "“Not all groups passed threshold min_n=30. Excluded: IGHG1, IGHG2B, IGHG2C, IGHG3”\n"
     ]
    },
    {
     "ename": "ERROR",
     "evalue": "Error in if (f2 > 0) {: missing value where TRUE/FALSE needed\n",
     "output_type": "error",
     "traceback": [
      "Error in if (f2 > 0) {: missing value where TRUE/FALSE needed\nTraceback:\n",
      "1. alphaDiversity(db, group = \"c_call\", clone = \"clone_id\", min_q = 0, \n .     max_q = 4, step_q = 0.1, ci = 0.9, nboot = 200)",
      "2. estimateAbundance(data, ci = 0.95, ...)",
      "3. bootstrapAbundance(abund_obs, n, nboot = nboot, method = \"before\")",
      "4. inferCompleteAbundance(x)",
      "5. adjustObservedAbundance(x)",
      "6. calcCoverage(x, r = 1)",
      "7. calcChao1Coverage(x)"
     ]
    }
   ],
   "source": [
    "# Compare diversity curve across values in the \"sample\" column\n",
    "# q ranges from 0 (min_q=0) to 4 (max_q=4) in 0.05 increments (step_q=0.05)\n",
    "# A 95% confidence interval will be calculated (ci=0.95)\n",
    "# 200 resampling realizations are performed (nboot=200)\n",
    "sample_curve <- alphaDiversity(db, clone=\"clone_id\",\n",
    "                               min_q=0, max_q=4, step_q=0.1,\n",
    "                               ci=0.90, nboot=200)\n",
    "\n",
    "# Compare diversity curve across values in the c_call column\n",
    "# Analyse is restricted to c_call values with at least 30 sequences by min_n=30\n",
    "# Excluded groups are indicated by a warning message\n",
    "isotype_curve <- alphaDiversity(db, group=\"c_call\", clone=\"clone_id\",\n",
    "                                min_q=0, max_q=4, step_q=0.1,\n",
    "                                ci=0.90, nboot=200)"
   ]
  },
  {
   "cell_type": "code",
   "execution_count": null,
   "id": "meaning-madison",
   "metadata": {},
   "outputs": [],
   "source": [
    "# Plot a log-log (log_q=TRUE, log_d=TRUE) plot of sample diversity\n",
    "# Indicate number of sequences resampled from each group in the title\n",
    "sample_main <- paste0(\"Sample diversity\")\n",
    "sample_colors <- c(\"-1h\"=\"seagreen\", \"+7d\"=\"steelblue\")\n",
    "plot(sample_curve, colors=sample_colors, main_title=sample_main, \n",
    "     legend_title=\"Sample\")"
   ]
  },
  {
   "cell_type": "code",
   "execution_count": null,
   "id": "rolled-garlic",
   "metadata": {},
   "outputs": [],
   "source": [
    "# Plot isotype diversity using default set of Ig isotype colors\n",
    "isotype_main <- paste0(\"Isotype diversity\")\n",
    "plot(isotype_curve, colors=IG_COLORS, main_title=isotype_main, \n",
    "     legend_title=\"Isotype\")"
   ]
  },
  {
   "cell_type": "code",
   "execution_count": null,
   "id": "alternate-bobby",
   "metadata": {},
   "outputs": [],
   "source": [
    "# Test diversity at q=0, q=1 and q=2 (equivalent to species richness, Shannon entropy, \n",
    "# Simpson's index) across values in the sample_id column\n",
    "# 200 bootstrap realizations are performed (nboot=200)\n",
    "isotype_test <- alphaDiversity(db, group=\"c_call\", min_q=0, max_q=2, step_q=1, nboot=200, clone=\"clone_id\")\n",
    "\n",
    "# Print P-value table\n",
    "print(isotype_test@tests)"
   ]
  }
 ],
 "metadata": {
  "kernelspec": {
   "display_name": "R",
   "language": "R",
   "name": "ir"
  }
 },
 "nbformat": 4,
 "nbformat_minor": 5
}
