{
 "cells": [
  {
   "cell_type": "code",
   "execution_count": 69,
   "id": "specific-flush",
   "metadata": {},
   "outputs": [],
   "source": [
    "library(alakazam)\n",
    "library(ape)\n",
    "library(dplyr)\n",
    "library(ggplot2)\n",
    "\n",
    "# using an airr format data.\n",
    "\n",
    "# read in the data\n",
    "db <- readIgphyml(\"all_contig_heavy_germ-pass_igphyml-pass.tab\", format=\"phylo\",\n",
    "      branches=\"mutations\")"
   ]
  },
  {
   "cell_type": "code",
   "execution_count": 59,
   "id": "standard-dryer",
   "metadata": {},
   "outputs": [
    {
     "data": {
      "text/html": [
       "<strong>png:</strong> 2"
      ],
      "text/latex": [
       "\\textbf{png:} 2"
      ],
      "text/markdown": [
       "**png:** 2"
      ],
      "text/plain": [
       "png \n",
       "  2 "
      ]
     },
     "metadata": {},
     "output_type": "display_data"
    }
   ],
   "source": [
    "png(\"graph.png\",width=8,height=6,unit=\"in\",res=300)\n",
    "plot(db$trees[[1]],show.node.label=TRUE)\n",
    "add.scale.bar(length=5)\n",
    "dev.off()"
   ]
  },
  {
   "cell_type": "code",
   "execution_count": 67,
   "id": "egyptian-scientist",
   "metadata": {
    "scrolled": false
   },
   "outputs": [],
   "source": [
    "db_clone <- readChangeoDb(\"all_contig_heavy_germ-pass.tsv\")"
   ]
  },
  {
   "cell_type": "code",
   "execution_count": 79,
   "id": "functioning-problem",
   "metadata": {},
   "outputs": [
    {
     "data": {
      "text/html": [
       "<table class=\"dataframe\">\n",
       "<caption>A grouped_df: 4 × 4</caption>\n",
       "<thead>\n",
       "\t<tr><th scope=col>c_call</th><th scope=col>gene</th><th scope=col>seq_count</th><th scope=col>seq_freq</th></tr>\n",
       "\t<tr><th scope=col>&lt;chr&gt;</th><th scope=col>&lt;chr&gt;</th><th scope=col>&lt;int&gt;</th><th scope=col>&lt;dbl&gt;</th></tr>\n",
       "</thead>\n",
       "<tbody>\n",
       "\t<tr><td>IGHM</td><td>IGHV1-26</td><td>273</td><td>0.05408082</td></tr>\n",
       "\t<tr><td>IGHM</td><td>IGHV3-6 </td><td>201</td><td>0.03981775</td></tr>\n",
       "\t<tr><td>IGHM</td><td>IGHV6-3 </td><td>183</td><td>0.03625198</td></tr>\n",
       "\t<tr><td>IGHM</td><td>IGHV1-64</td><td>178</td><td>0.03526149</td></tr>\n",
       "</tbody>\n",
       "</table>\n"
      ],
      "text/latex": [
       "A grouped\\_df: 4 × 4\n",
       "\\begin{tabular}{llll}\n",
       " c\\_call & gene & seq\\_count & seq\\_freq\\\\\n",
       " <chr> & <chr> & <int> & <dbl>\\\\\n",
       "\\hline\n",
       "\t IGHM & IGHV1-26 & 273 & 0.05408082\\\\\n",
       "\t IGHM & IGHV3-6  & 201 & 0.03981775\\\\\n",
       "\t IGHM & IGHV6-3  & 183 & 0.03625198\\\\\n",
       "\t IGHM & IGHV1-64 & 178 & 0.03526149\\\\\n",
       "\\end{tabular}\n"
      ],
      "text/markdown": [
       "\n",
       "A grouped_df: 4 × 4\n",
       "\n",
       "| c_call &lt;chr&gt; | gene &lt;chr&gt; | seq_count &lt;int&gt; | seq_freq &lt;dbl&gt; |\n",
       "|---|---|---|---|\n",
       "| IGHM | IGHV1-26 | 273 | 0.05408082 |\n",
       "| IGHM | IGHV3-6  | 201 | 0.03981775 |\n",
       "| IGHM | IGHV6-3  | 183 | 0.03625198 |\n",
       "| IGHM | IGHV1-64 | 178 | 0.03526149 |\n",
       "\n"
      ],
      "text/plain": [
       "  c_call gene     seq_count seq_freq  \n",
       "1 IGHM   IGHV1-26 273       0.05408082\n",
       "2 IGHM   IGHV3-6  201       0.03981775\n",
       "3 IGHM   IGHV6-3  183       0.03625198\n",
       "4 IGHM   IGHV1-64 178       0.03526149"
      ]
     },
     "metadata": {},
     "output_type": "display_data"
    }
   ],
   "source": [
    "# Quantify usage at the gene level\n",
    "gene <- countGenes(db_clone, gene=\"v_call\", \"c_call\", mode=\"gene\")\n",
    "head(gene, n=4)"
   ]
  },
  {
   "cell_type": "code",
   "execution_count": 88,
   "id": "loose-tonight",
   "metadata": {},
   "outputs": [
    {
     "ename": "ERROR",
     "evalue": "Error in check_breaks_labels(breaks, labels): object 'percent' not found\n",
     "output_type": "error",
     "traceback": [
      "Error in check_breaks_labels(breaks, labels): object 'percent' not found\nTraceback:\n",
      "1. scale_y_continuous(labels = percent)",
      "2. continuous_scale(c(\"y\", \"ymin\", \"ymax\", \"yend\", \"yintercept\", \n .     \"ymin_final\", \"ymax_final\", \"lower\", \"middle\", \"upper\", \"y0\"), \n .     \"position_c\", identity, name = name, breaks = breaks, n.breaks = n.breaks, \n .     minor_breaks = minor_breaks, labels = labels, limits = limits, \n .     expand = expand, oob = oob, na.value = na.value, trans = trans, \n .     guide = guide, position = position, super = ScaleContinuousPosition)",
      "3. check_breaks_labels(breaks, labels)"
     ]
    }
   ],
   "source": [
    "# Assign sorted levels and subset to IGHV1\n",
    "ighv1 <- gene %>%\n",
    "    mutate(gene=factor(gene, levels=sortGenes(unique(gene), method=\"name\"))) %>%\n",
    "    filter(getFamily(gene) == \"IGHV1\")\n",
    "\n",
    "# Plot V gene usage in the IGHV1 family by sample\n",
    "g1 <- ggplot(ighv1, aes(x=gene, y=seq_freq)) +\n",
    "    theme_bw() +\n",
    "    ggtitle(\"IGHV1 Usage\") +\n",
    "    theme(axis.text.x=element_text(angle=45, hjust=1, vjust=1)) +\n",
    "    ylab(\"Percent of repertoire\") +\n",
    "    xlab(\"\") +\n",
    "    scale_y_continuous(labels=percent) +\n",
    "    scale_color_brewer(palette=\"Set1\") +\n",
    "    geom_point(aes(color=sample_id), size=5, alpha=0.8)\n",
    "plot(g1)"
   ]
  },
  {
   "cell_type": "code",
   "execution_count": 83,
   "id": "tested-quality",
   "metadata": {},
   "outputs": [
    {
     "ename": "ERROR",
     "evalue": "Error in check_breaks_labels(breaks, labels): object 'percent' not found\n",
     "output_type": "error",
     "traceback": [
      "Error in check_breaks_labels(breaks, labels): object 'percent' not found\nTraceback:\n",
      "1. scale_y_continuous(labels = percent)",
      "2. continuous_scale(c(\"y\", \"ymin\", \"ymax\", \"yend\", \"yintercept\", \n .     \"ymin_final\", \"ymax_final\", \"lower\", \"middle\", \"upper\", \"y0\"), \n .     \"position_c\", identity, name = name, breaks = breaks, n.breaks = n.breaks, \n .     minor_breaks = minor_breaks, labels = labels, limits = limits, \n .     expand = expand, oob = oob, na.value = na.value, trans = trans, \n .     guide = guide, position = position, super = ScaleContinuousPosition)",
      "3. check_breaks_labels(breaks, labels)"
     ]
    }
   ],
   "source": [
    "# Quantify V family usage by sample\n",
    "family <- countGenes(db_clone, gene=\"v_call\", mode=\"family\")\n",
    "\n",
    "# Plot V family usage by sample\n",
    "g2 <- ggplot(family, aes(x=gene, y=seq_freq)) +\n",
    "    theme_bw() +\n",
    "    ggtitle(\"Family Usage\") +\n",
    "    theme(axis.text.x=element_text(angle=45, hjust=1, vjust=1)) +\n",
    "    ylab(\"Percent of repertoire\") +\n",
    "    xlab(\"\") +\n",
    "    scale_y_continuous(labels=percent) +\n",
    "    scale_color_brewer(palette=\"Set1\") +\n",
    "    geom_point(aes(color=sample_id), size=5, alpha=0.8)\n",
    "plot(g2)"
   ]
  }
 ],
 "metadata": {
  "kernelspec": {
   "display_name": "R",
   "language": "R",
   "name": "ir"
  },
  "language_info": {
   "codemirror_mode": "r",
   "file_extension": ".r",
   "mimetype": "text/x-r-source",
   "name": "R",
   "pygments_lexer": "r",
   "version": "4.0.3"
  }
 },
 "nbformat": 4,
 "nbformat_minor": 5
}
