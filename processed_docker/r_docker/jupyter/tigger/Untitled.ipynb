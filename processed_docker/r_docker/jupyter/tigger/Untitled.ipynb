{
 "cells": [
  {
   "cell_type": "code",
   "execution_count": 4,
   "id": "celtic-project",
   "metadata": {},
   "outputs": [
    {
     "data": {
      "text/html": [
       "<style>\n",
       ".list-inline {list-style: none; margin:0; padding: 0}\n",
       ".list-inline>li {display: inline-block}\n",
       ".list-inline>li:not(:last-child)::after {content: \"\\00b7\"; padding: 0 .5ex}\n",
       "</style>\n",
       "<ol class=list-inline><li>'sequence_id'</li><li>'sequence'</li><li>'rev_comp'</li><li>'productive'</li><li>'v_call'</li><li>'d_call'</li><li>'j_call'</li><li>'sequence_alignment'</li><li>'germline_alignment'</li><li>'junction'</li><li>'junction_aa'</li><li>'v_cigar'</li><li>'d_cigar'</li><li>'j_cigar'</li><li>'stop_codon'</li><li>'vj_in_frame'</li><li>'locus'</li><li>'junction_length'</li><li>'np1_length'</li><li>'np2_length'</li><li>'v_sequence_start'</li><li>'v_sequence_end'</li><li>'v_germline_start'</li><li>'v_germline_end'</li><li>'d_sequence_start'</li><li>'d_sequence_end'</li><li>'d_germline_start'</li><li>'d_germline_end'</li><li>'j_sequence_start'</li><li>'j_sequence_end'</li><li>'j_germline_start'</li><li>'j_germline_end'</li><li>'v_score'</li><li>'v_identity'</li><li>'v_support'</li><li>'d_score'</li><li>'d_identity'</li><li>'d_support'</li><li>'j_score'</li><li>'j_identity'</li><li>'j_support'</li><li>'fwr1'</li><li>'fwr2'</li><li>'fwr3'</li><li>'fwr4'</li><li>'cdr1'</li><li>'cdr2'</li><li>'cdr3'</li><li>'cell_id'</li><li>'c_call'</li><li>'consensus_count'</li><li>'umi_count'</li><li>'v_call_10x'</li><li>'d_call_10x'</li><li>'j_call_10x'</li><li>'junction_10x'</li><li>'junction_10x_aa'</li></ol>\n"
      ],
      "text/latex": [
       "\\begin{enumerate*}\n",
       "\\item 'sequence\\_id'\n",
       "\\item 'sequence'\n",
       "\\item 'rev\\_comp'\n",
       "\\item 'productive'\n",
       "\\item 'v\\_call'\n",
       "\\item 'd\\_call'\n",
       "\\item 'j\\_call'\n",
       "\\item 'sequence\\_alignment'\n",
       "\\item 'germline\\_alignment'\n",
       "\\item 'junction'\n",
       "\\item 'junction\\_aa'\n",
       "\\item 'v\\_cigar'\n",
       "\\item 'd\\_cigar'\n",
       "\\item 'j\\_cigar'\n",
       "\\item 'stop\\_codon'\n",
       "\\item 'vj\\_in\\_frame'\n",
       "\\item 'locus'\n",
       "\\item 'junction\\_length'\n",
       "\\item 'np1\\_length'\n",
       "\\item 'np2\\_length'\n",
       "\\item 'v\\_sequence\\_start'\n",
       "\\item 'v\\_sequence\\_end'\n",
       "\\item 'v\\_germline\\_start'\n",
       "\\item 'v\\_germline\\_end'\n",
       "\\item 'd\\_sequence\\_start'\n",
       "\\item 'd\\_sequence\\_end'\n",
       "\\item 'd\\_germline\\_start'\n",
       "\\item 'd\\_germline\\_end'\n",
       "\\item 'j\\_sequence\\_start'\n",
       "\\item 'j\\_sequence\\_end'\n",
       "\\item 'j\\_germline\\_start'\n",
       "\\item 'j\\_germline\\_end'\n",
       "\\item 'v\\_score'\n",
       "\\item 'v\\_identity'\n",
       "\\item 'v\\_support'\n",
       "\\item 'd\\_score'\n",
       "\\item 'd\\_identity'\n",
       "\\item 'd\\_support'\n",
       "\\item 'j\\_score'\n",
       "\\item 'j\\_identity'\n",
       "\\item 'j\\_support'\n",
       "\\item 'fwr1'\n",
       "\\item 'fwr2'\n",
       "\\item 'fwr3'\n",
       "\\item 'fwr4'\n",
       "\\item 'cdr1'\n",
       "\\item 'cdr2'\n",
       "\\item 'cdr3'\n",
       "\\item 'cell\\_id'\n",
       "\\item 'c\\_call'\n",
       "\\item 'consensus\\_count'\n",
       "\\item 'umi\\_count'\n",
       "\\item 'v\\_call\\_10x'\n",
       "\\item 'd\\_call\\_10x'\n",
       "\\item 'j\\_call\\_10x'\n",
       "\\item 'junction\\_10x'\n",
       "\\item 'junction\\_10x\\_aa'\n",
       "\\end{enumerate*}\n"
      ],
      "text/markdown": [
       "1. 'sequence_id'\n",
       "2. 'sequence'\n",
       "3. 'rev_comp'\n",
       "4. 'productive'\n",
       "5. 'v_call'\n",
       "6. 'd_call'\n",
       "7. 'j_call'\n",
       "8. 'sequence_alignment'\n",
       "9. 'germline_alignment'\n",
       "10. 'junction'\n",
       "11. 'junction_aa'\n",
       "12. 'v_cigar'\n",
       "13. 'd_cigar'\n",
       "14. 'j_cigar'\n",
       "15. 'stop_codon'\n",
       "16. 'vj_in_frame'\n",
       "17. 'locus'\n",
       "18. 'junction_length'\n",
       "19. 'np1_length'\n",
       "20. 'np2_length'\n",
       "21. 'v_sequence_start'\n",
       "22. 'v_sequence_end'\n",
       "23. 'v_germline_start'\n",
       "24. 'v_germline_end'\n",
       "25. 'd_sequence_start'\n",
       "26. 'd_sequence_end'\n",
       "27. 'd_germline_start'\n",
       "28. 'd_germline_end'\n",
       "29. 'j_sequence_start'\n",
       "30. 'j_sequence_end'\n",
       "31. 'j_germline_start'\n",
       "32. 'j_germline_end'\n",
       "33. 'v_score'\n",
       "34. 'v_identity'\n",
       "35. 'v_support'\n",
       "36. 'd_score'\n",
       "37. 'd_identity'\n",
       "38. 'd_support'\n",
       "39. 'j_score'\n",
       "40. 'j_identity'\n",
       "41. 'j_support'\n",
       "42. 'fwr1'\n",
       "43. 'fwr2'\n",
       "44. 'fwr3'\n",
       "45. 'fwr4'\n",
       "46. 'cdr1'\n",
       "47. 'cdr2'\n",
       "48. 'cdr3'\n",
       "49. 'cell_id'\n",
       "50. 'c_call'\n",
       "51. 'consensus_count'\n",
       "52. 'umi_count'\n",
       "53. 'v_call_10x'\n",
       "54. 'd_call_10x'\n",
       "55. 'j_call_10x'\n",
       "56. 'junction_10x'\n",
       "57. 'junction_10x_aa'\n",
       "\n",
       "\n"
      ],
      "text/plain": [
       " [1] \"sequence_id\"        \"sequence\"           \"rev_comp\"          \n",
       " [4] \"productive\"         \"v_call\"             \"d_call\"            \n",
       " [7] \"j_call\"             \"sequence_alignment\" \"germline_alignment\"\n",
       "[10] \"junction\"           \"junction_aa\"        \"v_cigar\"           \n",
       "[13] \"d_cigar\"            \"j_cigar\"            \"stop_codon\"        \n",
       "[16] \"vj_in_frame\"        \"locus\"              \"junction_length\"   \n",
       "[19] \"np1_length\"         \"np2_length\"         \"v_sequence_start\"  \n",
       "[22] \"v_sequence_end\"     \"v_germline_start\"   \"v_germline_end\"    \n",
       "[25] \"d_sequence_start\"   \"d_sequence_end\"     \"d_germline_start\"  \n",
       "[28] \"d_germline_end\"     \"j_sequence_start\"   \"j_sequence_end\"    \n",
       "[31] \"j_germline_start\"   \"j_germline_end\"     \"v_score\"           \n",
       "[34] \"v_identity\"         \"v_support\"          \"d_score\"           \n",
       "[37] \"d_identity\"         \"d_support\"          \"j_score\"           \n",
       "[40] \"j_identity\"         \"j_support\"          \"fwr1\"              \n",
       "[43] \"fwr2\"               \"fwr3\"               \"fwr4\"              \n",
       "[46] \"cdr1\"               \"cdr2\"               \"cdr3\"              \n",
       "[49] \"cell_id\"            \"c_call\"             \"consensus_count\"   \n",
       "[52] \"umi_count\"          \"v_call_10x\"         \"d_call_10x\"        \n",
       "[55] \"j_call_10x\"         \"junction_10x\"       \"junction_10x_aa\"   "
      ]
     },
     "metadata": {},
     "output_type": "display_data"
    }
   ],
   "source": [
    "suppressPackageStartupMessages(library(alakazam))\n",
    "suppressPackageStartupMessages(library(tigger))\n",
    "suppressPackageStartupMessages(library(dplyr))\n",
    "suppressPackageStartupMessages(library(ggplot2))\n",
    "suppressPackageStartupMessages(library(airr))\n",
    "\n",
    "db <- read_airr(\"../../bitbucket_tutorial/changeo/filtered_contig_igblast_db-pass_parse-select_parse-select.tsv\")\n",
    "colnames(db)"
   ]
  },
  {
   "cell_type": "code",
   "execution_count": 5,
   "id": "stone-howard",
   "metadata": {},
   "outputs": [
    {
     "data": {
      "text/html": [
       "<strong>IGHJ1*01:</strong> 'CTACTGGTACTTCGATGTCTGGGGCGCAGGGACCACGGTCACCGTCTCCTCAG'"
      ],
      "text/latex": [
       "\\textbf{IGHJ1*01:} 'CTACTGGTACTTCGATGTCTGGGGCGCAGGGACCACGGTCACCGTCTCCTCAG'"
      ],
      "text/markdown": [
       "**IGHJ1*01:** 'CTACTGGTACTTCGATGTCTGGGGCGCAGGGACCACGGTCACCGTCTCCTCAG'"
      ],
      "text/plain": [
       "                                               IGHJ1*01 \n",
       "\"CTACTGGTACTTCGATGTCTGGGGCGCAGGGACCACGGTCACCGTCTCCTCAG\" "
      ]
     },
     "metadata": {},
     "output_type": "display_data"
    }
   ],
   "source": [
    "ighv <- readIgFasta(\"/usr/local/share/germlines/imgt/mouse/vdj/imgt_mouse_IGHJ.fasta\")\n",
    "# See first germline\n",
    "ighv[1]"
   ]
  },
  {
   "cell_type": "code",
   "execution_count": 6,
   "id": "purple-ecology",
   "metadata": {},
   "outputs": [
    {
     "ename": "ERROR",
     "evalue": "Error in findNovelAlleles(db, germline_db = ighv, nproc = 8): Not enough sample sequences were assigned to any germline:\n  (1) germline_min is too large or\n  (2) sequences names don't match germlines.\n",
     "output_type": "error",
     "traceback": [
      "Error in findNovelAlleles(db, germline_db = ighv, nproc = 8): Not enough sample sequences were assigned to any germline:\n  (1) germline_min is too large or\n  (2) sequences names don't match germlines.\nTraceback:\n",
      "1. findNovelAlleles(db, germline_db = ighv, nproc = 8)",
      "2. stop(stop_message)"
     ]
    }
   ],
   "source": [
    "# find novel alleles\n",
    "nv <- findNovelAlleles(db, germline_db=ighv, nproc=8)"
   ]
  },
  {
   "cell_type": "code",
   "execution_count": 9,
   "id": "absent-orchestra",
   "metadata": {},
   "outputs": [
    {
     "ename": "ERROR",
     "evalue": "Error in estimateAbundance(db, group = \"v_call\"): The column clone_id was not found\n",
     "output_type": "error",
     "traceback": [
      "Error in estimateAbundance(db, group = \"v_call\"): The column clone_id was not found\nTraceback:\n",
      "1. estimateAbundance(db, group = \"v_call\")",
      "2. stop(check)"
     ]
    }
   ],
   "source": [
    "# Calculate rank-abundance curve\n",
    "a <- estimateAbundance(db, group=\"v_call\")\n",
    "plot(a, colors=IG_COLORS)"
   ]
  },
  {
   "cell_type": "code",
   "execution_count": null,
   "id": "radical-printing",
   "metadata": {},
   "outputs": [],
   "source": []
  }
 ],
 "metadata": {
  "kernelspec": {
   "display_name": "R",
   "language": "R",
   "name": "ir"
  },
  "language_info": {
   "codemirror_mode": "r",
   "file_extension": ".r",
   "mimetype": "text/x-r-source",
   "name": "R",
   "pygments_lexer": "r",
   "version": "4.0.3"
  }
 },
 "nbformat": 4,
 "nbformat_minor": 5
}
