{
 "cells": [
  {
   "cell_type": "code",
   "execution_count": 2,
   "id": "virtual-stadium",
   "metadata": {},
   "outputs": [
    {
     "name": "stderr",
     "output_type": "stream",
     "text": [
      "Loading required package: ggplot2\n",
      "\n",
      "As of v1.0.0 the AIRR Rearrangement schema is now the default file format.\n",
      "A description of the standard is available at https://docs.airr-community.org.\n",
      "The legacy Change-O format is supported through arguments to each function\n",
      "that allow the input column names to be explicitly defined.\n",
      "\n",
      "Registered S3 method overwritten by 'treeio':\n",
      "  method     from\n",
      "  root.phylo ape \n",
      "\n",
      "\n",
      "Attaching package: ‘dowser’\n",
      "\n",
      "\n",
      "The following objects are masked from ‘package:alakazam’:\n",
      "\n",
      "    ExampleDb, ExampleTrees\n",
      "\n",
      "\n",
      "\n",
      "Attaching package: ‘dplyr’\n",
      "\n",
      "\n",
      "The following objects are masked from ‘package:stats’:\n",
      "\n",
      "    filter, lag\n",
      "\n",
      "\n",
      "The following objects are masked from ‘package:base’:\n",
      "\n",
      "    intersect, setdiff, setequal, union\n",
      "\n",
      "\n"
     ]
    },
    {
     "name": "stdout",
     "output_type": "stream",
     "text": [
      "Rows: 885\n",
      "Columns: 62\n",
      "$ sequence_id               \u001b[3m\u001b[38;5;246m<chr>\u001b[39m\u001b[23m \"GTCTCGTTCGTAGGTT-1_contig_1\", \"ATAGACCGTGT…\n",
      "$ sequence                  \u001b[3m\u001b[38;5;246m<chr>\u001b[39m\u001b[23m \"GAGCATAAGATCACTGTTCTCTCTACAGTTACTAAGCACACA…\n",
      "$ rev_comp                  \u001b[3m\u001b[38;5;246m<lgl>\u001b[39m\u001b[23m FALSE, FALSE, FALSE, FALSE, FALSE, FALSE, F…\n",
      "$ productive                \u001b[3m\u001b[38;5;246m<lgl>\u001b[39m\u001b[23m TRUE, TRUE, TRUE, TRUE, TRUE, TRUE, TRUE, T…\n",
      "$ v_call                    \u001b[3m\u001b[38;5;246m<chr>\u001b[39m\u001b[23m \"IGHV1-53*01\", \"IGHV1-53*01\", \"IGHV2-2*01\",…\n",
      "$ d_call                    \u001b[3m\u001b[38;5;246m<chr>\u001b[39m\u001b[23m \"IGHD2-4*01,IGHD2-9*02\", \"IGHD1-1*01\", NA, …\n",
      "$ j_call                    \u001b[3m\u001b[38;5;246m<chr>\u001b[39m\u001b[23m \"IGHJ2*01\", \"IGHJ2*01\", \"IGHJ4*01\", \"IGHJ4*…\n",
      "$ sequence_alignment        \u001b[3m\u001b[38;5;246m<chr>\u001b[39m\u001b[23m \"CAGGTCCAACTGCAGCAGCCTGGGACT...GAACTGGTGAAG…\n",
      "$ germline_alignment        \u001b[3m\u001b[38;5;246m<chr>\u001b[39m\u001b[23m \"CAGGTCCAACTGCAGCAGCCTGGGACT...GAACTGGTGAAG…\n",
      "$ junction                  \u001b[3m\u001b[38;5;246m<chr>\u001b[39m\u001b[23m \"TGTGCAAGATCGAATGATTACGACGGGGAGGGTTTTGACTAC…\n",
      "$ junction_aa               \u001b[3m\u001b[38;5;246m<chr>\u001b[39m\u001b[23m \"CARSNDYDGEGFDYW\", \"CARPPYYGSSYVGYW\", \"CARH…\n",
      "$ v_cigar                   \u001b[3m\u001b[38;5;246m<chr>\u001b[39m\u001b[23m \"109S294=\", \"109S294=\", \"109S291=\", \"110S29…\n",
      "$ d_cigar                   \u001b[3m\u001b[38;5;246m<chr>\u001b[39m\u001b[23m \"407S6N11=\", \"408S4N19=\", NA, NA, NA, \"425S…\n",
      "$ j_cigar                   \u001b[3m\u001b[38;5;246m<chr>\u001b[39m\u001b[23m \"427S5N43=\", \"432S10N38=\", \"404S3N51=\", \"40…\n",
      "$ stop_codon                \u001b[3m\u001b[38;5;246m<lgl>\u001b[39m\u001b[23m FALSE, FALSE, FALSE, FALSE, FALSE, FALSE, F…\n",
      "$ vj_in_frame               \u001b[3m\u001b[38;5;246m<lgl>\u001b[39m\u001b[23m TRUE, TRUE, TRUE, TRUE, TRUE, TRUE, TRUE, T…\n",
      "$ locus                     \u001b[3m\u001b[38;5;246m<chr>\u001b[39m\u001b[23m \"IGH\", \"IGH\", \"IGH\", \"IGH\", \"IGH\", \"IGH\", \"…\n",
      "$ junction_length           \u001b[3m\u001b[38;5;246m<int>\u001b[39m\u001b[23m 45, 45, 33, 33, 33, 33, 45, 33, 33, 45, 33,…\n",
      "$ np1_length                \u001b[3m\u001b[38;5;246m<int>\u001b[39m\u001b[23m 4, 5, 4, 4, 4, 0, 4, 0, 3, 7, 0, 0, 1, 3, 3…\n",
      "$ np2_length                \u001b[3m\u001b[38;5;246m<int>\u001b[39m\u001b[23m 9, 5, NA, NA, NA, 8, 5, 0, 6, 4, 10, 2, 3, …\n",
      "$ v_sequence_start          \u001b[3m\u001b[38;5;246m<int>\u001b[39m\u001b[23m 110, 110, 110, 111, 88, 130, 112, 130, 110,…\n",
      "$ v_sequence_end            \u001b[3m\u001b[38;5;246m<int>\u001b[39m\u001b[23m 403, 403, 400, 401, 378, 425, 405, 422, 402…\n",
      "$ v_germline_start          \u001b[3m\u001b[38;5;246m<int>\u001b[39m\u001b[23m 1, 1, 1, 1, 1, 1, 1, 1, 1, 1, 1, 1, 1, 1, 1…\n",
      "$ v_germline_end            \u001b[3m\u001b[38;5;246m<int>\u001b[39m\u001b[23m 318, 318, 318, 318, 318, 320, 318, 317, 317…\n",
      "$ d_sequence_start          \u001b[3m\u001b[38;5;246m<int>\u001b[39m\u001b[23m 408, 409, NA, NA, NA, 426, 410, 423, 406, 4…\n",
      "$ d_sequence_end            \u001b[3m\u001b[38;5;246m<int>\u001b[39m\u001b[23m 418, 427, NA, NA, NA, 430, 423, 431, 412, 4…\n",
      "$ d_germline_start          \u001b[3m\u001b[38;5;246m<int>\u001b[39m\u001b[23m 7, 5, NA, NA, NA, 9, 4, 11, 5, 5, 6, 12, 4,…\n",
      "$ d_germline_end            \u001b[3m\u001b[38;5;246m<int>\u001b[39m\u001b[23m 17, 23, NA, NA, NA, 13, 17, 19, 11, 14, 12,…\n",
      "$ j_sequence_start          \u001b[3m\u001b[38;5;246m<int>\u001b[39m\u001b[23m 428, 433, 405, 406, 383, 439, 429, 432, 419…\n",
      "$ j_sequence_end            \u001b[3m\u001b[38;5;246m<int>\u001b[39m\u001b[23m 470, 470, 455, 456, 433, 478, 472, 478, 458…\n",
      "$ j_germline_start          \u001b[3m\u001b[38;5;246m<int>\u001b[39m\u001b[23m 6, 11, 4, 4, 4, 9, 5, 2, 9, 1, 11, 1, 2, 3,…\n",
      "$ j_germline_end            \u001b[3m\u001b[38;5;246m<int>\u001b[39m\u001b[23m 48, 48, 54, 54, 54, 48, 48, 48, 48, 48, 48,…\n",
      "$ v_score                   \u001b[3m\u001b[38;5;246m<dbl>\u001b[39m\u001b[23m 459, 459, 455, 455, 455, 463, 459, 458, 458…\n",
      "$ v_identity                \u001b[3m\u001b[38;5;246m<dbl>\u001b[39m\u001b[23m 1.00000, 1.00000, 1.00000, 1.00000, 1.00000…\n",
      "$ v_support                 \u001b[3m\u001b[38;5;246m<dbl>\u001b[39m\u001b[23m 3.41e-131, 3.41e-131, 8.50e-130, 8.51e-130,…\n",
      "$ d_score                   \u001b[3m\u001b[38;5;246m<dbl>\u001b[39m\u001b[23m 21.8, 37.2, NA, NA, NA, 10.3, 27.6, 18.0, 1…\n",
      "$ d_identity                \u001b[3m\u001b[38;5;246m<dbl>\u001b[39m\u001b[23m 1.0, 1.0, NA, NA, NA, 1.0, 1.0, 1.0, 1.0, 0…\n",
      "$ d_support                 \u001b[3m\u001b[38;5;246m<dbl>\u001b[39m\u001b[23m 6.00e-02, 1.40e-06, NA, NA, NA, 1.80e+02, 1…\n",
      "$ j_score                   \u001b[3m\u001b[38;5;246m<dbl>\u001b[39m\u001b[23m 83.4, 73.7, 98.7, 98.7, 93.0, 77.6, 85.3, 9…\n",
      "$ j_identity                \u001b[3m\u001b[38;5;246m<dbl>\u001b[39m\u001b[23m 1.00000, 1.00000, 1.00000, 1.00000, 0.98039…\n",
      "$ j_support                 \u001b[3m\u001b[38;5;246m<dbl>\u001b[39m\u001b[23m 4.26e-20, 3.33e-17, 9.75e-25, 9.76e-25, 5.1…\n",
      "$ fwr1                      \u001b[3m\u001b[38;5;246m<chr>\u001b[39m\u001b[23m \"CAGGTCCAACTGCAGCAGCCTGGGACT...GAACTGGTGAAG…\n",
      "$ fwr2                      \u001b[3m\u001b[38;5;246m<chr>\u001b[39m\u001b[23m \"ATGCACTGGGTGAAGCAGAGGCCTGGACAAGGCCTTGAGTGG…\n",
      "$ fwr3                      \u001b[3m\u001b[38;5;246m<chr>\u001b[39m\u001b[23m \"AACTACAATGAGAAGTTCAAG...AGCAAGGCCACACTGACT…\n",
      "$ fwr4                      \u001b[3m\u001b[38;5;246m<chr>\u001b[39m\u001b[23m \"TGGGGCCAAGGCACCACTCTCACAGTCTCCTCAG\", \"TGGG…\n",
      "$ cdr1                      \u001b[3m\u001b[38;5;246m<chr>\u001b[39m\u001b[23m \"GGCTACACCTTC............ACCAGCTACTGG\", \"GG…\n",
      "$ cdr2                      \u001b[3m\u001b[38;5;246m<chr>\u001b[39m\u001b[23m \"ATTAATCCTAGC......AATGGTGGTACT\", \"ATTAATCC…\n",
      "$ cdr3                      \u001b[3m\u001b[38;5;246m<chr>\u001b[39m\u001b[23m \"GCAAGATCGAATGATTACGACGGGGAGGGTTTTGACTAC\", …\n",
      "$ cell_id                   \u001b[3m\u001b[38;5;246m<chr>\u001b[39m\u001b[23m \"GTCTCGTTCGTAGGTT-1\", \"ATAGACCGTGTAAGTA-1\",…\n",
      "$ c_call                    \u001b[3m\u001b[38;5;246m<chr>\u001b[39m\u001b[23m \"IGHM\", \"IGHD\", \"IGHM\", \"IGHM\", \"IGHM\", \"IG…\n",
      "$ consensus_count           \u001b[3m\u001b[38;5;246m<int>\u001b[39m\u001b[23m 666, 306, 1250, 10758, 50, 738, 376, 20138,…\n",
      "$ clone_id                  \u001b[3m\u001b[38;5;246m<chr>\u001b[39m\u001b[23m \"100_598\", \"101_151\", \"102_276\", \"102_276\",…\n",
      "$ umi_count                 \u001b[3m\u001b[38;5;246m<dbl>\u001b[39m\u001b[23m 19, 7, 33, 1934, 1, 22, 11, 555, 20, 14, 4,…\n",
      "$ v_call_10x                \u001b[3m\u001b[38;5;246m<chr>\u001b[39m\u001b[23m \"IGHV1-53\", \"IGHV1-53\", \"IGHV2-2\", \"IGHV2-2…\n",
      "$ d_call_10x                \u001b[3m\u001b[38;5;246m<chr>\u001b[39m\u001b[23m NA, \"IGHD1-1\", NA, NA, NA, NA, NA, NA, NA, …\n",
      "$ j_call_10x                \u001b[3m\u001b[38;5;246m<chr>\u001b[39m\u001b[23m \"IGHJ2\", \"IGHJ2\", \"IGHJ4\", \"IGHJ4\", \"IGHJ4\"…\n",
      "$ junction_10x              \u001b[3m\u001b[38;5;246m<chr>\u001b[39m\u001b[23m \"TGTGCAAGATCGAATGATTACGACGGGGAGGGTTTTGACTAC…\n",
      "$ junction_10x_aa           \u001b[3m\u001b[38;5;246m<chr>\u001b[39m\u001b[23m \"CARSNDYDGEGFDYW\", \"CARPPYYGSSYVGYW\", \"CARH…\n",
      "$ germline_alignment_d_mask \u001b[3m\u001b[38;5;246m<chr>\u001b[39m\u001b[23m \"CAGGTCCAACTGCAGCAGCCTGGGACT...GAACTGGTGAAG…\n",
      "$ germline_v_call           \u001b[3m\u001b[38;5;246m<chr>\u001b[39m\u001b[23m \"IGHV1-53*01\", \"IGHV1-53*01\", \"IGHV2-2*01\",…\n",
      "$ germline_d_call           \u001b[3m\u001b[38;5;246m<chr>\u001b[39m\u001b[23m \"IGHD2-4*01\", \"IGHD1-1*01\", NA, NA, NA, \"IG…\n",
      "$ germline_j_call           \u001b[3m\u001b[38;5;246m<chr>\u001b[39m\u001b[23m \"IGHJ2*01\", \"IGHJ2*01\", \"IGHJ4*01\", \"IGHJ4*…\n"
     ]
    }
   ],
   "source": [
    "# Load required packages\n",
    "library(alakazam)\n",
    "library(dowser)\n",
    "library(airr)\n",
    "library(dplyr)\n",
    "\n",
    "# read the database\n",
    "db <- read_airr(\"/home/phil/processed_docker/r_docker/changeo_10x/r_filtered_contig_heavy_germ-pass.tsv\")\n",
    "glimpse(db)"
   ]
  },
  {
   "cell_type": "code",
   "execution_count": 3,
   "id": "overhead-minneapolis",
   "metadata": {},
   "outputs": [
    {
     "name": "stdout",
     "output_type": "stream",
     "text": [
      "\u001b[38;5;246m# A tibble: 10 x 4\u001b[39m\n",
      "   clone_id data       locus  seqs\n",
      "   \u001b[3m\u001b[38;5;246m<chr>\u001b[39m\u001b[23m    \u001b[3m\u001b[38;5;246m<list>\u001b[39m\u001b[23m     \u001b[3m\u001b[38;5;246m<chr>\u001b[39m\u001b[23m \u001b[3m\u001b[38;5;246m<int>\u001b[39m\u001b[23m\n",
      "\u001b[38;5;250m 1\u001b[39m 263_112  \u001b[38;5;246m<airrClon>\u001b[39m IGH       4\n",
      "\u001b[38;5;250m 2\u001b[39m 396_280  \u001b[38;5;246m<airrClon>\u001b[39m IGH       3\n",
      "\u001b[38;5;250m 3\u001b[39m 251_31   \u001b[38;5;246m<airrClon>\u001b[39m IGH       2\n",
      "\u001b[38;5;250m 4\u001b[39m 255_469  \u001b[38;5;246m<airrClon>\u001b[39m IGH       2\n",
      "\u001b[38;5;250m 5\u001b[39m 273_16   \u001b[38;5;246m<airrClon>\u001b[39m IGH       2\n",
      "\u001b[38;5;250m 6\u001b[39m 446_243  \u001b[38;5;246m<airrClon>\u001b[39m IGH       2\n",
      "\u001b[38;5;250m 7\u001b[39m 488_194  \u001b[38;5;246m<airrClon>\u001b[39m IGH       2\n",
      "\u001b[38;5;250m 8\u001b[39m 695_370  \u001b[38;5;246m<airrClon>\u001b[39m IGH       2\n",
      "\u001b[38;5;250m 9\u001b[39m 700_138  \u001b[38;5;246m<airrClon>\u001b[39m IGH       2\n",
      "\u001b[38;5;250m10\u001b[39m 714_564  \u001b[38;5;246m<airrClon>\u001b[39m IGH       2\n"
     ]
    }
   ],
   "source": [
    "clones <- formatClones(\n",
    "db,\n",
    "seq = \"sequence_alignment\",\n",
    "clone = \"clone_id\",\n",
    "subclone = \"subclone_id\",\n",
    "nproc = 16,\n",
    "chain = \"H\",\n",
    "heavy = \"IGH\",\n",
    "trait = \"c_call\",\n",
    "cell = \"cell_id\",\n",
    "locus = \"locus\",\n",
    "minseq = 2,\n",
    "split_light = FALSE,\n",
    "majoronly = FALSE,\n",
    "columns = NULL,\n",
    ")\n",
    "\n",
    "print(clones)"
   ]
  },
  {
   "cell_type": "code",
   "execution_count": 7,
   "id": "sharp-bottle",
   "metadata": {},
   "outputs": [],
   "source": [
    "# Build maxmimum parsimony trees for first four clones using \n",
    "# phangorn package in R\n",
    "trees <- getTrees(clones)\n",
    "\n",
    "# simple tree plotting with ggtree R package with isotypes at tips\n",
    "r_plot <- plotTrees(trees, nodes = FALSE, tips=\"c_call\", tipsize = 2, node_palette = \"Dark2\", title = TRUE)"
   ]
  },
  {
   "cell_type": "code",
   "execution_count": 8,
   "id": "hybrid-corpus",
   "metadata": {},
   "outputs": [
    {
     "data": {
      "text/html": [
       "<strong>png:</strong> 2"
      ],
      "text/latex": [
       "\\textbf{png:} 2"
      ],
      "text/markdown": [
       "**png:** 2"
      ],
      "text/plain": [
       "png \n",
       "  2 "
      ]
     },
     "metadata": {},
     "output_type": "display_data"
    }
   ],
   "source": [
    "treesToPDF(r_plot, \"r_plots.pdf\", width = 5, height = 6)"
   ]
  },
  {
   "cell_type": "code",
   "execution_count": null,
   "id": "minimal-weapon",
   "metadata": {},
   "outputs": [],
   "source": [
    "# simple tree plotting with ggtree R package with isotypes at tips\n",
    "scaleBranches(trees, edge_type = \"mutations\")"
   ]
  },
  {
   "cell_type": "code",
   "execution_count": null,
   "id": "accompanied-opportunity",
   "metadata": {},
   "outputs": [],
   "source": [
    "# simple tree plotting with ggtree R package with isotypes at tips\n",
    "plotTrees(trees, nodes = FALSE, tips=\"c_call\", tipsize = 4, node_palette = \"Dark2\", title = TRUE, layout = \"circular\")"
   ]
  }
 ],
 "metadata": {
  "kernelspec": {
   "display_name": "R",
   "language": "R",
   "name": "ir"
  },
  "language_info": {
   "codemirror_mode": "r",
   "file_extension": ".r",
   "mimetype": "text/x-r-source",
   "name": "R",
   "pygments_lexer": "r",
   "version": "4.0.3"
  }
 },
 "nbformat": 4,
 "nbformat_minor": 5
}
