{
 "cells": [
  {
   "cell_type": "code",
   "execution_count": 6,
   "id": "eastern-carroll",
   "metadata": {},
   "outputs": [],
   "source": [
    "### Amino acid property analysis ###\n",
    "# r\n",
    "\n",
    "# analyze physico-chemical properties (CDR3) of Ig sequences.\n",
    "\n",
    "# Load required packages\n",
    "library(alakazam)\n",
    "library(dplyr)\n",
    "library(scales)\n",
    "library(ggplot2) \n",
    "\n",
    "# Load required packages\n",
    "library(alakazam)\n",
    "library(dplyr)\n",
    "library(scales)\n",
    "library(ggplot2)\n",
    "\n",
    "db <- readChangeoDb(\"../../changeo_10x/r_filtered_contig_heavy_germ-pass.tsv\", select = NULL, drop = NULL, seq_upper = TRUE)"
   ]
  },
  {
   "cell_type": "code",
   "execution_count": 14,
   "id": "specific-growing",
   "metadata": {},
   "outputs": [
    {
     "data": {
      "text/html": [
       "<table class=\"dataframe\">\n",
       "<caption>A data.frame: 3 × 10</caption>\n",
       "<thead>\n",
       "\t<tr><th></th><th scope=col>cdr3</th><th scope=col>cdr3_aa_length</th><th scope=col>cdr3_aa_gravy</th><th scope=col>cdr3_aa_bulk</th><th scope=col>cdr3_aa_aliphatic</th><th scope=col>cdr3_aa_polarity</th><th scope=col>cdr3_aa_charge</th><th scope=col>cdr3_aa_basic</th><th scope=col>cdr3_aa_acidic</th><th scope=col>cdr3_aa_aromatic</th></tr>\n",
       "\t<tr><th></th><th scope=col>&lt;chr&gt;</th><th scope=col>&lt;int&gt;</th><th scope=col>&lt;dbl&gt;</th><th scope=col>&lt;dbl&gt;</th><th scope=col>&lt;dbl&gt;</th><th scope=col>&lt;dbl&gt;</th><th scope=col>&lt;dbl&gt;</th><th scope=col>&lt;dbl&gt;</th><th scope=col>&lt;dbl&gt;</th><th scope=col>&lt;dbl&gt;</th></tr>\n",
       "</thead>\n",
       "<tbody>\n",
       "\t<tr><th scope=row>1</th><td>GCAAGATCGAATGATTACGACGGGGAGGGTTTTGACTAC</td><td>13</td><td>-1.6615385</td><td>12.25692</td><td>0.07692308</td><td>9.715385</td><td>-3.0025412</td><td>0.07692308</td><td>0.3076923</td><td>0.2307692</td></tr>\n",
       "\t<tr><th scope=row>2</th><td>GCAAGACCCCCTTACTACGGTAGTAGCTACGTGGGCTAC</td><td>13</td><td>-0.7153846</td><td>13.85154</td><td>0.30000000</td><td>7.823077</td><td> 0.9920269</td><td>0.07692308</td><td>0.0000000</td><td>0.3076923</td></tr>\n",
       "\t<tr><th scope=row>3</th><td>GCCAGACACCACTATGCTATGGACTAC            </td><td> 9</td><td>-1.2777778</td><td>14.29444</td><td>0.22222222</td><td>8.733333</td><td> 0.2199571</td><td>0.33333333</td><td>0.1111111</td><td>0.4444444</td></tr>\n",
       "</tbody>\n",
       "</table>\n"
      ],
      "text/latex": [
       "A data.frame: 3 × 10\n",
       "\\begin{tabular}{r|llllllllll}\n",
       "  & cdr3 & cdr3\\_aa\\_length & cdr3\\_aa\\_gravy & cdr3\\_aa\\_bulk & cdr3\\_aa\\_aliphatic & cdr3\\_aa\\_polarity & cdr3\\_aa\\_charge & cdr3\\_aa\\_basic & cdr3\\_aa\\_acidic & cdr3\\_aa\\_aromatic\\\\\n",
       "  & <chr> & <int> & <dbl> & <dbl> & <dbl> & <dbl> & <dbl> & <dbl> & <dbl> & <dbl>\\\\\n",
       "\\hline\n",
       "\t1 & GCAAGATCGAATGATTACGACGGGGAGGGTTTTGACTAC & 13 & -1.6615385 & 12.25692 & 0.07692308 & 9.715385 & -3.0025412 & 0.07692308 & 0.3076923 & 0.2307692\\\\\n",
       "\t2 & GCAAGACCCCCTTACTACGGTAGTAGCTACGTGGGCTAC & 13 & -0.7153846 & 13.85154 & 0.30000000 & 7.823077 &  0.9920269 & 0.07692308 & 0.0000000 & 0.3076923\\\\\n",
       "\t3 & GCCAGACACCACTATGCTATGGACTAC             &  9 & -1.2777778 & 14.29444 & 0.22222222 & 8.733333 &  0.2199571 & 0.33333333 & 0.1111111 & 0.4444444\\\\\n",
       "\\end{tabular}\n"
      ],
      "text/markdown": [
       "\n",
       "A data.frame: 3 × 10\n",
       "\n",
       "| <!--/--> | cdr3 &lt;chr&gt; | cdr3_aa_length &lt;int&gt; | cdr3_aa_gravy &lt;dbl&gt; | cdr3_aa_bulk &lt;dbl&gt; | cdr3_aa_aliphatic &lt;dbl&gt; | cdr3_aa_polarity &lt;dbl&gt; | cdr3_aa_charge &lt;dbl&gt; | cdr3_aa_basic &lt;dbl&gt; | cdr3_aa_acidic &lt;dbl&gt; | cdr3_aa_aromatic &lt;dbl&gt; |\n",
       "|---|---|---|---|---|---|---|---|---|---|---|\n",
       "| 1 | GCAAGATCGAATGATTACGACGGGGAGGGTTTTGACTAC | 13 | -1.6615385 | 12.25692 | 0.07692308 | 9.715385 | -3.0025412 | 0.07692308 | 0.3076923 | 0.2307692 |\n",
       "| 2 | GCAAGACCCCCTTACTACGGTAGTAGCTACGTGGGCTAC | 13 | -0.7153846 | 13.85154 | 0.30000000 | 7.823077 |  0.9920269 | 0.07692308 | 0.0000000 | 0.3076923 |\n",
       "| 3 | GCCAGACACCACTATGCTATGGACTAC             |  9 | -1.2777778 | 14.29444 | 0.22222222 | 8.733333 |  0.2199571 | 0.33333333 | 0.1111111 | 0.4444444 |\n",
       "\n"
      ],
      "text/plain": [
       "  cdr3                                    cdr3_aa_length cdr3_aa_gravy\n",
       "1 GCAAGATCGAATGATTACGACGGGGAGGGTTTTGACTAC 13             -1.6615385   \n",
       "2 GCAAGACCCCCTTACTACGGTAGTAGCTACGTGGGCTAC 13             -0.7153846   \n",
       "3 GCCAGACACCACTATGCTATGGACTAC              9             -1.2777778   \n",
       "  cdr3_aa_bulk cdr3_aa_aliphatic cdr3_aa_polarity cdr3_aa_charge cdr3_aa_basic\n",
       "1 12.25692     0.07692308        9.715385         -3.0025412     0.07692308   \n",
       "2 13.85154     0.30000000        7.823077          0.9920269     0.07692308   \n",
       "3 14.29444     0.22222222        8.733333          0.2199571     0.33333333   \n",
       "  cdr3_aa_acidic cdr3_aa_aromatic\n",
       "1 0.3076923      0.2307692       \n",
       "2 0.0000000      0.3076923       \n",
       "3 0.1111111      0.4444444       "
      ]
     },
     "metadata": {},
     "output_type": "display_data"
    }
   ],
   "source": [
    "### \"aminoAcidProperties\" function can determine:\n",
    "\n",
    "# length: total amino acid count\n",
    "# gravy: grand average of hydrophobicity\n",
    "# bulkiness: average bulkiness\n",
    "# polarity: average polarity\n",
    "# aliphatic: normalized aliphatic index\n",
    "# charge: normalized net charge\n",
    "# acidic: acidic side chain residue content\n",
    "# basic: basic side chain residue content\n",
    "# aromatic: aromatic side chain content\n",
    "\n",
    "# calculate all of the available aa properties translated from dna seq in the junction column.\n",
    "# \"trim\" option strip off the first and last codon that are the conserved residues before the analysis.\n",
    "\n",
    "db_cdr3 <- aminoAcidProperties(db, seq=\"junction\", nt=TRUE, trim=TRUE, label=\"cdr3\")\n",
    "\n",
    "# The full set of properties are calculated by default\n",
    "dplyr::select(db_cdr3[1:3, ], starts_with(\"cdr3\"))"
   ]
  },
  {
   "cell_type": "code",
   "execution_count": 24,
   "id": "positive-professor",
   "metadata": {},
   "outputs": [
    {
     "ename": "ERROR",
     "evalue": "Error in xlab(\"Isotype\") + ylab(\"Amino acids\"): non-numeric argument to binary operator\n",
     "output_type": "error",
     "traceback": [
      "Error in xlab(\"Isotype\") + ylab(\"Amino acids\"): non-numeric argument to binary operator\nTraceback:\n"
     ]
    }
   ],
   "source": [
    "# Define a ggplot theme for all plots\n",
    "tmp_theme <- theme_bw() + theme(legend.position=\"bottom\")\n",
    "isotype_colors <- c(\"IGHM\"=\"darkorchid\", \"IGHD\"=\"firebrick\", \"IGHA\"=\"steelblue\",\n",
    "                    \"IGHG1\"=\"seagreen\", \"IGHG2B\"=\"darkgreen\", \"IGHG2C\"=\"orange\",\n",
    "                   \"IGHG3\"=\"darkgrey\")\n",
    "\n",
    "# Generate plots for all four of the properties\n",
    "g1 <- ggplot(db_cdr3, aes(x=c_call, y=cdr3_aa_length)) + tmp_theme +\n",
    "    ggtitle(\"Unprotected\")\n",
    "    xlab(\"Isotype\") + ylab(\"Amino acids\") +\n",
    "    scale_fill_manual(name=\"Isotype\", values=isotype_colors)\n",
    "    geom_boxplot(aes(fill=c_call))\n",
    "g2 <- ggplot(db_cdr3, aes(x=c_call, y=cdr3_aa_gravy)) + tmp_theme + \n",
    "    ggtitle(\"CDR3 hydrophobicity\") + \n",
    "    xlab(\"Isotype\") + ylab(\"GRAVY\") +\n",
    "    scale_fill_manual(name=\"Isotype\", values=isotype_colors) +\n",
    "    geom_boxplot(aes(fill=c_call))\n",
    "g3 <- ggplot(db_cdr3, aes(x=c_call, y=cdr3_aa_basic)) + tmp_theme +\n",
    "    ggtitle(\"CDR3 basic residues\") + \n",
    "    xlab(\"Isotype\") + ylab(\"Basic residues\") +\n",
    "    scale_y_continuous(labels=scales::percent) +\n",
    "    scale_fill_manual(name=\"Isotype\", values=isotype_colors) +\n",
    "    geom_boxplot(aes(fill=c_call))\n",
    "g4 <- ggplot(db_cdr3, aes(x=c_call, y=cdr3_aa_acidic)) + tmp_theme +\n",
    "    ggtitle(\"CDR3 acidic residues\") + \n",
    "    xlab(\"Isotype\") + ylab(\"Acidic residues\") +\n",
    "    scale_y_continuous(labels=scales::percent) +\n",
    "    scale_fill_manual(name=\"Isotype\", values=isotype_colors) +\n",
    "    geom_boxplot(aes(fill=c_call))\n",
    "\n",
    "# Plot in a 2x2 grid\n",
    "gridPlot(g1)\n",
    "gridPlot(g2)\n",
    "gridPlot(g3)\n",
    "gridPlot(g4)\n",
    "\n",
    "# need to fix the width size to display the full labels.\n",
    "# baseTheme(sizing = c(\"figure\", \"window\"))"
   ]
  }
 ],
 "metadata": {
  "kernelspec": {
   "display_name": "R",
   "language": "R",
   "name": "ir"
  },
  "language_info": {
   "codemirror_mode": "r",
   "file_extension": ".r",
   "mimetype": "text/x-r-source",
   "name": "R",
   "pygments_lexer": "r",
   "version": "4.0.3"
  }
 },
 "nbformat": 4,
 "nbformat_minor": 5
}
