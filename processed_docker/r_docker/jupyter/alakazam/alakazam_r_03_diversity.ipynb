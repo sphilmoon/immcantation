{
 "cells": [
  {
   "cell_type": "code",
   "execution_count": 1,
   "id": "viral-narrative",
   "metadata": {},
   "outputs": [
    {
     "name": "stderr",
     "output_type": "stream",
     "text": [
      "Loading required package: ggplot2\n",
      "\n",
      "As of v1.0.0 the AIRR Rearrangement schema is now the default file format.\n",
      "A description of the standard is available at https://docs.airr-community.org.\n",
      "The legacy Change-O format is supported through arguments to each function\n",
      "that allow the input column names to be explicitly defined.\n",
      "\n",
      "\n",
      "Attaching package: ‘dplyr’\n",
      "\n",
      "\n",
      "The following objects are masked from ‘package:stats’:\n",
      "\n",
      "    filter, lag\n",
      "\n",
      "\n",
      "The following objects are masked from ‘package:base’:\n",
      "\n",
      "    intersect, setdiff, setequal, union\n",
      "\n",
      "\n"
     ]
    }
   ],
   "source": [
    "### Diversity analysis ###\n",
    "\n",
    "# \"estimateAbundance\" function infers a complete clonal abundance distribution.\n",
    "# \"alphaDiversity\" function generate a smooth diversity (D) curve is generated over a range of diversity orders (q).\n",
    "# also test the diverstiy (D) at a fixed diversity order (q).\n",
    "\n",
    "# Load required packages\n",
    "library(alakazam)\n",
    "library(dplyr)\n",
    "library(scales)\n",
    "library(ggplot2)\n",
    "\n",
    "db <- readChangeoDb(\"../../changeo_10x/filtered_contig_heavy_germ-pass.tsv\", select = NULL, drop = NULL, seq_upper = TRUE)"
   ]
  },
  {
   "cell_type": "code",
   "execution_count": 2,
   "id": "impressive-cambodia",
   "metadata": {},
   "outputs": [
    {
     "data": {
      "text/html": [
       "<table class=\"dataframe\">\n",
       "<caption>A tibble: 5 × 3</caption>\n",
       "<thead>\n",
       "\t<tr><th scope=col>clone_id</th><th scope=col>seq_count</th><th scope=col>seq_freq</th></tr>\n",
       "\t<tr><th scope=col>&lt;chr&gt;</th><th scope=col>&lt;int&gt;</th><th scope=col>&lt;dbl&gt;</th></tr>\n",
       "</thead>\n",
       "<tbody>\n",
       "\t<tr><td>252_20 </td><td>25</td><td>0.027563396</td></tr>\n",
       "\t<tr><td>590_58 </td><td>25</td><td>0.027563396</td></tr>\n",
       "\t<tr><td>651_66 </td><td> 8</td><td>0.008820287</td></tr>\n",
       "\t<tr><td>174_351</td><td> 6</td><td>0.006615215</td></tr>\n",
       "\t<tr><td>398_19 </td><td> 6</td><td>0.006615215</td></tr>\n",
       "</tbody>\n",
       "</table>\n"
      ],
      "text/latex": [
       "A tibble: 5 × 3\n",
       "\\begin{tabular}{lll}\n",
       " clone\\_id & seq\\_count & seq\\_freq\\\\\n",
       " <chr> & <int> & <dbl>\\\\\n",
       "\\hline\n",
       "\t 252\\_20  & 25 & 0.027563396\\\\\n",
       "\t 590\\_58  & 25 & 0.027563396\\\\\n",
       "\t 651\\_66  &  8 & 0.008820287\\\\\n",
       "\t 174\\_351 &  6 & 0.006615215\\\\\n",
       "\t 398\\_19  &  6 & 0.006615215\\\\\n",
       "\\end{tabular}\n"
      ],
      "text/markdown": [
       "\n",
       "A tibble: 5 × 3\n",
       "\n",
       "| clone_id &lt;chr&gt; | seq_count &lt;int&gt; | seq_freq &lt;dbl&gt; |\n",
       "|---|---|---|\n",
       "| 252_20  | 25 | 0.027563396 |\n",
       "| 590_58  | 25 | 0.027563396 |\n",
       "| 651_66  |  8 | 0.008820287 |\n",
       "| 174_351 |  6 | 0.006615215 |\n",
       "| 398_19  |  6 | 0.006615215 |\n",
       "\n"
      ],
      "text/plain": [
       "  clone_id seq_count seq_freq   \n",
       "1 252_20   25        0.027563396\n",
       "2 590_58   25        0.027563396\n",
       "3 651_66    8        0.008820287\n",
       "4 174_351   6        0.006615215\n",
       "5 398_19    6        0.006615215"
      ]
     },
     "metadata": {},
     "output_type": "display_data"
    }
   ],
   "source": [
    "# Partitions the data based on the sample column\n",
    "clones <- countClones(db)\n",
    "head(clones, 5)"
   ]
  },
  {
   "cell_type": "code",
   "execution_count": 3,
   "id": "entire-bullet",
   "metadata": {},
   "outputs": [
    {
     "data": {
      "text/html": [
       "<table class=\"dataframe\">\n",
       "<caption>A grouped_df: 5 × 4</caption>\n",
       "<thead>\n",
       "\t<tr><th scope=col>c_call</th><th scope=col>clone_id</th><th scope=col>seq_count</th><th scope=col>seq_freq</th></tr>\n",
       "\t<tr><th scope=col>&lt;chr&gt;</th><th scope=col>&lt;chr&gt;</th><th scope=col>&lt;int&gt;</th><th scope=col>&lt;dbl&gt;</th></tr>\n",
       "</thead>\n",
       "<tbody>\n",
       "\t<tr><td>IGHG2C</td><td>590_58 </td><td>25</td><td>0.27777778</td></tr>\n",
       "\t<tr><td>IGHM  </td><td>252_20 </td><td>25</td><td>0.04488330</td></tr>\n",
       "\t<tr><td>IGHM  </td><td>651_66 </td><td> 8</td><td>0.01436266</td></tr>\n",
       "\t<tr><td>IGHG2C</td><td>398_19 </td><td> 6</td><td>0.06666667</td></tr>\n",
       "\t<tr><td>IGHM  </td><td>174_351</td><td> 6</td><td>0.01077199</td></tr>\n",
       "</tbody>\n",
       "</table>\n"
      ],
      "text/latex": [
       "A grouped\\_df: 5 × 4\n",
       "\\begin{tabular}{llll}\n",
       " c\\_call & clone\\_id & seq\\_count & seq\\_freq\\\\\n",
       " <chr> & <chr> & <int> & <dbl>\\\\\n",
       "\\hline\n",
       "\t IGHG2C & 590\\_58  & 25 & 0.27777778\\\\\n",
       "\t IGHM   & 252\\_20  & 25 & 0.04488330\\\\\n",
       "\t IGHM   & 651\\_66  &  8 & 0.01436266\\\\\n",
       "\t IGHG2C & 398\\_19  &  6 & 0.06666667\\\\\n",
       "\t IGHM   & 174\\_351 &  6 & 0.01077199\\\\\n",
       "\\end{tabular}\n"
      ],
      "text/markdown": [
       "\n",
       "A grouped_df: 5 × 4\n",
       "\n",
       "| c_call &lt;chr&gt; | clone_id &lt;chr&gt; | seq_count &lt;int&gt; | seq_freq &lt;dbl&gt; |\n",
       "|---|---|---|---|\n",
       "| IGHG2C | 590_58  | 25 | 0.27777778 |\n",
       "| IGHM   | 252_20  | 25 | 0.04488330 |\n",
       "| IGHM   | 651_66  |  8 | 0.01436266 |\n",
       "| IGHG2C | 398_19  |  6 | 0.06666667 |\n",
       "| IGHM   | 174_351 |  6 | 0.01077199 |\n",
       "\n"
      ],
      "text/plain": [
       "  c_call clone_id seq_count seq_freq  \n",
       "1 IGHG2C 590_58   25        0.27777778\n",
       "2 IGHM   252_20   25        0.04488330\n",
       "3 IGHM   651_66    8        0.01436266\n",
       "4 IGHG2C 398_19    6        0.06666667\n",
       "5 IGHM   174_351   6        0.01077199"
      ]
     },
     "metadata": {},
     "output_type": "display_data"
    }
   ],
   "source": [
    "# Partitions the data based on both the sample_id and c_call columns\n",
    "# Weights the clone sizes by the duplicate_count column\n",
    "clones <- countClones(db, group=c(\"c_call\"), clone=\"clone_id\")\n",
    "head(clones, 5)"
   ]
  },
  {
   "cell_type": "code",
   "execution_count": 4,
   "id": "institutional-separate",
   "metadata": {},
   "outputs": [],
   "source": [
    "# Partitions the data on the sample column\n",
    "# Calculates a 95% confidence interval via 200 bootstrap realizations\n",
    "curve <- estimateAbundance(db, ci=0.95, nboot=200, clone=\"clone_id\")"
   ]
  },
  {
   "cell_type": "code",
   "execution_count": 5,
   "id": "bizarre-south",
   "metadata": {},
   "outputs": [
    {
     "data": {
      "image/png": "[encoded data removed]",
      "text/plain": [
       "plot without title"
      ]
     },
     "metadata": {
      "image/png": {
       "height": 420,
       "width": 420
      }
     },
     "output_type": "display_data"
    }
   ],
   "source": [
    "# Plots a rank abundance curve of the relative clonal abundances\n",
    "plot(curve)"
   ]
  },
  {
   "cell_type": "code",
   "execution_count": 6,
   "id": "electric-woman",
   "metadata": {},
   "outputs": [
    {
     "data": {
      "image/png": "[encoded data removed]",
      "text/plain": [
       "plot without title"
      ]
     },
     "metadata": {
      "image/png": {
       "height": 420,
       "width": 420
      }
     },
     "output_type": "display_data"
    }
   ],
   "source": [
    "# \"alphaDiversity\" function re-calculates the clone size distribution and diversity based on the\n",
    "# each resampling realization. \n",
    "# smooth diversity (D) curve is generated over a range of diversity orders (q).\n",
    "\n",
    "# Compare diversity curve across values in the \"sample\" column\n",
    "# q ranges from 0 (min_q=0) to 4 (max_q=4) in 0.05 increments (step_q=0.05)\n",
    "# A 95% confidence interval will be calculated (ci=0.95)\n",
    "# 200 resampling realizations are performed (nboot=200)\n",
    "sample_curve <- alphaDiversity(db, clone=\"clone_id\",\n",
    "                               min_q=0, max_q=4, step_q=0.1,\n",
    "                               ci=0.95, nboot=200)\n",
    "\n",
    "# Plot a log-log (log_q=TRUE, log_d=TRUE) plot of sample diversity\n",
    "# Indicate number of sequences resampled from each group in the title\n",
    "sample_main <- paste0(\"Sample diversity\")\n",
    "plot(sample_curve, main_title=sample_main, \n",
    "     legend_title=\"Sample\")"
   ]
  },
  {
   "cell_type": "code",
   "execution_count": 7,
   "id": "saving-auction",
   "metadata": {},
   "outputs": [
    {
     "name": "stderr",
     "output_type": "stream",
     "text": [
      "Warning message in estimateAbundance(data, ci = 0.95, ...):\n",
      "“Not all groups passed threshold min_n=30. Excluded: IGHA, IGHG2B, IGHG3, NA”\n"
     ]
    },
    {
     "ename": "ERROR",
     "evalue": "Error in if (f2 > 0) {: missing value where TRUE/FALSE needed\n",
     "output_type": "error",
     "traceback": [
      "Error in if (f2 > 0) {: missing value where TRUE/FALSE needed\nTraceback:\n",
      "1. alphaDiversity(db, group = \"c_call\", clone = \"clone_id\", min_q = 0, \n .     max_q = 4, step_q = 0.1, ci = 0.95, nboot = 200)",
      "2. estimateAbundance(data, ci = 0.95, ...)",
      "3. bootstrapAbundance(abund_obs, n, nboot = nboot, method = \"before\")",
      "4. inferCompleteAbundance(x)",
      "5. adjustObservedAbundance(x)",
      "6. calcCoverage(x, r = 1)",
      "7. calcChao1Coverage(x)"
     ]
    }
   ],
   "source": [
    "# Compare diversity curve across values in the c_call column\n",
    "# Analyse is restricted to c_call values with at least 30 sequences by min_n=30\n",
    "# Excluded groups are indicated by a warning message\n",
    "isotype_curve <- alphaDiversity(db, group=\"c_call\", clone=\"clone_id\",\n",
    "                                min_q=0, max_q=4, step_q=0.1,\n",
    "                                ci=0.95, nboot=200)\n",
    "\n",
    "# Plot isotype diversity using default set of Ig isotype colors\n",
    "isotype_main <- paste0(\"Isotype diversity\")\n",
    "plot(isotype_curve, main_title=isotype_main, \n",
    "     legend_title=\"Isotype\")"
   ]
  }
 ],
 "metadata": {
  "kernelspec": {
   "display_name": "R",
   "language": "R",
   "name": "ir"
  },
  "language_info": {
   "codemirror_mode": "r",
   "file_extension": ".r",
   "mimetype": "text/x-r-source",
   "name": "R",
   "pygments_lexer": "r",
   "version": "4.0.3"
  }
 },
 "nbformat": 4,
 "nbformat_minor": 5
}
