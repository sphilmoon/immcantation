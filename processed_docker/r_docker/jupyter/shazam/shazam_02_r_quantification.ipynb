{
 "cells": [
  {
   "cell_type": "code",
   "execution_count": 1,
   "id": "sublime-devices",
   "metadata": {},
   "outputs": [
    {
     "name": "stderr",
     "output_type": "stream",
     "text": [
      "Loading required package: ggplot2\n",
      "\n",
      "As of v1.0.0 the AIRR Rearrangement schema is now the default file format.\n",
      "A description of the standard is available at https://docs.airr-community.org.\n",
      "The legacy Change-O format is supported through arguments to each function\n",
      "that allow the input column names to be explicitly defined.\n",
      "\n",
      "As of v1.0.0 the AIRR Rearrangement schema is now the default file format.\n",
      "A description of the standard is available at https://docs.airr-community.org.\n",
      "The legacy Change-O format is supported through arguments to each function\n",
      "that allow the input column names to be explicitly defined.\n",
      "\n",
      "\n",
      "Attaching package: ‘dplyr’\n",
      "\n",
      "\n",
      "The following objects are masked from ‘package:stats’:\n",
      "\n",
      "    filter, lag\n",
      "\n",
      "\n",
      "The following objects are masked from ‘package:base’:\n",
      "\n",
      "    intersect, setdiff, setequal, union\n",
      "\n",
      "\n",
      "Loading required package: data.table\n",
      "\n",
      "\n",
      "Attaching package: ‘data.table’\n",
      "\n",
      "\n",
      "The following objects are masked from ‘package:dplyr’:\n",
      "\n",
      "    between, first, last\n",
      "\n",
      "\n"
     ]
    }
   ],
   "source": [
    "### Quantification of isotype frequency analysis ###\n",
    "# r\n",
    "\n",
    "# Import required packages\n",
    "library(alakazam)\n",
    "library(shazam)\n",
    "library(dplyr)\n",
    "library(ggplot2)\n",
    "\n",
    "# loading my tsv as a df\n",
    "require(data.table)\n",
    "my_data <- as.data.frame(fread(\"../../changeo_10x/filtered_contig_heavy_germ-pass.tsv\"))"
   ]
  },
  {
   "cell_type": "code",
   "execution_count": 2,
   "id": "surprised-wheat",
   "metadata": {},
   "outputs": [],
   "source": [
    "# Collapse clonal groups into single sequences\n",
    "clones <- collapseClones(my_data, cloneColumn=\"clone_id\", \n",
    "                         sequenceColumn=\"sequence_alignment\", \n",
    "                         germlineColumn=\"germline_alignment_d_mask\", \n",
    "                         regionDefinition=IMGT_V, \n",
    "                         method=\"thresholdedFreq\", minimumFrequency=0.6,\n",
    "                         includeAmbiguous=FALSE, breakTiesStochastic=FALSE, \n",
    "                         nproc=1)"
   ]
  },
  {
   "cell_type": "code",
   "execution_count": 3,
   "id": "answering-shelter",
   "metadata": {},
   "outputs": [],
   "source": [
    "# Count observed mutations and append mu_count columns to the output\n",
    "observed <- observedMutations(clones, \n",
    "                              sequenceColumn=\"clonal_sequence\",\n",
    "                              germlineColumn=\"clonal_germline\",\n",
    "                              regionDefinition=IMGT_V, nproc=1)\n",
    "# Count expected mutations and append mu_exptected columns to the output\n",
    "expected <- expectedMutations(observed, \n",
    "                              sequenceColumn=\"clonal_sequence\",\n",
    "                              germlineColumn=\"clonal_germline\",\n",
    "                              targetingModel=HH_S5F,\n",
    "                              regionDefinition=IMGT_V, nproc=1)"
   ]
  },
  {
   "cell_type": "code",
   "execution_count": 4,
   "id": "professional-peace",
   "metadata": {},
   "outputs": [
    {
     "name": "stderr",
     "output_type": "stream",
     "text": [
      "calcBaseline will use existing observed and expected mutations, in the fields: mu_count_cdr_r, mu_count_cdr_s, mu_count_fwr_r, mu_count_fwr_s and mu_expected_cdr_r, mu_expected_cdr_s, mu_expected_fwr_r, mu_expected_fwr_s\n",
      "\n"
     ]
    },
    {
     "name": "stdout",
     "output_type": "stream",
     "text": [
      "Calculating BASELINe probability density functions...\n"
     ]
    }
   ],
   "source": [
    "# Calculate selection scores using the output from expectedMutations\n",
    "baseline_focused <- calcBaseline(expected, testStatistic=\"focused\", \n",
    "                         regionDefinition=IMGT_V, nproc=1)"
   ]
  },
  {
   "cell_type": "code",
   "execution_count": 5,
   "id": "fabulous-flooring",
   "metadata": {},
   "outputs": [
    {
     "name": "stderr",
     "output_type": "stream",
     "text": [
      "calcBaseline will calculate observed and expected mutations for clonal_sequence using clonal_germline as a reference.\n",
      "\n"
     ]
    },
    {
     "name": "stdout",
     "output_type": "stream",
     "text": [
      "Calculating BASELINe probability density functions...\n"
     ]
    }
   ],
   "source": [
    "# Calculate selection scores from scratch\n",
    "baseline <- calcBaseline(clones, testStatistic=\"focused\", \n",
    "                         regionDefinition=IMGT_V, nproc=1)"
   ]
  },
  {
   "cell_type": "code",
   "execution_count": 6,
   "id": "underlying-heater",
   "metadata": {},
   "outputs": [
    {
     "name": "stdout",
     "output_type": "stream",
     "text": [
      "Grouping BASELINe probability density functions...\n",
      "Calculating BASELINe statistics...\n"
     ]
    }
   ],
   "source": [
    "grouped_1 <- groupBaseline(baseline, groupBy=\"c_call\")"
   ]
  },
  {
   "cell_type": "code",
   "execution_count": 7,
   "id": "digital-ghost",
   "metadata": {},
   "outputs": [
    {
     "name": "stderr",
     "output_type": "stream",
     "text": [
      "calcBaseline will calculate observed and expected mutations for clonal_sequence using clonal_germline as a reference.\n",
      "\n"
     ]
    },
    {
     "name": "stdout",
     "output_type": "stream",
     "text": [
      "Calculating BASELINe probability density functions...\n",
      "Grouping BASELINe probability density functions...\n",
      "Calculating BASELINe statistics...\n"
     ]
    }
   ],
   "source": [
    "# Subset the original data to switched isotypes\n",
    "db_sub <- subset(my_data, c_call %in% c(\"IGHM\", \"IGHG\"))\n",
    "\n",
    "# Collapse clonal groups into single sequence\n",
    "clones_sub <- collapseClones(db_sub, cloneColumn=\"clone_id\",\n",
    "                             sequenceColumn=\"sequence_alignment\",\n",
    "                             germlineColumn=\"germline_alignment_d_mask\",\n",
    "                             regionDefinition=IMGT_V, \n",
    "                             method=\"thresholdedFreq\", minimumFrequency=0.6,\n",
    "                             includeAmbiguous=FALSE, breakTiesStochastic=FALSE, \n",
    "                             nproc=1)\n",
    "\n",
    "# Calculate selection scores from scratch\n",
    "baseline_sub <- calcBaseline(clones_sub, testStatistic=\"focused\", \n",
    "                             regionDefinition=IMGT_V, nproc=1)\n",
    "\n",
    "# Combine selection scores by time-point and isotype\n",
    "grouped_2 <- groupBaseline(baseline_sub, groupBy=\"c_call\")"
   ]
  },
  {
   "cell_type": "code",
   "execution_count": 8,
   "id": "missing-budget",
   "metadata": {},
   "outputs": [
    {
     "ename": "ERROR",
     "evalue": "Error in `[.data.frame`(baseline@db, , groupBy): undefined columns selected\n",
     "output_type": "error",
     "traceback": [
      "Error in `[.data.frame`(baseline@db, , groupBy): undefined columns selected\nTraceback:\n",
      "1. groupBaseline(baseline, groupBy = c(\"status\", \"subject\"))",
      "2. data.frame(unique(baseline@db[, groupBy]))",
      "3. unique(baseline@db[, groupBy])",
      "4. baseline@db[, groupBy]",
      "5. `[.data.frame`(baseline@db, , groupBy)",
      "6. stop(\"undefined columns selected\")"
     ]
    }
   ],
   "source": [
    "# First group by subject and status\n",
    "subject_grouped <- groupBaseline(baseline, groupBy=c(\"status\", \"subject\"))\n",
    "\n",
    "# Then group the output by status\n",
    "status_grouped <- groupBaseline(subject_grouped, groupBy=\"status\")"
   ]
  },
  {
   "cell_type": "code",
   "execution_count": 9,
   "id": "straight-evening",
   "metadata": {},
   "outputs": [
    {
     "data": {
      "text/html": [
       "<table class=\"dataframe\">\n",
       "<caption>A data.frame: 42 × 4</caption>\n",
       "<thead>\n",
       "\t<tr><th scope=col>region</th><th scope=col>test</th><th scope=col>pvalue</th><th scope=col>fdr</th></tr>\n",
       "\t<tr><th scope=col>&lt;chr&gt;</th><th scope=col>&lt;chr&gt;</th><th scope=col>&lt;dbl&gt;</th><th scope=col>&lt;dbl&gt;</th></tr>\n",
       "</thead>\n",
       "<tbody>\n",
       "\t<tr><td>cdr</td><td>IGHG2B != IGHM  </td><td>0.05057740</td><td>0.3606136</td></tr>\n",
       "\t<tr><td>cdr</td><td>IGHG2B != IGHD  </td><td>0.09909380</td><td>0.3606136</td></tr>\n",
       "\t<tr><td>cdr</td><td>IGHG2B != IGHG2C</td><td>0.39276778</td><td>0.4610629</td></tr>\n",
       "\t<tr><td>cdr</td><td>IGHG2B != IGHA  </td><td>0.36435117</td><td>0.4610629</td></tr>\n",
       "\t<tr><td>cdr</td><td>IGHG2B !=       </td><td>        NA</td><td>       NA</td></tr>\n",
       "\t<tr><td>cdr</td><td>IGHG2B != IGHG3 </td><td>0.07636815</td><td>0.3606136</td></tr>\n",
       "\t<tr><td>cdr</td><td>IGHM != IGHD    </td><td>0.25037608</td><td>0.4610629</td></tr>\n",
       "\t<tr><td>cdr</td><td>IGHM != IGHG2C  </td><td>0.01410831</td><td>0.3606136</td></tr>\n",
       "\t<tr><td>cdr</td><td>IGHM != IGHA    </td><td>0.11105399</td><td>0.3606136</td></tr>\n",
       "\t<tr><td>cdr</td><td>IGHM !=         </td><td>        NA</td><td>       NA</td></tr>\n",
       "\t<tr><td>cdr</td><td>IGHM != IGHG3   </td><td>0.43032542</td><td>0.4610629</td></tr>\n",
       "\t<tr><td>cdr</td><td>IGHD != IGHG2C  </td><td>0.08012098</td><td>0.3606136</td></tr>\n",
       "\t<tr><td>cdr</td><td>IGHD != IGHA    </td><td>0.12715814</td><td>0.3606136</td></tr>\n",
       "\t<tr><td>cdr</td><td>IGHD !=         </td><td>        NA</td><td>       NA</td></tr>\n",
       "\t<tr><td>cdr</td><td>IGHD != IGHG3   </td><td>0.29193511</td><td>0.4610629</td></tr>\n",
       "\t<tr><td>cdr</td><td>IGHG2C != IGHA  </td><td>0.25617178</td><td>0.4610629</td></tr>\n",
       "\t<tr><td>cdr</td><td>IGHG2C !=       </td><td>        NA</td><td>       NA</td></tr>\n",
       "\t<tr><td>cdr</td><td>IGHG2C != IGHG3 </td><td>0.03850217</td><td>0.3606136</td></tr>\n",
       "\t<tr><td>cdr</td><td>IGHA !=         </td><td>        NA</td><td>       NA</td></tr>\n",
       "\t<tr><td>cdr</td><td>IGHA != IGHG3   </td><td>0.13222499</td><td>0.3606136</td></tr>\n",
       "\t<tr><td>cdr</td><td> != IGHG3       </td><td>        NA</td><td>       NA</td></tr>\n",
       "\t<tr><td>fwr</td><td>IGHG2B != IGHM  </td><td>0.26281654</td><td>0.4610629</td></tr>\n",
       "\t<tr><td>fwr</td><td>IGHG2B != IGHD  </td><td>0.47078356</td><td>0.4870175</td></tr>\n",
       "\t<tr><td>fwr</td><td>IGHG2B != IGHG2C</td><td>0.29424795</td><td>0.4610629</td></tr>\n",
       "\t<tr><td>fwr</td><td>IGHG2B != IGHA  </td><td>0.42638655</td><td>0.4610629</td></tr>\n",
       "\t<tr><td>fwr</td><td>IGHG2B !=       </td><td>        NA</td><td>       NA</td></tr>\n",
       "\t<tr><td>fwr</td><td>IGHG2B != IGHG3 </td><td>0.30331820</td><td>0.4610629</td></tr>\n",
       "\t<tr><td>fwr</td><td>IGHM != IGHD    </td><td>0.35135088</td><td>0.4610629</td></tr>\n",
       "\t<tr><td>fwr</td><td>IGHM != IGHG2C  </td><td>0.42517633</td><td>0.4610629</td></tr>\n",
       "\t<tr><td>fwr</td><td>IGHM != IGHA    </td><td>0.16828400</td><td>0.4207100</td></tr>\n",
       "\t<tr><td>fwr</td><td>IGHM !=         </td><td>        NA</td><td>       NA</td></tr>\n",
       "\t<tr><td>fwr</td><td>IGHM != IGHG3   </td><td>0.08366144</td><td>0.3606136</td></tr>\n",
       "\t<tr><td>fwr</td><td>IGHD != IGHG2C  </td><td>0.37186127</td><td>0.4610629</td></tr>\n",
       "\t<tr><td>fwr</td><td>IGHD != IGHA    </td><td>0.49071082</td><td>0.4907108</td></tr>\n",
       "\t<tr><td>fwr</td><td>IGHD !=         </td><td>        NA</td><td>       NA</td></tr>\n",
       "\t<tr><td>fwr</td><td>IGHD != IGHG3   </td><td>0.42018361</td><td>0.4610629</td></tr>\n",
       "\t<tr><td>fwr</td><td>IGHG2C != IGHA  </td><td>0.19049303</td><td>0.4395993</td></tr>\n",
       "\t<tr><td>fwr</td><td>IGHG2C !=       </td><td>        NA</td><td>       NA</td></tr>\n",
       "\t<tr><td>fwr</td><td>IGHG2C != IGHG3 </td><td>0.09436777</td><td>0.3606136</td></tr>\n",
       "\t<tr><td>fwr</td><td>IGHA !=         </td><td>        NA</td><td>       NA</td></tr>\n",
       "\t<tr><td>fwr</td><td>IGHA != IGHG3   </td><td>0.35773193</td><td>0.4610629</td></tr>\n",
       "\t<tr><td>fwr</td><td> != IGHG3       </td><td>        NA</td><td>       NA</td></tr>\n",
       "</tbody>\n",
       "</table>\n"
      ],
      "text/latex": [
       "A data.frame: 42 × 4\n",
       "\\begin{tabular}{llll}\n",
       " region & test & pvalue & fdr\\\\\n",
       " <chr> & <chr> & <dbl> & <dbl>\\\\\n",
       "\\hline\n",
       "\t cdr & IGHG2B != IGHM   & 0.05057740 & 0.3606136\\\\\n",
       "\t cdr & IGHG2B != IGHD   & 0.09909380 & 0.3606136\\\\\n",
       "\t cdr & IGHG2B != IGHG2C & 0.39276778 & 0.4610629\\\\\n",
       "\t cdr & IGHG2B != IGHA   & 0.36435117 & 0.4610629\\\\\n",
       "\t cdr & IGHG2B !=        &         NA &        NA\\\\\n",
       "\t cdr & IGHG2B != IGHG3  & 0.07636815 & 0.3606136\\\\\n",
       "\t cdr & IGHM != IGHD     & 0.25037608 & 0.4610629\\\\\n",
       "\t cdr & IGHM != IGHG2C   & 0.01410831 & 0.3606136\\\\\n",
       "\t cdr & IGHM != IGHA     & 0.11105399 & 0.3606136\\\\\n",
       "\t cdr & IGHM !=          &         NA &        NA\\\\\n",
       "\t cdr & IGHM != IGHG3    & 0.43032542 & 0.4610629\\\\\n",
       "\t cdr & IGHD != IGHG2C   & 0.08012098 & 0.3606136\\\\\n",
       "\t cdr & IGHD != IGHA     & 0.12715814 & 0.3606136\\\\\n",
       "\t cdr & IGHD !=          &         NA &        NA\\\\\n",
       "\t cdr & IGHD != IGHG3    & 0.29193511 & 0.4610629\\\\\n",
       "\t cdr & IGHG2C != IGHA   & 0.25617178 & 0.4610629\\\\\n",
       "\t cdr & IGHG2C !=        &         NA &        NA\\\\\n",
       "\t cdr & IGHG2C != IGHG3  & 0.03850217 & 0.3606136\\\\\n",
       "\t cdr & IGHA !=          &         NA &        NA\\\\\n",
       "\t cdr & IGHA != IGHG3    & 0.13222499 & 0.3606136\\\\\n",
       "\t cdr &  != IGHG3        &         NA &        NA\\\\\n",
       "\t fwr & IGHG2B != IGHM   & 0.26281654 & 0.4610629\\\\\n",
       "\t fwr & IGHG2B != IGHD   & 0.47078356 & 0.4870175\\\\\n",
       "\t fwr & IGHG2B != IGHG2C & 0.29424795 & 0.4610629\\\\\n",
       "\t fwr & IGHG2B != IGHA   & 0.42638655 & 0.4610629\\\\\n",
       "\t fwr & IGHG2B !=        &         NA &        NA\\\\\n",
       "\t fwr & IGHG2B != IGHG3  & 0.30331820 & 0.4610629\\\\\n",
       "\t fwr & IGHM != IGHD     & 0.35135088 & 0.4610629\\\\\n",
       "\t fwr & IGHM != IGHG2C   & 0.42517633 & 0.4610629\\\\\n",
       "\t fwr & IGHM != IGHA     & 0.16828400 & 0.4207100\\\\\n",
       "\t fwr & IGHM !=          &         NA &        NA\\\\\n",
       "\t fwr & IGHM != IGHG3    & 0.08366144 & 0.3606136\\\\\n",
       "\t fwr & IGHD != IGHG2C   & 0.37186127 & 0.4610629\\\\\n",
       "\t fwr & IGHD != IGHA     & 0.49071082 & 0.4907108\\\\\n",
       "\t fwr & IGHD !=          &         NA &        NA\\\\\n",
       "\t fwr & IGHD != IGHG3    & 0.42018361 & 0.4610629\\\\\n",
       "\t fwr & IGHG2C != IGHA   & 0.19049303 & 0.4395993\\\\\n",
       "\t fwr & IGHG2C !=        &         NA &        NA\\\\\n",
       "\t fwr & IGHG2C != IGHG3  & 0.09436777 & 0.3606136\\\\\n",
       "\t fwr & IGHA !=          &         NA &        NA\\\\\n",
       "\t fwr & IGHA != IGHG3    & 0.35773193 & 0.4610629\\\\\n",
       "\t fwr &  != IGHG3        &         NA &        NA\\\\\n",
       "\\end{tabular}\n"
      ],
      "text/markdown": [
       "\n",
       "A data.frame: 42 × 4\n",
       "\n",
       "| region &lt;chr&gt; | test &lt;chr&gt; | pvalue &lt;dbl&gt; | fdr &lt;dbl&gt; |\n",
       "|---|---|---|---|\n",
       "| cdr | IGHG2B != IGHM   | 0.05057740 | 0.3606136 |\n",
       "| cdr | IGHG2B != IGHD   | 0.09909380 | 0.3606136 |\n",
       "| cdr | IGHG2B != IGHG2C | 0.39276778 | 0.4610629 |\n",
       "| cdr | IGHG2B != IGHA   | 0.36435117 | 0.4610629 |\n",
       "| cdr | IGHG2B !=        |         NA |        NA |\n",
       "| cdr | IGHG2B != IGHG3  | 0.07636815 | 0.3606136 |\n",
       "| cdr | IGHM != IGHD     | 0.25037608 | 0.4610629 |\n",
       "| cdr | IGHM != IGHG2C   | 0.01410831 | 0.3606136 |\n",
       "| cdr | IGHM != IGHA     | 0.11105399 | 0.3606136 |\n",
       "| cdr | IGHM !=          |         NA |        NA |\n",
       "| cdr | IGHM != IGHG3    | 0.43032542 | 0.4610629 |\n",
       "| cdr | IGHD != IGHG2C   | 0.08012098 | 0.3606136 |\n",
       "| cdr | IGHD != IGHA     | 0.12715814 | 0.3606136 |\n",
       "| cdr | IGHD !=          |         NA |        NA |\n",
       "| cdr | IGHD != IGHG3    | 0.29193511 | 0.4610629 |\n",
       "| cdr | IGHG2C != IGHA   | 0.25617178 | 0.4610629 |\n",
       "| cdr | IGHG2C !=        |         NA |        NA |\n",
       "| cdr | IGHG2C != IGHG3  | 0.03850217 | 0.3606136 |\n",
       "| cdr | IGHA !=          |         NA |        NA |\n",
       "| cdr | IGHA != IGHG3    | 0.13222499 | 0.3606136 |\n",
       "| cdr |  != IGHG3        |         NA |        NA |\n",
       "| fwr | IGHG2B != IGHM   | 0.26281654 | 0.4610629 |\n",
       "| fwr | IGHG2B != IGHD   | 0.47078356 | 0.4870175 |\n",
       "| fwr | IGHG2B != IGHG2C | 0.29424795 | 0.4610629 |\n",
       "| fwr | IGHG2B != IGHA   | 0.42638655 | 0.4610629 |\n",
       "| fwr | IGHG2B !=        |         NA |        NA |\n",
       "| fwr | IGHG2B != IGHG3  | 0.30331820 | 0.4610629 |\n",
       "| fwr | IGHM != IGHD     | 0.35135088 | 0.4610629 |\n",
       "| fwr | IGHM != IGHG2C   | 0.42517633 | 0.4610629 |\n",
       "| fwr | IGHM != IGHA     | 0.16828400 | 0.4207100 |\n",
       "| fwr | IGHM !=          |         NA |        NA |\n",
       "| fwr | IGHM != IGHG3    | 0.08366144 | 0.3606136 |\n",
       "| fwr | IGHD != IGHG2C   | 0.37186127 | 0.4610629 |\n",
       "| fwr | IGHD != IGHA     | 0.49071082 | 0.4907108 |\n",
       "| fwr | IGHD !=          |         NA |        NA |\n",
       "| fwr | IGHD != IGHG3    | 0.42018361 | 0.4610629 |\n",
       "| fwr | IGHG2C != IGHA   | 0.19049303 | 0.4395993 |\n",
       "| fwr | IGHG2C !=        |         NA |        NA |\n",
       "| fwr | IGHG2C != IGHG3  | 0.09436777 | 0.3606136 |\n",
       "| fwr | IGHA !=          |         NA |        NA |\n",
       "| fwr | IGHA != IGHG3    | 0.35773193 | 0.4610629 |\n",
       "| fwr |  != IGHG3        |         NA |        NA |\n",
       "\n"
      ],
      "text/plain": [
       "   region test             pvalue     fdr      \n",
       "1  cdr    IGHG2B != IGHM   0.05057740 0.3606136\n",
       "2  cdr    IGHG2B != IGHD   0.09909380 0.3606136\n",
       "3  cdr    IGHG2B != IGHG2C 0.39276778 0.4610629\n",
       "4  cdr    IGHG2B != IGHA   0.36435117 0.4610629\n",
       "5  cdr    IGHG2B !=                NA        NA\n",
       "6  cdr    IGHG2B != IGHG3  0.07636815 0.3606136\n",
       "7  cdr    IGHM != IGHD     0.25037608 0.4610629\n",
       "8  cdr    IGHM != IGHG2C   0.01410831 0.3606136\n",
       "9  cdr    IGHM != IGHA     0.11105399 0.3606136\n",
       "10 cdr    IGHM !=                  NA        NA\n",
       "11 cdr    IGHM != IGHG3    0.43032542 0.4610629\n",
       "12 cdr    IGHD != IGHG2C   0.08012098 0.3606136\n",
       "13 cdr    IGHD != IGHA     0.12715814 0.3606136\n",
       "14 cdr    IGHD !=                  NA        NA\n",
       "15 cdr    IGHD != IGHG3    0.29193511 0.4610629\n",
       "16 cdr    IGHG2C != IGHA   0.25617178 0.4610629\n",
       "17 cdr    IGHG2C !=                NA        NA\n",
       "18 cdr    IGHG2C != IGHG3  0.03850217 0.3606136\n",
       "19 cdr    IGHA !=                  NA        NA\n",
       "20 cdr    IGHA != IGHG3    0.13222499 0.3606136\n",
       "21 cdr     != IGHG3                NA        NA\n",
       "22 fwr    IGHG2B != IGHM   0.26281654 0.4610629\n",
       "23 fwr    IGHG2B != IGHD   0.47078356 0.4870175\n",
       "24 fwr    IGHG2B != IGHG2C 0.29424795 0.4610629\n",
       "25 fwr    IGHG2B != IGHA   0.42638655 0.4610629\n",
       "26 fwr    IGHG2B !=                NA        NA\n",
       "27 fwr    IGHG2B != IGHG3  0.30331820 0.4610629\n",
       "28 fwr    IGHM != IGHD     0.35135088 0.4610629\n",
       "29 fwr    IGHM != IGHG2C   0.42517633 0.4610629\n",
       "30 fwr    IGHM != IGHA     0.16828400 0.4207100\n",
       "31 fwr    IGHM !=                  NA        NA\n",
       "32 fwr    IGHM != IGHG3    0.08366144 0.3606136\n",
       "33 fwr    IGHD != IGHG2C   0.37186127 0.4610629\n",
       "34 fwr    IGHD != IGHA     0.49071082 0.4907108\n",
       "35 fwr    IGHD !=                  NA        NA\n",
       "36 fwr    IGHD != IGHG3    0.42018361 0.4610629\n",
       "37 fwr    IGHG2C != IGHA   0.19049303 0.4395993\n",
       "38 fwr    IGHG2C !=                NA        NA\n",
       "39 fwr    IGHG2C != IGHG3  0.09436777 0.3606136\n",
       "40 fwr    IGHA !=                  NA        NA\n",
       "41 fwr    IGHA != IGHG3    0.35773193 0.4610629\n",
       "42 fwr     != IGHG3                NA        NA"
      ]
     },
     "metadata": {},
     "output_type": "display_data"
    }
   ],
   "source": [
    "testBaseline(grouped_1, groupBy=\"c_call\")"
   ]
  },
  {
   "cell_type": "code",
   "execution_count": 10,
   "id": "above-length",
   "metadata": {},
   "outputs": [
    {
     "data": {
      "image/png": "[encoded data removed]",
      "text/plain": [
       "plot without title"
      ]
     },
     "metadata": {
      "image/png": {
       "height": 420,
       "width": 420
      }
     },
     "output_type": "display_data"
    }
   ],
   "source": [
    "isotype_colors <- c(\"IGHM\"=\"darkorchid\", \"IGHD\"=\"firebrick\", \n",
    "                    \"IGHG\"=\"seagreen\", \"IGHA\"=\"steelblue\")\n",
    "\n",
    "# Plot mean and confidence interval by time-point\n",
    "plotBaselineSummary(grouped_1, \"c_call\")"
   ]
  },
  {
   "cell_type": "code",
   "execution_count": 11,
   "id": "sudden-physiology",
   "metadata": {},
   "outputs": [
    {
     "data": {
      "image/png": "[encoded data removed]",
      "text/plain": [
       "plot without title"
      ]
     },
     "metadata": {
      "image/png": {
       "height": 420,
       "width": 420
      }
     },
     "output_type": "display_data"
    }
   ],
   "source": [
    "# Group by CDR/FWR and facet by isotype\n",
    "plotBaselineSummary(grouped_2, \"c_call\")"
   ]
  },
  {
   "cell_type": "code",
   "execution_count": 12,
   "id": "freelance-village",
   "metadata": {},
   "outputs": [
    {
     "data": {
      "image/png": "[encoded data removed]",
      "text/plain": [
       "plot without title"
      ]
     },
     "metadata": {
      "image/png": {
       "height": 420,
       "width": 420
      }
     },
     "output_type": "display_data"
    }
   ],
   "source": [
    "# Plot selection PDFs for a subset of the data\n",
    "plotBaselineDensity(grouped_2, \"c_call\", groupColumn=\"c_call\", colorElement=\"group\", \n",
    "                    sigmaLimits=c(-2, 2))"
   ]
  }
 ],
 "metadata": {
  "kernelspec": {
   "display_name": "R",
   "language": "R",
   "name": "ir"
  },
  "language_info": {
   "codemirror_mode": "r",
   "file_extension": ".r",
   "mimetype": "text/x-r-source",
   "name": "R",
   "pygments_lexer": "r",
   "version": "4.0.3"
  }
 },
 "nbformat": 4,
 "nbformat_minor": 5
}
