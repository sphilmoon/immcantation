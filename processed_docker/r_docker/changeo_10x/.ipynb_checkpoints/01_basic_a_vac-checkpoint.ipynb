{
 "cells": [
  {
   "cell_type": "code",
   "execution_count": null,
   "id": "subjective-madagascar",
   "metadata": {},
   "outputs": [],
   "source": [
    "my_data <- as.data.frame(fread(\"filtered_contig_heavy_germ-pass.tsv\"))"
   ]
  }
 ],
 "metadata": {
  "kernelspec": {
   "display_name": "R",
   "language": "R",
   "name": "ir"
  },
  "language_info": {
   "codemirror_mode": "r",
   "file_extension": ".r",
   "mimetype": "text/x-r-source",
   "name": "R",
   "pygments_lexer": "r",
   "version": "4.0.3"
  }
 },
 "nbformat": 4,
 "nbformat_minor": 5
}
