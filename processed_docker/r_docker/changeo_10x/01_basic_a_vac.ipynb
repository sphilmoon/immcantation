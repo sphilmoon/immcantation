{
 "cells": [
  {
   "cell_type": "code",
   "execution_count": 11,
   "id": "demanding-strike",
   "metadata": {},
   "outputs": [],
   "source": [
    "# Import required packages\n",
    "library(alakazam)\n",
    "library(shazam)\n",
    "library(dplyr)\n",
    "library(ggplot2)\n",
    "\n",
    "require(data.table)\n",
    "my_data <- as.data.frame(fread(\"filtered_contig_heavy_germ-pass.tsv\"))\n",
    "db <- subset(my_data, c_call %in% c(\"IGHA\", \"IGHG\", \"IGHM\"))"
   ]
  },
  {
   "cell_type": "code",
   "execution_count": 12,
   "id": "covered-regular",
   "metadata": {},
   "outputs": [
    {
     "data": {
      "text/html": [
       "<table class=\"dataframe\">\n",
       "<caption>A data.frame: 4 × 3</caption>\n",
       "<thead>\n",
       "\t<tr><th></th><th scope=col>sequence_id</th><th scope=col>mu_count_seq_r</th><th scope=col>mu_count_seq_s</th></tr>\n",
       "\t<tr><th></th><th scope=col>&lt;chr&gt;</th><th scope=col>&lt;dbl&gt;</th><th scope=col>&lt;dbl&gt;</th></tr>\n",
       "</thead>\n",
       "<tbody>\n",
       "\t<tr><th scope=row>1</th><td>GTCAAGTCACCTATCC-1_contig_1</td><td>0</td><td>0</td></tr>\n",
       "\t<tr><th scope=row>2</th><td>CCTACACGTGCTCTTC-1_contig_1</td><td>0</td><td>0</td></tr>\n",
       "\t<tr><th scope=row>3</th><td>TTGACTTAGGGATACC-1_contig_1</td><td>0</td><td>0</td></tr>\n",
       "\t<tr><th scope=row>4</th><td>TGACAACCACTTAAGC-1_contig_2</td><td>0</td><td>0</td></tr>\n",
       "</tbody>\n",
       "</table>\n"
      ],
      "text/latex": [
       "A data.frame: 4 × 3\n",
       "\\begin{tabular}{r|lll}\n",
       "  & sequence\\_id & mu\\_count\\_seq\\_r & mu\\_count\\_seq\\_s\\\\\n",
       "  & <chr> & <dbl> & <dbl>\\\\\n",
       "\\hline\n",
       "\t1 & GTCAAGTCACCTATCC-1\\_contig\\_1 & 0 & 0\\\\\n",
       "\t2 & CCTACACGTGCTCTTC-1\\_contig\\_1 & 0 & 0\\\\\n",
       "\t3 & TTGACTTAGGGATACC-1\\_contig\\_1 & 0 & 0\\\\\n",
       "\t4 & TGACAACCACTTAAGC-1\\_contig\\_2 & 0 & 0\\\\\n",
       "\\end{tabular}\n"
      ],
      "text/markdown": [
       "\n",
       "A data.frame: 4 × 3\n",
       "\n",
       "| <!--/--> | sequence_id &lt;chr&gt; | mu_count_seq_r &lt;dbl&gt; | mu_count_seq_s &lt;dbl&gt; |\n",
       "|---|---|---|---|\n",
       "| 1 | GTCAAGTCACCTATCC-1_contig_1 | 0 | 0 |\n",
       "| 2 | CCTACACGTGCTCTTC-1_contig_1 | 0 | 0 |\n",
       "| 3 | TTGACTTAGGGATACC-1_contig_1 | 0 | 0 |\n",
       "| 4 | TGACAACCACTTAAGC-1_contig_2 | 0 | 0 |\n",
       "\n"
      ],
      "text/plain": [
       "  sequence_id                 mu_count_seq_r mu_count_seq_s\n",
       "1 GTCAAGTCACCTATCC-1_contig_1 0              0             \n",
       "2 CCTACACGTGCTCTTC-1_contig_1 0              0             \n",
       "3 TTGACTTAGGGATACC-1_contig_1 0              0             \n",
       "4 TGACAACCACTTAAGC-1_contig_2 0              0             "
      ]
     },
     "metadata": {},
     "output_type": "display_data"
    }
   ],
   "source": [
    "# Calculate R and S mutation counts\n",
    "db_obs <- observedMutations(db, sequenceColumn=\"sequence_alignment\",\n",
    "                            germlineColumn=\"germline_alignment_d_mask\",\n",
    "                            regionDefinition=NULL,\n",
    "                            frequency=FALSE, \n",
    "                            nproc=1)\n",
    "# Show new mutation count columns\n",
    "db_obs %>% \n",
    "    select(sequence_id, starts_with(\"mu_count_\")) %>%\n",
    "    head(n=4)"
   ]
  },
  {
   "cell_type": "code",
   "execution_count": 13,
   "id": "given-worker",
   "metadata": {},
   "outputs": [
    {
     "data": {
      "text/html": [
       "<table class=\"dataframe\">\n",
       "<caption>A data.frame: 4 × 3</caption>\n",
       "<thead>\n",
       "\t<tr><th></th><th scope=col>sequence_id</th><th scope=col>mu_freq_seq_r</th><th scope=col>mu_freq_seq_s</th></tr>\n",
       "\t<tr><th></th><th scope=col>&lt;chr&gt;</th><th scope=col>&lt;dbl&gt;</th><th scope=col>&lt;dbl&gt;</th></tr>\n",
       "</thead>\n",
       "<tbody>\n",
       "\t<tr><th scope=row>1</th><td>GTCAAGTCACCTATCC-1_contig_1</td><td>0</td><td>0</td></tr>\n",
       "\t<tr><th scope=row>2</th><td>CCTACACGTGCTCTTC-1_contig_1</td><td>0</td><td>0</td></tr>\n",
       "\t<tr><th scope=row>3</th><td>TTGACTTAGGGATACC-1_contig_1</td><td>0</td><td>0</td></tr>\n",
       "\t<tr><th scope=row>4</th><td>TGACAACCACTTAAGC-1_contig_2</td><td>0</td><td>0</td></tr>\n",
       "</tbody>\n",
       "</table>\n"
      ],
      "text/latex": [
       "A data.frame: 4 × 3\n",
       "\\begin{tabular}{r|lll}\n",
       "  & sequence\\_id & mu\\_freq\\_seq\\_r & mu\\_freq\\_seq\\_s\\\\\n",
       "  & <chr> & <dbl> & <dbl>\\\\\n",
       "\\hline\n",
       "\t1 & GTCAAGTCACCTATCC-1\\_contig\\_1 & 0 & 0\\\\\n",
       "\t2 & CCTACACGTGCTCTTC-1\\_contig\\_1 & 0 & 0\\\\\n",
       "\t3 & TTGACTTAGGGATACC-1\\_contig\\_1 & 0 & 0\\\\\n",
       "\t4 & TGACAACCACTTAAGC-1\\_contig\\_2 & 0 & 0\\\\\n",
       "\\end{tabular}\n"
      ],
      "text/markdown": [
       "\n",
       "A data.frame: 4 × 3\n",
       "\n",
       "| <!--/--> | sequence_id &lt;chr&gt; | mu_freq_seq_r &lt;dbl&gt; | mu_freq_seq_s &lt;dbl&gt; |\n",
       "|---|---|---|---|\n",
       "| 1 | GTCAAGTCACCTATCC-1_contig_1 | 0 | 0 |\n",
       "| 2 | CCTACACGTGCTCTTC-1_contig_1 | 0 | 0 |\n",
       "| 3 | TTGACTTAGGGATACC-1_contig_1 | 0 | 0 |\n",
       "| 4 | TGACAACCACTTAAGC-1_contig_2 | 0 | 0 |\n",
       "\n"
      ],
      "text/plain": [
       "  sequence_id                 mu_freq_seq_r mu_freq_seq_s\n",
       "1 GTCAAGTCACCTATCC-1_contig_1 0             0            \n",
       "2 CCTACACGTGCTCTTC-1_contig_1 0             0            \n",
       "3 TTGACTTAGGGATACC-1_contig_1 0             0            \n",
       "4 TGACAACCACTTAAGC-1_contig_2 0             0            "
      ]
     },
     "metadata": {},
     "output_type": "display_data"
    }
   ],
   "source": [
    "# Calculate R and S mutation frequencies\n",
    "db_obs <- observedMutations(db_obs, sequenceColumn=\"sequence_alignment\",\n",
    "                            germlineColumn=\"germline_alignment_d_mask\",\n",
    "                            regionDefinition=NULL,\n",
    "                            frequency=TRUE, \n",
    "                            nproc=1)\n",
    "# Show new mutation frequency columns\n",
    "db_obs %>% \n",
    "    select(sequence_id, starts_with(\"mu_freq_\")) %>%\n",
    "    head(n=4)"
   ]
  },
  {
   "cell_type": "code",
   "execution_count": 14,
   "id": "composite-myrtle",
   "metadata": {},
   "outputs": [
    {
     "data": {
      "text/html": [
       "<table class=\"dataframe\">\n",
       "<caption>A data.frame: 4 × 1</caption>\n",
       "<thead>\n",
       "\t<tr><th></th><th scope=col>sequence_id</th></tr>\n",
       "\t<tr><th></th><th scope=col>&lt;chr&gt;</th></tr>\n",
       "</thead>\n",
       "<tbody>\n",
       "\t<tr><th scope=row>1</th><td>GTCAAGTCACCTATCC-1_contig_1</td></tr>\n",
       "\t<tr><th scope=row>2</th><td>CCTACACGTGCTCTTC-1_contig_1</td></tr>\n",
       "\t<tr><th scope=row>3</th><td>TTGACTTAGGGATACC-1_contig_1</td></tr>\n",
       "\t<tr><th scope=row>4</th><td>TGACAACCACTTAAGC-1_contig_2</td></tr>\n",
       "</tbody>\n",
       "</table>\n"
      ],
      "text/latex": [
       "A data.frame: 4 × 1\n",
       "\\begin{tabular}{r|l}\n",
       "  & sequence\\_id\\\\\n",
       "  & <chr>\\\\\n",
       "\\hline\n",
       "\t1 & GTCAAGTCACCTATCC-1\\_contig\\_1\\\\\n",
       "\t2 & CCTACACGTGCTCTTC-1\\_contig\\_1\\\\\n",
       "\t3 & TTGACTTAGGGATACC-1\\_contig\\_1\\\\\n",
       "\t4 & TGACAACCACTTAAGC-1\\_contig\\_2\\\\\n",
       "\\end{tabular}\n"
      ],
      "text/markdown": [
       "\n",
       "A data.frame: 4 × 1\n",
       "\n",
       "| <!--/--> | sequence_id &lt;chr&gt; |\n",
       "|---|---|\n",
       "| 1 | GTCAAGTCACCTATCC-1_contig_1 |\n",
       "| 2 | CCTACACGTGCTCTTC-1_contig_1 |\n",
       "| 3 | TTGACTTAGGGATACC-1_contig_1 |\n",
       "| 4 | TGACAACCACTTAAGC-1_contig_2 |\n",
       "\n"
      ],
      "text/plain": [
       "  sequence_id                \n",
       "1 GTCAAGTCACCTATCC-1_contig_1\n",
       "2 CCTACACGTGCTCTTC-1_contig_1\n",
       "3 TTGACTTAGGGATACC-1_contig_1\n",
       "4 TGACAACCACTTAAGC-1_contig_2"
      ]
     },
     "metadata": {},
     "output_type": "display_data"
    }
   ],
   "source": [
    "# Calculate combined R and S mutation frequencies\n",
    "db_obs <- observedMutations(db, sequenceColumn=\"sequence_alignment\",\n",
    "                            germlineColumn=\"germline_alignment_d_mask\",\n",
    "                            regionDefinition=NULL,\n",
    "                            frequency=TRUE, \n",
    "                            combine=TRUE,\n",
    "                            nproc=1)\n",
    "# Show new mutation frequency columns\n",
    "db_obs %>% \n",
    "    select(sequence_id, starts_with(\"mu_freq_\")) %>%\n",
    "    head(n=4)"
   ]
  },
  {
   "cell_type": "code",
   "execution_count": 15,
   "id": "consecutive-cancer",
   "metadata": {},
   "outputs": [
    {
     "data": {
      "image/png": "[encoded data removed]",
      "text/plain": [
       "plot without title"
      ]
     },
     "metadata": {
      "image/png": {
       "height": 420,
       "width": 420
      }
     },
     "output_type": "display_data"
    }
   ],
   "source": [
    "g1 <- ggplot(db_obs, aes(x=c_call, y=mu_freq, fill=c_call)) +\n",
    "    theme_bw() + ggtitle(\"Total mutations\") +\n",
    "    xlab(\"Isotype\") + ylab(\"Mutation frequency\") +\n",
    "    scale_fill_manual(name=\"Isotype\", values=IG_COLORS) +\n",
    "    geom_boxplot()\n",
    "plot(g1)"
   ]
  },
  {
   "cell_type": "code",
   "execution_count": null,
   "id": "upper-billion",
   "metadata": {},
   "outputs": [],
   "source": []
  }
 ],
 "metadata": {
  "kernelspec": {
   "display_name": "R",
   "language": "R",
   "name": "ir"
  },
  "language_info": {
   "codemirror_mode": "r",
   "file_extension": ".r",
   "mimetype": "text/x-r-source",
   "name": "R",
   "pygments_lexer": "r",
   "version": "4.0.3"
  }
 },
 "nbformat": 4,
 "nbformat_minor": 5
}
