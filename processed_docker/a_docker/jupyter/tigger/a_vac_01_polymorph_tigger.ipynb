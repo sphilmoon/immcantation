{
 "cells": [
  {
   "cell_type": "code",
   "execution_count": 13,
   "id": "structured-operations",
   "metadata": {},
   "outputs": [],
   "source": [
    "library(tigger)\n",
    "library(dplyr)\n",
    "\n",
    "require(data.table)\n",
    "a_vac <- as.data.frame(fread(\"../../filtered_contig_db-pass.tsv\"))\n",
    "\n",
    "germlines <- readIgFasta(\"/usr/local/share/germlines/imgt/mouse/vdj/imgt_mouse_IGHV.fasta\", strip_down_name = TRUE, force_caps = TRUE)"
   ]
  },
  {
   "cell_type": "code",
   "execution_count": 15,
   "id": "independent-pakistan",
   "metadata": {},
   "outputs": [
    {
     "ename": "ERROR",
     "evalue": "Error in findNovelAlleles(a_vac, germlines, nproc = 1): Not enough sample sequences were assigned to any germline:\n  (1) germline_min is too large or\n  (2) sequences names don't match germlines.\n",
     "output_type": "error",
     "traceback": [
      "Error in findNovelAlleles(a_vac, germlines, nproc = 1): Not enough sample sequences were assigned to any germline:\n  (1) germline_min is too large or\n  (2) sequences names don't match germlines.\nTraceback:\n",
      "1. findNovelAlleles(a_vac, germlines, nproc = 1)",
      "2. stop(stop_message)"
     ]
    }
   ],
   "source": [
    "novel <- findNovelAlleles(a_vac, germlines, nproc=1)"
   ]
  },
  {
   "cell_type": "code",
   "execution_count": null,
   "id": "italian-patent",
   "metadata": {},
   "outputs": [],
   "source": []
  }
 ],
 "metadata": {
  "kernelspec": {
   "display_name": "R",
   "language": "R",
   "name": "ir"
  },
  "language_info": {
   "codemirror_mode": "r",
   "file_extension": ".r",
   "mimetype": "text/x-r-source",
   "name": "R",
   "pygments_lexer": "r",
   "version": "4.0.3"
  }
 },
 "nbformat": 4,
 "nbformat_minor": 5
}
