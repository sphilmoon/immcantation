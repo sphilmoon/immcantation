{
 "cells": [
  {
   "cell_type": "code",
   "execution_count": 1,
   "id": "virtual-stadium",
   "metadata": {},
   "outputs": [
    {
     "name": "stderr",
     "output_type": "stream",
     "text": [
      "Loading required package: ggplot2\n",
      "\n",
      "As of v1.0.0 the AIRR Rearrangement schema is now the default file format.\n",
      "A description of the standard is available at https://docs.airr-community.org.\n",
      "The legacy Change-O format is supported through arguments to each function\n",
      "that allow the input column names to be explicitly defined.\n",
      "\n",
      "Registered S3 method overwritten by 'treeio':\n",
      "  method     from\n",
      "  root.phylo ape \n",
      "\n",
      "\n",
      "Attaching package: ‘dowser’\n",
      "\n",
      "\n",
      "The following objects are masked from ‘package:alakazam’:\n",
      "\n",
      "    ExampleDb, ExampleTrees\n",
      "\n",
      "\n",
      "\n",
      "Attaching package: ‘dplyr’\n",
      "\n",
      "\n",
      "The following objects are masked from ‘package:stats’:\n",
      "\n",
      "    filter, lag\n",
      "\n",
      "\n",
      "The following objects are masked from ‘package:base’:\n",
      "\n",
      "    intersect, setdiff, setequal, union\n",
      "\n",
      "\n",
      "ggtree v2.4.1  For help: https://yulab-smu.top/treedata-book/\n",
      "\n",
      "If you use ggtree in published research, please cite the most appropriate paper(s):\n",
      "\n",
      "\u001b[36m-\u001b[39m Guangchuang Yu. Using ggtree to visualize data on tree-like structures. Current Protocols in Bioinformatics, 2020, 69:e96. doi:10.1002/cpbi.96\n",
      "\u001b[36m-\u001b[39m Guangchuang Yu, Tommy Tsan-Yuk Lam, Huachen Zhu, Yi Guan. Two methods for mapping and visualizing associated data on phylogeny using ggtree. Molecular Biology and Evolution 2018, 35(12):3041-3043. doi:10.1093/molbev/msy194\n",
      "\u001b[36m-\u001b[39m Guangchuang Yu, David Smith, Huachen Zhu, Yi Guan, Tommy Tsan-Yuk Lam. ggtree: an R package for visualization and annotation of phylogenetic trees with their covariates and other associated data. Methods in Ecology and Evolution 2017, 8(1):28-36. doi:10.1111/2041-210X.12628\n",
      "\n",
      "\n",
      "\n"
     ]
    }
   ],
   "source": [
    "# Load required packages\n",
    "library(alakazam)\n",
    "library(dowser)\n",
    "library(airr)\n",
    "library(dplyr)\n",
    "library(ggtree)\n",
    "\n",
    "# read the database\n",
    "db <- read_airr(\"/home/phil/processed_docker/a_docker/changeo_10x/a_filtered_contig_heavy_germ-pass.tsv\")"
   ]
  },
  {
   "cell_type": "code",
   "execution_count": 2,
   "id": "overhead-minneapolis",
   "metadata": {},
   "outputs": [
    {
     "name": "stdout",
     "output_type": "stream",
     "text": [
      "\u001b[38;5;246m# A tibble: 37 x 4\u001b[39m\n",
      "   clone_id  data       locus  seqs\n",
      "   \u001b[3m\u001b[38;5;246m<chr>\u001b[39m\u001b[23m     \u001b[3m\u001b[38;5;246m<list>\u001b[39m\u001b[23m     \u001b[3m\u001b[38;5;246m<chr>\u001b[39m\u001b[23m \u001b[3m\u001b[38;5;246m<int>\u001b[39m\u001b[23m\n",
      "\u001b[38;5;250m 1\u001b[39m 1412_25   \u001b[38;5;246m<airrClon>\u001b[39m IGH      10\n",
      "\u001b[38;5;250m 2\u001b[39m 788_325   \u001b[38;5;246m<airrClon>\u001b[39m IGH      10\n",
      "\u001b[38;5;250m 3\u001b[39m 709_115   \u001b[38;5;246m<airrClon>\u001b[39m IGH       5\n",
      "\u001b[38;5;250m 4\u001b[39m 733_678   \u001b[38;5;246m<airrClon>\u001b[39m IGH       5\n",
      "\u001b[38;5;250m 5\u001b[39m 1307_1540 \u001b[38;5;246m<airrClon>\u001b[39m IGH       4\n",
      "\u001b[38;5;250m 6\u001b[39m 783_998   \u001b[38;5;246m<airrClon>\u001b[39m IGH       4\n",
      "\u001b[38;5;250m 7\u001b[39m 1453_276  \u001b[38;5;246m<airrClon>\u001b[39m IGH       3\n",
      "\u001b[38;5;250m 8\u001b[39m 706_752   \u001b[38;5;246m<airrClon>\u001b[39m IGH       3\n",
      "\u001b[38;5;250m 9\u001b[39m 1035_804  \u001b[38;5;246m<airrClon>\u001b[39m IGH       2\n",
      "\u001b[38;5;250m10\u001b[39m 1048_1873 \u001b[38;5;246m<airrClon>\u001b[39m IGH       2\n",
      "\u001b[38;5;246m# … with 27 more rows\u001b[39m\n"
     ]
    }
   ],
   "source": [
    "clones <- formatClones(\n",
    "db,\n",
    "seq = \"sequence_alignment\",\n",
    "clone = \"clone_id\",\n",
    "subclone = \"subclone_id\",\n",
    "nproc = 16,\n",
    "chain = \"H\",\n",
    "heavy = \"IGH\",\n",
    "trait = \"c_call\",\n",
    "cell = \"cell_id\",\n",
    "locus = \"locus\",\n",
    "minseq = 2,\n",
    "split_light = FALSE,\n",
    "majoronly = FALSE,\n",
    "columns = NULL,\n",
    ")\n",
    "\n",
    "print(clones)"
   ]
  },
  {
   "cell_type": "code",
   "execution_count": 4,
   "id": "senior-apparatus",
   "metadata": {},
   "outputs": [
    {
     "name": "stderr",
     "output_type": "stream",
     "text": [
      "Warning message in RColorBrewer::brewer.pal(n = length(unique(states)), name = palette):\n",
      "“minimal value for n is 3, returning requested palette with 3 different levels\n",
      "”\n"
     ]
    },
    {
     "ename": "ERROR",
     "evalue": "Error in plotTrees(trees[x, ], nodes = nodes, tips = tips, tipsize = tipsize, : dataframe must be provided when tip trait specified\n",
     "output_type": "error",
     "traceback": [
      "Error in plotTrees(trees[x, ], nodes = nodes, tips = tips, tipsize = tipsize, : dataframe must be provided when tip trait specified\nTraceback:\n",
      "1. plotTrees(trees, tips = \"c_call\", tipsize = 4, title = TRUE)",
      "2. lapply(1:nrow(trees), function(x) plotTrees(trees[x, ], nodes = nodes, \n .     tips = tips, tipsize = tipsize, scale = scale, node_palette = node_palette, \n .     tip_palette = tip_palette, base = TRUE, layout = layout, \n .     nodeids = nodeids, title = title))",
      "3. FUN(X[[i]], ...)",
      "4. plotTrees(trees[x, ], nodes = nodes, tips = tips, tipsize = tipsize, \n .     scale = scale, node_palette = node_palette, tip_palette = tip_palette, \n .     base = TRUE, layout = layout, nodeids = nodeids, title = title)",
      "5. stop(\"dataframe must be provided when tip trait specified\")"
     ]
    }
   ],
   "source": [
    "# simple tree plotting with ggtree R package with isotypes at tips\n",
    "plotTrees(trees, tips=\"c_call\", tipsize = 4, title = TRUE)"
   ]
  },
  {
   "cell_type": "code",
   "execution_count": null,
   "id": "beginning-syndrome",
   "metadata": {},
   "outputs": [],
   "source": [
    "# Build trees using dnapars.\n",
    "# exec here is set to dnapars position in the Docker image.\n",
    "clones = getTrees(clones, build=\"igphyml\", \n",
    "    exec=\"/usr/local/share/igphyml/src/igphyml\", nproc=16)"
   ]
  },
  {
   "cell_type": "code",
   "execution_count": null,
   "id": "alive-westminster",
   "metadata": {},
   "outputs": [],
   "source": [
    "print(clones)\n",
    "\n",
    "clones$parameters[[1]]$omega_mle"
   ]
  },
  {
   "cell_type": "code",
   "execution_count": null,
   "id": "specialized-investor",
   "metadata": {},
   "outputs": [],
   "source": [
    "# Build maxmimum parsimony trees for first four clones using \n",
    "# phangorn package in R\n",
    "trees <- getTrees(clones)\n",
    "\n",
    "# simple tree plotting with ggtree R package with isotypes at tips\n",
    "scaleBranches(trees, edge_type = \"mutations\")"
   ]
  },
  {
   "cell_type": "code",
   "execution_count": null,
   "id": "guided-independence",
   "metadata": {},
   "outputs": [],
   "source": [
    "trees <- collapseNodes(trees, tips = FALSE, check = TRUE)"
   ]
  },
  {
   "cell_type": "code",
   "execution_count": null,
   "id": "persistent-tyler",
   "metadata": {},
   "outputs": [],
   "source": [
    "plotTrees(trees)[[1]] + geom_label(aes(label=node)) + geom_tiplab(aes(label=c_call, colour=c_call), offset=0.002)"
   ]
  }
 ],
 "metadata": {
  "kernelspec": {
   "display_name": "R",
   "language": "R",
   "name": "ir"
  },
  "language_info": {
   "codemirror_mode": "r",
   "file_extension": ".r",
   "mimetype": "text/x-r-source",
   "name": "R",
   "pygments_lexer": "r",
   "version": "4.0.3"
  }
 },
 "nbformat": 4,
 "nbformat_minor": 5
}
