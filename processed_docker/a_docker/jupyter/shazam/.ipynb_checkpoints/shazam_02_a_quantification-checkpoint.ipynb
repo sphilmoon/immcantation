{
 "cells": [
  {
   "cell_type": "code",
   "execution_count": 1,
   "id": "raising-booking",
   "metadata": {},
   "outputs": [
    {
     "name": "stderr",
     "output_type": "stream",
     "text": [
      "Loading required package: ggplot2\n",
      "\n",
      "As of v1.0.0 the AIRR Rearrangement schema is now the default file format.\n",
      "A description of the standard is available at https://docs.airr-community.org.\n",
      "The legacy Change-O format is supported through arguments to each function\n",
      "that allow the input column names to be explicitly defined.\n",
      "\n",
      "As of v1.0.0 the AIRR Rearrangement schema is now the default file format.\n",
      "A description of the standard is available at https://docs.airr-community.org.\n",
      "The legacy Change-O format is supported through arguments to each function\n",
      "that allow the input column names to be explicitly defined.\n",
      "\n",
      "\n",
      "Attaching package: ‘dplyr’\n",
      "\n",
      "\n",
      "The following objects are masked from ‘package:stats’:\n",
      "\n",
      "    filter, lag\n",
      "\n",
      "\n",
      "The following objects are masked from ‘package:base’:\n",
      "\n",
      "    intersect, setdiff, setequal, union\n",
      "\n",
      "\n",
      "Loading required package: data.table\n",
      "\n",
      "\n",
      "Attaching package: ‘data.table’\n",
      "\n",
      "\n",
      "The following objects are masked from ‘package:dplyr’:\n",
      "\n",
      "    between, first, last\n",
      "\n",
      "\n"
     ]
    }
   ],
   "source": [
    "### Isotype quantification ###\n",
    "# a\n",
    "\n",
    "# Import required packages\n",
    "library(alakazam)\n",
    "library(shazam)\n",
    "library(dplyr)\n",
    "library(ggplot2)\n",
    "\n",
    "require(data.table)\n",
    "my_data <- as.data.frame(fread(\"../../changeo_10x/filtered_contig_heavy_germ-pass.tsv\"))"
   ]
  },
  {
   "cell_type": "code",
   "execution_count": 2,
   "id": "unsigned-bookmark",
   "metadata": {},
   "outputs": [],
   "source": [
    "# Collapse clonal groups into single sequences\n",
    "clones <- collapseClones(my_data, cloneColumn=\"clone_id\", \n",
    "                         sequenceColumn=\"sequence_alignment\", \n",
    "                         germlineColumn=\"germline_alignment_d_mask\", \n",
    "                         regionDefinition=IMGT_V, \n",
    "                         method=\"thresholdedFreq\", minimumFrequency=0.6,\n",
    "                         includeAmbiguous=FALSE, breakTiesStochastic=FALSE, \n",
    "                         nproc=1)"
   ]
  },
  {
   "cell_type": "code",
   "execution_count": 3,
   "id": "labeled-mitchell",
   "metadata": {},
   "outputs": [],
   "source": [
    "# Count observed mutations and append mu_count columns to the output\n",
    "observed <- observedMutations(clones, \n",
    "                              sequenceColumn=\"clonal_sequence\",\n",
    "                              germlineColumn=\"clonal_germline\",\n",
    "                              regionDefinition=IMGT_V, nproc=1)\n",
    "# Count expected mutations and append mu_exptected columns to the output\n",
    "expected <- expectedMutations(observed, \n",
    "                              sequenceColumn=\"clonal_sequence\",\n",
    "                              germlineColumn=\"clonal_germline\",\n",
    "                              targetingModel=HH_S5F,\n",
    "                              regionDefinition=IMGT_V, nproc=1)"
   ]
  },
  {
   "cell_type": "code",
   "execution_count": 4,
   "id": "sized-industry",
   "metadata": {},
   "outputs": [
    {
     "name": "stderr",
     "output_type": "stream",
     "text": [
      "calcBaseline will use existing observed and expected mutations, in the fields: mu_count_cdr_r, mu_count_cdr_s, mu_count_fwr_r, mu_count_fwr_s and mu_expected_cdr_r, mu_expected_cdr_s, mu_expected_fwr_r, mu_expected_fwr_s\n",
      "\n"
     ]
    },
    {
     "name": "stdout",
     "output_type": "stream",
     "text": [
      "Calculating BASELINe probability density functions...\n"
     ]
    }
   ],
   "source": [
    "# Calculate selection scores using the output from expectedMutations\n",
    "baseline_focused <- calcBaseline(expected, testStatistic=\"focused\", \n",
    "                         regionDefinition=IMGT_V, nproc=1)"
   ]
  },
  {
   "cell_type": "code",
   "execution_count": 5,
   "id": "adult-device",
   "metadata": {},
   "outputs": [
    {
     "name": "stderr",
     "output_type": "stream",
     "text": [
      "calcBaseline will calculate observed and expected mutations for clonal_sequence using clonal_germline as a reference.\n",
      "\n"
     ]
    },
    {
     "name": "stdout",
     "output_type": "stream",
     "text": [
      "Calculating BASELINe probability density functions...\n"
     ]
    }
   ],
   "source": [
    "# Calculate selection scores from scratch\n",
    "baseline <- calcBaseline(clones, testStatistic=\"focused\", \n",
    "                         regionDefinition=IMGT_V, nproc=1)"
   ]
  },
  {
   "cell_type": "code",
   "execution_count": 6,
   "id": "circular-kennedy",
   "metadata": {},
   "outputs": [
    {
     "name": "stdout",
     "output_type": "stream",
     "text": [
      "Grouping BASELINe probability density functions...\n",
      "Calculating BASELINe statistics...\n"
     ]
    }
   ],
   "source": [
    "grouped_1 <- groupBaseline(baseline, groupBy=\"c_call\")"
   ]
  },
  {
   "cell_type": "code",
   "execution_count": 7,
   "id": "laden-letters",
   "metadata": {},
   "outputs": [
    {
     "name": "stderr",
     "output_type": "stream",
     "text": [
      "calcBaseline will calculate observed and expected mutations for clonal_sequence using clonal_germline as a reference.\n",
      "\n"
     ]
    },
    {
     "name": "stdout",
     "output_type": "stream",
     "text": [
      "Calculating BASELINe probability density functions...\n",
      "Grouping BASELINe probability density functions...\n",
      "Calculating BASELINe statistics...\n"
     ]
    }
   ],
   "source": [
    "# Subset the original data to switched isotypes\n",
    "db_sub <- subset(my_data, c_call %in% c(\"IGHM\", \"IGHG\"))\n",
    "\n",
    "# Collapse clonal groups into single sequence\n",
    "clones_sub <- collapseClones(db_sub, cloneColumn=\"clone_id\",\n",
    "                             sequenceColumn=\"sequence_alignment\",\n",
    "                             germlineColumn=\"germline_alignment_d_mask\",\n",
    "                             regionDefinition=IMGT_V, \n",
    "                             method=\"thresholdedFreq\", minimumFrequency=0.6,\n",
    "                             includeAmbiguous=FALSE, breakTiesStochastic=FALSE, \n",
    "                             nproc=1)\n",
    "\n",
    "# Calculate selection scores from scratch\n",
    "baseline_sub <- calcBaseline(clones_sub, testStatistic=\"focused\", \n",
    "                             regionDefinition=IMGT_V, nproc=1)\n",
    "\n",
    "# Combine selection scores by time-point and isotype\n",
    "grouped_2 <- groupBaseline(baseline_sub, groupBy=\"c_call\")"
   ]
  },
  {
   "cell_type": "code",
   "execution_count": 8,
   "id": "surrounded-announcement",
   "metadata": {},
   "outputs": [
    {
     "ename": "ERROR",
     "evalue": "Error in `[.data.frame`(baseline@db, , groupBy): undefined columns selected\n",
     "output_type": "error",
     "traceback": [
      "Error in `[.data.frame`(baseline@db, , groupBy): undefined columns selected\nTraceback:\n",
      "1. groupBaseline(baseline, groupBy = c(\"status\", \"subject\"))",
      "2. data.frame(unique(baseline@db[, groupBy]))",
      "3. unique(baseline@db[, groupBy])",
      "4. baseline@db[, groupBy]",
      "5. `[.data.frame`(baseline@db, , groupBy)",
      "6. stop(\"undefined columns selected\")"
     ]
    }
   ],
   "source": [
    "# First group by subject and status\n",
    "subject_grouped <- groupBaseline(baseline, groupBy=c(\"status\", \"subject\"))\n",
    "\n",
    "# Then group the output by status\n",
    "status_grouped <- groupBaseline(subject_grouped, groupBy=\"status\")"
   ]
  },
  {
   "cell_type": "code",
   "execution_count": 9,
   "id": "generous-insulin",
   "metadata": {},
   "outputs": [
    {
     "data": {
      "text/html": [
       "<table class=\"dataframe\">\n",
       "<caption>A data.frame: 56 × 4</caption>\n",
       "<thead>\n",
       "\t<tr><th scope=col>region</th><th scope=col>test</th><th scope=col>pvalue</th><th scope=col>fdr</th></tr>\n",
       "\t<tr><th scope=col>&lt;chr&gt;</th><th scope=col>&lt;chr&gt;</th><th scope=col>&lt;dbl&gt;</th><th scope=col>&lt;dbl&gt;</th></tr>\n",
       "</thead>\n",
       "<tbody>\n",
       "\t<tr><td>cdr</td><td>IGHM != IGHD    </td><td>          NA</td><td>          NA</td></tr>\n",
       "\t<tr><td>cdr</td><td>IGHM != IGHG2C  </td><td>2.335553e-01</td><td>0.3587009340</td></tr>\n",
       "\t<tr><td>cdr</td><td>IGHM != IGHG2B  </td><td>3.678369e-01</td><td>0.3957518799</td></tr>\n",
       "\t<tr><td>cdr</td><td>IGHM != IGHA    </td><td>2.042292e-01</td><td>0.3341932307</td></tr>\n",
       "\t<tr><td>cdr</td><td>IGHM != IGHG3   </td><td>2.459635e-01</td><td>0.3587009340</td></tr>\n",
       "\t<tr><td>cdr</td><td>IGHM != IGHG1   </td><td>3.483353e-01</td><td>0.3918771796</td></tr>\n",
       "\t<tr><td>cdr</td><td>IGHM !=         </td><td>          NA</td><td>          NA</td></tr>\n",
       "\t<tr><td>cdr</td><td>IGHD != IGHG2C  </td><td>          NA</td><td>          NA</td></tr>\n",
       "\t<tr><td>cdr</td><td>IGHD != IGHG2B  </td><td>          NA</td><td>          NA</td></tr>\n",
       "\t<tr><td>cdr</td><td>IGHD != IGHA    </td><td>          NA</td><td>          NA</td></tr>\n",
       "\t<tr><td>cdr</td><td>IGHD != IGHG3   </td><td>          NA</td><td>          NA</td></tr>\n",
       "\t<tr><td>cdr</td><td>IGHD != IGHG1   </td><td>          NA</td><td>          NA</td></tr>\n",
       "\t<tr><td>cdr</td><td>IGHD !=         </td><td>          NA</td><td>          NA</td></tr>\n",
       "\t<tr><td>cdr</td><td>IGHG2C != IGHG2B</td><td>1.553503e-01</td><td>0.2799252935</td></tr>\n",
       "\t<tr><td>cdr</td><td>IGHG2C != IGHA  </td><td>3.737657e-01</td><td>0.3957518799</td></tr>\n",
       "\t<tr><td>cdr</td><td>IGHG2C != IGHG3 </td><td>1.267449e-01</td><td>0.2799252935</td></tr>\n",
       "\t<tr><td>cdr</td><td>IGHG2C != IGHG1 </td><td>1.475223e-01</td><td>0.2799252935</td></tr>\n",
       "\t<tr><td>cdr</td><td>IGHG2C !=       </td><td>          NA</td><td>          NA</td></tr>\n",
       "\t<tr><td>cdr</td><td>IGHG2B != IGHA  </td><td>1.491507e-01</td><td>0.2799252935</td></tr>\n",
       "\t<tr><td>cdr</td><td>IGHG2B != IGHG3 </td><td>3.322618e-01</td><td>0.3918771796</td></tr>\n",
       "\t<tr><td>cdr</td><td>IGHG2B != IGHG1 </td><td>4.798343e-01</td><td>0.4850858186</td></tr>\n",
       "\t<tr><td>cdr</td><td>IGHG2B !=       </td><td>          NA</td><td>          NA</td></tr>\n",
       "\t<tr><td>cdr</td><td>IGHA != IGHG3   </td><td>1.167600e-01</td><td>0.2799252935</td></tr>\n",
       "\t<tr><td>cdr</td><td>IGHA != IGHG1   </td><td>1.433540e-01</td><td>0.2799252935</td></tr>\n",
       "\t<tr><td>cdr</td><td>IGHA !=         </td><td>          NA</td><td>          NA</td></tr>\n",
       "\t<tr><td>cdr</td><td>IGHG3 != IGHG1  </td><td>3.441571e-01</td><td>0.3918771796</td></tr>\n",
       "\t<tr><td>cdr</td><td>IGHG3 !=        </td><td>          NA</td><td>          NA</td></tr>\n",
       "\t<tr><td>cdr</td><td>IGHG1 !=        </td><td>          NA</td><td>          NA</td></tr>\n",
       "\t<tr><td>fwr</td><td>IGHM != IGHD    </td><td>2.502759e-01</td><td>0.3587009340</td></tr>\n",
       "\t<tr><td>fwr</td><td>IGHM != IGHG2C  </td><td>7.901180e-05</td><td>0.0009481416</td></tr>\n",
       "\t<tr><td>fwr</td><td>IGHM != IGHG2B  </td><td>2.285502e-03</td><td>0.0164556136</td></tr>\n",
       "\t<tr><td>fwr</td><td>IGHM != IGHA    </td><td>4.481685e-06</td><td>0.0001613407</td></tr>\n",
       "\t<tr><td>fwr</td><td>IGHM != IGHG3   </td><td>2.590618e-01</td><td>0.3587009340</td></tr>\n",
       "\t<tr><td>fwr</td><td>IGHM != IGHG1   </td><td>6.927921e-02</td><td>0.2078376182</td></tr>\n",
       "\t<tr><td>fwr</td><td>IGHM !=         </td><td>          NA</td><td>          NA</td></tr>\n",
       "\t<tr><td>fwr</td><td>IGHD != IGHG2C  </td><td>1.257978e-03</td><td>0.0113217978</td></tr>\n",
       "\t<tr><td>fwr</td><td>IGHD != IGHG2B  </td><td>4.202104e-03</td><td>0.0252126262</td></tr>\n",
       "\t<tr><td>fwr</td><td>IGHD != IGHA    </td><td>4.309855e-05</td><td>0.0007757739</td></tr>\n",
       "\t<tr><td>fwr</td><td>IGHD != IGHG3   </td><td>1.768899e-01</td><td>0.3032398236</td></tr>\n",
       "\t<tr><td>fwr</td><td>IGHD != IGHG1   </td><td>4.784931e-02</td><td>0.1722575122</td></tr>\n",
       "\t<tr><td>fwr</td><td>IGHD !=         </td><td>          NA</td><td>          NA</td></tr>\n",
       "\t<tr><td>fwr</td><td>IGHG2C != IGHG2B</td><td>4.850858e-01</td><td>0.4850858186</td></tr>\n",
       "\t<tr><td>fwr</td><td>IGHG2C != IGHA  </td><td>4.371224e-02</td><td>0.1722575122</td></tr>\n",
       "\t<tr><td>fwr</td><td>IGHG2C != IGHG3 </td><td>1.324932e-01</td><td>0.2799252935</td></tr>\n",
       "\t<tr><td>fwr</td><td>IGHG2C != IGHG1 </td><td>2.893551e-01</td><td>0.3858067352</td></tr>\n",
       "\t<tr><td>fwr</td><td>IGHG2C !=       </td><td>          NA</td><td>          NA</td></tr>\n",
       "\t<tr><td>fwr</td><td>IGHG2B != IGHA  </td><td>6.034138e-02</td><td>0.1974808698</td></tr>\n",
       "\t<tr><td>fwr</td><td>IGHG2B != IGHG3 </td><td>1.555141e-01</td><td>0.2799252935</td></tr>\n",
       "\t<tr><td>fwr</td><td>IGHG2B != IGHG1 </td><td>3.151959e-01</td><td>0.3912777022</td></tr>\n",
       "\t<tr><td>fwr</td><td>IGHG2B !=       </td><td>          NA</td><td>          NA</td></tr>\n",
       "\t<tr><td>fwr</td><td>IGHA != IGHG3   </td><td>1.466597e-02</td><td>0.0754249699</td></tr>\n",
       "\t<tr><td>fwr</td><td>IGHA != IGHG1   </td><td>3.746714e-02</td><td>0.1686021359</td></tr>\n",
       "\t<tr><td>fwr</td><td>IGHA !=         </td><td>          NA</td><td>          NA</td></tr>\n",
       "\t<tr><td>fwr</td><td>IGHG3 != IGHG1  </td><td>3.044816e-01</td><td>0.3912777022</td></tr>\n",
       "\t<tr><td>fwr</td><td>IGHG3 !=        </td><td>          NA</td><td>          NA</td></tr>\n",
       "\t<tr><td>fwr</td><td>IGHG1 !=        </td><td>          NA</td><td>          NA</td></tr>\n",
       "</tbody>\n",
       "</table>\n"
      ],
      "text/latex": [
       "A data.frame: 56 × 4\n",
       "\\begin{tabular}{llll}\n",
       " region & test & pvalue & fdr\\\\\n",
       " <chr> & <chr> & <dbl> & <dbl>\\\\\n",
       "\\hline\n",
       "\t cdr & IGHM != IGHD     &           NA &           NA\\\\\n",
       "\t cdr & IGHM != IGHG2C   & 2.335553e-01 & 0.3587009340\\\\\n",
       "\t cdr & IGHM != IGHG2B   & 3.678369e-01 & 0.3957518799\\\\\n",
       "\t cdr & IGHM != IGHA     & 2.042292e-01 & 0.3341932307\\\\\n",
       "\t cdr & IGHM != IGHG3    & 2.459635e-01 & 0.3587009340\\\\\n",
       "\t cdr & IGHM != IGHG1    & 3.483353e-01 & 0.3918771796\\\\\n",
       "\t cdr & IGHM !=          &           NA &           NA\\\\\n",
       "\t cdr & IGHD != IGHG2C   &           NA &           NA\\\\\n",
       "\t cdr & IGHD != IGHG2B   &           NA &           NA\\\\\n",
       "\t cdr & IGHD != IGHA     &           NA &           NA\\\\\n",
       "\t cdr & IGHD != IGHG3    &           NA &           NA\\\\\n",
       "\t cdr & IGHD != IGHG1    &           NA &           NA\\\\\n",
       "\t cdr & IGHD !=          &           NA &           NA\\\\\n",
       "\t cdr & IGHG2C != IGHG2B & 1.553503e-01 & 0.2799252935\\\\\n",
       "\t cdr & IGHG2C != IGHA   & 3.737657e-01 & 0.3957518799\\\\\n",
       "\t cdr & IGHG2C != IGHG3  & 1.267449e-01 & 0.2799252935\\\\\n",
       "\t cdr & IGHG2C != IGHG1  & 1.475223e-01 & 0.2799252935\\\\\n",
       "\t cdr & IGHG2C !=        &           NA &           NA\\\\\n",
       "\t cdr & IGHG2B != IGHA   & 1.491507e-01 & 0.2799252935\\\\\n",
       "\t cdr & IGHG2B != IGHG3  & 3.322618e-01 & 0.3918771796\\\\\n",
       "\t cdr & IGHG2B != IGHG1  & 4.798343e-01 & 0.4850858186\\\\\n",
       "\t cdr & IGHG2B !=        &           NA &           NA\\\\\n",
       "\t cdr & IGHA != IGHG3    & 1.167600e-01 & 0.2799252935\\\\\n",
       "\t cdr & IGHA != IGHG1    & 1.433540e-01 & 0.2799252935\\\\\n",
       "\t cdr & IGHA !=          &           NA &           NA\\\\\n",
       "\t cdr & IGHG3 != IGHG1   & 3.441571e-01 & 0.3918771796\\\\\n",
       "\t cdr & IGHG3 !=         &           NA &           NA\\\\\n",
       "\t cdr & IGHG1 !=         &           NA &           NA\\\\\n",
       "\t fwr & IGHM != IGHD     & 2.502759e-01 & 0.3587009340\\\\\n",
       "\t fwr & IGHM != IGHG2C   & 7.901180e-05 & 0.0009481416\\\\\n",
       "\t fwr & IGHM != IGHG2B   & 2.285502e-03 & 0.0164556136\\\\\n",
       "\t fwr & IGHM != IGHA     & 4.481685e-06 & 0.0001613407\\\\\n",
       "\t fwr & IGHM != IGHG3    & 2.590618e-01 & 0.3587009340\\\\\n",
       "\t fwr & IGHM != IGHG1    & 6.927921e-02 & 0.2078376182\\\\\n",
       "\t fwr & IGHM !=          &           NA &           NA\\\\\n",
       "\t fwr & IGHD != IGHG2C   & 1.257978e-03 & 0.0113217978\\\\\n",
       "\t fwr & IGHD != IGHG2B   & 4.202104e-03 & 0.0252126262\\\\\n",
       "\t fwr & IGHD != IGHA     & 4.309855e-05 & 0.0007757739\\\\\n",
       "\t fwr & IGHD != IGHG3    & 1.768899e-01 & 0.3032398236\\\\\n",
       "\t fwr & IGHD != IGHG1    & 4.784931e-02 & 0.1722575122\\\\\n",
       "\t fwr & IGHD !=          &           NA &           NA\\\\\n",
       "\t fwr & IGHG2C != IGHG2B & 4.850858e-01 & 0.4850858186\\\\\n",
       "\t fwr & IGHG2C != IGHA   & 4.371224e-02 & 0.1722575122\\\\\n",
       "\t fwr & IGHG2C != IGHG3  & 1.324932e-01 & 0.2799252935\\\\\n",
       "\t fwr & IGHG2C != IGHG1  & 2.893551e-01 & 0.3858067352\\\\\n",
       "\t fwr & IGHG2C !=        &           NA &           NA\\\\\n",
       "\t fwr & IGHG2B != IGHA   & 6.034138e-02 & 0.1974808698\\\\\n",
       "\t fwr & IGHG2B != IGHG3  & 1.555141e-01 & 0.2799252935\\\\\n",
       "\t fwr & IGHG2B != IGHG1  & 3.151959e-01 & 0.3912777022\\\\\n",
       "\t fwr & IGHG2B !=        &           NA &           NA\\\\\n",
       "\t fwr & IGHA != IGHG3    & 1.466597e-02 & 0.0754249699\\\\\n",
       "\t fwr & IGHA != IGHG1    & 3.746714e-02 & 0.1686021359\\\\\n",
       "\t fwr & IGHA !=          &           NA &           NA\\\\\n",
       "\t fwr & IGHG3 != IGHG1   & 3.044816e-01 & 0.3912777022\\\\\n",
       "\t fwr & IGHG3 !=         &           NA &           NA\\\\\n",
       "\t fwr & IGHG1 !=         &           NA &           NA\\\\\n",
       "\\end{tabular}\n"
      ],
      "text/markdown": [
       "\n",
       "A data.frame: 56 × 4\n",
       "\n",
       "| region &lt;chr&gt; | test &lt;chr&gt; | pvalue &lt;dbl&gt; | fdr &lt;dbl&gt; |\n",
       "|---|---|---|---|\n",
       "| cdr | IGHM != IGHD     |           NA |           NA |\n",
       "| cdr | IGHM != IGHG2C   | 2.335553e-01 | 0.3587009340 |\n",
       "| cdr | IGHM != IGHG2B   | 3.678369e-01 | 0.3957518799 |\n",
       "| cdr | IGHM != IGHA     | 2.042292e-01 | 0.3341932307 |\n",
       "| cdr | IGHM != IGHG3    | 2.459635e-01 | 0.3587009340 |\n",
       "| cdr | IGHM != IGHG1    | 3.483353e-01 | 0.3918771796 |\n",
       "| cdr | IGHM !=          |           NA |           NA |\n",
       "| cdr | IGHD != IGHG2C   |           NA |           NA |\n",
       "| cdr | IGHD != IGHG2B   |           NA |           NA |\n",
       "| cdr | IGHD != IGHA     |           NA |           NA |\n",
       "| cdr | IGHD != IGHG3    |           NA |           NA |\n",
       "| cdr | IGHD != IGHG1    |           NA |           NA |\n",
       "| cdr | IGHD !=          |           NA |           NA |\n",
       "| cdr | IGHG2C != IGHG2B | 1.553503e-01 | 0.2799252935 |\n",
       "| cdr | IGHG2C != IGHA   | 3.737657e-01 | 0.3957518799 |\n",
       "| cdr | IGHG2C != IGHG3  | 1.267449e-01 | 0.2799252935 |\n",
       "| cdr | IGHG2C != IGHG1  | 1.475223e-01 | 0.2799252935 |\n",
       "| cdr | IGHG2C !=        |           NA |           NA |\n",
       "| cdr | IGHG2B != IGHA   | 1.491507e-01 | 0.2799252935 |\n",
       "| cdr | IGHG2B != IGHG3  | 3.322618e-01 | 0.3918771796 |\n",
       "| cdr | IGHG2B != IGHG1  | 4.798343e-01 | 0.4850858186 |\n",
       "| cdr | IGHG2B !=        |           NA |           NA |\n",
       "| cdr | IGHA != IGHG3    | 1.167600e-01 | 0.2799252935 |\n",
       "| cdr | IGHA != IGHG1    | 1.433540e-01 | 0.2799252935 |\n",
       "| cdr | IGHA !=          |           NA |           NA |\n",
       "| cdr | IGHG3 != IGHG1   | 3.441571e-01 | 0.3918771796 |\n",
       "| cdr | IGHG3 !=         |           NA |           NA |\n",
       "| cdr | IGHG1 !=         |           NA |           NA |\n",
       "| fwr | IGHM != IGHD     | 2.502759e-01 | 0.3587009340 |\n",
       "| fwr | IGHM != IGHG2C   | 7.901180e-05 | 0.0009481416 |\n",
       "| fwr | IGHM != IGHG2B   | 2.285502e-03 | 0.0164556136 |\n",
       "| fwr | IGHM != IGHA     | 4.481685e-06 | 0.0001613407 |\n",
       "| fwr | IGHM != IGHG3    | 2.590618e-01 | 0.3587009340 |\n",
       "| fwr | IGHM != IGHG1    | 6.927921e-02 | 0.2078376182 |\n",
       "| fwr | IGHM !=          |           NA |           NA |\n",
       "| fwr | IGHD != IGHG2C   | 1.257978e-03 | 0.0113217978 |\n",
       "| fwr | IGHD != IGHG2B   | 4.202104e-03 | 0.0252126262 |\n",
       "| fwr | IGHD != IGHA     | 4.309855e-05 | 0.0007757739 |\n",
       "| fwr | IGHD != IGHG3    | 1.768899e-01 | 0.3032398236 |\n",
       "| fwr | IGHD != IGHG1    | 4.784931e-02 | 0.1722575122 |\n",
       "| fwr | IGHD !=          |           NA |           NA |\n",
       "| fwr | IGHG2C != IGHG2B | 4.850858e-01 | 0.4850858186 |\n",
       "| fwr | IGHG2C != IGHA   | 4.371224e-02 | 0.1722575122 |\n",
       "| fwr | IGHG2C != IGHG3  | 1.324932e-01 | 0.2799252935 |\n",
       "| fwr | IGHG2C != IGHG1  | 2.893551e-01 | 0.3858067352 |\n",
       "| fwr | IGHG2C !=        |           NA |           NA |\n",
       "| fwr | IGHG2B != IGHA   | 6.034138e-02 | 0.1974808698 |\n",
       "| fwr | IGHG2B != IGHG3  | 1.555141e-01 | 0.2799252935 |\n",
       "| fwr | IGHG2B != IGHG1  | 3.151959e-01 | 0.3912777022 |\n",
       "| fwr | IGHG2B !=        |           NA |           NA |\n",
       "| fwr | IGHA != IGHG3    | 1.466597e-02 | 0.0754249699 |\n",
       "| fwr | IGHA != IGHG1    | 3.746714e-02 | 0.1686021359 |\n",
       "| fwr | IGHA !=          |           NA |           NA |\n",
       "| fwr | IGHG3 != IGHG1   | 3.044816e-01 | 0.3912777022 |\n",
       "| fwr | IGHG3 !=         |           NA |           NA |\n",
       "| fwr | IGHG1 !=         |           NA |           NA |\n",
       "\n"
      ],
      "text/plain": [
       "   region test             pvalue       fdr         \n",
       "1  cdr    IGHM != IGHD               NA           NA\n",
       "2  cdr    IGHM != IGHG2C   2.335553e-01 0.3587009340\n",
       "3  cdr    IGHM != IGHG2B   3.678369e-01 0.3957518799\n",
       "4  cdr    IGHM != IGHA     2.042292e-01 0.3341932307\n",
       "5  cdr    IGHM != IGHG3    2.459635e-01 0.3587009340\n",
       "6  cdr    IGHM != IGHG1    3.483353e-01 0.3918771796\n",
       "7  cdr    IGHM !=                    NA           NA\n",
       "8  cdr    IGHD != IGHG2C             NA           NA\n",
       "9  cdr    IGHD != IGHG2B             NA           NA\n",
       "10 cdr    IGHD != IGHA               NA           NA\n",
       "11 cdr    IGHD != IGHG3              NA           NA\n",
       "12 cdr    IGHD != IGHG1              NA           NA\n",
       "13 cdr    IGHD !=                    NA           NA\n",
       "14 cdr    IGHG2C != IGHG2B 1.553503e-01 0.2799252935\n",
       "15 cdr    IGHG2C != IGHA   3.737657e-01 0.3957518799\n",
       "16 cdr    IGHG2C != IGHG3  1.267449e-01 0.2799252935\n",
       "17 cdr    IGHG2C != IGHG1  1.475223e-01 0.2799252935\n",
       "18 cdr    IGHG2C !=                  NA           NA\n",
       "19 cdr    IGHG2B != IGHA   1.491507e-01 0.2799252935\n",
       "20 cdr    IGHG2B != IGHG3  3.322618e-01 0.3918771796\n",
       "21 cdr    IGHG2B != IGHG1  4.798343e-01 0.4850858186\n",
       "22 cdr    IGHG2B !=                  NA           NA\n",
       "23 cdr    IGHA != IGHG3    1.167600e-01 0.2799252935\n",
       "24 cdr    IGHA != IGHG1    1.433540e-01 0.2799252935\n",
       "25 cdr    IGHA !=                    NA           NA\n",
       "26 cdr    IGHG3 != IGHG1   3.441571e-01 0.3918771796\n",
       "27 cdr    IGHG3 !=                   NA           NA\n",
       "28 cdr    IGHG1 !=                   NA           NA\n",
       "29 fwr    IGHM != IGHD     2.502759e-01 0.3587009340\n",
       "30 fwr    IGHM != IGHG2C   7.901180e-05 0.0009481416\n",
       "31 fwr    IGHM != IGHG2B   2.285502e-03 0.0164556136\n",
       "32 fwr    IGHM != IGHA     4.481685e-06 0.0001613407\n",
       "33 fwr    IGHM != IGHG3    2.590618e-01 0.3587009340\n",
       "34 fwr    IGHM != IGHG1    6.927921e-02 0.2078376182\n",
       "35 fwr    IGHM !=                    NA           NA\n",
       "36 fwr    IGHD != IGHG2C   1.257978e-03 0.0113217978\n",
       "37 fwr    IGHD != IGHG2B   4.202104e-03 0.0252126262\n",
       "38 fwr    IGHD != IGHA     4.309855e-05 0.0007757739\n",
       "39 fwr    IGHD != IGHG3    1.768899e-01 0.3032398236\n",
       "40 fwr    IGHD != IGHG1    4.784931e-02 0.1722575122\n",
       "41 fwr    IGHD !=                    NA           NA\n",
       "42 fwr    IGHG2C != IGHG2B 4.850858e-01 0.4850858186\n",
       "43 fwr    IGHG2C != IGHA   4.371224e-02 0.1722575122\n",
       "44 fwr    IGHG2C != IGHG3  1.324932e-01 0.2799252935\n",
       "45 fwr    IGHG2C != IGHG1  2.893551e-01 0.3858067352\n",
       "46 fwr    IGHG2C !=                  NA           NA\n",
       "47 fwr    IGHG2B != IGHA   6.034138e-02 0.1974808698\n",
       "48 fwr    IGHG2B != IGHG3  1.555141e-01 0.2799252935\n",
       "49 fwr    IGHG2B != IGHG1  3.151959e-01 0.3912777022\n",
       "50 fwr    IGHG2B !=                  NA           NA\n",
       "51 fwr    IGHA != IGHG3    1.466597e-02 0.0754249699\n",
       "52 fwr    IGHA != IGHG1    3.746714e-02 0.1686021359\n",
       "53 fwr    IGHA !=                    NA           NA\n",
       "54 fwr    IGHG3 != IGHG1   3.044816e-01 0.3912777022\n",
       "55 fwr    IGHG3 !=                   NA           NA\n",
       "56 fwr    IGHG1 !=                   NA           NA"
      ]
     },
     "metadata": {},
     "output_type": "display_data"
    }
   ],
   "source": [
    "testBaseline(grouped_1, groupBy=\"c_call\")"
   ]
  },
  {
   "cell_type": "code",
   "execution_count": 10,
   "id": "determined-murder",
   "metadata": {},
   "outputs": [
    {
     "data": {
      "image/png": "[encoded data removed]",
      "text/plain": [
       "plot without title"
      ]
     },
     "metadata": {
      "image/png": {
       "height": 420,
       "width": 420
      }
     },
     "output_type": "display_data"
    }
   ],
   "source": [
    "isotype_colors <- c(\"IGHM\"=\"darkorchid\", \"IGHD\"=\"firebrick\", \n",
    "                    \"IGHG\"=\"seagreen\", \"IGHA\"=\"steelblue\")\n",
    "\n",
    "# Plot mean and confidence interval by time-point\n",
    "plotBaselineSummary(grouped_1, \"c_call\")"
   ]
  },
  {
   "cell_type": "code",
   "execution_count": 11,
   "id": "charming-anniversary",
   "metadata": {},
   "outputs": [
    {
     "data": {
      "image/png": "[encoded data removed]",
      "text/plain": [
       "plot without title"
      ]
     },
     "metadata": {
      "image/png": {
       "height": 420,
       "width": 420
      }
     },
     "output_type": "display_data"
    }
   ],
   "source": [
    "# Group by CDR/FWR and facet by isotype\n",
    "plotBaselineSummary(grouped_2, \"c_call\")"
   ]
  },
  {
   "cell_type": "code",
   "execution_count": 12,
   "id": "critical-ranking",
   "metadata": {},
   "outputs": [
    {
     "data": {
      "image/png": "[encoded data removed]",
      "text/plain": [
       "plot without title"
      ]
     },
     "metadata": {
      "image/png": {
       "height": 420,
       "width": 420
      }
     },
     "output_type": "display_data"
    }
   ],
   "source": [
    "# Plot selection PDFs for a subset of the data\n",
    "plotBaselineDensity(grouped_2, \"c_call\", groupColumn=\"c_call\", colorElement=\"group\", \n",
    "                    sigmaLimits=c(-2, 2))"
   ]
  }
 ],
 "metadata": {
  "kernelspec": {
   "display_name": "R",
   "language": "R",
   "name": "ir"
  },
  "language_info": {
   "codemirror_mode": "r",
   "file_extension": ".r",
   "mimetype": "text/x-r-source",
   "name": "R",
   "pygments_lexer": "r",
   "version": "4.0.3"
  }
 },
 "nbformat": 4,
 "nbformat_minor": 5
}
