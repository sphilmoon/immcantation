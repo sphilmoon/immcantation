{
 "cells": [
  {
   "cell_type": "code",
   "execution_count": null,
   "id": "acknowledged-airplane",
   "metadata": {},
   "outputs": [],
   "source": [
    "### Amino acid property analysis ###\n",
    "# a\n",
    "\n",
    "# analyze physico-chemical properties (CDR3) of Ig sequences.\n",
    "\n",
    "# Load required packages\n",
    "library(alakazam)\n",
    "library(dplyr)\n",
    "library(scales)\n",
    "library(ggplot2)\n",
    "\n",
    "db <- readChangeoDb(\"../../changeo_10x/filtered_contig_heavy_germ-pass.tsv\", select = NULL, drop = NULL, seq_upper = TRUE)"
   ]
  }
 ],
 "metadata": {
  "kernelspec": {
   "display_name": "R",
   "language": "R",
   "name": "ir"
  },
  "language_info": {
   "codemirror_mode": "r",
   "file_extension": ".r",
   "mimetype": "text/x-r-source",
   "name": "R",
   "pygments_lexer": "r",
   "version": "4.0.3"
  }
 },
 "nbformat": 4,
 "nbformat_minor": 5
}
