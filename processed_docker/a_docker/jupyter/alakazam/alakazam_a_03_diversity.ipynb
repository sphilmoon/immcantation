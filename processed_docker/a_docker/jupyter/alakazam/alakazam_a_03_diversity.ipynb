{
 "cells": [
  {
   "cell_type": "code",
   "execution_count": 1,
   "id": "abandoned-direction",
   "metadata": {},
   "outputs": [
    {
     "name": "stderr",
     "output_type": "stream",
     "text": [
      "Loading required package: ggplot2\n",
      "\n",
      "As of v1.0.0 the AIRR Rearrangement schema is now the default file format.\n",
      "A description of the standard is available at https://docs.airr-community.org.\n",
      "The legacy Change-O format is supported through arguments to each function\n",
      "that allow the input column names to be explicitly defined.\n",
      "\n",
      "\n",
      "Attaching package: ‘dplyr’\n",
      "\n",
      "\n",
      "The following objects are masked from ‘package:stats’:\n",
      "\n",
      "    filter, lag\n",
      "\n",
      "\n",
      "The following objects are masked from ‘package:base’:\n",
      "\n",
      "    intersect, setdiff, setequal, union\n",
      "\n",
      "\n"
     ]
    }
   ],
   "source": [
    "### Diversity analysis ###\n",
    "# a\n",
    "\n",
    "# \"estimateAbundance\" function infers a complete clonal abundance distribution.\n",
    "# \"alphaDiversity\" function generate a smooth diversity (D) curve is generated over a range of diversity orders (q).\n",
    "# also test the diverstiy (D) at a fixed diversity order (q).\n",
    "\n",
    "# Load required packages\n",
    "library(alakazam)\n",
    "library(dplyr)\n",
    "library(scales)\n",
    "library(ggplot2)\n",
    "\n",
    "db <- readChangeoDb(\"../../changeo_10x/filtered_contig_heavy_germ-pass.tsv\", select = NULL, drop = NULL, seq_upper = TRUE)"
   ]
  },
  {
   "cell_type": "code",
   "execution_count": 2,
   "id": "generic-bonus",
   "metadata": {},
   "outputs": [
    {
     "data": {
      "text/html": [
       "<table class=\"dataframe\">\n",
       "<caption>A tibble: 5 × 3</caption>\n",
       "<thead>\n",
       "\t<tr><th scope=col>clone_id</th><th scope=col>seq_count</th><th scope=col>seq_freq</th></tr>\n",
       "\t<tr><th scope=col>&lt;chr&gt;</th><th scope=col>&lt;int&gt;</th><th scope=col>&lt;dbl&gt;</th></tr>\n",
       "</thead>\n",
       "<tbody>\n",
       "\t<tr><td>505_190</td><td>42</td><td>0.015481017</td></tr>\n",
       "\t<tr><td>1412_25</td><td>10</td><td>0.003685957</td></tr>\n",
       "\t<tr><td>788_325</td><td>10</td><td>0.003685957</td></tr>\n",
       "\t<tr><td>709_115</td><td> 5</td><td>0.001842978</td></tr>\n",
       "\t<tr><td>733_678</td><td> 5</td><td>0.001842978</td></tr>\n",
       "</tbody>\n",
       "</table>\n"
      ],
      "text/latex": [
       "A tibble: 5 × 3\n",
       "\\begin{tabular}{lll}\n",
       " clone\\_id & seq\\_count & seq\\_freq\\\\\n",
       " <chr> & <int> & <dbl>\\\\\n",
       "\\hline\n",
       "\t 505\\_190 & 42 & 0.015481017\\\\\n",
       "\t 1412\\_25 & 10 & 0.003685957\\\\\n",
       "\t 788\\_325 & 10 & 0.003685957\\\\\n",
       "\t 709\\_115 &  5 & 0.001842978\\\\\n",
       "\t 733\\_678 &  5 & 0.001842978\\\\\n",
       "\\end{tabular}\n"
      ],
      "text/markdown": [
       "\n",
       "A tibble: 5 × 3\n",
       "\n",
       "| clone_id &lt;chr&gt; | seq_count &lt;int&gt; | seq_freq &lt;dbl&gt; |\n",
       "|---|---|---|\n",
       "| 505_190 | 42 | 0.015481017 |\n",
       "| 1412_25 | 10 | 0.003685957 |\n",
       "| 788_325 | 10 | 0.003685957 |\n",
       "| 709_115 |  5 | 0.001842978 |\n",
       "| 733_678 |  5 | 0.001842978 |\n",
       "\n"
      ],
      "text/plain": [
       "  clone_id seq_count seq_freq   \n",
       "1 505_190  42        0.015481017\n",
       "2 1412_25  10        0.003685957\n",
       "3 788_325  10        0.003685957\n",
       "4 709_115   5        0.001842978\n",
       "5 733_678   5        0.001842978"
      ]
     },
     "metadata": {},
     "output_type": "display_data"
    }
   ],
   "source": [
    "# Partitions the data based on the sample column\n",
    "clones <- countClones(db)\n",
    "head(clones, 5)"
   ]
  },
  {
   "cell_type": "code",
   "execution_count": 3,
   "id": "false-demonstration",
   "metadata": {},
   "outputs": [
    {
     "data": {
      "text/html": [
       "<table class=\"dataframe\">\n",
       "<caption>A grouped_df: 5 × 4</caption>\n",
       "<thead>\n",
       "\t<tr><th scope=col>c_call</th><th scope=col>clone_id</th><th scope=col>seq_count</th><th scope=col>seq_freq</th></tr>\n",
       "\t<tr><th scope=col>&lt;chr&gt;</th><th scope=col>&lt;chr&gt;</th><th scope=col>&lt;int&gt;</th><th scope=col>&lt;dbl&gt;</th></tr>\n",
       "</thead>\n",
       "<tbody>\n",
       "\t<tr><td>IGHM  </td><td>505_190  </td><td>42</td><td>0.018987342</td></tr>\n",
       "\t<tr><td>IGHG2C</td><td>1412_25  </td><td> 4</td><td>0.121212121</td></tr>\n",
       "\t<tr><td>IGHG2C</td><td>733_678  </td><td> 4</td><td>0.121212121</td></tr>\n",
       "\t<tr><td>IGHG3 </td><td>1307_1540</td><td> 4</td><td>0.363636364</td></tr>\n",
       "\t<tr><td>IGHM  </td><td>788_325  </td><td> 4</td><td>0.001808318</td></tr>\n",
       "</tbody>\n",
       "</table>\n"
      ],
      "text/latex": [
       "A grouped\\_df: 5 × 4\n",
       "\\begin{tabular}{llll}\n",
       " c\\_call & clone\\_id & seq\\_count & seq\\_freq\\\\\n",
       " <chr> & <chr> & <int> & <dbl>\\\\\n",
       "\\hline\n",
       "\t IGHM   & 505\\_190   & 42 & 0.018987342\\\\\n",
       "\t IGHG2C & 1412\\_25   &  4 & 0.121212121\\\\\n",
       "\t IGHG2C & 733\\_678   &  4 & 0.121212121\\\\\n",
       "\t IGHG3  & 1307\\_1540 &  4 & 0.363636364\\\\\n",
       "\t IGHM   & 788\\_325   &  4 & 0.001808318\\\\\n",
       "\\end{tabular}\n"
      ],
      "text/markdown": [
       "\n",
       "A grouped_df: 5 × 4\n",
       "\n",
       "| c_call &lt;chr&gt; | clone_id &lt;chr&gt; | seq_count &lt;int&gt; | seq_freq &lt;dbl&gt; |\n",
       "|---|---|---|---|\n",
       "| IGHM   | 505_190   | 42 | 0.018987342 |\n",
       "| IGHG2C | 1412_25   |  4 | 0.121212121 |\n",
       "| IGHG2C | 733_678   |  4 | 0.121212121 |\n",
       "| IGHG3  | 1307_1540 |  4 | 0.363636364 |\n",
       "| IGHM   | 788_325   |  4 | 0.001808318 |\n",
       "\n"
      ],
      "text/plain": [
       "  c_call clone_id  seq_count seq_freq   \n",
       "1 IGHM   505_190   42        0.018987342\n",
       "2 IGHG2C 1412_25    4        0.121212121\n",
       "3 IGHG2C 733_678    4        0.121212121\n",
       "4 IGHG3  1307_1540  4        0.363636364\n",
       "5 IGHM   788_325    4        0.001808318"
      ]
     },
     "metadata": {},
     "output_type": "display_data"
    }
   ],
   "source": [
    "# Partitions the data based on both the sample_id and c_call columns\n",
    "# Weights the clone sizes by the duplicate_count column\n",
    "clones <- countClones(db, group=c(\"c_call\"), clone=\"clone_id\")\n",
    "head(clones, 5)"
   ]
  },
  {
   "cell_type": "code",
   "execution_count": 4,
   "id": "closed-ethernet",
   "metadata": {},
   "outputs": [],
   "source": [
    "# Partitions the data on the sample column\n",
    "# Calculates a 95% confidence interval via 200 bootstrap realizations\n",
    "curve <- estimateAbundance(db, ci=0.95, nboot=200, clone=\"clone_id\")"
   ]
  },
  {
   "cell_type": "code",
   "execution_count": 5,
   "id": "nearby-updating",
   "metadata": {},
   "outputs": [
    {
     "data": {
      "image/png": "[encoded data removed]",
      "text/plain": [
       "plot without title"
      ]
     },
     "metadata": {
      "image/png": {
       "height": 420,
       "width": 420
      }
     },
     "output_type": "display_data"
    }
   ],
   "source": [
    "# Plots a rank abundance curve of the relative clonal abundances\n",
    "plot(curve)"
   ]
  },
  {
   "cell_type": "code",
   "execution_count": 6,
   "id": "personalized-institute",
   "metadata": {},
   "outputs": [
    {
     "data": {
      "image/png": "[encoded data removed]",
      "text/plain": [
       "plot without title"
      ]
     },
     "metadata": {
      "image/png": {
       "height": 420,
       "width": 420
      }
     },
     "output_type": "display_data"
    }
   ],
   "source": [
    "# \"alphaDiversity\" function re-calculates the clone size distribution and diversity based on the\n",
    "# each resampling realization. \n",
    "# smooth diversity (D) curve is generated over a range of diversity orders (q).\n",
    "\n",
    "# Compare diversity curve across values in the \"sample\" column\n",
    "# q ranges from 0 (min_q=0) to 4 (max_q=4) in 0.05 increments (step_q=0.05)\n",
    "# A 95% confidence interval will be calculated (ci=0.95)\n",
    "# 200 resampling realizations are performed (nboot=200)\n",
    "sample_curve <- alphaDiversity(db, clone=\"clone_id\",\n",
    "                               min_q=0, max_q=4, step_q=0.1,\n",
    "                               ci=0.95, nboot=200)\n",
    "\n",
    "# Plot a log-log (log_q=TRUE, log_d=TRUE) plot of sample diversity\n",
    "# Indicate number of sequences resampled from each group in the title\n",
    "sample_main <- paste0(\"Sample diversity\")\n",
    "plot(sample_curve, main_title=sample_main, \n",
    "     legend_title=\"Sample\")"
   ]
  },
  {
   "cell_type": "code",
   "execution_count": null,
   "id": "dimensional-democracy",
   "metadata": {},
   "outputs": [],
   "source": []
  }
 ],
 "metadata": {
  "kernelspec": {
   "display_name": "R",
   "language": "R",
   "name": "ir"
  },
  "language_info": {
   "codemirror_mode": "r",
   "file_extension": ".r",
   "mimetype": "text/x-r-source",
   "name": "R",
   "pygments_lexer": "r",
   "version": "4.0.3"
  }
 },
 "nbformat": 4,
 "nbformat_minor": 5
}
