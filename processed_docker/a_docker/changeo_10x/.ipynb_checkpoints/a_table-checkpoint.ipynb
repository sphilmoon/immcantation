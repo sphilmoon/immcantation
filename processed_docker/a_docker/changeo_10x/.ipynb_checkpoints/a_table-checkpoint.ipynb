{
 "cells": [
  {
   "cell_type": "code",
   "execution_count": 7,
   "id": "assumed-knowing",
   "metadata": {},
   "outputs": [
    {
     "data": {
      "text/plain": [
       "\n",
       "         IGHA   IGHD  IGHG1 IGHG2B IGHG2C  IGHG3   IGHM \n",
       "     1      6    426      5     19     33     11   2212 "
      ]
     },
     "metadata": {},
     "output_type": "display_data"
    }
   ],
   "source": [
    "library(dplyr)\n",
    "\n",
    "db <- read.table(\"filtered_contig_heavy_germ-pass.tsv\", header = TRUE, sep = \"\\t\", stringsAsFactors = FALSE)\n",
    "table(db['c_call'])"
   ]
  }
 ],
 "metadata": {
  "kernelspec": {
   "display_name": "R",
   "language": "R",
   "name": "ir"
  },
  "language_info": {
   "codemirror_mode": "r",
   "file_extension": ".r",
   "mimetype": "text/x-r-source",
   "name": "R",
   "pygments_lexer": "r",
   "version": "4.0.3"
  }
 },
 "nbformat": 4,
 "nbformat_minor": 5
}
