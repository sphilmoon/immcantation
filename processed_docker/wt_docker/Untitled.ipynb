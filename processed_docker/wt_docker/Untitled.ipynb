{
 "cells": [
  {
   "cell_type": "code",
   "execution_count": 8,
   "id": "brutal-finish",
   "metadata": {},
   "outputs": [
    {
     "data": {
      "text/html": [
       "<table class=\"dataframe\">\n",
       "<caption>A data.frame: 10 × 1</caption>\n",
       "<thead>\n",
       "\t<tr><th></th><th scope=col>&gt;AGTCTTTGTAGGGACT-1_contig_2|V_CALL=IGHV1-42*01</th></tr>\n",
       "\t<tr><th></th><th scope=col>&lt;chr&gt;</th></tr>\n",
       "</thead>\n",
       "<tbody>\n",
       "\t<tr><th scope=row>1</th><td>GAGGTCCAGCTGCAGCAGTCTGGACCT...GAGCTGGTGAAGCCTGGGGCTTCAGTGAAG</td></tr>\n",
       "\t<tr><th scope=row>2</th><td>ATATCCTGCAAGGCTTCTGGTTACTCATTC............ACTGGCTACTACATGAAC</td></tr>\n",
       "\t<tr><th scope=row>3</th><td>TGGGTGAAGCAAAGTCCTGAAAAGAGCCTTGAGTGGATTGGAGAGATTAATCCTAGC...</td></tr>\n",
       "\t<tr><th scope=row>4</th><td>...ACTGGTGGTACTACCTACAACCAGAAGTTCAAG...GCCAAGGCCACATTGACTGTA</td></tr>\n",
       "\t<tr><th scope=row>5</th><td>GACAAATCCTCCAGCACAGCCTACATGCAGCTCAAGAGCCTGACATCTGAGGACTCTGCA</td></tr>\n",
       "\t<tr><th scope=row>6</th><td>GTCTATTACTGTGCAGGCTTCTATGATGAGGCCTGGTTTGCTTACTGGGGCCAAGGGACT</td></tr>\n",
       "\t<tr><th scope=row>7</th><td>CTGGTCACTGTCTCTGCAG                                         </td></tr>\n",
       "\t<tr><th scope=row>8</th><td><span style=white-space:pre-wrap>&gt;ACTATCTTCTGGAGCC-1_contig_1|V_CALL=IGHV1-42*01             </span></td></tr>\n",
       "\t<tr><th scope=row>9</th><td>GAGGTCCAGCTGCAGCAGTCTGGACCT...GAGCTGGTGAAGCCTGGGGCTTCAGTGAAG</td></tr>\n",
       "\t<tr><th scope=row>10</th><td>ATATCCTGCAAGGCTTCTGGTTACTCATTC............ACTGGCTACTACATGAAC</td></tr>\n",
       "</tbody>\n",
       "</table>\n"
      ],
      "text/latex": [
       "A data.frame: 10 × 1\n",
       "\\begin{tabular}{r|l}\n",
       "  & >AGTCTTTGTAGGGACT-1\\_contig\\_2\\textbar{}V\\_CALL=IGHV1-42*01\\\\\n",
       "  & <chr>\\\\\n",
       "\\hline\n",
       "\t1 & GAGGTCCAGCTGCAGCAGTCTGGACCT...GAGCTGGTGAAGCCTGGGGCTTCAGTGAAG\\\\\n",
       "\t2 & ATATCCTGCAAGGCTTCTGGTTACTCATTC............ACTGGCTACTACATGAAC\\\\\n",
       "\t3 & TGGGTGAAGCAAAGTCCTGAAAAGAGCCTTGAGTGGATTGGAGAGATTAATCCTAGC...\\\\\n",
       "\t4 & ...ACTGGTGGTACTACCTACAACCAGAAGTTCAAG...GCCAAGGCCACATTGACTGTA\\\\\n",
       "\t5 & GACAAATCCTCCAGCACAGCCTACATGCAGCTCAAGAGCCTGACATCTGAGGACTCTGCA\\\\\n",
       "\t6 & GTCTATTACTGTGCAGGCTTCTATGATGAGGCCTGGTTTGCTTACTGGGGCCAAGGGACT\\\\\n",
       "\t7 & CTGGTCACTGTCTCTGCAG                                         \\\\\n",
       "\t8 & >ACTATCTTCTGGAGCC-1\\_contig\\_1\\textbar{}V\\_CALL=IGHV1-42*01             \\\\\n",
       "\t9 & GAGGTCCAGCTGCAGCAGTCTGGACCT...GAGCTGGTGAAGCCTGGGGCTTCAGTGAAG\\\\\n",
       "\t10 & ATATCCTGCAAGGCTTCTGGTTACTCATTC............ACTGGCTACTACATGAAC\\\\\n",
       "\\end{tabular}\n"
      ],
      "text/markdown": [
       "\n",
       "A data.frame: 10 × 1\n",
       "\n",
       "| <!--/--> | &gt;AGTCTTTGTAGGGACT-1_contig_2|V_CALL=IGHV1-42*01 &lt;chr&gt; |\n",
       "|---|---|\n",
       "| 1 | GAGGTCCAGCTGCAGCAGTCTGGACCT...GAGCTGGTGAAGCCTGGGGCTTCAGTGAAG |\n",
       "| 2 | ATATCCTGCAAGGCTTCTGGTTACTCATTC............ACTGGCTACTACATGAAC |\n",
       "| 3 | TGGGTGAAGCAAAGTCCTGAAAAGAGCCTTGAGTGGATTGGAGAGATTAATCCTAGC... |\n",
       "| 4 | ...ACTGGTGGTACTACCTACAACCAGAAGTTCAAG...GCCAAGGCCACATTGACTGTA |\n",
       "| 5 | GACAAATCCTCCAGCACAGCCTACATGCAGCTCAAGAGCCTGACATCTGAGGACTCTGCA |\n",
       "| 6 | GTCTATTACTGTGCAGGCTTCTATGATGAGGCCTGGTTTGCTTACTGGGGCCAAGGGACT |\n",
       "| 7 | CTGGTCACTGTCTCTGCAG                                          |\n",
       "| 8 | &gt;ACTATCTTCTGGAGCC-1_contig_1|V_CALL=IGHV1-42*01              |\n",
       "| 9 | GAGGTCCAGCTGCAGCAGTCTGGACCT...GAGCTGGTGAAGCCTGGGGCTTCAGTGAAG |\n",
       "| 10 | ATATCCTGCAAGGCTTCTGGTTACTCATTC............ACTGGCTACTACATGAAC |\n",
       "\n"
      ],
      "text/plain": [
       "   >AGTCTTTGTAGGGACT-1_contig_2|V_CALL=IGHV1-42*01             \n",
       "1  GAGGTCCAGCTGCAGCAGTCTGGACCT...GAGCTGGTGAAGCCTGGGGCTTCAGTGAAG\n",
       "2  ATATCCTGCAAGGCTTCTGGTTACTCATTC............ACTGGCTACTACATGAAC\n",
       "3  TGGGTGAAGCAAAGTCCTGAAAAGAGCCTTGAGTGGATTGGAGAGATTAATCCTAGC...\n",
       "4  ...ACTGGTGGTACTACCTACAACCAGAAGTTCAAG...GCCAAGGCCACATTGACTGTA\n",
       "5  GACAAATCCTCCAGCACAGCCTACATGCAGCTCAAGAGCCTGACATCTGAGGACTCTGCA\n",
       "6  GTCTATTACTGTGCAGGCTTCTATGATGAGGCCTGGTTTGCTTACTGGGGCCAAGGGACT\n",
       "7  CTGGTCACTGTCTCTGCAG                                         \n",
       "8  >ACTATCTTCTGGAGCC-1_contig_1|V_CALL=IGHV1-42*01             \n",
       "9  GAGGTCCAGCTGCAGCAGTCTGGACCT...GAGCTGGTGAAGCCTGGGGCTTCAGTGAAG\n",
       "10 ATATCCTGCAAGGCTTCTGGTTACTCATTC............ACTGGCTACTACATGAAC"
      ]
     },
     "metadata": {},
     "output_type": "display_data"
    }
   ],
   "source": [
    "# Load required packages\n",
    "library(alakazam)\n",
    "library(dplyr)\n",
    "library(scales)\n",
    "library(ggplot2)\n",
    "\n",
    "require(data.table)\n",
    "db <- as.data.frame(fread(\"filtered_contig_heavy_germ-pass_sequences.fasta\"))\n",
    "sub_db <- subset(db)\n",
    "head(sub_db, 10)"
   ]
  },
  {
   "cell_type": "code",
   "execution_count": 4,
   "id": "running-stack",
   "metadata": {},
   "outputs": [
    {
     "ename": "ERROR",
     "evalue": "Error in makeChangeoClone(sub_db, text_fields = c(\"sample_id\", \"c_call\"), : The column sequence_id was not found\n",
     "output_type": "error",
     "traceback": [
      "Error in makeChangeoClone(sub_db, text_fields = c(\"sample_id\", \"c_call\"), : The column sequence_id was not found\nTraceback:\n",
      "1. makeChangeoClone(sub_db, text_fields = c(\"sample_id\", \"c_call\"), \n .     num_fields = \"duplicate_count\")",
      "2. stop(check)"
     ]
    }
   ],
   "source": [
    "# This example data set does not have ragged ends\n",
    "# Preprocess clone without ragged end masking (default)\n",
    "clone <- makeChangeoClone(sub_db, text_fields=c(\"sample_id\", \"c_call\"), \n",
    "                          num_fields=\"duplicate_count\")\n",
    "\n",
    "# Show combined annotations\n",
    "clone@data[, c(\"sample_id\", \"c_call\", \"duplicate_count\")]"
   ]
  },
  {
   "cell_type": "code",
   "execution_count": null,
   "id": "roman-maryland",
   "metadata": {},
   "outputs": [],
   "source": []
  }
 ],
 "metadata": {
  "kernelspec": {
   "display_name": "R",
   "language": "R",
   "name": "ir"
  },
  "language_info": {
   "codemirror_mode": "r",
   "file_extension": ".r",
   "mimetype": "text/x-r-source",
   "name": "R",
   "pygments_lexer": "r",
   "version": "4.0.3"
  }
 },
 "nbformat": 4,
 "nbformat_minor": 5
}
