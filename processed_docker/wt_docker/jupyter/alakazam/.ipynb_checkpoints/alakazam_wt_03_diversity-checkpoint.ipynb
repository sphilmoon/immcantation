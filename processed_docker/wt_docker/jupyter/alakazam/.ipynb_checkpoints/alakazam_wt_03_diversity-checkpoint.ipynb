{
 "cells": [
  {
   "cell_type": "code",
   "execution_count": 1,
   "id": "planned-republican",
   "metadata": {},
   "outputs": [
    {
     "name": "stderr",
     "output_type": "stream",
     "text": [
      "Loading required package: ggplot2\n",
      "\n",
      "As of v1.0.0 the AIRR Rearrangement schema is now the default file format.\n",
      "A description of the standard is available at https://docs.airr-community.org.\n",
      "The legacy Change-O format is supported through arguments to each function\n",
      "that allow the input column names to be explicitly defined.\n",
      "\n",
      "\n",
      "Attaching package: ‘dplyr’\n",
      "\n",
      "\n",
      "The following objects are masked from ‘package:stats’:\n",
      "\n",
      "    filter, lag\n",
      "\n",
      "\n",
      "The following objects are masked from ‘package:base’:\n",
      "\n",
      "    intersect, setdiff, setequal, union\n",
      "\n",
      "\n"
     ]
    }
   ],
   "source": [
    "### Diversity analysis ###\n",
    "# wt\n",
    "\n",
    "# \"estimateAbundance\" function infers a complete clonal abundance distribution.\n",
    "# \"alphaDiversity\" function generate a smooth diversity (D) curve is generated over a range of diversity orders (q).\n",
    "# also test the diverstiy (D) at a fixed diversity order (q).\n",
    "\n",
    "# Load required packages\n",
    "library(alakazam)\n",
    "library(dplyr)\n",
    "library(scales)\n",
    "library(ggplot2)\n",
    "\n",
    "db <- readChangeoDb(\"../../changeo_10x/filtered_contig_heavy_germ-pass.tsv\", select = NULL, drop = NULL, seq_upper = TRUE)"
   ]
  },
  {
   "cell_type": "code",
   "execution_count": 2,
   "id": "reflected-discharge",
   "metadata": {},
   "outputs": [
    {
     "data": {
      "text/html": [
       "<table class=\"dataframe\">\n",
       "<caption>A grouped_df: 5 × 4</caption>\n",
       "<thead>\n",
       "\t<tr><th scope=col>c_call</th><th scope=col>clone_id</th><th scope=col>seq_count</th><th scope=col>seq_freq</th></tr>\n",
       "\t<tr><th scope=col>&lt;chr&gt;</th><th scope=col>&lt;chr&gt;</th><th scope=col>&lt;int&gt;</th><th scope=col>&lt;dbl&gt;</th></tr>\n",
       "</thead>\n",
       "<tbody>\n",
       "\t<tr><td>IGHM</td><td>186_2892 </td><td>3</td><td>0.0008733624</td></tr>\n",
       "\t<tr><td>IGHM</td><td>2847_41  </td><td>3</td><td>0.0008733624</td></tr>\n",
       "\t<tr><td>IGHA</td><td>951_448  </td><td>2</td><td>0.1538461538</td></tr>\n",
       "\t<tr><td>IGHM</td><td>1013_2199</td><td>2</td><td>0.0005822416</td></tr>\n",
       "\t<tr><td>IGHM</td><td>1413_717 </td><td>2</td><td>0.0005822416</td></tr>\n",
       "</tbody>\n",
       "</table>\n"
      ],
      "text/latex": [
       "A grouped\\_df: 5 × 4\n",
       "\\begin{tabular}{llll}\n",
       " c\\_call & clone\\_id & seq\\_count & seq\\_freq\\\\\n",
       " <chr> & <chr> & <int> & <dbl>\\\\\n",
       "\\hline\n",
       "\t IGHM & 186\\_2892  & 3 & 0.0008733624\\\\\n",
       "\t IGHM & 2847\\_41   & 3 & 0.0008733624\\\\\n",
       "\t IGHA & 951\\_448   & 2 & 0.1538461538\\\\\n",
       "\t IGHM & 1013\\_2199 & 2 & 0.0005822416\\\\\n",
       "\t IGHM & 1413\\_717  & 2 & 0.0005822416\\\\\n",
       "\\end{tabular}\n"
      ],
      "text/markdown": [
       "\n",
       "A grouped_df: 5 × 4\n",
       "\n",
       "| c_call &lt;chr&gt; | clone_id &lt;chr&gt; | seq_count &lt;int&gt; | seq_freq &lt;dbl&gt; |\n",
       "|---|---|---|---|\n",
       "| IGHM | 186_2892  | 3 | 0.0008733624 |\n",
       "| IGHM | 2847_41   | 3 | 0.0008733624 |\n",
       "| IGHA | 951_448   | 2 | 0.1538461538 |\n",
       "| IGHM | 1013_2199 | 2 | 0.0005822416 |\n",
       "| IGHM | 1413_717  | 2 | 0.0005822416 |\n",
       "\n"
      ],
      "text/plain": [
       "  c_call clone_id  seq_count seq_freq    \n",
       "1 IGHM   186_2892  3         0.0008733624\n",
       "2 IGHM   2847_41   3         0.0008733624\n",
       "3 IGHA   951_448   2         0.1538461538\n",
       "4 IGHM   1013_2199 2         0.0005822416\n",
       "5 IGHM   1413_717  2         0.0005822416"
      ]
     },
     "metadata": {},
     "output_type": "display_data"
    }
   ],
   "source": [
    "# Partitions the data based on the sample column\n",
    "clones <- countClones(db, group= \"c_call\", clone=\"clone_id\")\n",
    "head(clones, 5)"
   ]
  },
  {
   "cell_type": "code",
   "execution_count": 5,
   "id": "awful-fancy",
   "metadata": {},
   "outputs": [
    {
     "data": {
      "image/png": "[encoded data removed]",
      "text/plain": [
       "plot without title"
      ]
     },
     "metadata": {
      "image/png": {
       "height": 420,
       "width": 420
      }
     },
     "output_type": "display_data"
    }
   ],
   "source": [
    "# Partitions the data on the sample column\n",
    "# Calculates a 95% confidence interval via 200 bootstrap realizations\n",
    "curve <- estimateAbundance(clones, ci=0.95, nboot=200, clone=\"clone_id\")\n",
    "\n",
    "# Plots a rank abundance curve of the relative clonal abundances\n",
    "plot(curve, legend_title=\"Sample\")"
   ]
  },
  {
   "cell_type": "code",
   "execution_count": 6,
   "id": "general-lightweight",
   "metadata": {},
   "outputs": [
    {
     "data": {
      "image/png": "[encoded data removed]",
      "text/plain": [
       "plot without title"
      ]
     },
     "metadata": {
      "image/png": {
       "height": 420,
       "width": 420
      }
     },
     "output_type": "display_data"
    }
   ],
   "source": [
    "### Generating a diversity curve based on either samples or isotypes.\n",
    "\n",
    "# 1. Using samples.\n",
    "# Compare diversity curve across values in the \"sample\" column\n",
    "# q ranges from 0 (min_q=0) to 4 (max_q=4) in 0.05 increments (step_q=0.05)\n",
    "# A 95% confidence interval will be calculated (ci=0.95)\n",
    "# 200 resampling realizations are performed (nboot=200)\n",
    "sample_curve <- alphaDiversity(clones, clone=\"clone_id\",\n",
    "                               min_q=0, max_q=40, step_q=0.1,\n",
    "                               ci=0.95, nboot=200)\n",
    "\n",
    "# Plot a log-log (log_q=TRUE, log_d=TRUE) plot of sample diversity\n",
    "# Indicate number of sequences resampled from each group in the title\n",
    "sample_main <- paste0(\"Sample diversity\")\n",
    "sample_colors <- c(\"r\"=\"deeppink1\", \"wt\"=\"black\")\n",
    "plot(sample_curve, colors=sample_colors, main_title=sample_main, \n",
    "     legend_title=\"Sample\")"
   ]
  },
  {
   "cell_type": "code",
   "execution_count": 8,
   "id": "fancy-distinction",
   "metadata": {},
   "outputs": [
    {
     "name": "stderr",
     "output_type": "stream",
     "text": [
      "Warning message in estimateAbundance(data, ci = 0.95, ...):\n",
      "“Not all groups passed threshold min_n=30. Excluded: IGHA, IGHG1, IGHG2B, IGHG2C, IGHG3, NA”\n"
     ]
    },
    {
     "ename": "ERROR",
     "evalue": "Error in if (f2 > 0) {: missing value where TRUE/FALSE needed\n",
     "output_type": "error",
     "traceback": [
      "Error in if (f2 > 0) {: missing value where TRUE/FALSE needed\nTraceback:\n",
      "1. alphaDiversity(clones, group = (\"c_call\"), min_q = 0, max_q = 4, \n .     step_q = 1, nboot = 200, clone = \"clone_id\")",
      "2. estimateAbundance(data, ci = 0.95, ...)",
      "3. bootstrapAbundance(abund_obs, n, nboot = nboot, method = \"before\")",
      "4. inferCompleteAbundance(x)",
      "5. adjustObservedAbundance(x)",
      "6. calcCoverage(x, r = 1)",
      "7. calcChao1Coverage(x)"
     ]
    }
   ],
   "source": [
    "# Test diversity at q=0, q=1 and q=2 (equivalent to species richness, Shannon entropy, \n",
    "# Simpson's index) across values in the sample_id column\n",
    "# 200 bootstrap realizations are performed (nboot=200)\n",
    "isotype_test <- alphaDiversity(clones, group=(\"c_call\"), min_q=0, max_q=4, step_q=1, nboot=200, clone=\"clone_id\")\n",
    "\n",
    "# Print P-value table\n",
    "print(isotype_test@tests)"
   ]
  },
  {
   "cell_type": "code",
   "execution_count": 8,
   "id": "ancient-gates",
   "metadata": {},
   "outputs": [
    {
     "name": "stderr",
     "output_type": "stream",
     "text": [
      "Warning message in estimateAbundance(data, ci = 0.95, ...):\n",
      "“Not all groups passed threshold min_n=30. Excluded: IGHA, IGHG1, IGHG2B, IGHG2C, IGHG3, NA”\n"
     ]
    },
    {
     "ename": "ERROR",
     "evalue": "Error in if (f2 > 0) {: missing value where TRUE/FALSE needed\n",
     "output_type": "error",
     "traceback": [
      "Error in if (f2 > 0) {: missing value where TRUE/FALSE needed\nTraceback:\n",
      "1. alphaDiversity(db, group = \"c_call\", clone = \"clone_id\", min_q = 0, \n .     max_q = 4, step_q = 0.1, ci = 0.95, nboot = 200)",
      "2. estimateAbundance(data, ci = 0.95, ...)",
      "3. bootstrapAbundance(abund_obs, n, nboot = nboot, method = \"before\")",
      "4. inferCompleteAbundance(x)",
      "5. adjustObservedAbundance(x)",
      "6. calcCoverage(x, r = 1)",
      "7. calcChao1Coverage(x)"
     ]
    }
   ],
   "source": []
  },
  {
   "cell_type": "code",
   "execution_count": null,
   "id": "meaning-madison",
   "metadata": {},
   "outputs": [],
   "source": []
  },
  {
   "cell_type": "code",
   "execution_count": null,
   "id": "rolled-garlic",
   "metadata": {},
   "outputs": [],
   "source": []
  },
  {
   "cell_type": "code",
   "execution_count": null,
   "id": "alternate-bobby",
   "metadata": {},
   "outputs": [],
   "source": []
  }
 ],
 "metadata": {
  "kernelspec": {
   "display_name": "R",
   "language": "R",
   "name": "ir"
  },
  "language_info": {
   "codemirror_mode": "r",
   "file_extension": ".r",
   "mimetype": "text/x-r-source",
   "name": "R",
   "pygments_lexer": "r",
   "version": "4.0.3"
  }
 },
 "nbformat": 4,
 "nbformat_minor": 5
}
