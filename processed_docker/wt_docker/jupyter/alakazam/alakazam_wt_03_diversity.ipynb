{
 "cells": [
  {
   "cell_type": "code",
   "execution_count": 10,
   "id": "planned-republican",
   "metadata": {},
   "outputs": [],
   "source": [
    "### Diversity analysis ###\n",
    "# wt\n",
    "\n",
    "# \"estimateAbundance\" function infers a complete clonal abundance distribution.\n",
    "# \"alphaDiversity\" function generate a smooth diversity (D) curve is generated over a range of diversity orders (q).\n",
    "# also test the diverstiy (D) at a fixed diversity order (q).\n",
    "\n",
    "# Load required packages\n",
    "library(alakazam)\n",
    "library(dplyr)\n",
    "library(scales)\n",
    "library(ggplot2)\n",
    "\n",
    "db <- readChangeoDb(\"../../changeo_10x/filtered_contig_heavy_germ-pass.tsv\", select = NULL, drop = NULL, seq_upper = TRUE)"
   ]
  },
  {
   "cell_type": "code",
   "execution_count": 2,
   "id": "reflected-discharge",
   "metadata": {},
   "outputs": [
    {
     "data": {
      "text/html": [
       "<table class=\"dataframe\">\n",
       "<caption>A tibble: 5 × 3</caption>\n",
       "<thead>\n",
       "\t<tr><th scope=col>clone_id</th><th scope=col>seq_count</th><th scope=col>seq_freq</th></tr>\n",
       "\t<tr><th scope=col>&lt;chr&gt;</th><th scope=col>&lt;int&gt;</th><th scope=col>&lt;dbl&gt;</th></tr>\n",
       "</thead>\n",
       "<tbody>\n",
       "\t<tr><td>186_2892 </td><td>3</td><td>0.0006705409</td></tr>\n",
       "\t<tr><td>2847_41  </td><td>3</td><td>0.0006705409</td></tr>\n",
       "\t<tr><td>1013_2199</td><td>2</td><td>0.0004470273</td></tr>\n",
       "\t<tr><td>1413_717 </td><td>2</td><td>0.0004470273</td></tr>\n",
       "\t<tr><td>1474_294 </td><td>2</td><td>0.0004470273</td></tr>\n",
       "</tbody>\n",
       "</table>\n"
      ],
      "text/latex": [
       "A tibble: 5 × 3\n",
       "\\begin{tabular}{lll}\n",
       " clone\\_id & seq\\_count & seq\\_freq\\\\\n",
       " <chr> & <int> & <dbl>\\\\\n",
       "\\hline\n",
       "\t 186\\_2892  & 3 & 0.0006705409\\\\\n",
       "\t 2847\\_41   & 3 & 0.0006705409\\\\\n",
       "\t 1013\\_2199 & 2 & 0.0004470273\\\\\n",
       "\t 1413\\_717  & 2 & 0.0004470273\\\\\n",
       "\t 1474\\_294  & 2 & 0.0004470273\\\\\n",
       "\\end{tabular}\n"
      ],
      "text/markdown": [
       "\n",
       "A tibble: 5 × 3\n",
       "\n",
       "| clone_id &lt;chr&gt; | seq_count &lt;int&gt; | seq_freq &lt;dbl&gt; |\n",
       "|---|---|---|\n",
       "| 186_2892  | 3 | 0.0006705409 |\n",
       "| 2847_41   | 3 | 0.0006705409 |\n",
       "| 1013_2199 | 2 | 0.0004470273 |\n",
       "| 1413_717  | 2 | 0.0004470273 |\n",
       "| 1474_294  | 2 | 0.0004470273 |\n",
       "\n"
      ],
      "text/plain": [
       "  clone_id  seq_count seq_freq    \n",
       "1 186_2892  3         0.0006705409\n",
       "2 2847_41   3         0.0006705409\n",
       "3 1013_2199 2         0.0004470273\n",
       "4 1413_717  2         0.0004470273\n",
       "5 1474_294  2         0.0004470273"
      ]
     },
     "metadata": {},
     "output_type": "display_data"
    }
   ],
   "source": [
    "# Partitions the data based on the sample column\n",
    "clones <- countClones(db)\n",
    "head(clones, 5)"
   ]
  },
  {
   "cell_type": "code",
   "execution_count": 4,
   "id": "awful-fancy",
   "metadata": {},
   "outputs": [],
   "source": [
    "# Partitions the data on the sample column\n",
    "# Calculates a 95% confidence interval via 200 bootstrap realizations\n",
    "curve <- estimateAbundance(db, ci=0.95, nboot=200, clone=\"clone_id\")"
   ]
  },
  {
   "cell_type": "code",
   "execution_count": 6,
   "id": "general-lightweight",
   "metadata": {},
   "outputs": [
    {
     "data": {
      "image/png": "[encoded data removed]",
      "text/plain": [
       "plot without title"
      ]
     },
     "metadata": {
      "image/png": {
       "height": 420,
       "width": 420
      }
     },
     "output_type": "display_data"
    }
   ],
   "source": [
    "# Plots a rank abundance curve of the relative clonal abundances\n",
    "plot(curve)"
   ]
  },
  {
   "cell_type": "code",
   "execution_count": 7,
   "id": "fancy-distinction",
   "metadata": {},
   "outputs": [
    {
     "data": {
      "image/png": "[encoded data removed]",
      "text/plain": [
       "plot without title"
      ]
     },
     "metadata": {
      "image/png": {
       "height": 420,
       "width": 420
      }
     },
     "output_type": "display_data"
    }
   ],
   "source": [
    "# \"alphaDiversity\" function re-calculates the clone size distribution and diversity based on the\n",
    "# each resampling realization. \n",
    "# smooth diversity (D) curve is generated over a range of diversity orders (q).\n",
    "\n",
    "# Compare diversity curve across values in the \"sample\" column\n",
    "# q ranges from 0 (min_q=0) to 4 (max_q=4) in 0.05 increments (step_q=0.05)\n",
    "# A 95% confidence interval will be calculated (ci=0.95)\n",
    "# 200 resampling realizations are performed (nboot=200)\n",
    "sample_curve <- alphaDiversity(db, clone=\"clone_id\",\n",
    "                               min_q=0, max_q=4, step_q=0.1,\n",
    "                               ci=0.95, nboot=200)\n",
    "\n",
    "# Plot a log-log (log_q=TRUE, log_d=TRUE) plot of sample diversity\n",
    "# Indicate number of sequences resampled from each group in the title\n",
    "sample_main <- paste0(\"Sample diversity\")\n",
    "plot(sample_curve, main_title=sample_main, \n",
    "     legend_title=\"Sample\")"
   ]
  },
  {
   "cell_type": "code",
   "execution_count": 8,
   "id": "ancient-gates",
   "metadata": {},
   "outputs": [
    {
     "name": "stderr",
     "output_type": "stream",
     "text": [
      "Warning message in estimateAbundance(data, ci = 0.95, ...):\n",
      "“Not all groups passed threshold min_n=30. Excluded: IGHA, IGHG1, IGHG2B, IGHG2C, IGHG3, NA”\n"
     ]
    },
    {
     "ename": "ERROR",
     "evalue": "Error in if (f2 > 0) {: missing value where TRUE/FALSE needed\n",
     "output_type": "error",
     "traceback": [
      "Error in if (f2 > 0) {: missing value where TRUE/FALSE needed\nTraceback:\n",
      "1. alphaDiversity(db, group = \"c_call\", clone = \"clone_id\", min_q = 0, \n .     max_q = 4, step_q = 0.1, ci = 0.95, nboot = 200)",
      "2. estimateAbundance(data, ci = 0.95, ...)",
      "3. bootstrapAbundance(abund_obs, n, nboot = nboot, method = \"before\")",
      "4. inferCompleteAbundance(x)",
      "5. adjustObservedAbundance(x)",
      "6. calcCoverage(x, r = 1)",
      "7. calcChao1Coverage(x)"
     ]
    }
   ],
   "source": [
    "# Compare diversity curve across values in the c_call column\n",
    "# Analyse is restricted to c_call values with at least 30 sequences by min_n=30\n",
    "# Excluded groups are indicated by a warning message\n",
    "isotype_curve <- alphaDiversity(db, group=\"c_call\", clone=\"clone_id\",\n",
    "                                min_q=0, max_q=4, step_q=0.1,\n",
    "                                ci=0.95, nboot=200)\n",
    "\n",
    "# Plot isotype diversity using default set of Ig isotype colors\n",
    "isotype_main <- paste0(\"Isotype diversity\")\n",
    "plot(isotype_curve, main_title=isotype_main, \n",
    "     legend_title=\"Isotype\")"
   ]
  },
  {
   "cell_type": "code",
   "execution_count": null,
   "id": "meaning-madison",
   "metadata": {},
   "outputs": [],
   "source": []
  },
  {
   "cell_type": "code",
   "execution_count": null,
   "id": "rolled-garlic",
   "metadata": {},
   "outputs": [],
   "source": []
  },
  {
   "cell_type": "code",
   "execution_count": null,
   "id": "alternate-bobby",
   "metadata": {},
   "outputs": [],
   "source": []
  }
 ],
 "metadata": {
  "kernelspec": {
   "display_name": "R",
   "language": "R",
   "name": "ir"
  },
  "language_info": {
   "codemirror_mode": "r",
   "file_extension": ".r",
   "mimetype": "text/x-r-source",
   "name": "R",
   "pygments_lexer": "r",
   "version": "4.0.3"
  }
 },
 "nbformat": 4,
 "nbformat_minor": 5
}
