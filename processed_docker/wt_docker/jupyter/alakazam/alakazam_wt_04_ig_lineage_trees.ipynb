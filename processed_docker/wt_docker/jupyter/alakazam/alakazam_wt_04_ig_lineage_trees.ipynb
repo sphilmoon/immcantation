{
 "cells": [
  {
   "cell_type": "code",
   "execution_count": 4,
   "id": "heavy-comparative",
   "metadata": {},
   "outputs": [],
   "source": [
    "# Load required packages\n",
    "library(alakazam)\n",
    "library(igraph)\n",
    "library(dplyr)\n",
    "library(ggplot2)\n",
    "\n",
    "# using an airr format data.\n",
    "# loading my data\n",
    "db <- readChangeoDb(\"all_contig_heavy_germ-pass.tsv\", select = NULL, drop = NULL, seq_upper = TRUE)\n",
    "sub_db <- subset(db, clone_id == 3417)"
   ]
  },
  {
   "cell_type": "code",
   "execution_count": 2,
   "id": "dried-profit",
   "metadata": {},
   "outputs": [
    {
     "ename": "ERROR",
     "evalue": "Error in checkColumns(data, c(id, seq, germ, v_call, j_call, junc_len, : object 'sub_db' not found\n",
     "output_type": "error",
     "traceback": [
      "Error in checkColumns(data, c(id, seq, germ, v_call, j_call, junc_len, : object 'sub_db' not found\nTraceback:\n",
      "1. makeChangeoClone(sub_db, text_fields = c(\"sample_id\", \"c_call\"), \n .     num_fields = \"duplicate_count\")",
      "2. checkColumns(data, c(id, seq, germ, v_call, j_call, junc_len, \n .     clone, text_fields, num_fields, seq_fields))"
     ]
    }
   ],
   "source": [
    "# My airr .tsv do not have duplicate counts column. So skipped this section.\n",
    "# This example data set does not have ragged ends\n",
    "# Preprocess clone without ragged end masking (default)\n",
    "clone <- makeChangeoClone(sub_db, text_fields=c(\"sample_id\", \"c_call\"), num_fields=\"duplicate_count\")\n",
    "\n",
    "# Show combined annotations\n",
    "clone@data[, c(\"sample_id\", \"c_call\", \"duplicate_count\")]"
   ]
  },
  {
   "cell_type": "code",
   "execution_count": 12,
   "id": "sorted-cookbook",
   "metadata": {},
   "outputs": [
    {
     "ename": "ERROR",
     "evalue": "Error in nrow(clone@data): trying to get slot \"data\" from an object (class \"tbl_df\") that is not an S4 object \n",
     "output_type": "error",
     "traceback": [
      "Error in nrow(clone@data): trying to get slot \"data\" from an object (class \"tbl_df\") that is not an S4 object \nTraceback:\n",
      "1. buildPhylipLineage(sub_db, phylip_exec, rm_temp = TRUE)",
      "2. nrow(clone@data)"
     ]
    }
   ],
   "source": [
    "# Run PHYLIP and parse output\n",
    "phylip_exec <- \"~/apps/phylip-3.69/dnapars\"\n",
    "graph <- buildPhylipLineage(sub_db, phylip_exec, rm_temp=TRUE)"
   ]
  }
 ],
 "metadata": {
  "kernelspec": {
   "display_name": "R",
   "language": "R",
   "name": "ir"
  },
  "language_info": {
   "codemirror_mode": "r",
   "file_extension": ".r",
   "mimetype": "text/x-r-source",
   "name": "R",
   "pygments_lexer": "r",
   "version": "4.0.3"
  }
 },
 "nbformat": 4,
 "nbformat_minor": 5
}
