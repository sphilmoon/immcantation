{
 "cells": [
  {
   "cell_type": "code",
   "execution_count": 10,
   "id": "external-membership",
   "metadata": {},
   "outputs": [
    {
     "name": "stderr",
     "output_type": "stream",
     "text": [
      "Loading required package: data.table\n",
      "\n",
      "\n",
      "Attaching package: ‘data.table’\n",
      "\n",
      "\n",
      "The following objects are masked from ‘package:dplyr’:\n",
      "\n",
      "    between, first, last\n",
      "\n",
      "\n"
     ]
    }
   ],
   "source": [
    "### Quantification frequency analysis ###\n",
    "# wt\n",
    "\n",
    "# Import required packages\n",
    "library(alakazam)\n",
    "library(shazam)\n",
    "library(dplyr)\n",
    "library(ggplot2)\n",
    "\n",
    "require(data.table)\n",
    "my_data <- as.data.frame(fread(\"../../changeo_10x/filtered_contig_heavy_germ-pass.tsv\"))"
   ]
  },
  {
   "cell_type": "code",
   "execution_count": 11,
   "id": "psychological-pleasure",
   "metadata": {},
   "outputs": [],
   "source": [
    "# Collapse clonal groups into single sequences\n",
    "clones <- collapseClones(my_data, cloneColumn=\"clone_id\", \n",
    "                         sequenceColumn=\"sequence_alignment\", \n",
    "                         germlineColumn=\"germline_alignment_d_mask\", \n",
    "                         regionDefinition=IMGT_V, \n",
    "                         method=\"thresholdedFreq\", minimumFrequency=0.6,\n",
    "                         includeAmbiguous=FALSE, breakTiesStochastic=FALSE, \n",
    "                         nproc=1)"
   ]
  },
  {
   "cell_type": "code",
   "execution_count": 12,
   "id": "polish-mississippi",
   "metadata": {},
   "outputs": [],
   "source": [
    "# Count observed mutations and append mu_count columns to the output\n",
    "observed <- observedMutations(clones, \n",
    "                              sequenceColumn=\"clonal_sequence\",\n",
    "                              germlineColumn=\"clonal_germline\",\n",
    "                              regionDefinition=IMGT_V, nproc=1)\n",
    "# Count expected mutations and append mu_exptected columns to the output\n",
    "expected <- expectedMutations(observed, \n",
    "                              sequenceColumn=\"clonal_sequence\",\n",
    "                              germlineColumn=\"clonal_germline\",\n",
    "                              targetingModel=HH_S5F,\n",
    "                              regionDefinition=IMGT_V, nproc=1)"
   ]
  },
  {
   "cell_type": "code",
   "execution_count": 13,
   "id": "paperback-point",
   "metadata": {},
   "outputs": [
    {
     "name": "stderr",
     "output_type": "stream",
     "text": [
      "calcBaseline will use existing observed and expected mutations, in the fields: mu_count_cdr_r, mu_count_cdr_s, mu_count_fwr_r, mu_count_fwr_s and mu_expected_cdr_r, mu_expected_cdr_s, mu_expected_fwr_r, mu_expected_fwr_s\n",
      "\n"
     ]
    },
    {
     "name": "stdout",
     "output_type": "stream",
     "text": [
      "Calculating BASELINe probability density functions...\n"
     ]
    }
   ],
   "source": [
    "# Calculate selection scores using the output from expectedMutations\n",
    "baseline_focused <- calcBaseline(expected, testStatistic=\"focused\", \n",
    "                         regionDefinition=IMGT_V, nproc=1)"
   ]
  },
  {
   "cell_type": "code",
   "execution_count": 14,
   "id": "accompanied-harvey",
   "metadata": {},
   "outputs": [
    {
     "name": "stderr",
     "output_type": "stream",
     "text": [
      "calcBaseline will calculate observed and expected mutations for clonal_sequence using clonal_germline as a reference.\n",
      "\n"
     ]
    },
    {
     "name": "stdout",
     "output_type": "stream",
     "text": [
      "Calculating BASELINe probability density functions...\n"
     ]
    }
   ],
   "source": [
    "# Calculate selection scores from scratch\n",
    "baseline <- calcBaseline(clones, testStatistic=\"focused\", \n",
    "                         regionDefinition=IMGT_V, nproc=1)"
   ]
  },
  {
   "cell_type": "code",
   "execution_count": 15,
   "id": "usual-story",
   "metadata": {},
   "outputs": [
    {
     "name": "stdout",
     "output_type": "stream",
     "text": [
      "Grouping BASELINe probability density functions...\n",
      "Calculating BASELINe statistics...\n"
     ]
    }
   ],
   "source": [
    "grouped_1 <- groupBaseline(baseline, groupBy=\"c_call\")"
   ]
  },
  {
   "cell_type": "code",
   "execution_count": 16,
   "id": "developmental-pride",
   "metadata": {},
   "outputs": [
    {
     "name": "stderr",
     "output_type": "stream",
     "text": [
      "calcBaseline will calculate observed and expected mutations for clonal_sequence using clonal_germline as a reference.\n",
      "\n"
     ]
    },
    {
     "name": "stdout",
     "output_type": "stream",
     "text": [
      "Calculating BASELINe probability density functions...\n",
      "Grouping BASELINe probability density functions...\n",
      "Calculating BASELINe statistics...\n"
     ]
    }
   ],
   "source": [
    "# Subset the original data to switched isotypes\n",
    "db_sub <- subset(my_data, c_call %in% c(\"IGHM\", \"IGHG\"))\n",
    "\n",
    "# Collapse clonal groups into single sequence\n",
    "clones_sub <- collapseClones(db_sub, cloneColumn=\"clone_id\",\n",
    "                             sequenceColumn=\"sequence_alignment\",\n",
    "                             germlineColumn=\"germline_alignment_d_mask\",\n",
    "                             regionDefinition=IMGT_V, \n",
    "                             method=\"thresholdedFreq\", minimumFrequency=0.6,\n",
    "                             includeAmbiguous=FALSE, breakTiesStochastic=FALSE, \n",
    "                             nproc=1)\n",
    "\n",
    "# Calculate selection scores from scratch\n",
    "baseline_sub <- calcBaseline(clones_sub, testStatistic=\"focused\", \n",
    "                             regionDefinition=IMGT_V, nproc=1)\n",
    "\n",
    "# Combine selection scores by time-point and isotype\n",
    "grouped_2 <- groupBaseline(baseline_sub, groupBy=\"c_call\")"
   ]
  },
  {
   "cell_type": "code",
   "execution_count": 17,
   "id": "saved-absolute",
   "metadata": {},
   "outputs": [
    {
     "ename": "ERROR",
     "evalue": "Error in `[.data.frame`(baseline@db, , groupBy): undefined columns selected\n",
     "output_type": "error",
     "traceback": [
      "Error in `[.data.frame`(baseline@db, , groupBy): undefined columns selected\nTraceback:\n",
      "1. groupBaseline(baseline, groupBy = c(\"status\", \"subject\"))",
      "2. data.frame(unique(baseline@db[, groupBy]))",
      "3. unique(baseline@db[, groupBy])",
      "4. baseline@db[, groupBy]",
      "5. `[.data.frame`(baseline@db, , groupBy)",
      "6. stop(\"undefined columns selected\")"
     ]
    }
   ],
   "source": [
    "# First group by subject and status\n",
    "subject_grouped <- groupBaseline(baseline, groupBy=c(\"status\", \"subject\"))\n",
    "\n",
    "# Then group the output by status\n",
    "status_grouped <- groupBaseline(subject_grouped, groupBy=\"status\")"
   ]
  },
  {
   "cell_type": "code",
   "execution_count": 18,
   "id": "juvenile-renewal",
   "metadata": {},
   "outputs": [
    {
     "data": {
      "text/html": [
       "<table class=\"dataframe\">\n",
       "<caption>A data.frame: 56 × 4</caption>\n",
       "<thead>\n",
       "\t<tr><th scope=col>region</th><th scope=col>test</th><th scope=col>pvalue</th><th scope=col>fdr</th></tr>\n",
       "\t<tr><th scope=col>&lt;chr&gt;</th><th scope=col>&lt;chr&gt;</th><th scope=col>&lt;dbl&gt;</th><th scope=col>&lt;dbl&gt;</th></tr>\n",
       "</thead>\n",
       "<tbody>\n",
       "\t<tr><td>cdr</td><td>IGHM != IGHD    </td><td>0.0067723840</td><td>0.066369363</td></tr>\n",
       "\t<tr><td>cdr</td><td>IGHM !=         </td><td>          NA</td><td>         NA</td></tr>\n",
       "\t<tr><td>cdr</td><td>IGHM != IGHG2C  </td><td>0.2790419269</td><td>0.441066271</td></tr>\n",
       "\t<tr><td>cdr</td><td>IGHM != IGHG2B  </td><td>0.1006035298</td><td>0.259451208</td></tr>\n",
       "\t<tr><td>cdr</td><td>IGHM != IGHA    </td><td>0.2607772219</td><td>0.441066271</td></tr>\n",
       "\t<tr><td>cdr</td><td>IGHM != IGHG1   </td><td>0.3686714520</td><td>0.480362249</td></tr>\n",
       "\t<tr><td>cdr</td><td>IGHM != IGHG3   </td><td>0.2746523492</td><td>0.441066271</td></tr>\n",
       "\t<tr><td>cdr</td><td>IGHD !=         </td><td>          NA</td><td>         NA</td></tr>\n",
       "\t<tr><td>cdr</td><td>IGHD != IGHG2C  </td><td>0.0793410174</td><td>0.226822021</td></tr>\n",
       "\t<tr><td>cdr</td><td>IGHD != IGHG2B  </td><td>0.0833223749</td><td>0.226822021</td></tr>\n",
       "\t<tr><td>cdr</td><td>IGHD != IGHA    </td><td>0.0448084257</td><td>0.226822021</td></tr>\n",
       "\t<tr><td>cdr</td><td>IGHD != IGHG1   </td><td>0.1706489355</td><td>0.363556428</td></tr>\n",
       "\t<tr><td>cdr</td><td>IGHD != IGHG3   </td><td>0.2190403949</td><td>0.429319174</td></tr>\n",
       "\t<tr><td>cdr</td><td> != IGHG2C      </td><td>          NA</td><td>         NA</td></tr>\n",
       "\t<tr><td>cdr</td><td> != IGHG2B      </td><td>          NA</td><td>         NA</td></tr>\n",
       "\t<tr><td>cdr</td><td> != IGHA        </td><td>          NA</td><td>         NA</td></tr>\n",
       "\t<tr><td>cdr</td><td> != IGHG1       </td><td>          NA</td><td>         NA</td></tr>\n",
       "\t<tr><td>cdr</td><td> != IGHG3       </td><td>          NA</td><td>         NA</td></tr>\n",
       "\t<tr><td>cdr</td><td>IGHG2C != IGHG2B</td><td>0.3831743659</td><td>0.480362249</td></tr>\n",
       "\t<tr><td>cdr</td><td>IGHG2C != IGHA  </td><td>0.4689567387</td><td>0.495643963</td></tr>\n",
       "\t<tr><td>cdr</td><td>IGHG2C != IGHG1 </td><td>0.4956439632</td><td>0.495643963</td></tr>\n",
       "\t<tr><td>cdr</td><td>IGHG2C != IGHG3 </td><td>0.4188490750</td><td>0.480362249</td></tr>\n",
       "\t<tr><td>cdr</td><td>IGHG2B != IGHA  </td><td>0.3217461021</td><td>0.463692912</td></tr>\n",
       "\t<tr><td>cdr</td><td>IGHG2B != IGHG1 </td><td>0.4142603417</td><td>0.480362249</td></tr>\n",
       "\t<tr><td>cdr</td><td>IGHG2B != IGHG3 </td><td>0.4941930512</td><td>0.495643963</td></tr>\n",
       "\t<tr><td>cdr</td><td>IGHA != IGHG1   </td><td>0.4890781359</td><td>0.495643963</td></tr>\n",
       "\t<tr><td>cdr</td><td>IGHA != IGHG3   </td><td>0.3960318550</td><td>0.480362249</td></tr>\n",
       "\t<tr><td>cdr</td><td>IGHG1 != IGHG3  </td><td>0.4316830310</td><td>0.480362249</td></tr>\n",
       "\t<tr><td>fwr</td><td>IGHM != IGHD    </td><td>0.3491259434</td><td>0.475199201</td></tr>\n",
       "\t<tr><td>fwr</td><td>IGHM !=         </td><td>0.3995930498</td><td>0.480362249</td></tr>\n",
       "\t<tr><td>fwr</td><td>IGHM != IGHG2C  </td><td>0.0001619554</td><td>0.007054609</td></tr>\n",
       "\t<tr><td>fwr</td><td>IGHM != IGHG2B  </td><td>0.0007420569</td><td>0.010881232</td></tr>\n",
       "\t<tr><td>fwr</td><td>IGHM != IGHA    </td><td>0.0727162049</td><td>0.226822021</td></tr>\n",
       "\t<tr><td>fwr</td><td>IGHM != IGHG1   </td><td>0.1554315884</td><td>0.346188538</td></tr>\n",
       "\t<tr><td>fwr</td><td>IGHM != IGHG3   </td><td>0.0523601577</td><td>0.226822021</td></tr>\n",
       "\t<tr><td>fwr</td><td>IGHD !=         </td><td>0.4411490046</td><td>0.480362249</td></tr>\n",
       "\t<tr><td>fwr</td><td>IGHD != IGHG2C  </td><td>0.0002879432</td><td>0.007054609</td></tr>\n",
       "\t<tr><td>fwr</td><td>IGHD != IGHG2B  </td><td>0.0008882638</td><td>0.010881232</td></tr>\n",
       "\t<tr><td>fwr</td><td>IGHD != IGHA    </td><td>0.0619800243</td><td>0.226822021</td></tr>\n",
       "\t<tr><td>fwr</td><td>IGHD != IGHG1   </td><td>0.1272974458</td><td>0.311878742</td></tr>\n",
       "\t<tr><td>fwr</td><td>IGHD != IGHG3   </td><td>0.0438134027</td><td>0.226822021</td></tr>\n",
       "\t<tr><td>fwr</td><td> != IGHG2C      </td><td>0.0549783899</td><td>0.226822021</td></tr>\n",
       "\t<tr><td>fwr</td><td> != IGHG2B      </td><td>0.0756109086</td><td>0.226822021</td></tr>\n",
       "\t<tr><td>fwr</td><td> != IGHA        </td><td>0.2153062157</td><td>0.429319174</td></tr>\n",
       "\t<tr><td>fwr</td><td> != IGHG1       </td><td>0.2510552325</td><td>0.441066271</td></tr>\n",
       "\t<tr><td>fwr</td><td> != IGHG3       </td><td>0.1496183167</td><td>0.346188538</td></tr>\n",
       "\t<tr><td>fwr</td><td>IGHG2C != IGHG2B</td><td>0.3442971505</td><td>0.475199201</td></tr>\n",
       "\t<tr><td>fwr</td><td>IGHG2C != IGHA  </td><td>0.0509920740</td><td>0.226822021</td></tr>\n",
       "\t<tr><td>fwr</td><td>IGHG2C != IGHG1 </td><td>0.0543146662</td><td>0.226822021</td></tr>\n",
       "\t<tr><td>fwr</td><td>IGHG2C != IGHG3 </td><td>0.2289541662</td><td>0.431490544</td></tr>\n",
       "\t<tr><td>fwr</td><td>IGHG2B != IGHA  </td><td>0.0786422093</td><td>0.226822021</td></tr>\n",
       "\t<tr><td>fwr</td><td>IGHG2B != IGHG1 </td><td>0.0823953243</td><td>0.226822021</td></tr>\n",
       "\t<tr><td>fwr</td><td>IGHG2B != IGHG3 </td><td>0.3155772685</td><td>0.463692912</td></tr>\n",
       "\t<tr><td>fwr</td><td>IGHA != IGHG1   </td><td>0.4274839532</td><td>0.480362249</td></tr>\n",
       "\t<tr><td>fwr</td><td>IGHA != IGHG3   </td><td>0.3041398925</td><td>0.463692912</td></tr>\n",
       "\t<tr><td>fwr</td><td>IGHG1 != IGHG3  </td><td>0.2678889743</td><td>0.441066271</td></tr>\n",
       "</tbody>\n",
       "</table>\n"
      ],
      "text/latex": [
       "A data.frame: 56 × 4\n",
       "\\begin{tabular}{llll}\n",
       " region & test & pvalue & fdr\\\\\n",
       " <chr> & <chr> & <dbl> & <dbl>\\\\\n",
       "\\hline\n",
       "\t cdr & IGHM != IGHD     & 0.0067723840 & 0.066369363\\\\\n",
       "\t cdr & IGHM !=          &           NA &          NA\\\\\n",
       "\t cdr & IGHM != IGHG2C   & 0.2790419269 & 0.441066271\\\\\n",
       "\t cdr & IGHM != IGHG2B   & 0.1006035298 & 0.259451208\\\\\n",
       "\t cdr & IGHM != IGHA     & 0.2607772219 & 0.441066271\\\\\n",
       "\t cdr & IGHM != IGHG1    & 0.3686714520 & 0.480362249\\\\\n",
       "\t cdr & IGHM != IGHG3    & 0.2746523492 & 0.441066271\\\\\n",
       "\t cdr & IGHD !=          &           NA &          NA\\\\\n",
       "\t cdr & IGHD != IGHG2C   & 0.0793410174 & 0.226822021\\\\\n",
       "\t cdr & IGHD != IGHG2B   & 0.0833223749 & 0.226822021\\\\\n",
       "\t cdr & IGHD != IGHA     & 0.0448084257 & 0.226822021\\\\\n",
       "\t cdr & IGHD != IGHG1    & 0.1706489355 & 0.363556428\\\\\n",
       "\t cdr & IGHD != IGHG3    & 0.2190403949 & 0.429319174\\\\\n",
       "\t cdr &  != IGHG2C       &           NA &          NA\\\\\n",
       "\t cdr &  != IGHG2B       &           NA &          NA\\\\\n",
       "\t cdr &  != IGHA         &           NA &          NA\\\\\n",
       "\t cdr &  != IGHG1        &           NA &          NA\\\\\n",
       "\t cdr &  != IGHG3        &           NA &          NA\\\\\n",
       "\t cdr & IGHG2C != IGHG2B & 0.3831743659 & 0.480362249\\\\\n",
       "\t cdr & IGHG2C != IGHA   & 0.4689567387 & 0.495643963\\\\\n",
       "\t cdr & IGHG2C != IGHG1  & 0.4956439632 & 0.495643963\\\\\n",
       "\t cdr & IGHG2C != IGHG3  & 0.4188490750 & 0.480362249\\\\\n",
       "\t cdr & IGHG2B != IGHA   & 0.3217461021 & 0.463692912\\\\\n",
       "\t cdr & IGHG2B != IGHG1  & 0.4142603417 & 0.480362249\\\\\n",
       "\t cdr & IGHG2B != IGHG3  & 0.4941930512 & 0.495643963\\\\\n",
       "\t cdr & IGHA != IGHG1    & 0.4890781359 & 0.495643963\\\\\n",
       "\t cdr & IGHA != IGHG3    & 0.3960318550 & 0.480362249\\\\\n",
       "\t cdr & IGHG1 != IGHG3   & 0.4316830310 & 0.480362249\\\\\n",
       "\t fwr & IGHM != IGHD     & 0.3491259434 & 0.475199201\\\\\n",
       "\t fwr & IGHM !=          & 0.3995930498 & 0.480362249\\\\\n",
       "\t fwr & IGHM != IGHG2C   & 0.0001619554 & 0.007054609\\\\\n",
       "\t fwr & IGHM != IGHG2B   & 0.0007420569 & 0.010881232\\\\\n",
       "\t fwr & IGHM != IGHA     & 0.0727162049 & 0.226822021\\\\\n",
       "\t fwr & IGHM != IGHG1    & 0.1554315884 & 0.346188538\\\\\n",
       "\t fwr & IGHM != IGHG3    & 0.0523601577 & 0.226822021\\\\\n",
       "\t fwr & IGHD !=          & 0.4411490046 & 0.480362249\\\\\n",
       "\t fwr & IGHD != IGHG2C   & 0.0002879432 & 0.007054609\\\\\n",
       "\t fwr & IGHD != IGHG2B   & 0.0008882638 & 0.010881232\\\\\n",
       "\t fwr & IGHD != IGHA     & 0.0619800243 & 0.226822021\\\\\n",
       "\t fwr & IGHD != IGHG1    & 0.1272974458 & 0.311878742\\\\\n",
       "\t fwr & IGHD != IGHG3    & 0.0438134027 & 0.226822021\\\\\n",
       "\t fwr &  != IGHG2C       & 0.0549783899 & 0.226822021\\\\\n",
       "\t fwr &  != IGHG2B       & 0.0756109086 & 0.226822021\\\\\n",
       "\t fwr &  != IGHA         & 0.2153062157 & 0.429319174\\\\\n",
       "\t fwr &  != IGHG1        & 0.2510552325 & 0.441066271\\\\\n",
       "\t fwr &  != IGHG3        & 0.1496183167 & 0.346188538\\\\\n",
       "\t fwr & IGHG2C != IGHG2B & 0.3442971505 & 0.475199201\\\\\n",
       "\t fwr & IGHG2C != IGHA   & 0.0509920740 & 0.226822021\\\\\n",
       "\t fwr & IGHG2C != IGHG1  & 0.0543146662 & 0.226822021\\\\\n",
       "\t fwr & IGHG2C != IGHG3  & 0.2289541662 & 0.431490544\\\\\n",
       "\t fwr & IGHG2B != IGHA   & 0.0786422093 & 0.226822021\\\\\n",
       "\t fwr & IGHG2B != IGHG1  & 0.0823953243 & 0.226822021\\\\\n",
       "\t fwr & IGHG2B != IGHG3  & 0.3155772685 & 0.463692912\\\\\n",
       "\t fwr & IGHA != IGHG1    & 0.4274839532 & 0.480362249\\\\\n",
       "\t fwr & IGHA != IGHG3    & 0.3041398925 & 0.463692912\\\\\n",
       "\t fwr & IGHG1 != IGHG3   & 0.2678889743 & 0.441066271\\\\\n",
       "\\end{tabular}\n"
      ],
      "text/markdown": [
       "\n",
       "A data.frame: 56 × 4\n",
       "\n",
       "| region &lt;chr&gt; | test &lt;chr&gt; | pvalue &lt;dbl&gt; | fdr &lt;dbl&gt; |\n",
       "|---|---|---|---|\n",
       "| cdr | IGHM != IGHD     | 0.0067723840 | 0.066369363 |\n",
       "| cdr | IGHM !=          |           NA |          NA |\n",
       "| cdr | IGHM != IGHG2C   | 0.2790419269 | 0.441066271 |\n",
       "| cdr | IGHM != IGHG2B   | 0.1006035298 | 0.259451208 |\n",
       "| cdr | IGHM != IGHA     | 0.2607772219 | 0.441066271 |\n",
       "| cdr | IGHM != IGHG1    | 0.3686714520 | 0.480362249 |\n",
       "| cdr | IGHM != IGHG3    | 0.2746523492 | 0.441066271 |\n",
       "| cdr | IGHD !=          |           NA |          NA |\n",
       "| cdr | IGHD != IGHG2C   | 0.0793410174 | 0.226822021 |\n",
       "| cdr | IGHD != IGHG2B   | 0.0833223749 | 0.226822021 |\n",
       "| cdr | IGHD != IGHA     | 0.0448084257 | 0.226822021 |\n",
       "| cdr | IGHD != IGHG1    | 0.1706489355 | 0.363556428 |\n",
       "| cdr | IGHD != IGHG3    | 0.2190403949 | 0.429319174 |\n",
       "| cdr |  != IGHG2C       |           NA |          NA |\n",
       "| cdr |  != IGHG2B       |           NA |          NA |\n",
       "| cdr |  != IGHA         |           NA |          NA |\n",
       "| cdr |  != IGHG1        |           NA |          NA |\n",
       "| cdr |  != IGHG3        |           NA |          NA |\n",
       "| cdr | IGHG2C != IGHG2B | 0.3831743659 | 0.480362249 |\n",
       "| cdr | IGHG2C != IGHA   | 0.4689567387 | 0.495643963 |\n",
       "| cdr | IGHG2C != IGHG1  | 0.4956439632 | 0.495643963 |\n",
       "| cdr | IGHG2C != IGHG3  | 0.4188490750 | 0.480362249 |\n",
       "| cdr | IGHG2B != IGHA   | 0.3217461021 | 0.463692912 |\n",
       "| cdr | IGHG2B != IGHG1  | 0.4142603417 | 0.480362249 |\n",
       "| cdr | IGHG2B != IGHG3  | 0.4941930512 | 0.495643963 |\n",
       "| cdr | IGHA != IGHG1    | 0.4890781359 | 0.495643963 |\n",
       "| cdr | IGHA != IGHG3    | 0.3960318550 | 0.480362249 |\n",
       "| cdr | IGHG1 != IGHG3   | 0.4316830310 | 0.480362249 |\n",
       "| fwr | IGHM != IGHD     | 0.3491259434 | 0.475199201 |\n",
       "| fwr | IGHM !=          | 0.3995930498 | 0.480362249 |\n",
       "| fwr | IGHM != IGHG2C   | 0.0001619554 | 0.007054609 |\n",
       "| fwr | IGHM != IGHG2B   | 0.0007420569 | 0.010881232 |\n",
       "| fwr | IGHM != IGHA     | 0.0727162049 | 0.226822021 |\n",
       "| fwr | IGHM != IGHG1    | 0.1554315884 | 0.346188538 |\n",
       "| fwr | IGHM != IGHG3    | 0.0523601577 | 0.226822021 |\n",
       "| fwr | IGHD !=          | 0.4411490046 | 0.480362249 |\n",
       "| fwr | IGHD != IGHG2C   | 0.0002879432 | 0.007054609 |\n",
       "| fwr | IGHD != IGHG2B   | 0.0008882638 | 0.010881232 |\n",
       "| fwr | IGHD != IGHA     | 0.0619800243 | 0.226822021 |\n",
       "| fwr | IGHD != IGHG1    | 0.1272974458 | 0.311878742 |\n",
       "| fwr | IGHD != IGHG3    | 0.0438134027 | 0.226822021 |\n",
       "| fwr |  != IGHG2C       | 0.0549783899 | 0.226822021 |\n",
       "| fwr |  != IGHG2B       | 0.0756109086 | 0.226822021 |\n",
       "| fwr |  != IGHA         | 0.2153062157 | 0.429319174 |\n",
       "| fwr |  != IGHG1        | 0.2510552325 | 0.441066271 |\n",
       "| fwr |  != IGHG3        | 0.1496183167 | 0.346188538 |\n",
       "| fwr | IGHG2C != IGHG2B | 0.3442971505 | 0.475199201 |\n",
       "| fwr | IGHG2C != IGHA   | 0.0509920740 | 0.226822021 |\n",
       "| fwr | IGHG2C != IGHG1  | 0.0543146662 | 0.226822021 |\n",
       "| fwr | IGHG2C != IGHG3  | 0.2289541662 | 0.431490544 |\n",
       "| fwr | IGHG2B != IGHA   | 0.0786422093 | 0.226822021 |\n",
       "| fwr | IGHG2B != IGHG1  | 0.0823953243 | 0.226822021 |\n",
       "| fwr | IGHG2B != IGHG3  | 0.3155772685 | 0.463692912 |\n",
       "| fwr | IGHA != IGHG1    | 0.4274839532 | 0.480362249 |\n",
       "| fwr | IGHA != IGHG3    | 0.3041398925 | 0.463692912 |\n",
       "| fwr | IGHG1 != IGHG3   | 0.2678889743 | 0.441066271 |\n",
       "\n"
      ],
      "text/plain": [
       "   region test             pvalue       fdr        \n",
       "1  cdr    IGHM != IGHD     0.0067723840 0.066369363\n",
       "2  cdr    IGHM !=                    NA          NA\n",
       "3  cdr    IGHM != IGHG2C   0.2790419269 0.441066271\n",
       "4  cdr    IGHM != IGHG2B   0.1006035298 0.259451208\n",
       "5  cdr    IGHM != IGHA     0.2607772219 0.441066271\n",
       "6  cdr    IGHM != IGHG1    0.3686714520 0.480362249\n",
       "7  cdr    IGHM != IGHG3    0.2746523492 0.441066271\n",
       "8  cdr    IGHD !=                    NA          NA\n",
       "9  cdr    IGHD != IGHG2C   0.0793410174 0.226822021\n",
       "10 cdr    IGHD != IGHG2B   0.0833223749 0.226822021\n",
       "11 cdr    IGHD != IGHA     0.0448084257 0.226822021\n",
       "12 cdr    IGHD != IGHG1    0.1706489355 0.363556428\n",
       "13 cdr    IGHD != IGHG3    0.2190403949 0.429319174\n",
       "14 cdr     != IGHG2C                 NA          NA\n",
       "15 cdr     != IGHG2B                 NA          NA\n",
       "16 cdr     != IGHA                   NA          NA\n",
       "17 cdr     != IGHG1                  NA          NA\n",
       "18 cdr     != IGHG3                  NA          NA\n",
       "19 cdr    IGHG2C != IGHG2B 0.3831743659 0.480362249\n",
       "20 cdr    IGHG2C != IGHA   0.4689567387 0.495643963\n",
       "21 cdr    IGHG2C != IGHG1  0.4956439632 0.495643963\n",
       "22 cdr    IGHG2C != IGHG3  0.4188490750 0.480362249\n",
       "23 cdr    IGHG2B != IGHA   0.3217461021 0.463692912\n",
       "24 cdr    IGHG2B != IGHG1  0.4142603417 0.480362249\n",
       "25 cdr    IGHG2B != IGHG3  0.4941930512 0.495643963\n",
       "26 cdr    IGHA != IGHG1    0.4890781359 0.495643963\n",
       "27 cdr    IGHA != IGHG3    0.3960318550 0.480362249\n",
       "28 cdr    IGHG1 != IGHG3   0.4316830310 0.480362249\n",
       "29 fwr    IGHM != IGHD     0.3491259434 0.475199201\n",
       "30 fwr    IGHM !=          0.3995930498 0.480362249\n",
       "31 fwr    IGHM != IGHG2C   0.0001619554 0.007054609\n",
       "32 fwr    IGHM != IGHG2B   0.0007420569 0.010881232\n",
       "33 fwr    IGHM != IGHA     0.0727162049 0.226822021\n",
       "34 fwr    IGHM != IGHG1    0.1554315884 0.346188538\n",
       "35 fwr    IGHM != IGHG3    0.0523601577 0.226822021\n",
       "36 fwr    IGHD !=          0.4411490046 0.480362249\n",
       "37 fwr    IGHD != IGHG2C   0.0002879432 0.007054609\n",
       "38 fwr    IGHD != IGHG2B   0.0008882638 0.010881232\n",
       "39 fwr    IGHD != IGHA     0.0619800243 0.226822021\n",
       "40 fwr    IGHD != IGHG1    0.1272974458 0.311878742\n",
       "41 fwr    IGHD != IGHG3    0.0438134027 0.226822021\n",
       "42 fwr     != IGHG2C       0.0549783899 0.226822021\n",
       "43 fwr     != IGHG2B       0.0756109086 0.226822021\n",
       "44 fwr     != IGHA         0.2153062157 0.429319174\n",
       "45 fwr     != IGHG1        0.2510552325 0.441066271\n",
       "46 fwr     != IGHG3        0.1496183167 0.346188538\n",
       "47 fwr    IGHG2C != IGHG2B 0.3442971505 0.475199201\n",
       "48 fwr    IGHG2C != IGHA   0.0509920740 0.226822021\n",
       "49 fwr    IGHG2C != IGHG1  0.0543146662 0.226822021\n",
       "50 fwr    IGHG2C != IGHG3  0.2289541662 0.431490544\n",
       "51 fwr    IGHG2B != IGHA   0.0786422093 0.226822021\n",
       "52 fwr    IGHG2B != IGHG1  0.0823953243 0.226822021\n",
       "53 fwr    IGHG2B != IGHG3  0.3155772685 0.463692912\n",
       "54 fwr    IGHA != IGHG1    0.4274839532 0.480362249\n",
       "55 fwr    IGHA != IGHG3    0.3041398925 0.463692912\n",
       "56 fwr    IGHG1 != IGHG3   0.2678889743 0.441066271"
      ]
     },
     "metadata": {},
     "output_type": "display_data"
    }
   ],
   "source": [
    "testBaseline(grouped_1, groupBy=\"c_call\")"
   ]
  },
  {
   "cell_type": "code",
   "execution_count": 19,
   "id": "other-combining",
   "metadata": {},
   "outputs": [
    {
     "data": {
      "image/png": "[encoded data removed]",
      "text/plain": [
       "plot without title"
      ]
     },
     "metadata": {
      "image/png": {
       "height": 420,
       "width": 420
      }
     },
     "output_type": "display_data"
    }
   ],
   "source": [
    "isotype_colors <- c(\"IGHM\"=\"darkorchid\", \"IGHD\"=\"firebrick\", \n",
    "                    \"IGHG\"=\"seagreen\", \"IGHA\"=\"steelblue\")\n",
    "\n",
    "# Plot mean and confidence interval by time-point\n",
    "plotBaselineSummary(grouped_1, \"c_call\")"
   ]
  },
  {
   "cell_type": "code",
   "execution_count": 20,
   "id": "sharing-amplifier",
   "metadata": {},
   "outputs": [
    {
     "data": {
      "image/png": "[encoded data removed]",
      "text/plain": [
       "plot without title"
      ]
     },
     "metadata": {
      "image/png": {
       "height": 420,
       "width": 420
      }
     },
     "output_type": "display_data"
    }
   ],
   "source": [
    "# Group by CDR/FWR and facet by isotype\n",
    "plotBaselineSummary(grouped_2, \"c_call\")"
   ]
  },
  {
   "cell_type": "code",
   "execution_count": 21,
   "id": "brief-omaha",
   "metadata": {},
   "outputs": [
    {
     "data": {
      "image/png": "[encoded data removed]",
      "text/plain": [
       "plot without title"
      ]
     },
     "metadata": {
      "image/png": {
       "height": 420,
       "width": 420
      }
     },
     "output_type": "display_data"
    }
   ],
   "source": [
    "# Plot selection PDFs for a subset of the data\n",
    "plotBaselineDensity(grouped_2, \"c_call\", groupColumn=\"c_call\", colorElement=\"group\", \n",
    "                    sigmaLimits=c(-2, 2))"
   ]
  }
 ],
 "metadata": {
  "kernelspec": {
   "display_name": "R",
   "language": "R",
   "name": "ir"
  },
  "language_info": {
   "codemirror_mode": "r",
   "file_extension": ".r",
   "mimetype": "text/x-r-source",
   "name": "R",
   "pygments_lexer": "r",
   "version": "4.0.3"
  }
 },
 "nbformat": 4,
 "nbformat_minor": 5
}
