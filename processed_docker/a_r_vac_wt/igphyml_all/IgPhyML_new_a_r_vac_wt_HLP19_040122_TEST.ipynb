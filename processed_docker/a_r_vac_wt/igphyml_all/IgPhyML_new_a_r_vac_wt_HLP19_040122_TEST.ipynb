{
 "cells": [
  {
   "cell_type": "code",
   "execution_count": 1,
   "id": "meaningful-arlington",
   "metadata": {},
   "outputs": [
    {
     "name": "stderr",
     "output_type": "stream",
     "text": [
      "Loading required package: ggplot2\n",
      "\n",
      "As of v1.0.0 the AIRR Rearrangement schema is now the default file format.\n",
      "A description of the standard is available at https://docs.airr-community.org.\n",
      "The legacy Change-O format is supported through arguments to each function\n",
      "that allow the input column names to be explicitly defined.\n",
      "\n",
      "\n",
      "Attaching package: ‘ape’\n",
      "\n",
      "\n",
      "The following object is masked from ‘package:alakazam’:\n",
      "\n",
      "    getMRCA\n",
      "\n",
      "\n",
      "\n",
      "Attaching package: ‘dplyr’\n",
      "\n",
      "\n",
      "The following objects are masked from ‘package:stats’:\n",
      "\n",
      "    filter, lag\n",
      "\n",
      "\n",
      "The following objects are masked from ‘package:base’:\n",
      "\n",
      "    intersect, setdiff, setequal, union\n",
      "\n",
      "\n",
      "\n",
      "Attaching package: ‘igraph’\n",
      "\n",
      "\n",
      "The following objects are masked from ‘package:dplyr’:\n",
      "\n",
      "    as_data_frame, groups, union\n",
      "\n",
      "\n",
      "The following objects are masked from ‘package:ape’:\n",
      "\n",
      "    edges, mst, ring\n",
      "\n",
      "\n",
      "The following objects are masked from ‘package:stats’:\n",
      "\n",
      "    decompose, spectrum\n",
      "\n",
      "\n",
      "The following object is masked from ‘package:base’:\n",
      "\n",
      "    union\n",
      "\n",
      "\n"
     ]
    },
    {
     "data": {
      "text/html": [
       "<table class=\"dataframe\">\n",
       "<caption>A data.frame: 1 × 15</caption>\n",
       "<thead>\n",
       "\t<tr><th></th><th scope=col>clone</th><th scope=col>nseq</th><th scope=col>nsite</th><th scope=col>tree_length</th><th scope=col>lhood</th><th scope=col>kappa_mle</th><th scope=col>omega_fwr_mle</th><th scope=col>omega_cdr_mle</th><th scope=col>wrc_2_mle</th><th scope=col>gyw_0_mle</th><th scope=col>wa_1_mle</th><th scope=col>tw_0_mle</th><th scope=col>syc_2_mle</th><th scope=col>grs_0_mle</th><th scope=col>id</th></tr>\n",
       "\t<tr><th></th><th scope=col>&lt;chr&gt;</th><th scope=col>&lt;int&gt;</th><th scope=col>&lt;dbl&gt;</th><th scope=col>&lt;dbl&gt;</th><th scope=col>&lt;dbl&gt;</th><th scope=col>&lt;dbl&gt;</th><th scope=col>&lt;dbl&gt;</th><th scope=col>&lt;dbl&gt;</th><th scope=col>&lt;dbl&gt;</th><th scope=col>&lt;dbl&gt;</th><th scope=col>&lt;dbl&gt;</th><th scope=col>&lt;dbl&gt;</th><th scope=col>&lt;dbl&gt;</th><th scope=col>&lt;dbl&gt;</th><th scope=col>&lt;chr&gt;</th></tr>\n",
       "</thead>\n",
       "<tbody>\n",
       "\t<tr><th scope=row>1</th><td>REPERTOIRE</td><td>5988</td><td>120.0544</td><td>0.0023</td><td>-91732.82</td><td>1.6258</td><td>0.94</td><td>0.9225</td><td>0.2819</td><td>0.4636</td><td>0.0858</td><td>-0.1115</td><td>-0.99</td><td>-0.8896</td><td>WT</td></tr>\n",
       "</tbody>\n",
       "</table>\n"
      ],
      "text/latex": [
       "A data.frame: 1 × 15\n",
       "\\begin{tabular}{r|lllllllllllllll}\n",
       "  & clone & nseq & nsite & tree\\_length & lhood & kappa\\_mle & omega\\_fwr\\_mle & omega\\_cdr\\_mle & wrc\\_2\\_mle & gyw\\_0\\_mle & wa\\_1\\_mle & tw\\_0\\_mle & syc\\_2\\_mle & grs\\_0\\_mle & id\\\\\n",
       "  & <chr> & <int> & <dbl> & <dbl> & <dbl> & <dbl> & <dbl> & <dbl> & <dbl> & <dbl> & <dbl> & <dbl> & <dbl> & <dbl> & <chr>\\\\\n",
       "\\hline\n",
       "\t1 & REPERTOIRE & 5988 & 120.0544 & 0.0023 & -91732.82 & 1.6258 & 0.94 & 0.9225 & 0.2819 & 0.4636 & 0.0858 & -0.1115 & -0.99 & -0.8896 & WT\\\\\n",
       "\\end{tabular}\n"
      ],
      "text/markdown": [
       "\n",
       "A data.frame: 1 × 15\n",
       "\n",
       "| <!--/--> | clone &lt;chr&gt; | nseq &lt;int&gt; | nsite &lt;dbl&gt; | tree_length &lt;dbl&gt; | lhood &lt;dbl&gt; | kappa_mle &lt;dbl&gt; | omega_fwr_mle &lt;dbl&gt; | omega_cdr_mle &lt;dbl&gt; | wrc_2_mle &lt;dbl&gt; | gyw_0_mle &lt;dbl&gt; | wa_1_mle &lt;dbl&gt; | tw_0_mle &lt;dbl&gt; | syc_2_mle &lt;dbl&gt; | grs_0_mle &lt;dbl&gt; | id &lt;chr&gt; |\n",
       "|---|---|---|---|---|---|---|---|---|---|---|---|---|---|---|---|\n",
       "| 1 | REPERTOIRE | 5988 | 120.0544 | 0.0023 | -91732.82 | 1.6258 | 0.94 | 0.9225 | 0.2819 | 0.4636 | 0.0858 | -0.1115 | -0.99 | -0.8896 | WT |\n",
       "\n"
      ],
      "text/plain": [
       "  clone      nseq nsite    tree_length lhood     kappa_mle omega_fwr_mle\n",
       "1 REPERTOIRE 5988 120.0544 0.0023      -91732.82 1.6258    0.94         \n",
       "  omega_cdr_mle wrc_2_mle gyw_0_mle wa_1_mle tw_0_mle syc_2_mle grs_0_mle id\n",
       "1 0.9225        0.2819    0.4636    0.0858   -0.1115  -0.99     -0.8896   WT"
      ]
     },
     "metadata": {},
     "output_type": "display_data"
    }
   ],
   "source": [
    "# IgPhyML visualization in R\n",
    "# graphing individual data\n",
    "# displaying the maximum likelihood of HLP19 parameters\n",
    "\n",
    "#!/usr/bin/R\n",
    "library(alakazam)\n",
    "library(ggplot2)\n",
    "library(ape)\n",
    "library(dplyr)\n",
    "library(igraph)\n",
    "\n",
    "#read in three different samples\n",
    "db_a = readIgphyml(\"a_heavy_germ-pass_igphyml-pass.tab\",id=\"A\")\n",
    "db_r = readIgphyml(\"r_heavy_germ-pass_igphyml-pass.tab\",id=\"R\")\n",
    "db_vac = readIgphyml(\"vac_heavy_germ-pass_igphyml-pass.tab\",id=\"VAC\")\n",
    "db_wt = readIgphyml(\"wt_heavy_germ-pass_igphyml-pass.tab\",id=\"WT\") \n",
    "\n",
    "#print out parameter values for the naive sample\n",
    "head(db_wt$param[1,])\n",
    "\n",
    "#****************************************\n",
    "##### there is no upper or lower ci #####\n",
    "#****************************************"
   ]
  },
  {
   "cell_type": "code",
   "execution_count": 2,
   "id": "departmental-billy",
   "metadata": {},
   "outputs": [],
   "source": [
    "# combine objects into a dataframe to display HLP19 parameter\n",
    "comb_hlp19 = combineIgphyml(list(db_a, db_r, db_vac, db_wt),format=\"long\")"
   ]
  },
  {
   "cell_type": "code",
   "execution_count": 3,
   "id": "successful-comedy",
   "metadata": {},
   "outputs": [
    {
     "data": {
      "image/png": "[encoded data removed]",
      "text/plain": [
       "plot without title"
      ]
     },
     "metadata": {
      "image/png": {
       "height": 420,
       "width": 420
      }
     },
     "output_type": "display_data"
    }
   ],
   "source": [
    "# display MLE parameter\n",
    "ggplot(comb_hlp19[grepl(\"_mle\",comb_hlp19$variable),],\n",
    "   aes(x=id,y=variable,fill=value)) + geom_tile() +\n",
    "   theme_bw() + scale_fill_distiller(palette=\"RdYlBu\")"
   ]
  },
  {
   "cell_type": "code",
   "execution_count": 4,
   "id": "respiratory-cradle",
   "metadata": {},
   "outputs": [],
   "source": [
    "# combine objects into a dataframe to display CDR mutation rate\n",
    "comb_cdr = combineIgphyml(list(db_a, db_r, db_vac, db_wt),format=\"wide\")"
   ]
  },
  {
   "cell_type": "code",
   "execution_count": 5,
   "id": "global-tiffany",
   "metadata": {},
   "outputs": [
    {
     "name": "stderr",
     "output_type": "stream",
     "text": [
      "ERROR while rich displaying an object: Error in FUN(X[[i]], ...): object 'omega_cdr_lci' not found\n",
      "\n",
      "Traceback:\n",
      "1. FUN(X[[i]], ...)\n",
      "2. tryCatch(withCallingHandlers({\n",
      " .     if (!mime %in% names(repr::mime2repr)) \n",
      " .         stop(\"No repr_* for mimetype \", mime, \" in repr::mime2repr\")\n",
      " .     rpr <- repr::mime2repr[[mime]](obj)\n",
      " .     if (is.null(rpr)) \n",
      " .         return(NULL)\n",
      " .     prepare_content(is.raw(rpr), rpr)\n",
      " . }, error = error_handler), error = outer_handler)\n",
      "3. tryCatchList(expr, classes, parentenv, handlers)\n",
      "4. tryCatchOne(expr, names, parentenv, handlers[[1L]])\n",
      "5. doTryCatch(return(expr), name, parentenv, handler)\n",
      "6. withCallingHandlers({\n",
      " .     if (!mime %in% names(repr::mime2repr)) \n",
      " .         stop(\"No repr_* for mimetype \", mime, \" in repr::mime2repr\")\n",
      " .     rpr <- repr::mime2repr[[mime]](obj)\n",
      " .     if (is.null(rpr)) \n",
      " .         return(NULL)\n",
      " .     prepare_content(is.raw(rpr), rpr)\n",
      " . }, error = error_handler)\n",
      "7. repr::mime2repr[[mime]](obj)\n",
      "8. repr_text.default(obj)\n",
      "9. paste(capture.output(print(obj)), collapse = \"\\n\")\n",
      "10. capture.output(print(obj))\n",
      "11. evalVis(expr)\n",
      "12. withVisible(eval(expr, pf))\n",
      "13. eval(expr, pf)\n",
      "14. eval(expr, pf)\n",
      "15. print(obj)\n",
      "16. print.ggplot(obj)\n",
      "17. ggplot_build(x)\n",
      "18. ggplot_build.ggplot(x)\n",
      "19. by_layer(function(l, d) l$compute_aesthetics(d, plot))\n",
      "20. f(l = layers[[i]], d = data[[i]])\n",
      "21. l$compute_aesthetics(d, plot)\n",
      "22. f(..., self = self)\n",
      "23. lapply(aesthetics, eval_tidy, data = data, env = env)\n",
      "24. FUN(X[[i]], ...)\n"
     ]
    },
    {
     "data": {
      "image/png": "[encoded data removed]",
      "text/plain": [
       "plot without title"
      ]
     },
     "metadata": {
      "image/png": {
       "height": 420,
       "width": 420
      }
     },
     "output_type": "display_data"
    }
   ],
   "source": [
    "#compare CDR dN/dS for all samples\n",
    "ggplot(comb_cdr,aes(x=id,y=omega_cdr_mle, ymin=omega_cdr_lci,\n",
    "  ymax=omega_cdr_uci)) + geom_point() +\n",
    "  geom_errorbar(width=0.1) + theme_bw()\n",
    "\n",
    "#****************************************\n",
    "##### there is no upper or lower ci #####\n",
    "#****************************************"
   ]
  }
 ],
 "metadata": {
  "kernelspec": {
   "display_name": "R",
   "language": "R",
   "name": "ir"
  },
  "language_info": {
   "codemirror_mode": "r",
   "file_extension": ".r",
   "mimetype": "text/x-r-source",
   "name": "R",
   "pygments_lexer": "r",
   "version": "4.0.3"
  }
 },
 "nbformat": 4,
 "nbformat_minor": 5
}
