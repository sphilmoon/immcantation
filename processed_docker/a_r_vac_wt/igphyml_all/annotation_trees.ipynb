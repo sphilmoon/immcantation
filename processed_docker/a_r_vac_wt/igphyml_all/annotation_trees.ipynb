{
 "cells": [
  {
   "cell_type": "code",
   "execution_count": 27,
   "id": "acceptable-tattoo",
   "metadata": {},
   "outputs": [
    {
     "name": "stderr",
     "output_type": "stream",
     "text": [
      "Loading required package: data.table\n",
      "\n",
      "\n",
      "Attaching package: ‘data.table’\n",
      "\n",
      "\n",
      "The following objects are masked from ‘package:dplyr’:\n",
      "\n",
      "    between, first, last\n",
      "\n",
      "\n"
     ]
    }
   ],
   "source": [
    "# IgPhyML visualization in R\n",
    "# graphing individual data\n",
    "\n",
    "#!/usr/bin/R\n",
    "library(alakazam)\n",
    "library(ggplot2)\n",
    "library(ape)\n",
    "library(dplyr)\n",
    "library(igraph)\n",
    "\n",
    "#read in three different samples\n",
    "require(data.table)\n",
    "db <- as.data.frame(fread(\"../changeo_10x/a_r_vac_wt.tsv\"))"
   ]
  },
  {
   "cell_type": "code",
   "execution_count": 34,
   "id": "million-bradley",
   "metadata": {},
   "outputs": [],
   "source": [
    "sub_db <-subset(db, clone_id == 9)"
   ]
  },
  {
   "cell_type": "code",
   "execution_count": 37,
   "id": "twenty-commander",
   "metadata": {},
   "outputs": [
    {
     "ename": "ERROR",
     "evalue": "Error in makeChangeoClone(sub_db, text_fields = c(\"sample_id\", \"c_call\")): The column sequence_id contains no data\n",
     "output_type": "error",
     "traceback": [
      "Error in makeChangeoClone(sub_db, text_fields = c(\"sample_id\", \"c_call\")): The column sequence_id contains no data\nTraceback:\n",
      "1. makeChangeoClone(sub_db, text_fields = c(\"sample_id\", \"c_call\"))",
      "2. stop(check)"
     ]
    }
   ],
   "source": [
    "clone <- makeChangeoClone(sub_db, text_fields=c(\"sample_id\", \"c_call\"))"
   ]
  },
  {
   "cell_type": "code",
   "execution_count": null,
   "id": "improving-immune",
   "metadata": {},
   "outputs": [],
   "source": []
  }
 ],
 "metadata": {
  "kernelspec": {
   "display_name": "R",
   "language": "R",
   "name": "ir"
  },
  "language_info": {
   "codemirror_mode": "r",
   "file_extension": ".r",
   "mimetype": "text/x-r-source",
   "name": "R",
   "pygments_lexer": "r",
   "version": "4.0.3"
  }
 },
 "nbformat": 4,
 "nbformat_minor": 5
}
