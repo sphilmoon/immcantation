{
 "cells": [
  {
   "cell_type": "code",
   "execution_count": 1,
   "id": "random-image",
   "metadata": {},
   "outputs": [
    {
     "name": "stderr",
     "output_type": "stream",
     "text": [
      "Loading required package: ggplot2\n",
      "\n",
      "As of v1.0.0 the AIRR Rearrangement schema is now the default file format.\n",
      "A description of the standard is available at https://docs.airr-community.org.\n",
      "The legacy Change-O format is supported through arguments to each function\n",
      "that allow the input column names to be explicitly defined.\n",
      "\n",
      "As of v1.0.0 the AIRR Rearrangement schema is now the default file format.\n",
      "A description of the standard is available at https://docs.airr-community.org.\n",
      "The legacy Change-O format is supported through arguments to each function\n",
      "that allow the input column names to be explicitly defined.\n",
      "\n",
      "\n",
      "Attaching package: ‘dplyr’\n",
      "\n",
      "\n",
      "The following objects are masked from ‘package:stats’:\n",
      "\n",
      "    filter, lag\n",
      "\n",
      "\n",
      "The following objects are masked from ‘package:base’:\n",
      "\n",
      "    intersect, setdiff, setequal, union\n",
      "\n",
      "\n",
      "Loading required package: data.table\n",
      "\n",
      "\n",
      "Attaching package: ‘data.table’\n",
      "\n",
      "\n",
      "The following objects are masked from ‘package:dplyr’:\n",
      "\n",
      "    between, first, last\n",
      "\n",
      "\n"
     ]
    }
   ],
   "source": [
    "### Mutation analysis ###\n",
    "# all combined data sets\n",
    "\n",
    "# observedMutations function calualte the basic mutational load. \n",
    "# Mutations can be calculated as counts or frequencies and divided into replacement (R) or \n",
    "# silent (S) mutations, and subset into FWR and CDR specific mutations.\n",
    "\n",
    "# Import required packages\n",
    "library(alakazam)\n",
    "library(shazam)\n",
    "library(dplyr)\n",
    "library(ggplot2)\n",
    "\n",
    "require(data.table)\n",
    "db <- as.data.frame(fread(\"../../changeo_10x/new_a_r_vac_wt.tsv\"))\n",
    "subset_db <- subset(db, c_call %in% c(\"IGHA\", \"IGHG1\", \"IGHG2B\", \"IGHG2C\", \"IGHG3\", \"IGHM\", \"IGHD\") & sample_id %in% \"Unprotected\")"
   ]
  },
  {
   "cell_type": "code",
   "execution_count": 2,
   "id": "vital-fishing",
   "metadata": {},
   "outputs": [
    {
     "data": {
      "text/html": [
       "<table class=\"dataframe\">\n",
       "<caption>A data.frame: 10 × 3</caption>\n",
       "<thead>\n",
       "\t<tr><th></th><th scope=col>sequence_id</th><th scope=col>mu_count_seq_r</th><th scope=col>mu_count_seq_s</th></tr>\n",
       "\t<tr><th></th><th scope=col>&lt;chr&gt;</th><th scope=col>&lt;dbl&gt;</th><th scope=col>&lt;dbl&gt;</th></tr>\n",
       "</thead>\n",
       "<tbody>\n",
       "\t<tr><th scope=row>1</th><td>TACTTACAGGCTAGCA-1_contig_1</td><td>3</td><td>1</td></tr>\n",
       "\t<tr><th scope=row>2</th><td>GTCAAGTCACCTATCC-1_contig_1</td><td>0</td><td>0</td></tr>\n",
       "\t<tr><th scope=row>3</th><td>CCTACACGTGCTCTTC-1_contig_1</td><td>0</td><td>0</td></tr>\n",
       "\t<tr><th scope=row>4</th><td>TTGACTTAGGGATACC-1_contig_1</td><td>0</td><td>0</td></tr>\n",
       "\t<tr><th scope=row>5</th><td>TGACAACCACTTAAGC-1_contig_2</td><td>0</td><td>0</td></tr>\n",
       "\t<tr><th scope=row>6</th><td>AGAATAGTCTCATTCA-1_contig_1</td><td>0</td><td>0</td></tr>\n",
       "\t<tr><th scope=row>7</th><td>TTGGCAAGTCCGACGT-1_contig_2</td><td>0</td><td>0</td></tr>\n",
       "\t<tr><th scope=row>8</th><td>CGAACATCACTCTGTC-1_contig_2</td><td>0</td><td>0</td></tr>\n",
       "\t<tr><th scope=row>9</th><td>TTAGTTCCATCGGACC-1_contig_2</td><td>0</td><td>0</td></tr>\n",
       "\t<tr><th scope=row>10</th><td>CTTAACTCAATCTACG-1_contig_2</td><td>0</td><td>1</td></tr>\n",
       "</tbody>\n",
       "</table>\n"
      ],
      "text/latex": [
       "A data.frame: 10 × 3\n",
       "\\begin{tabular}{r|lll}\n",
       "  & sequence\\_id & mu\\_count\\_seq\\_r & mu\\_count\\_seq\\_s\\\\\n",
       "  & <chr> & <dbl> & <dbl>\\\\\n",
       "\\hline\n",
       "\t1 & TACTTACAGGCTAGCA-1\\_contig\\_1 & 3 & 1\\\\\n",
       "\t2 & GTCAAGTCACCTATCC-1\\_contig\\_1 & 0 & 0\\\\\n",
       "\t3 & CCTACACGTGCTCTTC-1\\_contig\\_1 & 0 & 0\\\\\n",
       "\t4 & TTGACTTAGGGATACC-1\\_contig\\_1 & 0 & 0\\\\\n",
       "\t5 & TGACAACCACTTAAGC-1\\_contig\\_2 & 0 & 0\\\\\n",
       "\t6 & AGAATAGTCTCATTCA-1\\_contig\\_1 & 0 & 0\\\\\n",
       "\t7 & TTGGCAAGTCCGACGT-1\\_contig\\_2 & 0 & 0\\\\\n",
       "\t8 & CGAACATCACTCTGTC-1\\_contig\\_2 & 0 & 0\\\\\n",
       "\t9 & TTAGTTCCATCGGACC-1\\_contig\\_2 & 0 & 0\\\\\n",
       "\t10 & CTTAACTCAATCTACG-1\\_contig\\_2 & 0 & 1\\\\\n",
       "\\end{tabular}\n"
      ],
      "text/markdown": [
       "\n",
       "A data.frame: 10 × 3\n",
       "\n",
       "| <!--/--> | sequence_id &lt;chr&gt; | mu_count_seq_r &lt;dbl&gt; | mu_count_seq_s &lt;dbl&gt; |\n",
       "|---|---|---|---|\n",
       "| 1 | TACTTACAGGCTAGCA-1_contig_1 | 3 | 1 |\n",
       "| 2 | GTCAAGTCACCTATCC-1_contig_1 | 0 | 0 |\n",
       "| 3 | CCTACACGTGCTCTTC-1_contig_1 | 0 | 0 |\n",
       "| 4 | TTGACTTAGGGATACC-1_contig_1 | 0 | 0 |\n",
       "| 5 | TGACAACCACTTAAGC-1_contig_2 | 0 | 0 |\n",
       "| 6 | AGAATAGTCTCATTCA-1_contig_1 | 0 | 0 |\n",
       "| 7 | TTGGCAAGTCCGACGT-1_contig_2 | 0 | 0 |\n",
       "| 8 | CGAACATCACTCTGTC-1_contig_2 | 0 | 0 |\n",
       "| 9 | TTAGTTCCATCGGACC-1_contig_2 | 0 | 0 |\n",
       "| 10 | CTTAACTCAATCTACG-1_contig_2 | 0 | 1 |\n",
       "\n"
      ],
      "text/plain": [
       "   sequence_id                 mu_count_seq_r mu_count_seq_s\n",
       "1  TACTTACAGGCTAGCA-1_contig_1 3              1             \n",
       "2  GTCAAGTCACCTATCC-1_contig_1 0              0             \n",
       "3  CCTACACGTGCTCTTC-1_contig_1 0              0             \n",
       "4  TTGACTTAGGGATACC-1_contig_1 0              0             \n",
       "5  TGACAACCACTTAAGC-1_contig_2 0              0             \n",
       "6  AGAATAGTCTCATTCA-1_contig_1 0              0             \n",
       "7  TTGGCAAGTCCGACGT-1_contig_2 0              0             \n",
       "8  CGAACATCACTCTGTC-1_contig_2 0              0             \n",
       "9  TTAGTTCCATCGGACC-1_contig_2 0              0             \n",
       "10 CTTAACTCAATCTACG-1_contig_2 0              1             "
      ]
     },
     "metadata": {},
     "output_type": "display_data"
    }
   ],
   "source": [
    "# Calculate R and S mutation counts\n",
    "db_obs <- observedMutations(subset_db, sequenceColumn=\"sequence_alignment\",\n",
    "                            germlineColumn=\"germline_alignment_d_mask\",\n",
    "                            regionDefinition=NULL,\n",
    "                            frequency=FALSE, \n",
    "                            nproc=1)\n",
    "# Show new mutation count columns\n",
    "db_obs %>% \n",
    "    select(sequence_id, starts_with(\"mu_count_\")) %>%\n",
    "    head(n=10)"
   ]
  },
  {
   "cell_type": "code",
   "execution_count": 3,
   "id": "digital-hybrid",
   "metadata": {},
   "outputs": [
    {
     "data": {
      "text/html": [
       "<table class=\"dataframe\">\n",
       "<caption>A data.frame: 4 × 3</caption>\n",
       "<thead>\n",
       "\t<tr><th></th><th scope=col>sequence_id</th><th scope=col>mu_freq_seq_r</th><th scope=col>mu_freq_seq_s</th></tr>\n",
       "\t<tr><th></th><th scope=col>&lt;chr&gt;</th><th scope=col>&lt;dbl&gt;</th><th scope=col>&lt;dbl&gt;</th></tr>\n",
       "</thead>\n",
       "<tbody>\n",
       "\t<tr><th scope=row>1</th><td>TACTTACAGGCTAGCA-1_contig_1</td><td>0.00877193</td><td>0.002923977</td></tr>\n",
       "\t<tr><th scope=row>2</th><td>GTCAAGTCACCTATCC-1_contig_1</td><td>0.00000000</td><td>0.000000000</td></tr>\n",
       "\t<tr><th scope=row>3</th><td>CCTACACGTGCTCTTC-1_contig_1</td><td>0.00000000</td><td>0.000000000</td></tr>\n",
       "\t<tr><th scope=row>4</th><td>TTGACTTAGGGATACC-1_contig_1</td><td>0.00000000</td><td>0.000000000</td></tr>\n",
       "</tbody>\n",
       "</table>\n"
      ],
      "text/latex": [
       "A data.frame: 4 × 3\n",
       "\\begin{tabular}{r|lll}\n",
       "  & sequence\\_id & mu\\_freq\\_seq\\_r & mu\\_freq\\_seq\\_s\\\\\n",
       "  & <chr> & <dbl> & <dbl>\\\\\n",
       "\\hline\n",
       "\t1 & TACTTACAGGCTAGCA-1\\_contig\\_1 & 0.00877193 & 0.002923977\\\\\n",
       "\t2 & GTCAAGTCACCTATCC-1\\_contig\\_1 & 0.00000000 & 0.000000000\\\\\n",
       "\t3 & CCTACACGTGCTCTTC-1\\_contig\\_1 & 0.00000000 & 0.000000000\\\\\n",
       "\t4 & TTGACTTAGGGATACC-1\\_contig\\_1 & 0.00000000 & 0.000000000\\\\\n",
       "\\end{tabular}\n"
      ],
      "text/markdown": [
       "\n",
       "A data.frame: 4 × 3\n",
       "\n",
       "| <!--/--> | sequence_id &lt;chr&gt; | mu_freq_seq_r &lt;dbl&gt; | mu_freq_seq_s &lt;dbl&gt; |\n",
       "|---|---|---|---|\n",
       "| 1 | TACTTACAGGCTAGCA-1_contig_1 | 0.00877193 | 0.002923977 |\n",
       "| 2 | GTCAAGTCACCTATCC-1_contig_1 | 0.00000000 | 0.000000000 |\n",
       "| 3 | CCTACACGTGCTCTTC-1_contig_1 | 0.00000000 | 0.000000000 |\n",
       "| 4 | TTGACTTAGGGATACC-1_contig_1 | 0.00000000 | 0.000000000 |\n",
       "\n"
      ],
      "text/plain": [
       "  sequence_id                 mu_freq_seq_r mu_freq_seq_s\n",
       "1 TACTTACAGGCTAGCA-1_contig_1 0.00877193    0.002923977  \n",
       "2 GTCAAGTCACCTATCC-1_contig_1 0.00000000    0.000000000  \n",
       "3 CCTACACGTGCTCTTC-1_contig_1 0.00000000    0.000000000  \n",
       "4 TTGACTTAGGGATACC-1_contig_1 0.00000000    0.000000000  "
      ]
     },
     "metadata": {},
     "output_type": "display_data"
    }
   ],
   "source": [
    "# Calculate R and S mutation frequencies\n",
    "db_obs <- observedMutations(db_obs, sequenceColumn=\"sequence_alignment\",\n",
    "                            germlineColumn=\"germline_alignment_d_mask\",\n",
    "                            regionDefinition=NULL,\n",
    "                            frequency=TRUE, \n",
    "                            nproc=1)\n",
    "# Show new mutation frequency columns\n",
    "db_obs %>% \n",
    "    select(sequence_id, starts_with(\"mu_freq_\")) %>%\n",
    "    head(n=4)"
   ]
  },
  {
   "cell_type": "code",
   "execution_count": 4,
   "id": "administrative-thing",
   "metadata": {},
   "outputs": [
    {
     "data": {
      "text/html": [
       "<table class=\"dataframe\">\n",
       "<caption>A data.frame: 4 × 1</caption>\n",
       "<thead>\n",
       "\t<tr><th></th><th scope=col>sequence_id</th></tr>\n",
       "\t<tr><th></th><th scope=col>&lt;chr&gt;</th></tr>\n",
       "</thead>\n",
       "<tbody>\n",
       "\t<tr><th scope=row>1</th><td>TACTTACAGGCTAGCA-1_contig_1</td></tr>\n",
       "\t<tr><th scope=row>2</th><td>GTCAAGTCACCTATCC-1_contig_1</td></tr>\n",
       "\t<tr><th scope=row>3</th><td>CCTACACGTGCTCTTC-1_contig_1</td></tr>\n",
       "\t<tr><th scope=row>4</th><td>TTGACTTAGGGATACC-1_contig_1</td></tr>\n",
       "</tbody>\n",
       "</table>\n"
      ],
      "text/latex": [
       "A data.frame: 4 × 1\n",
       "\\begin{tabular}{r|l}\n",
       "  & sequence\\_id\\\\\n",
       "  & <chr>\\\\\n",
       "\\hline\n",
       "\t1 & TACTTACAGGCTAGCA-1\\_contig\\_1\\\\\n",
       "\t2 & GTCAAGTCACCTATCC-1\\_contig\\_1\\\\\n",
       "\t3 & CCTACACGTGCTCTTC-1\\_contig\\_1\\\\\n",
       "\t4 & TTGACTTAGGGATACC-1\\_contig\\_1\\\\\n",
       "\\end{tabular}\n"
      ],
      "text/markdown": [
       "\n",
       "A data.frame: 4 × 1\n",
       "\n",
       "| <!--/--> | sequence_id &lt;chr&gt; |\n",
       "|---|---|\n",
       "| 1 | TACTTACAGGCTAGCA-1_contig_1 |\n",
       "| 2 | GTCAAGTCACCTATCC-1_contig_1 |\n",
       "| 3 | CCTACACGTGCTCTTC-1_contig_1 |\n",
       "| 4 | TTGACTTAGGGATACC-1_contig_1 |\n",
       "\n"
      ],
      "text/plain": [
       "  sequence_id                \n",
       "1 TACTTACAGGCTAGCA-1_contig_1\n",
       "2 GTCAAGTCACCTATCC-1_contig_1\n",
       "3 CCTACACGTGCTCTTC-1_contig_1\n",
       "4 TTGACTTAGGGATACC-1_contig_1"
      ]
     },
     "metadata": {},
     "output_type": "display_data"
    }
   ],
   "source": [
    "# Calculate combined R and S mutation frequencies\n",
    "db_obs <- observedMutations(subset_db, sequenceColumn=\"sequence_alignment\",\n",
    "                            germlineColumn=\"germline_alignment_d_mask\",\n",
    "                            regionDefinition=NULL,\n",
    "                            frequency=TRUE, \n",
    "                            combine=TRUE,\n",
    "                            nproc=1)\n",
    "# Show new mutation frequency columns\n",
    "db_obs %>% \n",
    "    select(sequence_id, starts_with(\"mu_freq_\")) %>%\n",
    "    head(n=4)"
   ]
  },
  {
   "cell_type": "code",
   "execution_count": 6,
   "id": "varied-shoot",
   "metadata": {},
   "outputs": [
    {
     "name": "stderr",
     "output_type": "stream",
     "text": [
      "Warning message:\n",
      "“Removed 1 rows containing non-finite values (stat_boxplot).”\n"
     ]
    },
    {
     "data": {
      "image/png": "[encoded data removed]",
      "text/plain": [
       "plot without title"
      ]
     },
     "metadata": {
      "image/png": {
       "height": 420,
       "width": 420
      }
     },
     "output_type": "display_data"
    }
   ],
   "source": [
    "isotype_colors <- c(\"IGHM\"=\"darkorchid\", \"IGHD\"=\"firebrick\", \"IGHA\"=\"steelblue\",\n",
    "                    \"IGHG1\"=\"seagreen\", \"IGHG2B\"=\"darkgreen\", \"IGHG2C\"=\"orange\",\n",
    "                   \"IGHG3\"=\"darkgrey\")\n",
    "\n",
    "g1 <- ggplot(db_obs, aes(x=c_call, y=mu_freq, fill=c_call)) +\n",
    "    theme_bw() + ggtitle(\"Unprotected\") +\n",
    "    xlab(\"Isotype\") + ylab(\"Mutation frequency\") +\n",
    "    scale_fill_manual(name=\"Isotype\", values=isotype_colors) +\n",
    "    geom_boxplot() + ylim(0, 0.08)\n",
    "plot(g1)"
   ]
  },
  {
   "cell_type": "code",
   "execution_count": null,
   "id": "aquatic-familiar",
   "metadata": {},
   "outputs": [],
   "source": []
  }
 ],
 "metadata": {
  "kernelspec": {
   "display_name": "R",
   "language": "R",
   "name": "ir"
  },
  "language_info": {
   "codemirror_mode": "r",
   "file_extension": ".r",
   "mimetype": "text/x-r-source",
   "name": "R",
   "pygments_lexer": "r",
   "version": "4.0.3"
  }
 },
 "nbformat": 4,
 "nbformat_minor": 5
}
