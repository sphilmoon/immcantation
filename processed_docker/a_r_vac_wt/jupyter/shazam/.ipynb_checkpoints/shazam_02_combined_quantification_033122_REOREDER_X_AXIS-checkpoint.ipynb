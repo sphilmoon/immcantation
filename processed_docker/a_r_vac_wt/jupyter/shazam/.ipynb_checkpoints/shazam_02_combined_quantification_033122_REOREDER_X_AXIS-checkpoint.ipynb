{
 "cells": [
  {
   "cell_type": "code",
   "execution_count": 12,
   "id": "invalid-capital",
   "metadata": {},
   "outputs": [
    {
     "ename": "ERROR",
     "evalue": "Error in subset.data.frame(db %>% mutate(sample_id = factor(sample_id, : 'subset' must be logical\n",
     "output_type": "error",
     "traceback": [
      "Error in subset.data.frame(db %>% mutate(sample_id = factor(sample_id, : 'subset' must be logical\nTraceback:\n",
      "1. subset(db %>% mutate(sample_id = factor(sample_id, levels = c(\"wt\", \n .     \"vac\", \"a\", \"r\"))), \"sample_id\", \"c_call\", facetBy = \"group\")",
      "2. subset.data.frame(db %>% mutate(sample_id = factor(sample_id, \n .     levels = c(\"wt\", \"vac\", \"a\", \"r\"))), \"sample_id\", \"c_call\", \n .     facetBy = \"group\")",
      "3. stop(\"'subset' must be logical\")"
     ]
    }
   ],
   "source": [
    "### Quantification frequency analysis ###\n",
    "# all combined data sets\n",
    "\n",
    "# Import required packages\n",
    "library(alakazam)\n",
    "library(shazam)\n",
    "library(dplyr)\n",
    "library(ggplot2)\n",
    "\n",
    "require(data.table)\n",
    "db <- as.data.frame(fread(\"../../changeo_10x/copy_r_vac_wt_033122.tsv\"))\n",
    "\n",
    "\n",
    "db_sub <- subset(db %>% mutate(sample_id=factor(sample_id, levels=c(\"wt\", \"vac\", \"a\", \"r\"))),\n",
    "                 \"sample_id\", \"c_call\", facetBy=\"group\")"
   ]
  },
  {
   "cell_type": "code",
   "execution_count": 6,
   "id": "naval-empty",
   "metadata": {},
   "outputs": [],
   "source": [
    "# Collapse clonal groups into single sequences\n",
    "clones <- collapseClones(db, cloneColumn=\"clone_id\", \n",
    "                         sequenceColumn=\"sequence_alignment\", \n",
    "                         germlineColumn=\"germline_alignment_d_mask\", \n",
    "                         regionDefinition=IMGT_V, \n",
    "                         method=\"thresholdedFreq\", minimumFrequency=0.6,\n",
    "                         includeAmbiguous=FALSE, breakTiesStochastic=FALSE, \n",
    "                         nproc=16)"
   ]
  },
  {
   "cell_type": "code",
   "execution_count": 7,
   "id": "yellow-microphone",
   "metadata": {},
   "outputs": [],
   "source": [
    "# Count observed mutations and append mu_count columns to the output\n",
    "observed <- observedMutations(clones, \n",
    "                              sequenceColumn=\"clonal_sequence\",\n",
    "                              germlineColumn=\"clonal_germline\",\n",
    "                              regionDefinition=IMGT_V, nproc=16)\n",
    "\n",
    "# Count expected mutations and append mu_exptected columns to the output\n",
    "expected <- expectedMutations(observed, \n",
    "                              sequenceColumn=\"clonal_sequence\",\n",
    "                              germlineColumn=\"clonal_germline\",\n",
    "                              targetingModel=HH_S5F,\n",
    "                              regionDefinition=IMGT_V, nproc=16)"
   ]
  },
  {
   "cell_type": "code",
   "execution_count": 8,
   "id": "tired-stations",
   "metadata": {},
   "outputs": [
    {
     "name": "stderr",
     "output_type": "stream",
     "text": [
      "calcBaseline will use existing observed and expected mutations, in the fields: mu_count_cdr_r, mu_count_cdr_s, mu_count_fwr_r, mu_count_fwr_s and mu_expected_cdr_r, mu_expected_cdr_s, mu_expected_fwr_r, mu_expected_fwr_s\n",
      "\n"
     ]
    },
    {
     "name": "stdout",
     "output_type": "stream",
     "text": [
      "Calculating BASELINe probability density functions...\n"
     ]
    }
   ],
   "source": [
    "# Calculate selection scores using the output from expectedMutations\n",
    "baseline_expected <- calcBaseline(expected, testStatistic=\"focused\", \n",
    "                         regionDefinition=IMGT_V, nproc=16)"
   ]
  },
  {
   "cell_type": "code",
   "execution_count": 9,
   "id": "christian-cowboy",
   "metadata": {},
   "outputs": [
    {
     "name": "stderr",
     "output_type": "stream",
     "text": [
      "calcBaseline will calculate observed and expected mutations for clonal_sequence using clonal_germline as a reference.\n",
      "\n"
     ]
    },
    {
     "name": "stdout",
     "output_type": "stream",
     "text": [
      "Calculating BASELINe probability density functions...\n"
     ]
    }
   ],
   "source": [
    "# Calculate selection scores from scratch\n",
    "baseline_clones <- calcBaseline(clones, testStatistic=\"focused\", \n",
    "                         regionDefinition=IMGT_V, nproc=16)"
   ]
  },
  {
   "cell_type": "code",
   "execution_count": 10,
   "id": "public-actress",
   "metadata": {},
   "outputs": [
    {
     "name": "stdout",
     "output_type": "stream",
     "text": [
      "Grouping BASELINe probability density functions...\n",
      "Calculating BASELINe statistics...\n"
     ]
    }
   ],
   "source": [
    "# Combine selection scores by time-point\n",
    "grouped_1 <- groupBaseline(baseline_clones, groupBy=\"sample_id\")"
   ]
  },
  {
   "cell_type": "code",
   "execution_count": 16,
   "id": "unable-planet",
   "metadata": {},
   "outputs": [
    {
     "ename": "ERROR",
     "evalue": "Error in subset.data.frame(db %>% mutate(sample_id = factor(sample_id, : 'subset' must be logical\n",
     "output_type": "error",
     "traceback": [
      "Error in subset.data.frame(db %>% mutate(sample_id = factor(sample_id, : 'subset' must be logical\nTraceback:\n",
      "1. subset(db %>% mutate(sample_id = factor(sample_id, levels = c(\"wt\", \n .     \"vac\", \"a\", \"r\"))), \"sample_id\", \"c_call\", facetBy = \"group\")",
      "2. subset.data.frame(db %>% mutate(sample_id = factor(sample_id, \n .     levels = c(\"wt\", \"vac\", \"a\", \"r\"))), \"sample_id\", \"c_call\", \n .     facetBy = \"group\")",
      "3. stop(\"'subset' must be logical\")"
     ]
    }
   ],
   "source": [
    "# Subset the original data to switched isotypes\n",
    "db_sub <- subset(db, c_call %in% c(\"IGHM\", \"IGHG1\", \"IGHG2B\", \"IGHG2C\", \"IGHG3\", \"IGHD\", \"IGHA\"))\n",
    "\n",
    "# Collapse clonal groups into single sequence\n",
    "clones_sub <- collapseClones(db_sub, cloneColumn=\"clone_id\",\n",
    "                             sequenceColumn=\"sequence_alignment\",\n",
    "                             germlineColumn=\"germline_alignment_d_mask\",\n",
    "                             regionDefinition=IMGT_V, \n",
    "                             method=\"thresholdedFreq\", minimumFrequency=0.6,\n",
    "                             includeAmbiguous=FALSE, breakTiesStochastic=FALSE, \n",
    "                             nproc=16)\n",
    "\n",
    "# Calculate selection scores from scratch\n",
    "baseline_sub <- calcBaseline(clones_sub, testStatistic=\"focused\", \n",
    "                             regionDefinition=IMGT_V, nproc=16)\n",
    "\n",
    "# Combine selection scores by time-point and isotype\n",
    "grouped_2 <- groupBaseline(baseline_sub, groupBy=c(\"sample_id\", \"c_call\"))"
   ]
  },
  {
   "cell_type": "code",
   "execution_count": null,
   "id": "lucky-profile",
   "metadata": {},
   "outputs": [],
   "source": [
    "testBaseline(grouped_1, groupBy=\"sample_id\")"
   ]
  },
  {
   "cell_type": "code",
   "execution_count": null,
   "id": "silver-buyer",
   "metadata": {},
   "outputs": [],
   "source": [
    "# Set sample and isotype colors\n",
    "sample_colors <- c(\"a\"=\"seagreen\", \"r\"=\"deeppink1\", \"vac\"=\"gold3\", \"wt\"=\"black\")\n",
    "isotype_colors <- c(\"IGHM\"=\"darkorchid\", \"IGHD\"=\"firebrick\", \"IGHA\"=\"steelblue\",\n",
    "                    \"IGHG1\"=\"seagreen\", \"IGHG2B\"=\"darkgreen\", \"IGHG2C\"=\"orange\",\n",
    "                   \"IGHG3\"=\"black\")\n",
    "\n",
    "# Plot mean and confidence interval by time-point\n",
    "plotBaselineSummary(grouped_1, \"sample_id\", subsetRegions=\"cdr\", groupColors= sample_colors)"
   ]
  },
  {
   "cell_type": "code",
   "execution_count": null,
   "id": "catholic-begin",
   "metadata": {},
   "outputs": [],
   "source": []
  },
  {
   "cell_type": "code",
   "execution_count": null,
   "id": "multiple-animation",
   "metadata": {},
   "outputs": [],
   "source": [
    "# Plot selection scores by time-point and isotype for only CDR\n",
    "plotBaselineSummary(grouped_2, \"sample_id\", \"c_call\", groupColors=isotype_colors,\n",
    "                    subsetRegions=\"cdr\")"
   ]
  },
  {
   "cell_type": "code",
   "execution_count": null,
   "id": "electrical-turning",
   "metadata": {},
   "outputs": [],
   "source": [
    "# Group by CDR/FWR and facet by isotype\n",
    "# How to change the order?\n",
    "plotBaselineSummary(grouped_2, \"sample_id\", \"c_call\", facetBy=\"group\")"
   ]
  },
  {
   "cell_type": "code",
   "execution_count": null,
   "id": "understood-aspect",
   "metadata": {},
   "outputs": [],
   "source": [
    "# Group by CDR/FWR and facet by isotype\n",
    "# How to change the order?\n",
    "plotBaselineSummary(grouped_2 %>%\n",
    "                    mutate(sample_id=factor(sample_id, levels=c(\"wt\", \"vac\", \"a\", \"r\"))),\n",
    "                    \"sample_id\", \"c_call\", facetBy=\"group\")"
   ]
  },
  {
   "cell_type": "code",
   "execution_count": null,
   "id": "brown-beach",
   "metadata": {},
   "outputs": [],
   "source": [
    "# Plot selection PDFs for a subset of the data\n",
    "plotBaselineDensity(grouped_2, \"c_call\", groupColumn=\"sample_id\", colorElement=\"group\", \n",
    "                    colorValues=sample_colors, sigmaLimits=c(-1.5, 1.5))"
   ]
  }
 ],
 "metadata": {
  "kernelspec": {
   "display_name": "R",
   "language": "R",
   "name": "ir"
  },
  "language_info": {
   "codemirror_mode": "r",
   "file_extension": ".r",
   "mimetype": "text/x-r-source",
   "name": "R",
   "pygments_lexer": "r",
   "version": "4.0.3"
  }
 },
 "nbformat": 4,
 "nbformat_minor": 5
}
