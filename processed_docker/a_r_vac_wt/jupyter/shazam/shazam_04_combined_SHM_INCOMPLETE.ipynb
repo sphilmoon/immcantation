{
 "cells": [
  {
   "cell_type": "code",
   "execution_count": 1,
   "id": "satellite-walnut",
   "metadata": {},
   "outputs": [
    {
     "name": "stderr",
     "output_type": "stream",
     "text": [
      "Loading required package: ggplot2\n",
      "\n",
      "As of v1.0.0 the AIRR Rearrangement schema is now the default file format.\n",
      "A description of the standard is available at https://docs.airr-community.org.\n",
      "The legacy Change-O format is supported through arguments to each function\n",
      "that allow the input column names to be explicitly defined.\n",
      "\n",
      "As of v1.0.0 the AIRR Rearrangement schema is now the default file format.\n",
      "A description of the standard is available at https://docs.airr-community.org.\n",
      "The legacy Change-O format is supported through arguments to each function\n",
      "that allow the input column names to be explicitly defined.\n",
      "\n",
      "\n",
      "Attaching package: ‘dplyr’\n",
      "\n",
      "\n",
      "The following objects are masked from ‘package:stats’:\n",
      "\n",
      "    filter, lag\n",
      "\n",
      "\n",
      "The following objects are masked from ‘package:base’:\n",
      "\n",
      "    intersect, setdiff, setequal, union\n",
      "\n",
      "\n",
      "Loading required package: data.table\n",
      "\n",
      "\n",
      "Attaching package: ‘data.table’\n",
      "\n",
      "\n",
      "The following objects are masked from ‘package:dplyr’:\n",
      "\n",
      "    between, first, last\n",
      "\n",
      "\n"
     ]
    }
   ],
   "source": [
    "### SHM analysis ###\n",
    "# all combined data sets\n",
    "\n",
    "# tartgeting the likelihood of particular mutations.\n",
    "\n",
    "# Import required packages\n",
    "library(alakazam)\n",
    "library(shazam)\n",
    "library(dplyr)\n",
    "library(ggplot2)\n",
    "\n",
    "require(data.table)\n",
    "db <- as.data.frame(fread(\"../../changeo_10x/a_r_vac_wt.tsv\"), c_call == \"IGHM\")"
   ]
  },
  {
   "cell_type": "code",
   "execution_count": 2,
   "id": "center-rehabilitation",
   "metadata": {},
   "outputs": [],
   "source": [
    "# Create substitution model using silent mutations\n",
    "sub_model <- createSubstitutionMatrix(db, model=\"s\", \n",
    "                                      sequenceColumn=\"sequence_alignment\",\n",
    "                                      germlineColumn=\"germline_alignment_d_mask\",\n",
    "                                      vCallColumn=\"v_call\")"
   ]
  },
  {
   "cell_type": "code",
   "execution_count": 3,
   "id": "scheduled-principal",
   "metadata": {},
   "outputs": [
    {
     "name": "stderr",
     "output_type": "stream",
     "text": [
      "Warning message in createMutabilityMatrix(db, sub_model, model = \"s\", sequenceColumn = \"sequence_alignment\", :\n",
      "“Insufficient number of mutations to infer some 5-mers. Filled with 0. ”\n"
     ]
    }
   ],
   "source": [
    "# Create mutability model using silent mutations\n",
    "mut_model <- createMutabilityMatrix(db, sub_model, model=\"s\",\n",
    "                                    sequenceColumn=\"sequence_alignment\",\n",
    "                                    germlineColumn=\"germline_alignment_d_mask\",\n",
    "                                    vCallColumn=\"v_call\")"
   ]
  },
  {
   "cell_type": "code",
   "execution_count": 5,
   "id": "loose-falls",
   "metadata": {},
   "outputs": [
    {
     "data": {
      "text/html": [
       "942"
      ],
      "text/latex": [
       "942"
      ],
      "text/markdown": [
       "942"
      ],
      "text/plain": [
       "[1] 942"
      ]
     },
     "metadata": {},
     "output_type": "display_data"
    },
    {
     "data": {
      "text/html": [
       "0"
      ],
      "text/latex": [
       "0"
      ],
      "text/markdown": [
       "0"
      ],
      "text/plain": [
       "[1] 0"
      ]
     },
     "metadata": {},
     "output_type": "display_data"
    },
    {
     "data": {
      "text/html": [
       "<table class=\"dataframe\">\n",
       "<caption>A data.frame: 6 × 3</caption>\n",
       "<thead>\n",
       "\t<tr><th></th><th scope=col>motif</th><th scope=col>mutability</th><th scope=col>source</th></tr>\n",
       "\t<tr><th></th><th scope=col>&lt;chr&gt;</th><th scope=col>&lt;dbl&gt;</th><th scope=col>&lt;chr&gt;</th></tr>\n",
       "</thead>\n",
       "<tbody>\n",
       "\t<tr><th scope=row>AAAAA</th><td>AAAAA</td><td>0</td><td>Inferred</td></tr>\n",
       "\t<tr><th scope=row>AAAAC</th><td>AAAAC</td><td>0</td><td>Inferred</td></tr>\n",
       "\t<tr><th scope=row>AAAAG</th><td>AAAAG</td><td>0</td><td>Inferred</td></tr>\n",
       "\t<tr><th scope=row>AAAAT</th><td>AAAAT</td><td>0</td><td>Inferred</td></tr>\n",
       "\t<tr><th scope=row>AAACA</th><td>AAACA</td><td>0</td><td>Inferred</td></tr>\n",
       "\t<tr><th scope=row>AAACC</th><td>AAACC</td><td>0</td><td>Inferred</td></tr>\n",
       "</tbody>\n",
       "</table>\n"
      ],
      "text/latex": [
       "A data.frame: 6 × 3\n",
       "\\begin{tabular}{r|lll}\n",
       "  & motif & mutability & source\\\\\n",
       "  & <chr> & <dbl> & <chr>\\\\\n",
       "\\hline\n",
       "\tAAAAA & AAAAA & 0 & Inferred\\\\\n",
       "\tAAAAC & AAAAC & 0 & Inferred\\\\\n",
       "\tAAAAG & AAAAG & 0 & Inferred\\\\\n",
       "\tAAAAT & AAAAT & 0 & Inferred\\\\\n",
       "\tAAACA & AAACA & 0 & Inferred\\\\\n",
       "\tAAACC & AAACC & 0 & Inferred\\\\\n",
       "\\end{tabular}\n"
      ],
      "text/markdown": [
       "\n",
       "A data.frame: 6 × 3\n",
       "\n",
       "| <!--/--> | motif &lt;chr&gt; | mutability &lt;dbl&gt; | source &lt;chr&gt; |\n",
       "|---|---|---|---|\n",
       "| AAAAA | AAAAA | 0 | Inferred |\n",
       "| AAAAC | AAAAC | 0 | Inferred |\n",
       "| AAAAG | AAAAG | 0 | Inferred |\n",
       "| AAAAT | AAAAT | 0 | Inferred |\n",
       "| AAACA | AAACA | 0 | Inferred |\n",
       "| AAACC | AAACC | 0 | Inferred |\n",
       "\n"
      ],
      "text/plain": [
       "      motif mutability source  \n",
       "AAAAA AAAAA 0          Inferred\n",
       "AAAAC AAAAC 0          Inferred\n",
       "AAAAG AAAAG 0          Inferred\n",
       "AAAAT AAAAT 0          Inferred\n",
       "AAACA AAACA 0          Inferred\n",
       "AAACC AAACC 0          Inferred"
      ]
     },
     "metadata": {},
     "output_type": "display_data"
    }
   ],
   "source": [
    "# Number of silent mutations used for estimating 5-mer mutabilities\n",
    "mut_model@numMutS\n",
    "# Number of replacement mutations used for estimating 5-mer mutabilities\n",
    "mut_model@numMutR\n",
    "# Mutability and source as a data.frame\n",
    "head(as.data.frame(mut_model))"
   ]
  },
  {
   "cell_type": "code",
   "execution_count": 6,
   "id": "complicated-nelson",
   "metadata": {},
   "outputs": [],
   "source": [
    "# Extend models to include ambiguous 5-mers\n",
    "sub_model <- extendSubstitutionMatrix(sub_model)\n",
    "mut_model <- extendMutabilityMatrix(mut_model)"
   ]
  },
  {
   "cell_type": "code",
   "execution_count": 7,
   "id": "personalized-occupation",
   "metadata": {},
   "outputs": [],
   "source": [
    "# Create targeting model matrix from substitution and mutability models\n",
    "tar_matrix <- createTargetingMatrix(sub_model, mut_model)"
   ]
  },
  {
   "cell_type": "code",
   "execution_count": 8,
   "id": "loaded-disco",
   "metadata": {},
   "outputs": [
    {
     "ename": "ERROR",
     "evalue": "Error in {: task 1732 failed - \"Expecting all sequences in the same clone with the same junction lenght.\"\n",
     "output_type": "error",
     "traceback": [
      "Error in {: task 1732 failed - \"Expecting all sequences in the same clone with the same junction lenght.\"\nTraceback:\n",
      "1. collapseClones(db, cloneColumn = \"clone_id\", sequenceColumn = \"sequence_alignment\", \n .     germlineColumn = \"germline_alignment_d_mask\", nproc = 1)",
      "2. foreach(idx = 1:length(uniqueClonesIdx), .verbose = FALSE, .errorhandling = \"stop\") %dopar% \n .     {\n .         cloneIdx <- uniqueClonesIdx[[idx]]\n .         cloneDb <- db[cloneIdx, ]\n .         clone_num <- unique(cloneDb[[\"fields_clone_id\"]])\n .         if (length(unique(cloneDb[[juncLengthColumn]])) > 1) {\n .             stop(\"Expecting all sequences in the same clone with the same junction lenght.\")\n .         }\n .         cloneRegionDefinition <- regionDefinition\n .         if (regionDefinitionName %in% c(\"IMGT_VDJ_BY_REGIONS\", \n .             \"IMGT_VDJ\")) {\n .             cloneRegionDefinition <- getCloneRegion(clone_num = clone_num, \n .                 db = cloneDb, seq_col = sequenceColumn, juncLengthColumn = juncLengthColumn, \n .                 clone_col = \"fields_clone_id\", regionDefinition = regionDefinition)\n .         }\n .         calcClonalConsensus(db = cloneDb, sequenceColumn = sequenceColumn, \n .             germlineColumn = germlineColumn, muFreqColumn = muFreqColumn, \n .             regionDefinition = cloneRegionDefinition, method = method, \n .             minimumFrequency = minimumFrequency, includeAmbiguous = includeAmbiguous, \n .             breakTiesStochastic = breakTiesStochastic, breakTiesByColumns = breakTiesByColumns)\n .     }",
      "3. e$fun(obj, substitute(ex), parent.frame(), e$data)"
     ]
    }
   ],
   "source": [
    "# Collapse sequences into clonal consensus\n",
    "clone_db <- collapseClones(db, cloneColumn=\"clone_id\", \n",
    "                           sequenceColumn=\"sequence_alignment\",\n",
    "                           germlineColumn=\"germline_alignment_d_mask\",\n",
    "                           nproc=1)\n",
    "# Create targeting model in one step using only silent mutations\n",
    "# Use consensus sequence input and germline columns\n",
    "model <- createTargetingModel(clone_db, model=\"s\", sequenceColumn=\"clonal_sequence\", \n",
    "                              germlineColumn=\"clonal_germline\", vCallColumn=\"v_call\")"
   ]
  },
  {
   "cell_type": "code",
   "execution_count": null,
   "id": "alive-insured",
   "metadata": {},
   "outputs": [],
   "source": []
  }
 ],
 "metadata": {
  "kernelspec": {
   "display_name": "R",
   "language": "R",
   "name": "ir"
  },
  "language_info": {
   "codemirror_mode": "r",
   "file_extension": ".r",
   "mimetype": "text/x-r-source",
   "name": "R",
   "pygments_lexer": "r",
   "version": "4.0.3"
  }
 },
 "nbformat": 4,
 "nbformat_minor": 5
}
