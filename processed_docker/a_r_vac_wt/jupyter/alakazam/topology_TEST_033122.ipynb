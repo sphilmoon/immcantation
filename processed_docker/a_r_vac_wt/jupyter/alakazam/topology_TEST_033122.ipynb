{
 "cells": [
  {
   "cell_type": "code",
   "execution_count": 2,
   "id": "qualified-progressive",
   "metadata": {},
   "outputs": [
    {
     "name": "stdout",
     "output_type": "stream",
     "text": [
      "Rows: 11,154\n",
      "Columns: 63\n",
      "$ sample_id                 \u001b[3m\u001b[38;5;246m<chr>\u001b[39m\u001b[23m \"a\", \"a\", \"a\", \"a\", \"a\", \"a\", \"a\", \"a\", \"a\"…\n",
      "$ sequence_id               \u001b[3m\u001b[38;5;246m<chr>\u001b[39m\u001b[23m \"TACCTATAGTATCGAA-1_contig_1\", \"CACCTTGGTTT…\n",
      "$ sequence                  \u001b[3m\u001b[38;5;246m<chr>\u001b[39m\u001b[23m \"AAACAACATATGTCCAATGTCCTCTCCTCAGACACTGAACAC…\n",
      "$ rev_comp                  \u001b[3m\u001b[38;5;246m<lgl>\u001b[39m\u001b[23m FALSE, FALSE, FALSE, FALSE, FALSE, FALSE, F…\n",
      "$ productive                \u001b[3m\u001b[38;5;246m<lgl>\u001b[39m\u001b[23m TRUE, TRUE, TRUE, TRUE, TRUE, TRUE, TRUE, T…\n",
      "$ v_call                    \u001b[3m\u001b[38;5;246m<chr>\u001b[39m\u001b[23m \"IGHV1-22*01\", \"IGHV1-22*01\", \"IGHV1-22*01\"…\n",
      "$ d_call                    \u001b[3m\u001b[38;5;246m<chr>\u001b[39m\u001b[23m \"IGHD3-2*02\", \"IGHD1-1*01,IGHD1-1*02,IGHD1-…\n",
      "$ j_call                    \u001b[3m\u001b[38;5;246m<chr>\u001b[39m\u001b[23m \"IGHJ3*01\", \"IGHJ3*01\", \"IGHJ3*01\", \"IGHJ3*…\n",
      "$ sequence_alignment        \u001b[3m\u001b[38;5;246m<chr>\u001b[39m\u001b[23m \"GAGGTCCAGCTGCAACAGTCTGGACCT...GAGCTGGTGAAG…\n",
      "$ germline_alignment        \u001b[3m\u001b[38;5;246m<chr>\u001b[39m\u001b[23m \"GAGGTCCAGCTGCAACAGTCTGGACCT...GAGCTGGTGAAG…\n",
      "$ junction                  \u001b[3m\u001b[38;5;246m<chr>\u001b[39m\u001b[23m \"TGTGCAAGATCAGACAGCTCAGGCTTTGCTTACTGG\", \"TG…\n",
      "$ junction_aa               \u001b[3m\u001b[38;5;246m<chr>\u001b[39m\u001b[23m \"CARSDSSGFAYW\", \"CARLLTSWFAYW\", \"CARGNYYGLA…\n",
      "$ v_cigar                   \u001b[3m\u001b[38;5;246m<chr>\u001b[39m\u001b[23m \"112S294=\", \"110S294=\", \"76S293=\", \"116S201…\n",
      "$ d_cigar                   \u001b[3m\u001b[38;5;246m<chr>\u001b[39m\u001b[23m \"408S13=\", \"404S4N5=\", \"374S3N11=\", \"410S5N…\n",
      "$ j_cigar                   \u001b[3m\u001b[38;5;246m<chr>\u001b[39m\u001b[23m \"421S5N43=\", \"414S48=\", \"386S6N42=\", \"423S3…\n",
      "$ stop_codon                \u001b[3m\u001b[38;5;246m<lgl>\u001b[39m\u001b[23m FALSE, FALSE, FALSE, FALSE, FALSE, FALSE, F…\n",
      "$ vj_in_frame               \u001b[3m\u001b[38;5;246m<lgl>\u001b[39m\u001b[23m TRUE, TRUE, TRUE, TRUE, TRUE, TRUE, TRUE, T…\n",
      "$ locus                     \u001b[3m\u001b[38;5;246m<chr>\u001b[39m\u001b[23m \"IGH\", \"IGH\", \"IGH\", \"IGH\", \"IGH\", \"IGH\", \"…\n",
      "$ junction_length           \u001b[3m\u001b[38;5;246m<dbl>\u001b[39m\u001b[23m 36, 36, 36, 36, 36, 36, 36, 36, 36, 36, 36,…\n",
      "$ np1_length                \u001b[3m\u001b[38;5;246m<dbl>\u001b[39m\u001b[23m 2, 0, 5, 0, 10, 7, 0, 5, 8, 5, 15, 1, 12, 1…\n",
      "$ np2_length                \u001b[3m\u001b[38;5;246m<dbl>\u001b[39m\u001b[23m 0, 5, 1, 1, NA, 1, 4, NA, NA, 4, NA, 3, NA,…\n",
      "$ v_sequence_start          \u001b[3m\u001b[38;5;246m<dbl>\u001b[39m\u001b[23m 113, 111, 77, 117, 134, 99, 119, 114, 114, …\n",
      "$ v_sequence_end            \u001b[3m\u001b[38;5;246m<dbl>\u001b[39m\u001b[23m 406, 404, 369, 410, 427, 392, 410, 407, 407…\n",
      "$ v_germline_start          \u001b[3m\u001b[38;5;246m<dbl>\u001b[39m\u001b[23m 1, 1, 1, 1, 1, 1, 1, 1, 1, 1, 1, 1, 1, 1, 1…\n",
      "$ v_germline_end            \u001b[3m\u001b[38;5;246m<dbl>\u001b[39m\u001b[23m 318, 318, 317, 318, 318, 318, 316, 318, 318…\n",
      "$ d_sequence_start          \u001b[3m\u001b[38;5;246m<dbl>\u001b[39m\u001b[23m 409, 405, 375, 411, NA, 400, 411, NA, NA, 4…\n",
      "$ d_sequence_end            \u001b[3m\u001b[38;5;246m<dbl>\u001b[39m\u001b[23m 421, 409, 385, 422, NA, 406, 421, NA, NA, 4…\n",
      "$ d_germline_start          \u001b[3m\u001b[38;5;246m<dbl>\u001b[39m\u001b[23m 1, 5, 4, 6, NA, 5, 7, NA, NA, 8, NA, 4, NA,…\n",
      "$ d_germline_end            \u001b[3m\u001b[38;5;246m<dbl>\u001b[39m\u001b[23m 13, 9, 14, 17, NA, 11, 17, NA, NA, 12, NA, …\n",
      "$ j_sequence_start          \u001b[3m\u001b[38;5;246m<dbl>\u001b[39m\u001b[23m 422, 415, 387, 424, 438, 408, 426, 413, 416…\n",
      "$ j_sequence_end            \u001b[3m\u001b[38;5;246m<dbl>\u001b[39m\u001b[23m 464, 462, 428, 468, 485, 450, 470, 465, 465…\n",
      "$ j_germline_start          \u001b[3m\u001b[38;5;246m<dbl>\u001b[39m\u001b[23m 6, 1, 7, 4, 1, 6, 4, 1, 4, 5, 6, 4, 3, 1, 3…\n",
      "$ j_germline_end            \u001b[3m\u001b[38;5;246m<dbl>\u001b[39m\u001b[23m 48, 48, 48, 48, 48, 48, 48, 53, 53, 48, 48,…\n",
      "$ v_score                   \u001b[3m\u001b[38;5;246m<dbl>\u001b[39m\u001b[23m 459, 459, 458, 456, 456, 456, 456, 459, 459…\n",
      "$ v_identity                \u001b[3m\u001b[38;5;246m<dbl>\u001b[39m\u001b[23m 1.00000, 1.00000, 1.00000, 0.99660, 0.99660…\n",
      "$ v_support                 \u001b[3m\u001b[38;5;246m<dbl>\u001b[39m\u001b[23m 3.37e-131, 3.36e-131, 9.37e-131, 2.94e-130,…\n",
      "$ d_score                   \u001b[3m\u001b[38;5;246m<dbl>\u001b[39m\u001b[23m 25.7, 10.3, 21.8, 23.8, NA, 14.1, 21.8, NA,…\n",
      "$ d_identity                \u001b[3m\u001b[38;5;246m<dbl>\u001b[39m\u001b[23m 1, 1, 1, 1, NA, 1, 1, NA, NA, 1, NA, 1, NA,…\n",
      "$ d_support                 \u001b[3m\u001b[38;5;246m<dbl>\u001b[39m\u001b[23m 4.00e-03, 1.56e+02, 5.00e-02, 1.40e-02, NA,…\n",
      "$ j_score                   \u001b[3m\u001b[38;5;246m<dbl>\u001b[39m\u001b[23m 83.4, 93.0, 81.4, 87.2, 93.0, 83.4, 87.2, 1…\n",
      "$ j_identity                \u001b[3m\u001b[38;5;246m<dbl>\u001b[39m\u001b[23m 1, 1, 1, 1, 1, 1, 1, 1, 1, 1, 1, 1, 1, 1, 1…\n",
      "$ j_support                 \u001b[3m\u001b[38;5;246m<dbl>\u001b[39m\u001b[23m 4.22e-20, 5.37e-23, 1.51e-19, 2.95e-21, 5.5…\n",
      "$ fwr1                      \u001b[3m\u001b[38;5;246m<chr>\u001b[39m\u001b[23m \"GAGGTCCAGCTGCAACAGTCTGGACCT...GAGCTGGTGAAG…\n",
      "$ fwr2                      \u001b[3m\u001b[38;5;246m<chr>\u001b[39m\u001b[23m \"ATGCACTGGGTGAAGCAGAGCCATGGAAAGAGCCTTGAGTGG…\n",
      "$ fwr3                      \u001b[3m\u001b[38;5;246m<chr>\u001b[39m\u001b[23m \"AGCTACAACCAGAAGTTCAAG...GGCAAGGCCACATTGACT…\n",
      "$ fwr4                      \u001b[3m\u001b[38;5;246m<chr>\u001b[39m\u001b[23m \"TGGGGCCAAGGGACTCTGGTCACTGTCTCTGCAG\", \"TGGG…\n",
      "$ cdr1                      \u001b[3m\u001b[38;5;246m<chr>\u001b[39m\u001b[23m \"GGATACACATTC............ACTGACTACAAC\", \"GG…\n",
      "$ cdr2                      \u001b[3m\u001b[38;5;246m<chr>\u001b[39m\u001b[23m \"ATTAACCCTAAC......AATGGTGGTACT\", \"ATTAACCC…\n",
      "$ cdr3                      \u001b[3m\u001b[38;5;246m<chr>\u001b[39m\u001b[23m \"GCAAGATCAGACAGCTCAGGCTTTGCTTAC\", \"GCAAGATT…\n",
      "$ cell_id                   \u001b[3m\u001b[38;5;246m<chr>\u001b[39m\u001b[23m \"TACCTATAGTATCGAA-1\", \"CACCTTGGTTTGCATG-1\",…\n",
      "$ c_call                    \u001b[3m\u001b[38;5;246m<chr>\u001b[39m\u001b[23m \"IGHM\", \"IGHM\", \"IGHD\", \"IGHM\", \"IGHD\", \"IG…\n",
      "$ consensus_count           \u001b[3m\u001b[38;5;246m<dbl>\u001b[39m\u001b[23m 2330, 1262, 220, 2232, 1516, 924, 3014, 155…\n",
      "$ clone_id                  \u001b[3m\u001b[38;5;246m<chr>\u001b[39m\u001b[23m \"1000_2054\", \"1000_704\", \"1000_961\", \"1001_…\n",
      "$ umi_count                 \u001b[3m\u001b[38;5;246m<dbl>\u001b[39m\u001b[23m 9, 8, 1, 9, 8, 3, 15, 6, 3, 2, 16, 1, 7, 7,…\n",
      "$ v_call_10x                \u001b[3m\u001b[38;5;246m<chr>\u001b[39m\u001b[23m \"IGHV1-22\", \"IGHV1-22\", \"IGHV1-22\", \"IGHV1-…\n",
      "$ d_call_10x                \u001b[3m\u001b[38;5;246m<chr>\u001b[39m\u001b[23m \"IGHD3-2\", NA, NA, NA, NA, NA, NA, NA, NA, …\n",
      "$ j_call_10x                \u001b[3m\u001b[38;5;246m<chr>\u001b[39m\u001b[23m \"IGHJ3\", \"IGHJ3\", \"IGHJ3\", \"IGHJ3\", \"IGHJ3\"…\n",
      "$ junction_10x              \u001b[3m\u001b[38;5;246m<chr>\u001b[39m\u001b[23m \"TGTGCAAGATCAGACAGCTCAGGCTTTGCTTACTGG\", \"TG…\n",
      "$ junction_10x_aa           \u001b[3m\u001b[38;5;246m<chr>\u001b[39m\u001b[23m \"CARSDSSGFAYW\", \"CARLLTSWFAYW\", \"CARGNYYGLA…\n",
      "$ germline_alignment_d_mask \u001b[3m\u001b[38;5;246m<chr>\u001b[39m\u001b[23m \"GAGGTCCAGCTGCAACAGTCTGGACCT...GAGCTGGTGAAG…\n",
      "$ germline_v_call           \u001b[3m\u001b[38;5;246m<chr>\u001b[39m\u001b[23m \"IGHV1-22*01\", \"IGHV1-22*01\", \"IGHV1-22*01\"…\n",
      "$ germline_d_call           \u001b[3m\u001b[38;5;246m<chr>\u001b[39m\u001b[23m \"IGHD3-2*02\", \"IGHD1-1*01\", \"IGHD1-1*01\", \"…\n",
      "$ germline_j_call           \u001b[3m\u001b[38;5;246m<chr>\u001b[39m\u001b[23m \"IGHJ3*01\", \"IGHJ3*01\", \"IGHJ3*01\", \"IGHJ3*…\n"
     ]
    }
   ],
   "source": [
    "# Load required packages\n",
    "library(alakazam)\n",
    "library(igraph)\n",
    "library(dplyr)\n",
    "\n",
    "# Assigning data\n",
    "db <- readChangeoDb(\"../../changeo_10x/a_r_vac_wt.tsv\", select = NULL, drop = NULL, seq_upper = TRUE)\n",
    "glimpse(db)"
   ]
  },
  {
   "cell_type": "code",
   "execution_count": null,
   "id": "unable-alberta",
   "metadata": {},
   "outputs": [],
   "source": []
  }
 ],
 "metadata": {
  "kernelspec": {
   "display_name": "R",
   "language": "R",
   "name": "ir"
  },
  "language_info": {
   "codemirror_mode": "r",
   "file_extension": ".r",
   "mimetype": "text/x-r-source",
   "name": "R",
   "pygments_lexer": "r",
   "version": "4.0.3"
  }
 },
 "nbformat": 4,
 "nbformat_minor": 5
}
