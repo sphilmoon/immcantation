{
 "cells": [
  {
   "cell_type": "code",
   "execution_count": 31,
   "id": "weird-principal",
   "metadata": {},
   "outputs": [],
   "source": [
    "### Gene usage analysis ###\n",
    "# all combined data sets\n",
    "\n",
    "# Quantifying the VDJ gene based on either sequence count or clonotypes.\n",
    "# options are based on \"gene\", \"allele\", \"family\"\n",
    "# duplicate count does not work... missing the column. \n",
    "\n",
    "# Load required packages\n",
    "library(alakazam)\n",
    "library(dplyr)\n",
    "library(scales)\n",
    "library(ggplot2)\n",
    "\n",
    "require(data.table)\n",
    "db <- as.data.frame(fread(\"../../changeo_10x/new_a_r_vac_wt.tsv\"))"
   ]
  },
  {
   "cell_type": "code",
   "execution_count": 32,
   "id": "exceptional-arbitration",
   "metadata": {},
   "outputs": [
    {
     "data": {
      "text/html": [
       "<table class=\"dataframe\">\n",
       "<caption>A grouped_df: 10 × 4</caption>\n",
       "<thead>\n",
       "\t<tr><th scope=col>sample_id</th><th scope=col>gene</th><th scope=col>seq_count</th><th scope=col>seq_freq</th></tr>\n",
       "\t<tr><th scope=col>&lt;chr&gt;</th><th scope=col>&lt;chr&gt;</th><th scope=col>&lt;int&gt;</th><th scope=col>&lt;dbl&gt;</th></tr>\n",
       "</thead>\n",
       "<tbody>\n",
       "\t<tr><td>Control        </td><td>IGHV1-26</td><td>253</td><td>0.05676464</td></tr>\n",
       "\t<tr><td>Vaccinated-only</td><td>IGHV1-26</td><td>185</td><td>0.06081525</td></tr>\n",
       "\t<tr><td>Control        </td><td>IGHV3-6 </td><td>170</td><td>0.03814225</td></tr>\n",
       "\t<tr><td>Protected      </td><td>IGHV1-26</td><td>165</td><td>0.06084071</td></tr>\n",
       "\t<tr><td>Control        </td><td>IGHV1-64</td><td>162</td><td>0.03634732</td></tr>\n",
       "\t<tr><td>Control        </td><td>IGHV1-80</td><td>148</td><td>0.03320619</td></tr>\n",
       "\t<tr><td>Control        </td><td>IGHV9-3 </td><td>146</td><td>0.03275746</td></tr>\n",
       "\t<tr><td>Control        </td><td>IGHV1-82</td><td>140</td><td>0.03141126</td></tr>\n",
       "\t<tr><td>Control        </td><td>IGHV1-69</td><td>131</td><td>0.02939197</td></tr>\n",
       "\t<tr><td>Control        </td><td>IGHV6-3 </td><td>129</td><td>0.02894324</td></tr>\n",
       "</tbody>\n",
       "</table>\n"
      ],
      "text/latex": [
       "A grouped\\_df: 10 × 4\n",
       "\\begin{tabular}{llll}\n",
       " sample\\_id & gene & seq\\_count & seq\\_freq\\\\\n",
       " <chr> & <chr> & <int> & <dbl>\\\\\n",
       "\\hline\n",
       "\t Control         & IGHV1-26 & 253 & 0.05676464\\\\\n",
       "\t Vaccinated-only & IGHV1-26 & 185 & 0.06081525\\\\\n",
       "\t Control         & IGHV3-6  & 170 & 0.03814225\\\\\n",
       "\t Protected       & IGHV1-26 & 165 & 0.06084071\\\\\n",
       "\t Control         & IGHV1-64 & 162 & 0.03634732\\\\\n",
       "\t Control         & IGHV1-80 & 148 & 0.03320619\\\\\n",
       "\t Control         & IGHV9-3  & 146 & 0.03275746\\\\\n",
       "\t Control         & IGHV1-82 & 140 & 0.03141126\\\\\n",
       "\t Control         & IGHV1-69 & 131 & 0.02939197\\\\\n",
       "\t Control         & IGHV6-3  & 129 & 0.02894324\\\\\n",
       "\\end{tabular}\n"
      ],
      "text/markdown": [
       "\n",
       "A grouped_df: 10 × 4\n",
       "\n",
       "| sample_id &lt;chr&gt; | gene &lt;chr&gt; | seq_count &lt;int&gt; | seq_freq &lt;dbl&gt; |\n",
       "|---|---|---|---|\n",
       "| Control         | IGHV1-26 | 253 | 0.05676464 |\n",
       "| Vaccinated-only | IGHV1-26 | 185 | 0.06081525 |\n",
       "| Control         | IGHV3-6  | 170 | 0.03814225 |\n",
       "| Protected       | IGHV1-26 | 165 | 0.06084071 |\n",
       "| Control         | IGHV1-64 | 162 | 0.03634732 |\n",
       "| Control         | IGHV1-80 | 148 | 0.03320619 |\n",
       "| Control         | IGHV9-3  | 146 | 0.03275746 |\n",
       "| Control         | IGHV1-82 | 140 | 0.03141126 |\n",
       "| Control         | IGHV1-69 | 131 | 0.02939197 |\n",
       "| Control         | IGHV6-3  | 129 | 0.02894324 |\n",
       "\n"
      ],
      "text/plain": [
       "   sample_id       gene     seq_count seq_freq  \n",
       "1  Control         IGHV1-26 253       0.05676464\n",
       "2  Vaccinated-only IGHV1-26 185       0.06081525\n",
       "3  Control         IGHV3-6  170       0.03814225\n",
       "4  Protected       IGHV1-26 165       0.06084071\n",
       "5  Control         IGHV1-64 162       0.03634732\n",
       "6  Control         IGHV1-80 148       0.03320619\n",
       "7  Control         IGHV9-3  146       0.03275746\n",
       "8  Control         IGHV1-82 140       0.03141126\n",
       "9  Control         IGHV1-69 131       0.02939197\n",
       "10 Control         IGHV6-3  129       0.02894324"
      ]
     },
     "metadata": {},
     "output_type": "display_data"
    }
   ],
   "source": [
    "# Quantify usage at the gene level.\n",
    "# Printing the first 4 genes.\n",
    "gene <- countGenes(db, groups=\"sample_id\", gene=\"v_call\", mode=\"gene\")\n",
    "head(gene, n=10)"
   ]
  },
  {
   "cell_type": "code",
   "execution_count": null,
   "id": "confused-nothing",
   "metadata": {},
   "outputs": [],
   "source": [
    "# Assign sorted levels and subset to IGHV1\n",
    "ighv1 <- gene %>%\n",
    "    mutate(gene=factor(gene, levels=sortGenes(unique(gene), method=\"name\"))) %>%\n",
    "    filter(getFamily(gene) == \"IGHV1\")\n",
    "\n",
    "# Plot V gene usage in the IGHV1 family by sample\n",
    "g1 <- ggplot(ighv1, aes(x=gene, y=seq_freq)) +\n",
    "    theme_bw() +\n",
    "    ggtitle(\"IGHV1 Usage\") +\n",
    "    theme(axis.text.x=element_text(angle=45, hjust=1, vjust=1)) +\n",
    "    ylab(\"Percent of repertoire\") +\n",
    "    xlab(\"\") +\n",
    "    scale_y_continuous(labels=percent) +\n",
    "    scale_color_brewer(palette=\"Set1\") +\n",
    "    geom_point(aes(color=sample_id), size=5, alpha=0.8)\n",
    "plot(g1)"
   ]
  },
  {
   "cell_type": "code",
   "execution_count": null,
   "id": "labeled-poultry",
   "metadata": {},
   "outputs": [],
   "source": [
    "# Quantify V gene based on the family.\n",
    "family_v <- countGenes(db, gene=\"v_call\", groups=\"sample_id\", mode=\"family\")\n",
    "\n",
    "# Plot V family usage by sample\n",
    "g2 <- ggplot(family_v, aes(x=gene, y=seq_freq)) +\n",
    "    theme_bw() +\n",
    "    ggtitle(\"Family VH Usage\") +\n",
    "    theme(axis.text.x=element_text(angle=45, hjust=1, vjust=1)) +\n",
    "    ylab(\"Percent of repertoire\") +\n",
    "    xlab(\"\") +\n",
    "    scale_y_continuous(labels=percent) +\n",
    "    scale_color_brewer(palette=\"Set1\") +\n",
    "    geom_point(aes(color=sample_id), size=5, alpha=0.8)\n",
    "plot(g2)"
   ]
  },
  {
   "cell_type": "code",
   "execution_count": null,
   "id": "forced-buyer",
   "metadata": {},
   "outputs": [],
   "source": [
    "# Quantify V family clonal usage by sample and isotype\n",
    "family <- countGenes(db, gene=\"v_call\", groups=c(\"sample_id\", \"c_call\"), \n",
    "                     clone=\"clone_id\", mode=\"family\")\n",
    "head(family, n=4)\n",
    "\n",
    "glimpse(db)"
   ]
  },
  {
   "cell_type": "code",
   "execution_count": null,
   "id": "spanish-retail",
   "metadata": {},
   "outputs": [],
   "source": [
    "# Subset to IGHM and IGHG for plotting\n",
    "family <- filter(family, c_call %in% c(\"IGHM\", \"IGHD\", \"IGHA\"))\n",
    "# Plot V family clonal usage by sample and isotype\n",
    "g3 <- ggplot(family, aes(x=gene, y=clone_freq)) +\n",
    "    theme_bw() +\n",
    "    ggtitle(\"Clonal Usage\") +\n",
    "    theme(axis.text.x=element_text(angle=45, hjust=1, vjust=1)) +\n",
    "    ylab(\"Percent of repertoire\") +\n",
    "    xlab(\"\") +\n",
    "    scale_y_continuous(labels=percent) +\n",
    "    scale_color_brewer(palette=\"Set1\") +\n",
    "    geom_point(aes(color=sample_id), size=5, alpha=0.8) +\n",
    "    facet_grid(. ~ c_call)\n",
    "plot(g3)"
   ]
  },
  {
   "cell_type": "code",
   "execution_count": null,
   "id": "pretty-starter",
   "metadata": {},
   "outputs": [],
   "source": [
    "# Subset to IGHM and IGHG for plotting\n",
    "family <- filter(family, c_call %in% c(\"IGHG1\", \"IGHG2A\", \"IGHG2B\", \"IGHG2C\", \"IGHG3\"))\n",
    "# Plot V family clonal usage by sample and isotype\n",
    "g3 <- ggplot(family, aes(x=gene, y=clone_freq)) +\n",
    "    theme_bw() +\n",
    "    ggtitle(\"Clonal Usage\") +\n",
    "    theme(axis.text.x=element_text(angle=45, hjust=1, vjust=1)) +\n",
    "    ylab(\"Percent of repertoire\") +\n",
    "    xlab(\"\") +\n",
    "    scale_y_continuous(labels=percent) +\n",
    "    scale_color_brewer(palette=\"Set1\") +\n",
    "    geom_point(aes(color=sample_id), size=5, alpha=0.8) +\n",
    "    facet_grid(. ~ c_call)\n",
    "plot(g3)"
   ]
  },
  {
   "cell_type": "code",
   "execution_count": null,
   "id": "enhanced-benjamin",
   "metadata": {},
   "outputs": [],
   "source": [
    "# Quantify C gene based on the family.\n",
    "family_c <- countGenes(db, gene=\"c_call\", groups=\"sample_id\", mode=\"family\")\n",
    "\n",
    "# Plot V family usage by sample\n",
    "g2 <- ggplot(family_c, aes(x=gene, y=seq_freq)) +\n",
    "    theme_bw() +\n",
    "    ggtitle(\"Heavy chains\") +\n",
    "    theme(axis.text.x=element_text(angle=45, hjust=1, vjust=1)) +\n",
    "    ylab(\"Isotype frequency\") +\n",
    "    xlab(\"\") +\n",
    "    scale_y_continuous(labels=percent) +\n",
    "    scale_color_brewer(palette=\"Set1\") +\n",
    "    geom_point(aes(color=sample_id), size=5, alpha=0.8)\n",
    "plot(g2)"
   ]
  }
 ],
 "metadata": {
  "kernelspec": {
   "display_name": "R",
   "language": "R",
   "name": "ir"
  },
  "language_info": {
   "codemirror_mode": "r",
   "file_extension": ".r",
   "mimetype": "text/x-r-source",
   "name": "R",
   "pygments_lexer": "r",
   "version": "4.0.3"
  }
 },
 "nbformat": 4,
 "nbformat_minor": 5
}
