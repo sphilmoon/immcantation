{
 "cells": [
  {
   "cell_type": "code",
   "execution_count": 1,
   "id": "capital-location",
   "metadata": {},
   "outputs": [
    {
     "name": "stderr",
     "output_type": "stream",
     "text": [
      "Loading required package: ggplot2\n",
      "\n",
      "As of v1.0.0 the AIRR Rearrangement schema is now the default file format.\n",
      "A description of the standard is available at https://docs.airr-community.org.\n",
      "The legacy Change-O format is supported through arguments to each function\n",
      "that allow the input column names to be explicitly defined.\n",
      "\n",
      "\n",
      "Attaching package: ‘dplyr’\n",
      "\n",
      "\n",
      "The following objects are masked from ‘package:stats’:\n",
      "\n",
      "    filter, lag\n",
      "\n",
      "\n",
      "The following objects are masked from ‘package:base’:\n",
      "\n",
      "    intersect, setdiff, setequal, union\n",
      "\n",
      "\n",
      "Loading required package: data.table\n",
      "\n",
      "\n",
      "Attaching package: ‘data.table’\n",
      "\n",
      "\n",
      "The following objects are masked from ‘package:dplyr’:\n",
      "\n",
      "    between, first, last\n",
      "\n",
      "\n"
     ]
    }
   ],
   "source": [
    "### Amino acid property analysis ###\n",
    "# all combined data sets\n",
    "\n",
    "# analyze physico-chemical properties (CDR3) of Ig sequences.\n",
    "\n",
    "# Load required packages\n",
    "library(alakazam)\n",
    "library(dplyr)\n",
    "library(scales)\n",
    "library(ggplot2)\n",
    "\n",
    "require(data.table)\n",
    "db <- as.data.frame(fread(\"../../changeo_10x/copy_r_vac_wt_033122.tsv\"))"
   ]
  },
  {
   "cell_type": "code",
   "execution_count": 8,
   "id": "higher-liability",
   "metadata": {},
   "outputs": [
    {
     "data": {
      "text/html": [
       "<table class=\"dataframe\">\n",
       "<caption>A data.frame: 3 × 10</caption>\n",
       "<thead>\n",
       "\t<tr><th></th><th scope=col>cdr3</th><th scope=col>cdr3_aa_length</th><th scope=col>cdr3_aa_gravy</th><th scope=col>cdr3_aa_bulk</th><th scope=col>cdr3_aa_aliphatic</th><th scope=col>cdr3_aa_polarity</th><th scope=col>cdr3_aa_charge</th><th scope=col>cdr3_aa_basic</th><th scope=col>cdr3_aa_acidic</th><th scope=col>cdr3_aa_aromatic</th></tr>\n",
       "\t<tr><th></th><th scope=col>&lt;chr&gt;</th><th scope=col>&lt;int&gt;</th><th scope=col>&lt;dbl&gt;</th><th scope=col>&lt;dbl&gt;</th><th scope=col>&lt;dbl&gt;</th><th scope=col>&lt;dbl&gt;</th><th scope=col>&lt;dbl&gt;</th><th scope=col>&lt;dbl&gt;</th><th scope=col>&lt;dbl&gt;</th><th scope=col>&lt;dbl&gt;</th></tr>\n",
       "</thead>\n",
       "<tbody>\n",
       "\t<tr><th scope=row>1</th><td>GCAAGGGATTACTACGGTAGCGTCTGGTACTTCGATGTC</td><td>13</td><td>-0.3461538</td><td>15.43923</td><td>0.5230769</td><td>7.984615</td><td>-1.00534956</td><td>0.07692308</td><td>0.15384615</td><td>0.3846154</td></tr>\n",
       "\t<tr><th scope=row>2</th><td>GCAAGATGTCCTTATAGTAATCACTGGTACTTCGATGTC</td><td>13</td><td>-0.7153846</td><td>15.64846</td><td>0.3000000</td><td>8.092308</td><td> 0.03455382</td><td>0.15384615</td><td>0.07692308</td><td>0.3846154</td></tr>\n",
       "\t<tr><th scope=row>3</th><td>GCAAGAGATGATTACGACGCCTACTGGTACTTCGATGTC</td><td>13</td><td>-0.9769231</td><td>15.47154</td><td>0.3769231</td><td>8.753846</td><td>-3.00471730</td><td>0.07692308</td><td>0.30769231</td><td>0.3846154</td></tr>\n",
       "</tbody>\n",
       "</table>\n"
      ],
      "text/latex": [
       "A data.frame: 3 × 10\n",
       "\\begin{tabular}{r|llllllllll}\n",
       "  & cdr3 & cdr3\\_aa\\_length & cdr3\\_aa\\_gravy & cdr3\\_aa\\_bulk & cdr3\\_aa\\_aliphatic & cdr3\\_aa\\_polarity & cdr3\\_aa\\_charge & cdr3\\_aa\\_basic & cdr3\\_aa\\_acidic & cdr3\\_aa\\_aromatic\\\\\n",
       "  & <chr> & <int> & <dbl> & <dbl> & <dbl> & <dbl> & <dbl> & <dbl> & <dbl> & <dbl>\\\\\n",
       "\\hline\n",
       "\t1 & GCAAGGGATTACTACGGTAGCGTCTGGTACTTCGATGTC & 13 & -0.3461538 & 15.43923 & 0.5230769 & 7.984615 & -1.00534956 & 0.07692308 & 0.15384615 & 0.3846154\\\\\n",
       "\t2 & GCAAGATGTCCTTATAGTAATCACTGGTACTTCGATGTC & 13 & -0.7153846 & 15.64846 & 0.3000000 & 8.092308 &  0.03455382 & 0.15384615 & 0.07692308 & 0.3846154\\\\\n",
       "\t3 & GCAAGAGATGATTACGACGCCTACTGGTACTTCGATGTC & 13 & -0.9769231 & 15.47154 & 0.3769231 & 8.753846 & -3.00471730 & 0.07692308 & 0.30769231 & 0.3846154\\\\\n",
       "\\end{tabular}\n"
      ],
      "text/markdown": [
       "\n",
       "A data.frame: 3 × 10\n",
       "\n",
       "| <!--/--> | cdr3 &lt;chr&gt; | cdr3_aa_length &lt;int&gt; | cdr3_aa_gravy &lt;dbl&gt; | cdr3_aa_bulk &lt;dbl&gt; | cdr3_aa_aliphatic &lt;dbl&gt; | cdr3_aa_polarity &lt;dbl&gt; | cdr3_aa_charge &lt;dbl&gt; | cdr3_aa_basic &lt;dbl&gt; | cdr3_aa_acidic &lt;dbl&gt; | cdr3_aa_aromatic &lt;dbl&gt; |\n",
       "|---|---|---|---|---|---|---|---|---|---|---|\n",
       "| 1 | GCAAGGGATTACTACGGTAGCGTCTGGTACTTCGATGTC | 13 | -0.3461538 | 15.43923 | 0.5230769 | 7.984615 | -1.00534956 | 0.07692308 | 0.15384615 | 0.3846154 |\n",
       "| 2 | GCAAGATGTCCTTATAGTAATCACTGGTACTTCGATGTC | 13 | -0.7153846 | 15.64846 | 0.3000000 | 8.092308 |  0.03455382 | 0.15384615 | 0.07692308 | 0.3846154 |\n",
       "| 3 | GCAAGAGATGATTACGACGCCTACTGGTACTTCGATGTC | 13 | -0.9769231 | 15.47154 | 0.3769231 | 8.753846 | -3.00471730 | 0.07692308 | 0.30769231 | 0.3846154 |\n",
       "\n"
      ],
      "text/plain": [
       "  cdr3                                    cdr3_aa_length cdr3_aa_gravy\n",
       "1 GCAAGGGATTACTACGGTAGCGTCTGGTACTTCGATGTC 13             -0.3461538   \n",
       "2 GCAAGATGTCCTTATAGTAATCACTGGTACTTCGATGTC 13             -0.7153846   \n",
       "3 GCAAGAGATGATTACGACGCCTACTGGTACTTCGATGTC 13             -0.9769231   \n",
       "  cdr3_aa_bulk cdr3_aa_aliphatic cdr3_aa_polarity cdr3_aa_charge cdr3_aa_basic\n",
       "1 15.43923     0.5230769         7.984615         -1.00534956    0.07692308   \n",
       "2 15.64846     0.3000000         8.092308          0.03455382    0.15384615   \n",
       "3 15.47154     0.3769231         8.753846         -3.00471730    0.07692308   \n",
       "  cdr3_aa_acidic cdr3_aa_aromatic\n",
       "1 0.15384615     0.3846154       \n",
       "2 0.07692308     0.3846154       \n",
       "3 0.30769231     0.3846154       "
      ]
     },
     "metadata": {},
     "output_type": "display_data"
    }
   ],
   "source": [
    "### \"aminoAcidProperties\" function can determine:\n",
    "\n",
    "# length: total amino acid count\n",
    "# gravy: grand average of hydrophobicity\n",
    "# bulkiness: average bulkiness\n",
    "# polarity: average polarity\n",
    "# aliphatic: normalized aliphatic index\n",
    "# charge: normalized net charge\n",
    "# acidic: acidic side chain residue content\n",
    "# basic: basic side chain residue content\n",
    "# aromatic: aromatic side chain content\n",
    "\n",
    "# calculate all of the available aa properties translated from dna seq in the junction column.\n",
    "# \"trim\" option strip off the first and last codon that are the conserved residues before the analysis.\n",
    "\n",
    "db_cdr3 <- aminoAcidProperties(db, seq=\"junction\", nt=TRUE, trim=TRUE, label=\"cdr3\")\n",
    "\n",
    "# The full set of properties are calculated by default\n",
    "dplyr::select(db_cdr3[1:3, ], starts_with(\"cdr3\"))"
   ]
  },
  {
   "cell_type": "code",
   "execution_count": 10,
   "id": "dried-winter",
   "metadata": {},
   "outputs": [
    {
     "ename": "ERROR",
     "evalue": "Error: Insufficient values in manual scale. 8 needed but only 7 provided.\n",
     "output_type": "error",
     "traceback": [
      "Error: Insufficient values in manual scale. 8 needed but only 7 provided.\nTraceback:\n",
      "1. gridPlot(g1, g2, g3, g4, ncol = 1)",
      "2. plot(p[[i]], vp = grid::viewport(layout.pos.row = idx$row, layout.pos.col = idx$col))",
      "3. plot(p[[i]], vp = grid::viewport(layout.pos.row = idx$row, layout.pos.col = idx$col))",
      "4. plot.ggplot(p[[i]], vp = grid::viewport(layout.pos.row = idx$row, \n .     layout.pos.col = idx$col))",
      "5. ggplot_build(x)",
      "6. ggplot_build.ggplot(x)",
      "7. lapply(data, scales_map_df, scales = npscales)",
      "8. FUN(X[[i]], ...)",
      "9. unlist(lapply(scales$scales, function(scale) scale$map_df(df = df)), \n .     recursive = FALSE)",
      "10. lapply(scales$scales, function(scale) scale$map_df(df = df))",
      "11. FUN(X[[i]], ...)",
      "12. scale$map_df(df = df)",
      "13. f(..., self = self)",
      "14. lapply(aesthetics, function(j) self$map(df[[j]]))",
      "15. FUN(X[[i]], ...)",
      "16. self$map(df[[j]])",
      "17. f(..., self = self)",
      "18. self$palette(n)",
      "19. f(...)",
      "20. abort(glue(\"Insufficient values in manual scale. {n} needed but only {length(values)} provided.\"))",
      "21. signal_abort(cnd)"
     ]
    },
    {
     "data": {
      "image/png": "[encoded data removed]",
      "text/plain": [
       "plot without title"
      ]
     },
     "metadata": {
      "image/png": {
       "height": 420,
       "width": 420
      }
     },
     "output_type": "display_data"
    }
   ],
   "source": [
    "# Define a ggplot theme for all plots\n",
    "tmp_theme <- theme_bw() + theme(legend.position=\"bottom\")\n",
    "\n",
    "# Generate plots for all four of the properties\n",
    "g1 <- ggplot(db_cdr3, aes(x=c_call, y=cdr3_aa_length)) + tmp_theme +\n",
    "    ggtitle(\"CDR3 length\") + \n",
    "    xlab(\"Isotype\") + ylab(\"Amino acids\") +\n",
    "    scale_fill_manual(name=\"Isotype\", values=IG_COLORS) +\n",
    "    geom_boxplot(aes(fill=c_call))\n",
    "g2 <- ggplot(db_cdr3, aes(x=c_call, y=cdr3_aa_gravy)) + tmp_theme + \n",
    "    ggtitle(\"CDR3 hydrophobicity\") + \n",
    "    xlab(\"Isotype\") + ylab(\"GRAVY\") +\n",
    "    scale_fill_manual(name=\"Isotype\", values=IG_COLORS) +\n",
    "    geom_boxplot(aes(fill=c_call))\n",
    "g3 <- ggplot(db_cdr3, aes(x=c_call, y=cdr3_aa_basic)) + tmp_theme +\n",
    "    ggtitle(\"CDR3 basic residues\") + \n",
    "    xlab(\"Isotype\") + ylab(\"Basic residues\") +\n",
    "    scale_y_continuous(labels=scales::percent) +\n",
    "    scale_fill_manual(name=\"Isotype\", values=IG_COLORS) +\n",
    "    geom_boxplot(aes(fill=c_call))\n",
    "g4 <- ggplot(db_cdr3, aes(x=c_call, y=cdr3_aa_acidic)) + tmp_theme +\n",
    "    ggtitle(\"CDR3 acidic residues\") + \n",
    "    xlab(\"Isotype\") + ylab(\"Acidic residues\") +\n",
    "    scale_y_continuous(labels=scales::percent) +\n",
    "    scale_fill_manual(name=\"Isotype\", values=IG_COLORS) +\n",
    "    geom_boxplot(aes(fill=c_call))\n",
    "\n",
    "# Plot in a 2x2 grid\n",
    "gridPlot(g1, g2, g3, g4, ncol=1)\n",
    "\n",
    "# need to fix the width size to display the full labels.\n",
    "# baseTheme(sizing = c(\"figure\", \"window\"))"
   ]
  }
 ],
 "metadata": {
  "kernelspec": {
   "display_name": "R",
   "language": "R",
   "name": "ir"
  },
  "language_info": {
   "codemirror_mode": "r",
   "file_extension": ".r",
   "mimetype": "text/x-r-source",
   "name": "R",
   "pygments_lexer": "r",
   "version": "4.0.3"
  }
 },
 "nbformat": 4,
 "nbformat_minor": 5
}
