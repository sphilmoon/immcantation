{
 "cells": [
  {
   "cell_type": "code",
   "execution_count": 12,
   "id": "living-bulgarian",
   "metadata": {},
   "outputs": [],
   "source": [
    "#!/usr/bin/R\n",
    "library(alakazam)\n",
    "library(ggplot2)\n",
    "library(ape)\n",
    "library(dplyr)\n",
    "library(igraph)\n",
    "\n",
    "db <- readIgphyml(\"../../changeo_10x/a_r_vac_wt_igphyml-pass.tab\", format=\"phylo\", branches=\"mutations\")"
   ]
  },
  {
   "cell_type": "code",
   "execution_count": 6,
   "id": "accepted-departure",
   "metadata": {},
   "outputs": [
    {
     "data": {
      "text/html": [
       "<strong>png:</strong> 2"
      ],
      "text/latex": [
       "\\textbf{png:} 2"
      ],
      "text/markdown": [
       "**png:** 2"
      ],
      "text/plain": [
       "png \n",
       "  2 "
      ]
     },
     "metadata": {},
     "output_type": "display_data"
    }
   ],
   "source": [
    "png(\"igphyml_all_graph.png\",width=8,height=6,unit=\"in\",res=300)\n",
    "plot(db$trees[[1]],show.node.label=TRUE)\n",
    "add.scale.bar(length=5)\n",
    "dev.off()"
   ]
  },
  {
   "cell_type": "code",
   "execution_count": 13,
   "id": "private-documentation",
   "metadata": {},
   "outputs": [
    {
     "ename": "ERROR",
     "evalue": "Error in parse(text = x, srcfile = src): <text>:8:15: unexpected string constant\n7: print(t(db$param[1,]))\n8: CLONE         \"REPERTOIRE\"\n                 ^\n",
     "output_type": "error",
     "traceback": [
      "Error in parse(text = x, srcfile = src): <text>:8:15: unexpected string constant\n7: print(t(db$param[1,]))\n8: CLONE         \"REPERTOIRE\"\n                 ^\nTraceback:\n"
     ]
    }
   ],
   "source": [
    "db_lineage <- readIgphyml(\"../../changeo_10x/a_r_vac_wt_igphyml-pass.tab\")\n",
    "\n",
    "# Plot largest lineage tree\n",
    "plot(db_lineage$trees[[1]],layout=layout_as_tree)\n",
    "\n",
    "# Show HLP10 parameters\n",
    "print(t(db$param[1,]))\n",
    "CLONE         \"REPERTOIRE\"\n",
    "NSEQ          \"4\"\n",
    "NSITE         \"107\"\n",
    "TREE_LENGTH   \"0.286\"\n",
    "LHOOD         \"-290.7928\"\n",
    "KAPPA_MLE     \"2.266\"\n",
    "OMEGA_FWR_MLE \"0.5284\"\n",
    "OMEGA_CDR_MLE \"2.3324\"\n",
    "WRC_2_MLE     \"4.8019\"\n",
    "GYW_0_MLE     \"3.4464\"\n",
    "WA_1_MLE      \"5.972\"\n",
    "TW_0_MLE      \"0.8131\"\n",
    "SYC_2_MLE     \"-0.99\"\n",
    "GRS_0_MLE     \"0.2583\""
   ]
  }
 ],
 "metadata": {
  "kernelspec": {
   "display_name": "R",
   "language": "R",
   "name": "ir"
  },
  "language_info": {
   "codemirror_mode": "r",
   "file_extension": ".r",
   "mimetype": "text/x-r-source",
   "name": "R",
   "pygments_lexer": "r",
   "version": "4.0.3"
  }
 },
 "nbformat": 4,
 "nbformat_minor": 5
}
