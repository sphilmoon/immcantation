{
 "cells": [
  {
   "cell_type": "code",
   "execution_count": 9,
   "id": "hazardous-object",
   "metadata": {},
   "outputs": [
    {
     "name": "stdout",
     "output_type": "stream",
     "text": [
      "  START> ParseDb\n",
      "COMMAND> select\n",
      "   FILE> filtered_contig_igblast_db-pass.tsv\n",
      " FIELDS> productive\n",
      " VALUES> T\n",
      "  REGEX> False\n",
      "\n",
      "PROGRESS> 09:40:13 |####################| 100% (10,824) 0.0 min\n",
      "\n",
      "   OUTPUT> productive_parse-select.tsv\n",
      "  RECORDS> 10824\n",
      " SELECTED> 10824\n",
      "DISCARDED> 0\n",
      "      END> ParseDb\n",
      "\n"
     ]
    }
   ],
   "source": [
    "!ParseDb.py select -d results_032622_pm/filtered_contig_igblast_db-pass.tsv -f productive -u T --outname productive"
   ]
  },
  {
   "cell_type": "code",
   "execution_count": 16,
   "id": "premium-license",
   "metadata": {},
   "outputs": [
    {
     "name": "stdout",
     "output_type": "stream",
     "text": [
      "  START> ParseDb\n",
      "COMMAND> select\n",
      "   FILE> productive_parse-select.tsv\n",
      " FIELDS> v_call,j_call,c_call\n",
      " VALUES> IGH\n",
      "  REGEX> True\n",
      "\n",
      "PROGRESS> 09:44:48 |####################| 100% (10,824) 0.0 min\n",
      "\n",
      "   OUTPUT> heavy_productive_parse-select.tsv\n",
      "  RECORDS> 10824\n",
      " SELECTED> 4720\n",
      "DISCARDED> 6104\n",
      "      END> ParseDb\n",
      "\n"
     ]
    }
   ],
   "source": [
    "# One output file containing only the H chains\n",
    "!ParseDb.py select -d results_032622_pm/productive_parse-select.tsv -f v_call j_call c_call -u \"IGH\" --logic all --regex --outname heavy_productive"
   ]
  },
  {
   "cell_type": "code",
   "execution_count": 14,
   "id": "falling-cycle",
   "metadata": {},
   "outputs": [
    {
     "name": "stdout",
     "output_type": "stream",
     "text": [
      "  START> ParseDb\n",
      "COMMAND> select\n",
      "   FILE> productive_parse-select.tsv\n",
      " FIELDS> v_call,j_call,c_call\n",
      " VALUES> IG[LK]\n",
      "  REGEX> True\n",
      "\n",
      "PROGRESS> 09:42:37 |####################| 100% (10,824) 0.0 min\n",
      "\n",
      "   OUTPUT> light_productive_parse-select.tsv\n",
      "  RECORDS> 10824\n",
      " SELECTED> 6080\n",
      "DISCARDED> 4744\n",
      "      END> ParseDb\n",
      "\n"
     ]
    }
   ],
   "source": [
    "# One output file containing only the L chains\n",
    "!ParseDb.py select -d results_032622_pm/productive_parse-select.tsv -f v_call j_call c_call -u \"IG[LK]\" --logic all --regex --outname light_productive"
   ]
  }
 ],
 "metadata": {
  "kernelspec": {
   "display_name": "Python 3",
   "language": "python",
   "name": "python3"
  },
  "language_info": {
   "codemirror_mode": {
    "name": "ipython",
    "version": 3
   },
   "file_extension": ".py",
   "mimetype": "text/x-python",
   "name": "python",
   "nbconvert_exporter": "python",
   "pygments_lexer": "ipython3",
   "version": "3.9.1"
  }
 },
 "nbformat": 4,
 "nbformat_minor": 5
}
