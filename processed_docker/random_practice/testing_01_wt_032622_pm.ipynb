{
 "cells": [
  {
   "cell_type": "code",
   "execution_count": 1,
   "id": "loved-manitoba",
   "metadata": {},
   "outputs": [
    {
     "ename": "FileExistsError",
     "evalue": "[Errno 17] File exists: '/home/phil/wt/results_032622_pm'",
     "output_type": "error",
     "traceback": [
      "\u001b[0;31m---------------------------------------------------------------------------\u001b[0m",
      "\u001b[0;31mFileExistsError\u001b[0m                           Traceback (most recent call last)",
      "\u001b[0;32m<ipython-input-1-2c6f73a68ef2>\u001b[0m in \u001b[0;36m<module>\u001b[0;34m\u001b[0m\n\u001b[1;32m      7\u001b[0m \u001b[0;32mimport\u001b[0m \u001b[0mos\u001b[0m\u001b[0;34m\u001b[0m\u001b[0;34m\u001b[0m\u001b[0m\n\u001b[1;32m      8\u001b[0m \u001b[0;34m\u001b[0m\u001b[0m\n\u001b[0;32m----> 9\u001b[0;31m \u001b[0mos\u001b[0m\u001b[0;34m.\u001b[0m\u001b[0mmkdir\u001b[0m\u001b[0;34m(\u001b[0m\u001b[0;34m\"/home/phil/wt/results_032622_pm\"\u001b[0m\u001b[0;34m)\u001b[0m\u001b[0;34m\u001b[0m\u001b[0;34m\u001b[0m\u001b[0m\n\u001b[0m\u001b[1;32m     10\u001b[0m \u001b[0;34m\u001b[0m\u001b[0m\n\u001b[1;32m     11\u001b[0m \u001b[0mget_ipython\u001b[0m\u001b[0;34m(\u001b[0m\u001b[0;34m)\u001b[0m\u001b[0;34m.\u001b[0m\u001b[0msystem\u001b[0m\u001b[0;34m(\u001b[0m\u001b[0;34m'AssignGenes.py igblast -s /home/phil/wt/filtered_contig.fasta  -b /usr/local/share/igblast/ --organism mouse --loci ig  --format blast --nproc 8 --outdir /home/phil/wt/results_032622_pm/'\u001b[0m\u001b[0;34m)\u001b[0m\u001b[0;34m\u001b[0m\u001b[0;34m\u001b[0m\u001b[0m\n",
      "\u001b[0;31mFileExistsError\u001b[0m: [Errno 17] File exists: '/home/phil/wt/results_032622_pm'"
     ]
    }
   ],
   "source": [
    "# 01_AssignGenes.py \n",
    "# Perform VDJ assignment with IgBLAST.\n",
    "# This function use IgBLAST germline reference to assign VDJ sequences of my data. \n",
    "# -s for my input VDJ sequence\n",
    "# -b for the reference database\n",
    "\n",
    "import os\n",
    "\n",
    "os.mkdir(\"/home/phil/wt/results_032622_pm\")\n",
    "\n",
    "!AssignGenes.py igblast -s /home/phil/wt/filtered_contig.fasta \\\n",
    "-b /usr/local/share/igblast/ --organism mouse --loci ig \\\n",
    "--format blast --nproc 8 --outdir /home/phil/wt/results_032622_pm/\n",
    "\n",
    "# 02_MakeDb.py\n",
    "# Converting IgBLAST format (fmt7) into AIRR community format\n",
    "# for downstream analysis. \n",
    "# -s for my input VDJ sequence\n",
    "# - i for inputing IgBLAST result (fmt7)\n",
    "# -r for the IMGT reference database\n",
    "\n",
    "!MakeDb.py igblast -s /home/phil/wt/filtered_contig.fasta \\\n",
    "-i /home/phil/wt/results_032622_pm/filtered_contig_igblast.fmt7 \\\n",
    "--format airr --10x /home/phil/wt/filtered_contig_annotations.csv \\\n",
    "-r /usr/local/share/germlines/imgt/mouse/vdj --outdir /home/phil/wt/results_032622_pm/\n",
    "\n",
    "#03_ParseDb.py\n",
    "# Including the productive H chain sequences\n",
    "# -d for inputing AIRR format IGBLAST assigned VDJ germline sequences\n",
    "# -f for selecting \"productive\" H chains\n",
    "# -u for \"TRUE\" values\n",
    "\n",
    "!ParseDb.py select -d /home/phil/wt/results_032622_pm/filtered_contig_igblast_db-pass.tsv \\\n",
    "-f productive -u T --outdir /home/phil/wt/results_032622_pm/\n",
    "\n",
    "#04_ParseDb.py \n",
    "# Selecting only productive H chain sequences\n",
    "# -d for inputting the previous file\n",
    "# -f for speicifing the v_call column\n",
    "# -u for selecting the H chain \n",
    "# --regex for pattern matching\n",
    "\n",
    "!ParseDb.py select -d /home/phil/wt/results_032622_pm/filtered_contig_igblast_db-pass_parse-select.tsv \\\n",
    "-f v_call -u IGHV --regex --outname heavy_only --outdir /home/phil/wt/results_032622_pm/"
   ]
  },
  {
   "cell_type": "code",
   "execution_count": null,
   "id": "thick-ministry",
   "metadata": {},
   "outputs": [],
   "source": [
    "# Assign clonal groups\n",
    "!DefineClones.py -d results_032622_pm/heavy_productive_parse-select.tsv --vf v_call \\\n",
    "--model ham --norm len --dist 0.01 --format airr --nproc 8 \\\n",
    "--outname heavy_productive_cloned --outdir results_032622_pm/"
   ]
  },
  {
   "cell_type": "code",
   "execution_count": null,
   "id": "velvet-memorial",
   "metadata": {},
   "outputs": [],
   "source": [
    "# Reconstructing VDJ germline sequences\n",
    "# -r for IMGT references used previously\n",
    "# -g dmask removes D segment call for BCR, since it often has low confidence\n",
    "# --cloned for generating a single germline consensus length for each clone\n",
    "!CreateGermlines.py -d results_032622_pm/heavy_productive_cloned_clone-pass.tsv -g dmask --cloned -r /usr/local/share/germlines/imgt/mouse/vdj/imgt_mouse_IGHV.fasta /usr/local/share/germlines/imgt/mouse/vdj/imgt_mouse_IGHD.fasta /usr/local/share/germlines/imgt/mouse/vdj/imgt_mouse_IGHJ.fasta"
   ]
  },
  {
   "cell_type": "code",
   "execution_count": 6,
   "id": "balanced-reserve",
   "metadata": {},
   "outputs": [
    {
     "name": "stdout",
     "output_type": "stream",
     "text": [
      "   START> BuildTrees\n",
      "    FILE> filtered_contig_heavy_germ-pass.tsv\n",
      "COLLAPSE> True\n",
      "\n",
      "PROGRESS> 14:38:46 |Done                                              | 0.0 min\n",
      "\n",
      "        OUTPUT> filtered_contig_heavy_germ-pass_lineages.tsv\n",
      "       RECORDS> 4474\n",
      "INITIAL_FILTER> 28\n",
      "          PASS> 6\n",
      "          FAIL> 22\n",
      " NONFUNCTIONAL> 0\n",
      "FRAMESHIFT_DEL> 0\n",
      "FRAMESHIFT_INS> 0\n",
      " CLONETOOSMALL> 10\n",
      "  CDRFWR_ERROR> 0\n",
      "  GERMLINE_PTC> 0\n",
      "    OTHER_FAIL> 0\n",
      "     DUPLICATE> 12\n",
      "           END> BuildTrees\n",
      "\n",
      "START> IgPhyML GY94 tree estimation\n",
      "\n",
      "    START> IgPhyML HLP analysis\n",
      " OPTIMIZE> lr\n",
      "    TS/TV> e\n",
      "wFWR,wCDR> e,e\n",
      "   MOTIFS> WRC_2:0,GYW_0:1,WA_1:2,TW_0:3,SYC_2:4,GRS_0:5\n",
      "  HOTNESS> e,e,e,e,e,e\n",
      "    NPROC> 8\n",
      "\n",
      "       OUTPUT> changeo_10x_output_032822/filtered_contig_heavy_germ-pass_igphyml-pass.tab\n",
      "  TREE_LENGTH> 0.08\n",
      "        LHOOD> -208.18\n",
      "    KAPPA_MLE> 3.24\n",
      "OMEGA_FWR_MLE> 0.67\n",
      "OMEGA_CDR_MLE> 0.25\n",
      "    WRC_2_MLE> 1.29\n",
      "    GYW_0_MLE> 3.96\n",
      "     WA_1_MLE> 0.64\n",
      "     TW_0_MLE> -0.99\n",
      "    SYC_2_MLE> -0.99\n",
      "    GRS_0_MLE> -0.99\n",
      "\n",
      "START> CLEANING\n",
      "SCOPE> all\n",
      "\n",
      "Traceback (most recent call last):\n",
      "  File \"/usr/local/bin/BuildTrees.py\", line 1364, in <module>\n",
      "    buildTrees(**args_dict)\n",
      "  File \"/usr/local/bin/BuildTrees.py\", line 1251, in buildTrees\n",
      "    runIgPhyML(pass_handle.name, igphyml_out=igphyml_out, clone_dir=clone_dir, nproc=nproc,\n",
      "  File \"/usr/local/bin/BuildTrees.py\", line 1000, in runIgPhyML\n",
      "    os.rmdir(clone_dir)\n",
      "OSError: [Errno 39] Directory not empty: 'changeo_10x_output_032822/filtered_contig_heavy_germ-pass'\n"
     ]
    }
   ],
   "source": [
    "!BuildTrees.py -d changeo_10x_output_032822/filtered_contig_heavy_germ-pass.tsv --minseq 2 --clean all \\\n",
    "    --igphyml --collapse --nproc 8 --asr 0.9"
   ]
  },
  {
   "cell_type": "code",
   "execution_count": 7,
   "id": "ambient-ocean",
   "metadata": {},
   "outputs": [
    {
     "name": "stdout",
     "output_type": "stream",
     "text": [
      "   START> BuildTrees\n",
      "    FILE> filtered_contig_light_productive-T.tsv\n",
      "COLLAPSE> True\n",
      "\n",
      "PROGRESS> 15:35:58 |Correcting frames and indels of sequences         | 0.0 minERROR> Cannot export datasets until sequences are clustered into clones.\n",
      "\n"
     ]
    }
   ],
   "source": [
    "!BuildTrees.py -d changeo_10x_output_032822/filtered_contig_light_productive-T.tsv --minseq 2 --clean all \\\n",
    "    --igphyml --collapse --nproc 8 --asr 0.9"
   ]
  }
 ],
 "metadata": {
  "kernelspec": {
   "display_name": "Python 3",
   "language": "python",
   "name": "python3"
  },
  "language_info": {
   "codemirror_mode": {
    "name": "ipython",
    "version": 3
   },
   "file_extension": ".py",
   "mimetype": "text/x-python",
   "name": "python",
   "nbconvert_exporter": "python",
   "pygments_lexer": "ipython3",
   "version": "3.9.1"
  }
 },
 "nbformat": 4,
 "nbformat_minor": 5
}
