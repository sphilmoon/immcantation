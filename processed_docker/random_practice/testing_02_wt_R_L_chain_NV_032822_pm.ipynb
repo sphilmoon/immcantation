{
 "cells": [
  {
   "cell_type": "code",
   "execution_count": 5,
   "id": "preceding-ridge",
   "metadata": {},
   "outputs": [
    {
     "data": {
      "text/html": [
       "<style>\n",
       ".list-inline {list-style: none; margin:0; padding: 0}\n",
       ".list-inline>li {display: inline-block}\n",
       ".list-inline>li:not(:last-child)::after {content: \"\\00b7\"; padding: 0 .5ex}\n",
       "</style>\n",
       "<ol class=list-inline><li>'sequence_id'</li><li>'sequence'</li><li>'rev_comp'</li><li>'productive'</li><li>'v_call'</li><li>'d_call'</li><li>'j_call'</li><li>'sequence_alignment'</li><li>'germline_alignment'</li><li>'junction'</li><li>'junction_aa'</li><li>'v_cigar'</li><li>'d_cigar'</li><li>'j_cigar'</li><li>'stop_codon'</li><li>'vj_in_frame'</li><li>'locus'</li><li>'junction_length'</li><li>'np1_length'</li><li>'np2_length'</li><li>'v_sequence_start'</li><li>'v_sequence_end'</li><li>'v_germline_start'</li><li>'v_germline_end'</li><li>'d_sequence_start'</li><li>'d_sequence_end'</li><li>'d_germline_start'</li><li>'d_germline_end'</li><li>'j_sequence_start'</li><li>'j_sequence_end'</li><li>'j_germline_start'</li><li>'j_germline_end'</li><li>'cell_id'</li><li>'c_call'</li><li>'consensus_count'</li><li>'umi_count'</li></ol>\n"
      ],
      "text/latex": [
       "\\begin{enumerate*}\n",
       "\\item 'sequence\\_id'\n",
       "\\item 'sequence'\n",
       "\\item 'rev\\_comp'\n",
       "\\item 'productive'\n",
       "\\item 'v\\_call'\n",
       "\\item 'd\\_call'\n",
       "\\item 'j\\_call'\n",
       "\\item 'sequence\\_alignment'\n",
       "\\item 'germline\\_alignment'\n",
       "\\item 'junction'\n",
       "\\item 'junction\\_aa'\n",
       "\\item 'v\\_cigar'\n",
       "\\item 'd\\_cigar'\n",
       "\\item 'j\\_cigar'\n",
       "\\item 'stop\\_codon'\n",
       "\\item 'vj\\_in\\_frame'\n",
       "\\item 'locus'\n",
       "\\item 'junction\\_length'\n",
       "\\item 'np1\\_length'\n",
       "\\item 'np2\\_length'\n",
       "\\item 'v\\_sequence\\_start'\n",
       "\\item 'v\\_sequence\\_end'\n",
       "\\item 'v\\_germline\\_start'\n",
       "\\item 'v\\_germline\\_end'\n",
       "\\item 'd\\_sequence\\_start'\n",
       "\\item 'd\\_sequence\\_end'\n",
       "\\item 'd\\_germline\\_start'\n",
       "\\item 'd\\_germline\\_end'\n",
       "\\item 'j\\_sequence\\_start'\n",
       "\\item 'j\\_sequence\\_end'\n",
       "\\item 'j\\_germline\\_start'\n",
       "\\item 'j\\_germline\\_end'\n",
       "\\item 'cell\\_id'\n",
       "\\item 'c\\_call'\n",
       "\\item 'consensus\\_count'\n",
       "\\item 'umi\\_count'\n",
       "\\end{enumerate*}\n"
      ],
      "text/markdown": [
       "1. 'sequence_id'\n",
       "2. 'sequence'\n",
       "3. 'rev_comp'\n",
       "4. 'productive'\n",
       "5. 'v_call'\n",
       "6. 'd_call'\n",
       "7. 'j_call'\n",
       "8. 'sequence_alignment'\n",
       "9. 'germline_alignment'\n",
       "10. 'junction'\n",
       "11. 'junction_aa'\n",
       "12. 'v_cigar'\n",
       "13. 'd_cigar'\n",
       "14. 'j_cigar'\n",
       "15. 'stop_codon'\n",
       "16. 'vj_in_frame'\n",
       "17. 'locus'\n",
       "18. 'junction_length'\n",
       "19. 'np1_length'\n",
       "20. 'np2_length'\n",
       "21. 'v_sequence_start'\n",
       "22. 'v_sequence_end'\n",
       "23. 'v_germline_start'\n",
       "24. 'v_germline_end'\n",
       "25. 'd_sequence_start'\n",
       "26. 'd_sequence_end'\n",
       "27. 'd_germline_start'\n",
       "28. 'd_germline_end'\n",
       "29. 'j_sequence_start'\n",
       "30. 'j_sequence_end'\n",
       "31. 'j_germline_start'\n",
       "32. 'j_germline_end'\n",
       "33. 'cell_id'\n",
       "34. 'c_call'\n",
       "35. 'consensus_count'\n",
       "36. 'umi_count'\n",
       "\n",
       "\n"
      ],
      "text/plain": [
       " [1] \"sequence_id\"        \"sequence\"           \"rev_comp\"          \n",
       " [4] \"productive\"         \"v_call\"             \"d_call\"            \n",
       " [7] \"j_call\"             \"sequence_alignment\" \"germline_alignment\"\n",
       "[10] \"junction\"           \"junction_aa\"        \"v_cigar\"           \n",
       "[13] \"d_cigar\"            \"j_cigar\"            \"stop_codon\"        \n",
       "[16] \"vj_in_frame\"        \"locus\"              \"junction_length\"   \n",
       "[19] \"np1_length\"         \"np2_length\"         \"v_sequence_start\"  \n",
       "[22] \"v_sequence_end\"     \"v_germline_start\"   \"v_germline_end\"    \n",
       "[25] \"d_sequence_start\"   \"d_sequence_end\"     \"d_germline_start\"  \n",
       "[28] \"d_germline_end\"     \"j_sequence_start\"   \"j_sequence_end\"    \n",
       "[31] \"j_germline_start\"   \"j_germline_end\"     \"cell_id\"           \n",
       "[34] \"c_call\"             \"consensus_count\"    \"umi_count\"         "
      ]
     },
     "metadata": {},
     "output_type": "display_data"
    },
    {
     "data": {
      "text/html": [
       "<strong>IGHV1-11*01:</strong> 'CAGATCCAGCTGCAACAGTCAGGAGCT...GAGCTGGCGAGTCCTGGGGCATCAGTGACACTGTCCTGCAAGGCTTCTGGCTACACATTT............ACTGACCATATTATGAATTGGGTAAAAAAGAGGCCTGGACAGGGCCTTGAGTGGATTGGAAGGATTTATCCAGTA......AGTGGTGAAACTAACTACAATCAAAAGTTCATG...GGCAAGGCCACATTCTCTGTAGACCGGTCCTCCAGCACAGTGTACATGGTGTTGAACAGCCTGACATCTGAGGACCCTGCTGTCTATTACTGTGGAAGG'"
      ],
      "text/latex": [
       "\\textbf{IGHV1-11*01:} 'CAGATCCAGCTGCAACAGTCAGGAGCT...GAGCTGGCGAGTCCTGGGGCATCAGTGACACTGTCCTGCAAGGCTTCTGGCTACACATTT............ACTGACCATATTATGAATTGGGTAAAAAAGAGGCCTGGACAGGGCCTTGAGTGGATTGGAAGGATTTATCCAGTA......AGTGGTGAAACTAACTACAATCAAAAGTTCATG...GGCAAGGCCACATTCTCTGTAGACCGGTCCTCCAGCACAGTGTACATGGTGTTGAACAGCCTGACATCTGAGGACCCTGCTGTCTATTACTGTGGAAGG'"
      ],
      "text/markdown": [
       "**IGHV1-11*01:** 'CAGATCCAGCTGCAACAGTCAGGAGCT...GAGCTGGCGAGTCCTGGGGCATCAGTGACACTGTCCTGCAAGGCTTCTGGCTACACATTT............ACTGACCATATTATGAATTGGGTAAAAAAGAGGCCTGGACAGGGCCTTGAGTGGATTGGAAGGATTTATCCAGTA......AGTGGTGAAACTAACTACAATCAAAAGTTCATG...GGCAAGGCCACATTCTCTGTAGACCGGTCCTCCAGCACAGTGTACATGGTGTTGAACAGCCTGACATCTGAGGACCCTGCTGTCTATTACTGTGGAAGG'"
      ],
      "text/plain": [
       "                                                                                                                                                                                                                                                                                                                     IGHV1-11*01 \n",
       "\"CAGATCCAGCTGCAACAGTCAGGAGCT...GAGCTGGCGAGTCCTGGGGCATCAGTGACACTGTCCTGCAAGGCTTCTGGCTACACATTT............ACTGACCATATTATGAATTGGGTAAAAAAGAGGCCTGGACAGGGCCTTGAGTGGATTGGAAGGATTTATCCAGTA......AGTGGTGAAACTAACTACAATCAAAAGTTCATG...GGCAAGGCCACATTCTCTGTAGACCGGTCCTCCAGCACAGTGTACATGGTGTTGAACAGCCTGACATCTGAGGACCCTGCTGTCTATTACTGTGGAAGG\" "
      ]
     },
     "metadata": {},
     "output_type": "display_data"
    },
    {
     "ename": "ERROR",
     "evalue": "Error in findNovelAlleles(db, germline_db = ighv, nproc = 8): Not enough sample sequences were assigned to any germline:\n  (1) germline_min is too large or\n  (2) sequences names don't match germlines.\n",
     "output_type": "error",
     "traceback": [
      "Error in findNovelAlleles(db, germline_db = ighv, nproc = 8): Not enough sample sequences were assigned to any germline:\n  (1) germline_min is too large or\n  (2) sequences names don't match germlines.\nTraceback:\n",
      "1. findNovelAlleles(db, germline_db = ighv, nproc = 8)",
      "2. stop(stop_message)"
     ]
    }
   ],
   "source": [
    "# Tyring the R session with Alakazam and TIgger\n",
    "\n",
    "# Load required packages\n",
    "library(alakazam)\n",
    "library(tigger)\n",
    "library(dplyr)\n",
    "library(scales)\n",
    "library(ggplot2)\n",
    "library(airr)\n",
    "\n",
    "db <- read_airr(\"/home/phil/wt/results_032622_pm/light_new_parse-select.tsv\")\n",
    "\n",
    "# Show column names\n",
    "colnames(db)\n",
    "\n",
    "# Reading V germline of H chain of the IMGT database reference\n",
    "ighv <- readIgFasta(\"/usr/local/share/germlines/imgt/mouse/vdj/imgt_mouse_IGHV.fasta\")\n",
    "# See first germline\n",
    "ighv[1]\n",
    "\n",
    "# 01_Identifying potential novel V gene alleles from my H chain germline\n",
    "# Find novel alleles\n",
    "nv <- findNovelAlleles(db, germline_db=ighv, nproc=8)"
   ]
  },
  {
   "cell_type": "code",
   "execution_count": 3,
   "id": "transparent-circulation",
   "metadata": {},
   "outputs": [
    {
     "name": "stderr",
     "output_type": "stream",
     "text": [
      "Warning message in cbind(parts$left, ellip_h, parts$right, deparse.level = 0L):\n",
      "“number of rows of result is not a multiple of vector length (arg 2)”\n",
      "Warning message in cbind(parts$left, ellip_h, parts$right, deparse.level = 0L):\n",
      "“number of rows of result is not a multiple of vector length (arg 2)”\n",
      "Warning message in cbind(parts$left, ellip_h, parts$right, deparse.level = 0L):\n",
      "“number of rows of result is not a multiple of vector length (arg 2)”\n",
      "Warning message in cbind(parts$left, ellip_h, parts$right, deparse.level = 0L):\n",
      "“number of rows of result is not a multiple of vector length (arg 2)”\n"
     ]
    },
    {
     "data": {
      "text/html": [
       "<table class=\"dataframe\">\n",
       "<caption>A data.frame: 0 × 30</caption>\n",
       "<thead>\n",
       "\t<tr><th scope=col>germline_call</th><th scope=col>note</th><th scope=col>polymorphism_call</th><th scope=col>nt_substitutions</th><th scope=col>novel_imgt</th><th scope=col>novel_imgt_count</th><th scope=col>novel_imgt_unique_j</th><th scope=col>novel_imgt_unique_cdr3</th><th scope=col>perfect_match_count</th><th scope=col>perfect_match_freq</th><th scope=col>⋯</th><th scope=col>y_intercept_pass</th><th scope=col>snp_pass</th><th scope=col>unmutated_count</th><th scope=col>unmutated_freq</th><th scope=col>unmutated_snp_j_gene_length_count</th><th scope=col>snp_min_seqs_j_max_pass</th><th scope=col>alpha</th><th scope=col>min_seqs</th><th scope=col>j_max</th><th scope=col>min_frac</th></tr>\n",
       "\t<tr><th scope=col>&lt;chr&gt;</th><th scope=col>&lt;chr&gt;</th><th scope=col>&lt;lgl&gt;</th><th scope=col>&lt;lgl&gt;</th><th scope=col>&lt;lgl&gt;</th><th scope=col>&lt;lgl&gt;</th><th scope=col>&lt;lgl&gt;</th><th scope=col>&lt;lgl&gt;</th><th scope=col>&lt;lgl&gt;</th><th scope=col>&lt;lgl&gt;</th><th scope=col>⋯</th><th scope=col>&lt;lgl&gt;</th><th scope=col>&lt;lgl&gt;</th><th scope=col>&lt;lgl&gt;</th><th scope=col>&lt;dbl&gt;</th><th scope=col>&lt;lgl&gt;</th><th scope=col>&lt;lgl&gt;</th><th scope=col>&lt;dbl&gt;</th><th scope=col>&lt;dbl&gt;</th><th scope=col>&lt;dbl&gt;</th><th scope=col>&lt;dbl&gt;</th></tr>\n",
       "</thead>\n",
       "<tbody>\n",
       "</tbody>\n",
       "</table>\n"
      ],
      "text/latex": [
       "A data.frame: 0 × 30\n",
       "\\begin{tabular}{lllllllllllllllllllll}\n",
       " germline\\_call & note & polymorphism\\_call & nt\\_substitutions & novel\\_imgt & novel\\_imgt\\_count & novel\\_imgt\\_unique\\_j & novel\\_imgt\\_unique\\_cdr3 & perfect\\_match\\_count & perfect\\_match\\_freq & ⋯ & y\\_intercept\\_pass & snp\\_pass & unmutated\\_count & unmutated\\_freq & unmutated\\_snp\\_j\\_gene\\_length\\_count & snp\\_min\\_seqs\\_j\\_max\\_pass & alpha & min\\_seqs & j\\_max & min\\_frac\\\\\n",
       " <chr> & <chr> & <lgl> & <lgl> & <lgl> & <lgl> & <lgl> & <lgl> & <lgl> & <lgl> & ⋯ & <lgl> & <lgl> & <lgl> & <dbl> & <lgl> & <lgl> & <dbl> & <dbl> & <dbl> & <dbl>\\\\\n",
       "\\hline\n",
       "\\end{tabular}\n"
      ],
      "text/markdown": [
       "\n",
       "A data.frame: 0 × 30\n",
       "\n",
       "| germline_call &lt;chr&gt; | note &lt;chr&gt; | polymorphism_call &lt;lgl&gt; | nt_substitutions &lt;lgl&gt; | novel_imgt &lt;lgl&gt; | novel_imgt_count &lt;lgl&gt; | novel_imgt_unique_j &lt;lgl&gt; | novel_imgt_unique_cdr3 &lt;lgl&gt; | perfect_match_count &lt;lgl&gt; | perfect_match_freq &lt;lgl&gt; | ⋯ ⋯ | y_intercept_pass &lt;lgl&gt; | snp_pass &lt;lgl&gt; | unmutated_count &lt;lgl&gt; | unmutated_freq &lt;dbl&gt; | unmutated_snp_j_gene_length_count &lt;lgl&gt; | snp_min_seqs_j_max_pass &lt;lgl&gt; | alpha &lt;dbl&gt; | min_seqs &lt;dbl&gt; | j_max &lt;dbl&gt; | min_frac &lt;dbl&gt; |\n",
       "|---|---|---|---|---|---|---|---|---|---|---|---|---|---|---|---|---|---|---|---|---|\n",
       "\n"
      ],
      "text/plain": [
       "     germline_call note polymorphism_call nt_substitutions novel_imgt\n",
       "     novel_imgt_count novel_imgt_unique_j novel_imgt_unique_cdr3\n",
       "     perfect_match_count perfect_match_freq ⋯ y_intercept_pass snp_pass\n",
       "     unmutated_count unmutated_freq unmutated_snp_j_gene_length_count\n",
       "     snp_min_seqs_j_max_pass alpha min_seqs j_max min_frac"
      ]
     },
     "metadata": {},
     "output_type": "display_data"
    }
   ],
   "source": [
    "# show novel alleles\n",
    "selectNovel(nv)"
   ]
  },
  {
   "cell_type": "code",
   "execution_count": 4,
   "id": "renewable-export",
   "metadata": {},
   "outputs": [
    {
     "ename": "ERROR",
     "evalue": "Error in novel_row$pos_min:novel_row$pos_max: NA/NaN argument\n",
     "output_type": "error",
     "traceback": [
      "Error in novel_row$pos_min:novel_row$pos_max: NA/NaN argument\nTraceback:\n",
      "1. plotNovel(db, selectNovel(nv)[1, ])"
     ]
    }
   ],
   "source": [
    "# visualize\n",
    "plotNovel(db, selectNovel(nv)[1,])"
   ]
  }
 ],
 "metadata": {
  "kernelspec": {
   "display_name": "R",
   "language": "R",
   "name": "ir"
  },
  "language_info": {
   "codemirror_mode": "r",
   "file_extension": ".r",
   "mimetype": "text/x-r-source",
   "name": "R",
   "pygments_lexer": "r",
   "version": "4.0.3"
  }
 },
 "nbformat": 4,
 "nbformat_minor": 5
}
