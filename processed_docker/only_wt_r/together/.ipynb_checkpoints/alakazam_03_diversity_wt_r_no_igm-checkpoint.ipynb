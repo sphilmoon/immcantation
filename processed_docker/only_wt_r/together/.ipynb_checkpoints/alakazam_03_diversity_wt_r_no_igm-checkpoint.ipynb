{
 "cells": [
  {
   "cell_type": "code",
   "execution_count": 1,
   "id": "adopted-mechanics",
   "metadata": {},
   "outputs": [
    {
     "name": "stderr",
     "output_type": "stream",
     "text": [
      "Loading required package: ggplot2\n",
      "\n",
      "As of v1.0.0 the AIRR Rearrangement schema is now the default file format.\n",
      "A description of the standard is available at https://docs.airr-community.org.\n",
      "The legacy Change-O format is supported through arguments to each function\n",
      "that allow the input column names to be explicitly defined.\n",
      "\n",
      "\n",
      "Attaching package: ‘dplyr’\n",
      "\n",
      "\n",
      "The following objects are masked from ‘package:stats’:\n",
      "\n",
      "    filter, lag\n",
      "\n",
      "\n",
      "The following objects are masked from ‘package:base’:\n",
      "\n",
      "    intersect, setdiff, setequal, union\n",
      "\n",
      "\n"
     ]
    }
   ],
   "source": [
    "### Diversity analysis ###\n",
    "\n",
    "# \"estimateAbundance\" function infers a complete clonal abundance distribution.\n",
    "# \"alphaDiversity\" function generate a smooth diversity (D) curve is generated over a range of diversity orders (q).\n",
    "# also test the diverstiy (D) at a fixed diversity order (q).\n",
    "\n",
    "# Load required packages\n",
    "library(alakazam)\n",
    "library(dplyr)\n",
    "library(scales)\n",
    "library(ggplot2)\n",
    "\n",
    "### If I run IgG only file, there is almost no diversity to see.\n",
    "db <- readChangeoDb(\"wt_r_NO_igM.tsv\", select = NULL, drop = NULL, seq_upper = TRUE)"
   ]
  },
  {
   "cell_type": "code",
   "execution_count": 2,
   "id": "several-marathon",
   "metadata": {},
   "outputs": [
    {
     "data": {
      "text/html": [
       "<table class=\"dataframe\">\n",
       "<caption>A grouped_df: 5 × 5</caption>\n",
       "<thead>\n",
       "\t<tr><th scope=col>sample_id</th><th scope=col>c_call</th><th scope=col>clone_id</th><th scope=col>seq_count</th><th scope=col>seq_freq</th></tr>\n",
       "\t<tr><th scope=col>&lt;chr&gt;</th><th scope=col>&lt;chr&gt;</th><th scope=col>&lt;chr&gt;</th><th scope=col>&lt;int&gt;</th><th scope=col>&lt;dbl&gt;</th></tr>\n",
       "</thead>\n",
       "<tbody>\n",
       "\t<tr><td>r</td><td>IGHG2C</td><td>590_58 </td><td>25</td><td>0.27777778</td></tr>\n",
       "\t<tr><td>r</td><td>IGHG2C</td><td>398_19 </td><td> 6</td><td>0.06666667</td></tr>\n",
       "\t<tr><td>r</td><td>IGHG2B</td><td>742_378</td><td> 3</td><td>0.11111111</td></tr>\n",
       "\t<tr><td>r</td><td>IGHG2C</td><td>224_114</td><td> 3</td><td>0.03333333</td></tr>\n",
       "\t<tr><td>r</td><td>IGHG2C</td><td>285_32 </td><td> 3</td><td>0.03333333</td></tr>\n",
       "</tbody>\n",
       "</table>\n"
      ],
      "text/latex": [
       "A grouped\\_df: 5 × 5\n",
       "\\begin{tabular}{lllll}\n",
       " sample\\_id & c\\_call & clone\\_id & seq\\_count & seq\\_freq\\\\\n",
       " <chr> & <chr> & <chr> & <int> & <dbl>\\\\\n",
       "\\hline\n",
       "\t r & IGHG2C & 590\\_58  & 25 & 0.27777778\\\\\n",
       "\t r & IGHG2C & 398\\_19  &  6 & 0.06666667\\\\\n",
       "\t r & IGHG2B & 742\\_378 &  3 & 0.11111111\\\\\n",
       "\t r & IGHG2C & 224\\_114 &  3 & 0.03333333\\\\\n",
       "\t r & IGHG2C & 285\\_32  &  3 & 0.03333333\\\\\n",
       "\\end{tabular}\n"
      ],
      "text/markdown": [
       "\n",
       "A grouped_df: 5 × 5\n",
       "\n",
       "| sample_id &lt;chr&gt; | c_call &lt;chr&gt; | clone_id &lt;chr&gt; | seq_count &lt;int&gt; | seq_freq &lt;dbl&gt; |\n",
       "|---|---|---|---|---|\n",
       "| r | IGHG2C | 590_58  | 25 | 0.27777778 |\n",
       "| r | IGHG2C | 398_19  |  6 | 0.06666667 |\n",
       "| r | IGHG2B | 742_378 |  3 | 0.11111111 |\n",
       "| r | IGHG2C | 224_114 |  3 | 0.03333333 |\n",
       "| r | IGHG2C | 285_32  |  3 | 0.03333333 |\n",
       "\n"
      ],
      "text/plain": [
       "  sample_id c_call clone_id seq_count seq_freq  \n",
       "1 r         IGHG2C 590_58   25        0.27777778\n",
       "2 r         IGHG2C 398_19    6        0.06666667\n",
       "3 r         IGHG2B 742_378   3        0.11111111\n",
       "4 r         IGHG2C 224_114   3        0.03333333\n",
       "5 r         IGHG2C 285_32    3        0.03333333"
      ]
     },
     "metadata": {},
     "output_type": "display_data"
    }
   ],
   "source": [
    "# Partitions the data based on the sample column\n",
    "clones <- countClones(db, group=c(\"sample_id\", \"c_call\"), clone=\"clone_id\")\n",
    "head(clones, 5)"
   ]
  },
  {
   "cell_type": "code",
   "execution_count": 3,
   "id": "regulation-rebound",
   "metadata": {},
   "outputs": [
    {
     "name": "stderr",
     "output_type": "stream",
     "text": [
      "Warning message in estimateAbundance(clones, group = \"sample_id\", ci = 0.95, nboot = 200, :\n",
      "“Not all groups passed threshold min_n=30. Excluded: wt”\n"
     ]
    },
    {
     "data": {
      "image/png": "[encoded data removed]",
      "text/plain": [
       "plot without title"
      ]
     },
     "metadata": {
      "image/png": {
       "height": 420,
       "width": 420
      }
     },
     "output_type": "display_data"
    }
   ],
   "source": [
    "# Partitions the data on the sample column\n",
    "# Calculates a 95% confidence interval via 200 bootstrap realizations\n",
    "curve <- estimateAbundance(clones, group=\"sample_id\", ci=0.95, nboot=200, clone=\"clone_id\")\n",
    "\n",
    "# Plots a rank abundance curve of the relative clonal abundances\n",
    "sample_colors <- c(\"r\"=\"deeppink1\", \"wt\"=\"black\")\n",
    "plot(curve, colors = sample_colors, legend_title=\"Sample\")"
   ]
  },
  {
   "cell_type": "code",
   "execution_count": 4,
   "id": "diagnostic-father",
   "metadata": {},
   "outputs": [
    {
     "name": "stderr",
     "output_type": "stream",
     "text": [
      "Warning message in estimateAbundance(data, ci = 0.95, ...):\n",
      "“Not all groups passed threshold min_n=30. Excluded: wt”\n"
     ]
    },
    {
     "data": {
      "image/png": "[encoded data removed]",
      "text/plain": [
       "plot without title"
      ]
     },
     "metadata": {
      "image/png": {
       "height": 420,
       "width": 420
      }
     },
     "output_type": "display_data"
    }
   ],
   "source": [
    "### Generating a diversity curve based on either samples or isotypes.\n",
    "\n",
    "# 1. Using samples.\n",
    "# Compare diversity curve across values in the \"sample\" column\n",
    "# q ranges from 0 (min_q=0) to 4 (max_q=4) in 0.05 increments (step_q=0.05)\n",
    "# A 95% confidence interval will be calculated (ci=0.95)\n",
    "# 200 resampling realizations are performed (nboot=200)\n",
    "sample_curve <- alphaDiversity(clones, group=\"sample_id\", clone=\"clone_id\",\n",
    "                               min_q=0, max_q=40, step_q=0.1,\n",
    "                               ci=0.95, nboot=200)\n",
    "\n",
    "# Plot a log-log (log_q=TRUE, log_d=TRUE) plot of sample diversity\n",
    "# Indicate number of sequences resampled from each group in the title\n",
    "sample_main <- paste0(\"Sample diversity\")\n",
    "sample_colors <- c(\"r\"=\"deeppink1\", \"wt\"=\"black\")\n",
    "plot(sample_curve, colors=sample_colors, main_title=sample_main, \n",
    "     legend_title=\"Sample\")"
   ]
  },
  {
   "cell_type": "code",
   "execution_count": 5,
   "id": "communist-tumor",
   "metadata": {},
   "outputs": [
    {
     "name": "stderr",
     "output_type": "stream",
     "text": [
      "Warning message in estimateAbundance(data, ci = 0.95, ...):\n",
      "“Not all groups passed threshold min_n=30. Excluded: IGHG1, IGHG3”\n"
     ]
    },
    {
     "name": "stdout",
     "output_type": "stream",
     "text": [
      "\u001b[38;5;246m# A tibble: 5 x 5\u001b[39m\n",
      "  test             q     delta_mean delta_sd pvalue\n",
      "  \u001b[3m\u001b[38;5;246m<chr>\u001b[39m\u001b[23m            \u001b[3m\u001b[38;5;246m<chr>\u001b[39m\u001b[23m      \u001b[3m\u001b[38;5;246m<dbl>\u001b[39m\u001b[23m    \u001b[3m\u001b[38;5;246m<dbl>\u001b[39m\u001b[23m  \u001b[3m\u001b[38;5;246m<dbl>\u001b[39m\u001b[23m\n",
      "\u001b[38;5;250m1\u001b[39m IGHG2B != IGHG2C 0          0.7       1.15   0.93\n",
      "\u001b[38;5;250m2\u001b[39m IGHG2B != IGHG2C 1          0.939     1.54   0.93\n",
      "\u001b[38;5;250m3\u001b[39m IGHG2B != IGHG2C 2          1.28      2.10   0.93\n",
      "\u001b[38;5;250m4\u001b[39m IGHG2B != IGHG2C 3          1.72      2.85   0.93\n",
      "\u001b[38;5;250m5\u001b[39m IGHG2B != IGHG2C 4          2.26      3.75   0.93\n"
     ]
    }
   ],
   "source": [
    "# Test diversity at q=0, q=1 and q=2 (equivalent to species richness, Shannon entropy, \n",
    "# Simpson's index) across values in the sample_id column\n",
    "# 200 bootstrap realizations are performed (nboot=200)\n",
    "isotype_test <- alphaDiversity(clones, group=(\"c_call\"), min_q=0, max_q=4, step_q=1, nboot=200, clone=\"clone_id\")\n",
    "\n",
    "# Print P-value table\n",
    "print(isotype_test@tests)"
   ]
  },
  {
   "cell_type": "code",
   "execution_count": 6,
   "id": "opposed-eugene",
   "metadata": {},
   "outputs": [
    {
     "name": "stderr",
     "output_type": "stream",
     "text": [
      "Warning message:\n",
      "“Removed 2 rows containing missing values (geom_point).”\n"
     ]
    },
    {
     "data": {
      "image/png": "[encoded data removed]",
      "text/plain": [
       "plot without title"
      ]
     },
     "metadata": {
      "image/png": {
       "height": 420,
       "width": 420
      }
     },
     "output_type": "display_data"
    }
   ],
   "source": [
    "# Plot results at q=0\n",
    "# Plot the mean and standard deviations at q=0 and q=2\n",
    "plot(isotype_test, 0, colors=IG_COLORS, legend_title=\"Isotype\")"
   ]
  },
  {
   "cell_type": "code",
   "execution_count": 7,
   "id": "public-editing",
   "metadata": {},
   "outputs": [
    {
     "name": "stderr",
     "output_type": "stream",
     "text": [
      "Warning message:\n",
      "“Removed 2 rows containing missing values (geom_point).”\n"
     ]
    },
    {
     "data": {
      "image/png": "[encoded data removed]",
      "text/plain": [
       "plot without title"
      ]
     },
     "metadata": {
      "image/png": {
       "height": 420,
       "width": 420
      }
     },
     "output_type": "display_data"
    }
   ],
   "source": [
    "# Plot results at q=2\n",
    "# Plot the mean and standard deviations at q=0 and q=2\n",
    "plot(isotype_test, 2, colors=IG_COLORS, legend_title=\"Isotype\")"
   ]
  }
 ],
 "metadata": {
  "kernelspec": {
   "display_name": "R",
   "language": "R",
   "name": "ir"
  },
  "language_info": {
   "codemirror_mode": "r",
   "file_extension": ".r",
   "mimetype": "text/x-r-source",
   "name": "R",
   "pygments_lexer": "r",
   "version": "4.0.3"
  }
 },
 "nbformat": 4,
 "nbformat_minor": 5
}
