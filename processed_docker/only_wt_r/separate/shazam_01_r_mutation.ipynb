{
 "cells": [
  {
   "cell_type": "code",
   "execution_count": 2,
   "id": "secure-battle",
   "metadata": {},
   "outputs": [],
   "source": [
    "### Mutation analysis ###\n",
    "# r only - No IgM\n",
    "\n",
    "# observedMutations function calualte the basic mutational load. \n",
    "# Mutations can be calculated as counts or frequencies and divided into replacement (R) or \n",
    "# silent (S) mutations, and subset into FWR and CDR specific mutations. \n",
    "\n",
    "# Import required packages\n",
    "library(alakazam)\n",
    "library(shazam)\n",
    "library(dplyr)\n",
    "library(ggplot2)\n",
    "\n",
    "# loading my tsv as a df\n",
    "require(data.table)\n",
    "my_data <- as.data.frame(fread(\"r_no_igm_filtered_contig_heavy_germ-pass.tsv\"))\n",
    "\n",
    "\n",
    "# Load and subset example data\n",
    "db <- subset(my_data, c_call %in% c(\"IGHA\", \"IGHM\", \"IGHG\",\"IGHD\"))"
   ]
  },
  {
   "cell_type": "code",
   "execution_count": 3,
   "id": "mexican-melissa",
   "metadata": {},
   "outputs": [
    {
     "data": {
      "text/html": [
       "<table class=\"dataframe\">\n",
       "<caption>A data.frame: 10 × 3</caption>\n",
       "<thead>\n",
       "\t<tr><th></th><th scope=col>sequence_id</th><th scope=col>mu_count_seq_r</th><th scope=col>mu_count_seq_s</th></tr>\n",
       "\t<tr><th></th><th scope=col>&lt;chr&gt;</th><th scope=col>&lt;dbl&gt;</th><th scope=col>&lt;dbl&gt;</th></tr>\n",
       "</thead>\n",
       "<tbody>\n",
       "\t<tr><th scope=row>1</th><td>GACTACATCACAATGC-1_contig_1</td><td>16</td><td> 9</td></tr>\n",
       "\t<tr><th scope=row>2</th><td>GCTGCAGAGAGTCTGG-1_contig_2</td><td> 6</td><td> 4</td></tr>\n",
       "\t<tr><th scope=row>3</th><td>TGATTTCCAAGCCCAC-1_contig_2</td><td>10</td><td> 7</td></tr>\n",
       "\t<tr><th scope=row>4</th><td>GGGATGAGTGAGCGAT-1_contig_1</td><td>17</td><td>10</td></tr>\n",
       "\t<tr><th scope=row>5</th><td>GGACAGAGTGTGACCC-1_contig_1</td><td>16</td><td> 8</td></tr>\n",
       "\t<tr><th scope=row>6</th><td>CTCGTCATCAGGTTCA-1_contig_2</td><td> 2</td><td> 0</td></tr>\n",
       "\t<tr><th scope=row>7</th><td>CAGAGAGCATCGGGTC-1_contig_2</td><td> 1</td><td> 0</td></tr>\n",
       "\t<tr><th scope=row>8</th><td>TAGTGGTAGTCAAGGC-1_contig_1</td><td> 7</td><td> 7</td></tr>\n",
       "\t<tr><th scope=row>9</th><td>AAGCCGCAGGAGTAGA-1_contig_2</td><td> 7</td><td> 7</td></tr>\n",
       "\t<tr><th scope=row>10</th><td>CATCGGGGTGACGCCT-1_contig_1</td><td> 5</td><td> 1</td></tr>\n",
       "</tbody>\n",
       "</table>\n"
      ],
      "text/latex": [
       "A data.frame: 10 × 3\n",
       "\\begin{tabular}{r|lll}\n",
       "  & sequence\\_id & mu\\_count\\_seq\\_r & mu\\_count\\_seq\\_s\\\\\n",
       "  & <chr> & <dbl> & <dbl>\\\\\n",
       "\\hline\n",
       "\t1 & GACTACATCACAATGC-1\\_contig\\_1 & 16 &  9\\\\\n",
       "\t2 & GCTGCAGAGAGTCTGG-1\\_contig\\_2 &  6 &  4\\\\\n",
       "\t3 & TGATTTCCAAGCCCAC-1\\_contig\\_2 & 10 &  7\\\\\n",
       "\t4 & GGGATGAGTGAGCGAT-1\\_contig\\_1 & 17 & 10\\\\\n",
       "\t5 & GGACAGAGTGTGACCC-1\\_contig\\_1 & 16 &  8\\\\\n",
       "\t6 & CTCGTCATCAGGTTCA-1\\_contig\\_2 &  2 &  0\\\\\n",
       "\t7 & CAGAGAGCATCGGGTC-1\\_contig\\_2 &  1 &  0\\\\\n",
       "\t8 & TAGTGGTAGTCAAGGC-1\\_contig\\_1 &  7 &  7\\\\\n",
       "\t9 & AAGCCGCAGGAGTAGA-1\\_contig\\_2 &  7 &  7\\\\\n",
       "\t10 & CATCGGGGTGACGCCT-1\\_contig\\_1 &  5 &  1\\\\\n",
       "\\end{tabular}\n"
      ],
      "text/markdown": [
       "\n",
       "A data.frame: 10 × 3\n",
       "\n",
       "| <!--/--> | sequence_id &lt;chr&gt; | mu_count_seq_r &lt;dbl&gt; | mu_count_seq_s &lt;dbl&gt; |\n",
       "|---|---|---|---|\n",
       "| 1 | GACTACATCACAATGC-1_contig_1 | 16 |  9 |\n",
       "| 2 | GCTGCAGAGAGTCTGG-1_contig_2 |  6 |  4 |\n",
       "| 3 | TGATTTCCAAGCCCAC-1_contig_2 | 10 |  7 |\n",
       "| 4 | GGGATGAGTGAGCGAT-1_contig_1 | 17 | 10 |\n",
       "| 5 | GGACAGAGTGTGACCC-1_contig_1 | 16 |  8 |\n",
       "| 6 | CTCGTCATCAGGTTCA-1_contig_2 |  2 |  0 |\n",
       "| 7 | CAGAGAGCATCGGGTC-1_contig_2 |  1 |  0 |\n",
       "| 8 | TAGTGGTAGTCAAGGC-1_contig_1 |  7 |  7 |\n",
       "| 9 | AAGCCGCAGGAGTAGA-1_contig_2 |  7 |  7 |\n",
       "| 10 | CATCGGGGTGACGCCT-1_contig_1 |  5 |  1 |\n",
       "\n"
      ],
      "text/plain": [
       "   sequence_id                 mu_count_seq_r mu_count_seq_s\n",
       "1  GACTACATCACAATGC-1_contig_1 16              9            \n",
       "2  GCTGCAGAGAGTCTGG-1_contig_2  6              4            \n",
       "3  TGATTTCCAAGCCCAC-1_contig_2 10              7            \n",
       "4  GGGATGAGTGAGCGAT-1_contig_1 17             10            \n",
       "5  GGACAGAGTGTGACCC-1_contig_1 16              8            \n",
       "6  CTCGTCATCAGGTTCA-1_contig_2  2              0            \n",
       "7  CAGAGAGCATCGGGTC-1_contig_2  1              0            \n",
       "8  TAGTGGTAGTCAAGGC-1_contig_1  7              7            \n",
       "9  AAGCCGCAGGAGTAGA-1_contig_2  7              7            \n",
       "10 CATCGGGGTGACGCCT-1_contig_1  5              1            "
      ]
     },
     "metadata": {},
     "output_type": "display_data"
    }
   ],
   "source": [
    "# Calculate R and S mutation counts\n",
    "db_obs <- observedMutations(db, sequenceColumn=\"sequence_alignment\",\n",
    "                            germlineColumn=\"germline_alignment_d_mask\",\n",
    "                            regionDefinition=NULL,\n",
    "                            frequency=FALSE, \n",
    "                            nproc=1)\n",
    "# Show new mutation count columns\n",
    "db_obs %>% \n",
    "    select(sequence_id, starts_with(\"mu_count_\")) %>%\n",
    "    head(n=10)"
   ]
  },
  {
   "cell_type": "code",
   "execution_count": 4,
   "id": "incorporated-wrapping",
   "metadata": {},
   "outputs": [
    {
     "data": {
      "text/html": [
       "<table class=\"dataframe\">\n",
       "<caption>A data.frame: 10 × 3</caption>\n",
       "<thead>\n",
       "\t<tr><th></th><th scope=col>sequence_id</th><th scope=col>mu_freq_seq_r</th><th scope=col>mu_freq_seq_s</th></tr>\n",
       "\t<tr><th></th><th scope=col>&lt;chr&gt;</th><th scope=col>&lt;dbl&gt;</th><th scope=col>&lt;dbl&gt;</th></tr>\n",
       "</thead>\n",
       "<tbody>\n",
       "\t<tr><th scope=row>1</th><td>GACTACATCACAATGC-1_contig_1</td><td>0.047058824</td><td>0.026470588</td></tr>\n",
       "\t<tr><th scope=row>2</th><td>GCTGCAGAGAGTCTGG-1_contig_2</td><td>0.017595308</td><td>0.011730205</td></tr>\n",
       "\t<tr><th scope=row>3</th><td>TGATTTCCAAGCCCAC-1_contig_2</td><td>0.029585799</td><td>0.020710059</td></tr>\n",
       "\t<tr><th scope=row>4</th><td>GGGATGAGTGAGCGAT-1_contig_1</td><td>0.050445104</td><td>0.029673591</td></tr>\n",
       "\t<tr><th scope=row>5</th><td>GGACAGAGTGTGACCC-1_contig_1</td><td>0.047337278</td><td>0.023668639</td></tr>\n",
       "\t<tr><th scope=row>6</th><td>CTCGTCATCAGGTTCA-1_contig_2</td><td>0.005830904</td><td>0.000000000</td></tr>\n",
       "\t<tr><th scope=row>7</th><td>CAGAGAGCATCGGGTC-1_contig_2</td><td>0.002932551</td><td>0.000000000</td></tr>\n",
       "\t<tr><th scope=row>8</th><td>TAGTGGTAGTCAAGGC-1_contig_1</td><td>0.020958084</td><td>0.020958084</td></tr>\n",
       "\t<tr><th scope=row>9</th><td>AAGCCGCAGGAGTAGA-1_contig_2</td><td>0.020958084</td><td>0.020958084</td></tr>\n",
       "\t<tr><th scope=row>10</th><td>CATCGGGGTGACGCCT-1_contig_1</td><td>0.014749263</td><td>0.002949853</td></tr>\n",
       "</tbody>\n",
       "</table>\n"
      ],
      "text/latex": [
       "A data.frame: 10 × 3\n",
       "\\begin{tabular}{r|lll}\n",
       "  & sequence\\_id & mu\\_freq\\_seq\\_r & mu\\_freq\\_seq\\_s\\\\\n",
       "  & <chr> & <dbl> & <dbl>\\\\\n",
       "\\hline\n",
       "\t1 & GACTACATCACAATGC-1\\_contig\\_1 & 0.047058824 & 0.026470588\\\\\n",
       "\t2 & GCTGCAGAGAGTCTGG-1\\_contig\\_2 & 0.017595308 & 0.011730205\\\\\n",
       "\t3 & TGATTTCCAAGCCCAC-1\\_contig\\_2 & 0.029585799 & 0.020710059\\\\\n",
       "\t4 & GGGATGAGTGAGCGAT-1\\_contig\\_1 & 0.050445104 & 0.029673591\\\\\n",
       "\t5 & GGACAGAGTGTGACCC-1\\_contig\\_1 & 0.047337278 & 0.023668639\\\\\n",
       "\t6 & CTCGTCATCAGGTTCA-1\\_contig\\_2 & 0.005830904 & 0.000000000\\\\\n",
       "\t7 & CAGAGAGCATCGGGTC-1\\_contig\\_2 & 0.002932551 & 0.000000000\\\\\n",
       "\t8 & TAGTGGTAGTCAAGGC-1\\_contig\\_1 & 0.020958084 & 0.020958084\\\\\n",
       "\t9 & AAGCCGCAGGAGTAGA-1\\_contig\\_2 & 0.020958084 & 0.020958084\\\\\n",
       "\t10 & CATCGGGGTGACGCCT-1\\_contig\\_1 & 0.014749263 & 0.002949853\\\\\n",
       "\\end{tabular}\n"
      ],
      "text/markdown": [
       "\n",
       "A data.frame: 10 × 3\n",
       "\n",
       "| <!--/--> | sequence_id &lt;chr&gt; | mu_freq_seq_r &lt;dbl&gt; | mu_freq_seq_s &lt;dbl&gt; |\n",
       "|---|---|---|---|\n",
       "| 1 | GACTACATCACAATGC-1_contig_1 | 0.047058824 | 0.026470588 |\n",
       "| 2 | GCTGCAGAGAGTCTGG-1_contig_2 | 0.017595308 | 0.011730205 |\n",
       "| 3 | TGATTTCCAAGCCCAC-1_contig_2 | 0.029585799 | 0.020710059 |\n",
       "| 4 | GGGATGAGTGAGCGAT-1_contig_1 | 0.050445104 | 0.029673591 |\n",
       "| 5 | GGACAGAGTGTGACCC-1_contig_1 | 0.047337278 | 0.023668639 |\n",
       "| 6 | CTCGTCATCAGGTTCA-1_contig_2 | 0.005830904 | 0.000000000 |\n",
       "| 7 | CAGAGAGCATCGGGTC-1_contig_2 | 0.002932551 | 0.000000000 |\n",
       "| 8 | TAGTGGTAGTCAAGGC-1_contig_1 | 0.020958084 | 0.020958084 |\n",
       "| 9 | AAGCCGCAGGAGTAGA-1_contig_2 | 0.020958084 | 0.020958084 |\n",
       "| 10 | CATCGGGGTGACGCCT-1_contig_1 | 0.014749263 | 0.002949853 |\n",
       "\n"
      ],
      "text/plain": [
       "   sequence_id                 mu_freq_seq_r mu_freq_seq_s\n",
       "1  GACTACATCACAATGC-1_contig_1 0.047058824   0.026470588  \n",
       "2  GCTGCAGAGAGTCTGG-1_contig_2 0.017595308   0.011730205  \n",
       "3  TGATTTCCAAGCCCAC-1_contig_2 0.029585799   0.020710059  \n",
       "4  GGGATGAGTGAGCGAT-1_contig_1 0.050445104   0.029673591  \n",
       "5  GGACAGAGTGTGACCC-1_contig_1 0.047337278   0.023668639  \n",
       "6  CTCGTCATCAGGTTCA-1_contig_2 0.005830904   0.000000000  \n",
       "7  CAGAGAGCATCGGGTC-1_contig_2 0.002932551   0.000000000  \n",
       "8  TAGTGGTAGTCAAGGC-1_contig_1 0.020958084   0.020958084  \n",
       "9  AAGCCGCAGGAGTAGA-1_contig_2 0.020958084   0.020958084  \n",
       "10 CATCGGGGTGACGCCT-1_contig_1 0.014749263   0.002949853  "
      ]
     },
     "metadata": {},
     "output_type": "display_data"
    }
   ],
   "source": [
    "# Calculate R and S mutation frequencies\n",
    "db_obs <- observedMutations(db_obs, sequenceColumn=\"sequence_alignment\",\n",
    "                            germlineColumn=\"germline_alignment_d_mask\",\n",
    "                            regionDefinition=NULL,\n",
    "                            frequency=TRUE, \n",
    "                            nproc=1)\n",
    "# Show new mutation frequency columns\n",
    "db_obs %>% \n",
    "    select(sequence_id, starts_with(\"mu_freq_\")) %>%\n",
    "    head(n=10)"
   ]
  },
  {
   "cell_type": "code",
   "execution_count": 5,
   "id": "august-indication",
   "metadata": {},
   "outputs": [
    {
     "data": {
      "text/html": [
       "<table class=\"dataframe\">\n",
       "<caption>A data.frame: 4 × 1</caption>\n",
       "<thead>\n",
       "\t<tr><th></th><th scope=col>sequence_id</th></tr>\n",
       "\t<tr><th></th><th scope=col>&lt;chr&gt;</th></tr>\n",
       "</thead>\n",
       "<tbody>\n",
       "\t<tr><th scope=row>1</th><td>GACTACATCACAATGC-1_contig_1</td></tr>\n",
       "\t<tr><th scope=row>2</th><td>GCTGCAGAGAGTCTGG-1_contig_2</td></tr>\n",
       "\t<tr><th scope=row>3</th><td>TGATTTCCAAGCCCAC-1_contig_2</td></tr>\n",
       "\t<tr><th scope=row>4</th><td>GGGATGAGTGAGCGAT-1_contig_1</td></tr>\n",
       "</tbody>\n",
       "</table>\n"
      ],
      "text/latex": [
       "A data.frame: 4 × 1\n",
       "\\begin{tabular}{r|l}\n",
       "  & sequence\\_id\\\\\n",
       "  & <chr>\\\\\n",
       "\\hline\n",
       "\t1 & GACTACATCACAATGC-1\\_contig\\_1\\\\\n",
       "\t2 & GCTGCAGAGAGTCTGG-1\\_contig\\_2\\\\\n",
       "\t3 & TGATTTCCAAGCCCAC-1\\_contig\\_2\\\\\n",
       "\t4 & GGGATGAGTGAGCGAT-1\\_contig\\_1\\\\\n",
       "\\end{tabular}\n"
      ],
      "text/markdown": [
       "\n",
       "A data.frame: 4 × 1\n",
       "\n",
       "| <!--/--> | sequence_id &lt;chr&gt; |\n",
       "|---|---|\n",
       "| 1 | GACTACATCACAATGC-1_contig_1 |\n",
       "| 2 | GCTGCAGAGAGTCTGG-1_contig_2 |\n",
       "| 3 | TGATTTCCAAGCCCAC-1_contig_2 |\n",
       "| 4 | GGGATGAGTGAGCGAT-1_contig_1 |\n",
       "\n"
      ],
      "text/plain": [
       "  sequence_id                \n",
       "1 GACTACATCACAATGC-1_contig_1\n",
       "2 GCTGCAGAGAGTCTGG-1_contig_2\n",
       "3 TGATTTCCAAGCCCAC-1_contig_2\n",
       "4 GGGATGAGTGAGCGAT-1_contig_1"
      ]
     },
     "metadata": {},
     "output_type": "display_data"
    }
   ],
   "source": [
    "# Calculate combined R and S mutation frequencies\n",
    "db_obs <- observedMutations(db, sequenceColumn=\"sequence_alignment\",\n",
    "                            germlineColumn=\"germline_alignment_d_mask\",\n",
    "                            regionDefinition=NULL,\n",
    "                            frequency=TRUE, \n",
    "                            combine=TRUE,\n",
    "                            nproc=1)\n",
    "# Show new mutation frequency columns\n",
    "db_obs %>% \n",
    "    select(sequence_id, starts_with(\"mu_freq_\")) %>%\n",
    "    head(n=4)"
   ]
  },
  {
   "cell_type": "code",
   "execution_count": 6,
   "id": "rental-ensemble",
   "metadata": {},
   "outputs": [
    {
     "data": {
      "image/png": "[encoded data removed]",
      "text/plain": [
       "plot without title"
      ]
     },
     "metadata": {
      "image/png": {
       "height": 420,
       "width": 420
      }
     },
     "output_type": "display_data"
    }
   ],
   "source": [
    "g1 <- ggplot(db_obs, aes(x=c_call, y=mu_freq, fill=c_call)) +\n",
    "    theme_bw() + ggtitle(\"Total mutations\") +\n",
    "    xlab(\"Isotype\") + ylab(\"Mutation frequency\") +\n",
    "    scale_fill_manual(name=\"Isotype\", values=IG_COLORS) +\n",
    "    geom_boxplot()\n",
    "plot(g1)"
   ]
  },
  {
   "cell_type": "code",
   "execution_count": 7,
   "id": "sweet-convertible",
   "metadata": {},
   "outputs": [
    {
     "data": {
      "text/html": [
       "<table class=\"dataframe\">\n",
       "<caption>A data.frame: 4 × 7</caption>\n",
       "<thead>\n",
       "\t<tr><th></th><th scope=col>sequence_id</th><th scope=col>mu_count_fwr1_r</th><th scope=col>mu_count_fwr1_s</th><th scope=col>mu_count_fwr2_r</th><th scope=col>mu_count_fwr2_s</th><th scope=col>mu_count_fwr3_r</th><th scope=col>mu_count_fwr3_s</th></tr>\n",
       "\t<tr><th></th><th scope=col>&lt;chr&gt;</th><th scope=col>&lt;dbl&gt;</th><th scope=col>&lt;dbl&gt;</th><th scope=col>&lt;dbl&gt;</th><th scope=col>&lt;dbl&gt;</th><th scope=col>&lt;dbl&gt;</th><th scope=col>&lt;dbl&gt;</th></tr>\n",
       "</thead>\n",
       "<tbody>\n",
       "\t<tr><th scope=row>1</th><td>GACTACATCACAATGC-1_contig_1</td><td>3</td><td>1</td><td>2</td><td>2</td><td>5</td><td>5</td></tr>\n",
       "\t<tr><th scope=row>2</th><td>GCTGCAGAGAGTCTGG-1_contig_2</td><td>2</td><td>1</td><td>0</td><td>1</td><td>1</td><td>2</td></tr>\n",
       "\t<tr><th scope=row>3</th><td>TGATTTCCAAGCCCAC-1_contig_2</td><td>1</td><td>0</td><td>1</td><td>1</td><td>3</td><td>2</td></tr>\n",
       "\t<tr><th scope=row>4</th><td>GGGATGAGTGAGCGAT-1_contig_1</td><td>3</td><td>2</td><td>3</td><td>1</td><td>4</td><td>4</td></tr>\n",
       "</tbody>\n",
       "</table>\n"
      ],
      "text/latex": [
       "A data.frame: 4 × 7\n",
       "\\begin{tabular}{r|lllllll}\n",
       "  & sequence\\_id & mu\\_count\\_fwr1\\_r & mu\\_count\\_fwr1\\_s & mu\\_count\\_fwr2\\_r & mu\\_count\\_fwr2\\_s & mu\\_count\\_fwr3\\_r & mu\\_count\\_fwr3\\_s\\\\\n",
       "  & <chr> & <dbl> & <dbl> & <dbl> & <dbl> & <dbl> & <dbl>\\\\\n",
       "\\hline\n",
       "\t1 & GACTACATCACAATGC-1\\_contig\\_1 & 3 & 1 & 2 & 2 & 5 & 5\\\\\n",
       "\t2 & GCTGCAGAGAGTCTGG-1\\_contig\\_2 & 2 & 1 & 0 & 1 & 1 & 2\\\\\n",
       "\t3 & TGATTTCCAAGCCCAC-1\\_contig\\_2 & 1 & 0 & 1 & 1 & 3 & 2\\\\\n",
       "\t4 & GGGATGAGTGAGCGAT-1\\_contig\\_1 & 3 & 2 & 3 & 1 & 4 & 4\\\\\n",
       "\\end{tabular}\n"
      ],
      "text/markdown": [
       "\n",
       "A data.frame: 4 × 7\n",
       "\n",
       "| <!--/--> | sequence_id &lt;chr&gt; | mu_count_fwr1_r &lt;dbl&gt; | mu_count_fwr1_s &lt;dbl&gt; | mu_count_fwr2_r &lt;dbl&gt; | mu_count_fwr2_s &lt;dbl&gt; | mu_count_fwr3_r &lt;dbl&gt; | mu_count_fwr3_s &lt;dbl&gt; |\n",
       "|---|---|---|---|---|---|---|---|\n",
       "| 1 | GACTACATCACAATGC-1_contig_1 | 3 | 1 | 2 | 2 | 5 | 5 |\n",
       "| 2 | GCTGCAGAGAGTCTGG-1_contig_2 | 2 | 1 | 0 | 1 | 1 | 2 |\n",
       "| 3 | TGATTTCCAAGCCCAC-1_contig_2 | 1 | 0 | 1 | 1 | 3 | 2 |\n",
       "| 4 | GGGATGAGTGAGCGAT-1_contig_1 | 3 | 2 | 3 | 1 | 4 | 4 |\n",
       "\n"
      ],
      "text/plain": [
       "  sequence_id                 mu_count_fwr1_r mu_count_fwr1_s mu_count_fwr2_r\n",
       "1 GACTACATCACAATGC-1_contig_1 3               1               2              \n",
       "2 GCTGCAGAGAGTCTGG-1_contig_2 2               1               0              \n",
       "3 TGATTTCCAAGCCCAC-1_contig_2 1               0               1              \n",
       "4 GGGATGAGTGAGCGAT-1_contig_1 3               2               3              \n",
       "  mu_count_fwr2_s mu_count_fwr3_r mu_count_fwr3_s\n",
       "1 2               5               5              \n",
       "2 1               1               2              \n",
       "3 1               3               2              \n",
       "4 1               4               4              "
      ]
     },
     "metadata": {},
     "output_type": "display_data"
    }
   ],
   "source": [
    "# Calculate R and S mutation counts for individual CDRs and FWRs\n",
    "db_obs_v <- observedMutations(db, sequenceColumn=\"sequence_alignment\",\n",
    "                              germlineColumn=\"germline_alignment_d_mask\",\n",
    "                              regionDefinition=IMGT_V_BY_REGIONS,\n",
    "                              frequency=FALSE, \n",
    "                              nproc=1)\n",
    "# Show new FWR mutation columns\n",
    "db_obs_v %>% \n",
    "    select(sequence_id, starts_with(\"mu_count_fwr\")) %>%\n",
    "    head(n=4)"
   ]
  },
  {
   "cell_type": "code",
   "execution_count": 8,
   "id": "demonstrated-external",
   "metadata": {},
   "outputs": [
    {
     "data": {
      "text/html": [
       "<table class=\"dataframe\">\n",
       "<caption>A data.frame: 4 × 5</caption>\n",
       "<thead>\n",
       "\t<tr><th></th><th scope=col>sequence_id</th><th scope=col>mu_freq_cdr_r</th><th scope=col>mu_freq_cdr_s</th><th scope=col>mu_freq_fwr_r</th><th scope=col>mu_freq_fwr_s</th></tr>\n",
       "\t<tr><th></th><th scope=col>&lt;chr&gt;</th><th scope=col>&lt;dbl&gt;</th><th scope=col>&lt;dbl&gt;</th><th scope=col>&lt;dbl&gt;</th><th scope=col>&lt;dbl&gt;</th></tr>\n",
       "</thead>\n",
       "<tbody>\n",
       "\t<tr><th scope=row>1</th><td>GACTACATCACAATGC-1_contig_1</td><td>0.10416667</td><td>0.02083333</td><td>0.04166667</td><td>0.03333333</td></tr>\n",
       "\t<tr><th scope=row>2</th><td>GCTGCAGAGAGTCTGG-1_contig_2</td><td>0.02083333</td><td>0.00000000</td><td>0.01250000</td><td>0.01666667</td></tr>\n",
       "\t<tr><th scope=row>3</th><td>TGATTTCCAAGCCCAC-1_contig_2</td><td>0.10416667</td><td>0.06250000</td><td>0.02083333</td><td>0.01250000</td></tr>\n",
       "\t<tr><th scope=row>4</th><td>GGGATGAGTGAGCGAT-1_contig_1</td><td>0.12500000</td><td>0.04166667</td><td>0.04166667</td><td>0.02916667</td></tr>\n",
       "</tbody>\n",
       "</table>\n"
      ],
      "text/latex": [
       "A data.frame: 4 × 5\n",
       "\\begin{tabular}{r|lllll}\n",
       "  & sequence\\_id & mu\\_freq\\_cdr\\_r & mu\\_freq\\_cdr\\_s & mu\\_freq\\_fwr\\_r & mu\\_freq\\_fwr\\_s\\\\\n",
       "  & <chr> & <dbl> & <dbl> & <dbl> & <dbl>\\\\\n",
       "\\hline\n",
       "\t1 & GACTACATCACAATGC-1\\_contig\\_1 & 0.10416667 & 0.02083333 & 0.04166667 & 0.03333333\\\\\n",
       "\t2 & GCTGCAGAGAGTCTGG-1\\_contig\\_2 & 0.02083333 & 0.00000000 & 0.01250000 & 0.01666667\\\\\n",
       "\t3 & TGATTTCCAAGCCCAC-1\\_contig\\_2 & 0.10416667 & 0.06250000 & 0.02083333 & 0.01250000\\\\\n",
       "\t4 & GGGATGAGTGAGCGAT-1\\_contig\\_1 & 0.12500000 & 0.04166667 & 0.04166667 & 0.02916667\\\\\n",
       "\\end{tabular}\n"
      ],
      "text/markdown": [
       "\n",
       "A data.frame: 4 × 5\n",
       "\n",
       "| <!--/--> | sequence_id &lt;chr&gt; | mu_freq_cdr_r &lt;dbl&gt; | mu_freq_cdr_s &lt;dbl&gt; | mu_freq_fwr_r &lt;dbl&gt; | mu_freq_fwr_s &lt;dbl&gt; |\n",
       "|---|---|---|---|---|---|\n",
       "| 1 | GACTACATCACAATGC-1_contig_1 | 0.10416667 | 0.02083333 | 0.04166667 | 0.03333333 |\n",
       "| 2 | GCTGCAGAGAGTCTGG-1_contig_2 | 0.02083333 | 0.00000000 | 0.01250000 | 0.01666667 |\n",
       "| 3 | TGATTTCCAAGCCCAC-1_contig_2 | 0.10416667 | 0.06250000 | 0.02083333 | 0.01250000 |\n",
       "| 4 | GGGATGAGTGAGCGAT-1_contig_1 | 0.12500000 | 0.04166667 | 0.04166667 | 0.02916667 |\n",
       "\n"
      ],
      "text/plain": [
       "  sequence_id                 mu_freq_cdr_r mu_freq_cdr_s mu_freq_fwr_r\n",
       "1 GACTACATCACAATGC-1_contig_1 0.10416667    0.02083333    0.04166667   \n",
       "2 GCTGCAGAGAGTCTGG-1_contig_2 0.02083333    0.00000000    0.01250000   \n",
       "3 TGATTTCCAAGCCCAC-1_contig_2 0.10416667    0.06250000    0.02083333   \n",
       "4 GGGATGAGTGAGCGAT-1_contig_1 0.12500000    0.04166667    0.04166667   \n",
       "  mu_freq_fwr_s\n",
       "1 0.03333333   \n",
       "2 0.01666667   \n",
       "3 0.01250000   \n",
       "4 0.02916667   "
      ]
     },
     "metadata": {},
     "output_type": "display_data"
    }
   ],
   "source": [
    "# Calculate aggregate CDR and FWR V-segment R and S mutation frequencies\n",
    "db_obs_v <- observedMutations(db_obs_v, sequenceColumn=\"sequence_alignment\",\n",
    "                              germlineColumn=\"germline_alignment_d_mask\",\n",
    "                              regionDefinition=IMGT_V,\n",
    "                              frequency=TRUE, \n",
    "                              nproc=1)\n",
    "# Show new CDR and FWR mutation frequency columns\n",
    "db_obs_v %>% \n",
    "    select(sequence_id, starts_with(\"mu_freq_\")) %>%\n",
    "    head(n=4)"
   ]
  },
  {
   "cell_type": "code",
   "execution_count": 9,
   "id": "clear-income",
   "metadata": {},
   "outputs": [
    {
     "data": {
      "image/png": "[encoded data removed]",
      "text/plain": [
       "plot without title"
      ]
     },
     "metadata": {
      "image/png": {
       "height": 420,
       "width": 420
      }
     },
     "output_type": "display_data"
    }
   ],
   "source": [
    "g2 <- ggplot(db_obs_v, aes(x=c_call, y=mu_freq_cdr_s, fill=c_call)) +\n",
    "    theme_bw() + ggtitle(\"CDR silent mutations\") +\n",
    "    xlab(\"Isotype\") + ylab(\"Mutation frequency\") +\n",
    "    scale_fill_manual(name=\"Isotype\", values=IG_COLORS) +\n",
    "    geom_boxplot()\n",
    "g3 <- ggplot(db_obs_v, aes(x=c_call, y=mu_freq_cdr_r, fill=c_call)) +\n",
    "    theme_bw() + ggtitle(\"CDR replacement mutations\") +\n",
    "    xlab(\"Isotype\") + ylab(\"Mutation frequency\") +\n",
    "    scale_fill_manual(name=\"Isotype\", values=IG_COLORS) +\n",
    "    geom_boxplot()\n",
    "alakazam::gridPlot(g2, g3, ncol=2)"
   ]
  },
  {
   "cell_type": "code",
   "execution_count": 10,
   "id": "civilian-infrastructure",
   "metadata": {},
   "outputs": [
    {
     "data": {
      "text/html": [
       "<table class=\"dataframe\">\n",
       "<caption>A data.frame: 4 × 3</caption>\n",
       "<thead>\n",
       "\t<tr><th></th><th scope=col>sequence_id</th><th scope=col>mu_freq_seq_r</th><th scope=col>mu_freq_seq_s</th></tr>\n",
       "\t<tr><th></th><th scope=col>&lt;chr&gt;</th><th scope=col>&lt;dbl&gt;</th><th scope=col>&lt;dbl&gt;</th></tr>\n",
       "</thead>\n",
       "<tbody>\n",
       "\t<tr><th scope=row>1</th><td>GACTACATCACAATGC-1_contig_1</td><td>0.014705882</td><td>0.05882353</td></tr>\n",
       "\t<tr><th scope=row>2</th><td>GCTGCAGAGAGTCTGG-1_contig_2</td><td>0.002932551</td><td>0.02639296</td></tr>\n",
       "\t<tr><th scope=row>3</th><td>TGATTTCCAAGCCCAC-1_contig_2</td><td>0.002958580</td><td>0.04733728</td></tr>\n",
       "\t<tr><th scope=row>4</th><td>GGGATGAGTGAGCGAT-1_contig_1</td><td>0.002967359</td><td>0.07715134</td></tr>\n",
       "</tbody>\n",
       "</table>\n"
      ],
      "text/latex": [
       "A data.frame: 4 × 3\n",
       "\\begin{tabular}{r|lll}\n",
       "  & sequence\\_id & mu\\_freq\\_seq\\_r & mu\\_freq\\_seq\\_s\\\\\n",
       "  & <chr> & <dbl> & <dbl>\\\\\n",
       "\\hline\n",
       "\t1 & GACTACATCACAATGC-1\\_contig\\_1 & 0.014705882 & 0.05882353\\\\\n",
       "\t2 & GCTGCAGAGAGTCTGG-1\\_contig\\_2 & 0.002932551 & 0.02639296\\\\\n",
       "\t3 & TGATTTCCAAGCCCAC-1\\_contig\\_2 & 0.002958580 & 0.04733728\\\\\n",
       "\t4 & GGGATGAGTGAGCGAT-1\\_contig\\_1 & 0.002967359 & 0.07715134\\\\\n",
       "\\end{tabular}\n"
      ],
      "text/markdown": [
       "\n",
       "A data.frame: 4 × 3\n",
       "\n",
       "| <!--/--> | sequence_id &lt;chr&gt; | mu_freq_seq_r &lt;dbl&gt; | mu_freq_seq_s &lt;dbl&gt; |\n",
       "|---|---|---|---|\n",
       "| 1 | GACTACATCACAATGC-1_contig_1 | 0.014705882 | 0.05882353 |\n",
       "| 2 | GCTGCAGAGAGTCTGG-1_contig_2 | 0.002932551 | 0.02639296 |\n",
       "| 3 | TGATTTCCAAGCCCAC-1_contig_2 | 0.002958580 | 0.04733728 |\n",
       "| 4 | GGGATGAGTGAGCGAT-1_contig_1 | 0.002967359 | 0.07715134 |\n",
       "\n"
      ],
      "text/plain": [
       "  sequence_id                 mu_freq_seq_r mu_freq_seq_s\n",
       "1 GACTACATCACAATGC-1_contig_1 0.014705882   0.05882353   \n",
       "2 GCTGCAGAGAGTCTGG-1_contig_2 0.002932551   0.02639296   \n",
       "3 TGATTTCCAAGCCCAC-1_contig_2 0.002958580   0.04733728   \n",
       "4 GGGATGAGTGAGCGAT-1_contig_1 0.002967359   0.07715134   "
      ]
     },
     "metadata": {},
     "output_type": "display_data"
    }
   ],
   "source": [
    "# Calculate charge mutation frequency for the full sequence\n",
    "db_obs_ch <- observedMutations(db, sequenceColumn=\"sequence_alignment\",\n",
    "                               germlineColumn=\"germline_alignment_d_mask\",\n",
    "                               regionDefinition=NULL,\n",
    "                               mutationDefinition=CHARGE_MUTATIONS,\n",
    "                               frequency=TRUE, \n",
    "                               nproc=1)\n",
    "# Show new charge mutation frequency columns\n",
    "db_obs_ch %>% \n",
    "    select(sequence_id, starts_with(\"mu_freq_\")) %>%\n",
    "    head(n=4)"
   ]
  },
  {
   "cell_type": "code",
   "execution_count": 11,
   "id": "induced-contributor",
   "metadata": {},
   "outputs": [
    {
     "data": {
      "image/png": "[encoded data removed]",
      "text/plain": [
       "plot without title"
      ]
     },
     "metadata": {
      "image/png": {
       "height": 420,
       "width": 420
      }
     },
     "output_type": "display_data"
    }
   ],
   "source": [
    "g4 <- ggplot(db_obs_ch, aes(x=c_call, y=mu_freq_seq_r, fill=c_call)) +\n",
    "    theme_bw() + ggtitle(\"Charge replacement mutations\") +\n",
    "    xlab(\"Isotype\") + ylab(\"Mutation frequency\") +\n",
    "    scale_fill_manual(name=\"Isotype\", values=IG_COLORS) +\n",
    "    geom_boxplot()\n",
    "plot(g4)"
   ]
  }
 ],
 "metadata": {
  "kernelspec": {
   "display_name": "R",
   "language": "R",
   "name": "ir"
  },
  "language_info": {
   "codemirror_mode": "r",
   "file_extension": ".r",
   "mimetype": "text/x-r-source",
   "name": "R",
   "pygments_lexer": "r",
   "version": "4.0.3"
  }
 },
 "nbformat": 4,
 "nbformat_minor": 5
}
