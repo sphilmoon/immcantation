{
 "cells": [
  {
   "cell_type": "code",
   "execution_count": 4,
   "id": "secure-battle",
   "metadata": {},
   "outputs": [],
   "source": [
    "### Mutation analysis ###\n",
    "# wt only - No IgM\n",
    "\n",
    "# observedMutations function calualte the basic mutational load. \n",
    "# Mutations can be calculated as counts or frequencies and divided into replacement (R) or \n",
    "# silent (S) mutations, and subset into FWR and CDR specific mutations. \n",
    "\n",
    "# Import required packages\n",
    "library(alakazam)\n",
    "library(shazam)\n",
    "library(dplyr)\n",
    "library(ggplot2)\n",
    "\n",
    "# loading my tsv as a df\n",
    "require(data.table)\n",
    "my_data <- as.data.frame(fread(\"wt_no_igm_filtered_contig_heavy_germ-pass.tsv\"))\n",
    "\n",
    "\n",
    "# Load and subset example data\n",
    "db <- subset(my_data, c_call %in% c(\"IGHA\", \"IGHM\", \"IGHG\",\"IGHD\"))"
   ]
  },
  {
   "cell_type": "code",
   "execution_count": 5,
   "id": "mexican-melissa",
   "metadata": {},
   "outputs": [
    {
     "data": {
      "text/html": [
       "<table class=\"dataframe\">\n",
       "<caption>A data.frame: 10 × 3</caption>\n",
       "<thead>\n",
       "\t<tr><th></th><th scope=col>sequence_id</th><th scope=col>mu_count_seq_r</th><th scope=col>mu_count_seq_s</th></tr>\n",
       "\t<tr><th></th><th scope=col>&lt;chr&gt;</th><th scope=col>&lt;dbl&gt;</th><th scope=col>&lt;dbl&gt;</th></tr>\n",
       "</thead>\n",
       "<tbody>\n",
       "\t<tr><th scope=row>1</th><td>AGGTCCGCACCTTGTC-1_contig_2</td><td> 8</td><td>7</td></tr>\n",
       "\t<tr><th scope=row>2</th><td>GCGACCACAAGAAGAG-1_contig_1</td><td> 9</td><td>4</td></tr>\n",
       "\t<tr><th scope=row>3</th><td>GGCAATTAGTAGGCCA-1_contig_1</td><td>10</td><td>1</td></tr>\n",
       "\t<tr><th scope=row>4</th><td>ACGAGCCTCGCCAGCA-1_contig_2</td><td> 1</td><td>0</td></tr>\n",
       "\t<tr><th scope=row>5</th><td>GCGCCAATCTCGTATT-1_contig_2</td><td> 1</td><td>0</td></tr>\n",
       "\t<tr><th scope=row>6</th><td>GCAGTTACACCAGCAC-1_contig_2</td><td> 1</td><td>0</td></tr>\n",
       "\t<tr><th scope=row>7</th><td>CACAAACGTAAAGTCA-1_contig_1</td><td> 6</td><td>1</td></tr>\n",
       "\t<tr><th scope=row>8</th><td>CTGAAACTCAGCAACT-1_contig_1</td><td> 8</td><td>9</td></tr>\n",
       "\t<tr><th scope=row>9</th><td>TCAGATGCACTCGACG-1_contig_2</td><td> 0</td><td>0</td></tr>\n",
       "\t<tr><th scope=row>10</th><td>ATGAGGGGTAGTGAAT-1_contig_1</td><td> 8</td><td>4</td></tr>\n",
       "</tbody>\n",
       "</table>\n"
      ],
      "text/latex": [
       "A data.frame: 10 × 3\n",
       "\\begin{tabular}{r|lll}\n",
       "  & sequence\\_id & mu\\_count\\_seq\\_r & mu\\_count\\_seq\\_s\\\\\n",
       "  & <chr> & <dbl> & <dbl>\\\\\n",
       "\\hline\n",
       "\t1 & AGGTCCGCACCTTGTC-1\\_contig\\_2 &  8 & 7\\\\\n",
       "\t2 & GCGACCACAAGAAGAG-1\\_contig\\_1 &  9 & 4\\\\\n",
       "\t3 & GGCAATTAGTAGGCCA-1\\_contig\\_1 & 10 & 1\\\\\n",
       "\t4 & ACGAGCCTCGCCAGCA-1\\_contig\\_2 &  1 & 0\\\\\n",
       "\t5 & GCGCCAATCTCGTATT-1\\_contig\\_2 &  1 & 0\\\\\n",
       "\t6 & GCAGTTACACCAGCAC-1\\_contig\\_2 &  1 & 0\\\\\n",
       "\t7 & CACAAACGTAAAGTCA-1\\_contig\\_1 &  6 & 1\\\\\n",
       "\t8 & CTGAAACTCAGCAACT-1\\_contig\\_1 &  8 & 9\\\\\n",
       "\t9 & TCAGATGCACTCGACG-1\\_contig\\_2 &  0 & 0\\\\\n",
       "\t10 & ATGAGGGGTAGTGAAT-1\\_contig\\_1 &  8 & 4\\\\\n",
       "\\end{tabular}\n"
      ],
      "text/markdown": [
       "\n",
       "A data.frame: 10 × 3\n",
       "\n",
       "| <!--/--> | sequence_id &lt;chr&gt; | mu_count_seq_r &lt;dbl&gt; | mu_count_seq_s &lt;dbl&gt; |\n",
       "|---|---|---|---|\n",
       "| 1 | AGGTCCGCACCTTGTC-1_contig_2 |  8 | 7 |\n",
       "| 2 | GCGACCACAAGAAGAG-1_contig_1 |  9 | 4 |\n",
       "| 3 | GGCAATTAGTAGGCCA-1_contig_1 | 10 | 1 |\n",
       "| 4 | ACGAGCCTCGCCAGCA-1_contig_2 |  1 | 0 |\n",
       "| 5 | GCGCCAATCTCGTATT-1_contig_2 |  1 | 0 |\n",
       "| 6 | GCAGTTACACCAGCAC-1_contig_2 |  1 | 0 |\n",
       "| 7 | CACAAACGTAAAGTCA-1_contig_1 |  6 | 1 |\n",
       "| 8 | CTGAAACTCAGCAACT-1_contig_1 |  8 | 9 |\n",
       "| 9 | TCAGATGCACTCGACG-1_contig_2 |  0 | 0 |\n",
       "| 10 | ATGAGGGGTAGTGAAT-1_contig_1 |  8 | 4 |\n",
       "\n"
      ],
      "text/plain": [
       "   sequence_id                 mu_count_seq_r mu_count_seq_s\n",
       "1  AGGTCCGCACCTTGTC-1_contig_2  8             7             \n",
       "2  GCGACCACAAGAAGAG-1_contig_1  9             4             \n",
       "3  GGCAATTAGTAGGCCA-1_contig_1 10             1             \n",
       "4  ACGAGCCTCGCCAGCA-1_contig_2  1             0             \n",
       "5  GCGCCAATCTCGTATT-1_contig_2  1             0             \n",
       "6  GCAGTTACACCAGCAC-1_contig_2  1             0             \n",
       "7  CACAAACGTAAAGTCA-1_contig_1  6             1             \n",
       "8  CTGAAACTCAGCAACT-1_contig_1  8             9             \n",
       "9  TCAGATGCACTCGACG-1_contig_2  0             0             \n",
       "10 ATGAGGGGTAGTGAAT-1_contig_1  8             4             "
      ]
     },
     "metadata": {},
     "output_type": "display_data"
    }
   ],
   "source": [
    "# Calculate R and S mutation counts\n",
    "db_obs <- observedMutations(db, sequenceColumn=\"sequence_alignment\",\n",
    "                            germlineColumn=\"germline_alignment_d_mask\",\n",
    "                            regionDefinition=NULL,\n",
    "                            frequency=FALSE, \n",
    "                            nproc=1)\n",
    "# Show new mutation count columns\n",
    "db_obs %>% \n",
    "    select(sequence_id, starts_with(\"mu_count_\")) %>%\n",
    "    head(n=10)"
   ]
  },
  {
   "cell_type": "code",
   "execution_count": 6,
   "id": "incorporated-wrapping",
   "metadata": {},
   "outputs": [
    {
     "data": {
      "text/html": [
       "<table class=\"dataframe\">\n",
       "<caption>A data.frame: 10 × 3</caption>\n",
       "<thead>\n",
       "\t<tr><th></th><th scope=col>sequence_id</th><th scope=col>mu_freq_seq_r</th><th scope=col>mu_freq_seq_s</th></tr>\n",
       "\t<tr><th></th><th scope=col>&lt;chr&gt;</th><th scope=col>&lt;dbl&gt;</th><th scope=col>&lt;dbl&gt;</th></tr>\n",
       "</thead>\n",
       "<tbody>\n",
       "\t<tr><th scope=row>1</th><td>AGGTCCGCACCTTGTC-1_contig_2</td><td>0.023188406</td><td>0.020289855</td></tr>\n",
       "\t<tr><th scope=row>2</th><td>GCGACCACAAGAAGAG-1_contig_1</td><td>0.026627219</td><td>0.011834320</td></tr>\n",
       "\t<tr><th scope=row>3</th><td>GGCAATTAGTAGGCCA-1_contig_1</td><td>0.029761905</td><td>0.002976190</td></tr>\n",
       "\t<tr><th scope=row>4</th><td>ACGAGCCTCGCCAGCA-1_contig_2</td><td>0.002967359</td><td>0.000000000</td></tr>\n",
       "\t<tr><th scope=row>5</th><td>GCGCCAATCTCGTATT-1_contig_2</td><td>0.002941176</td><td>0.000000000</td></tr>\n",
       "\t<tr><th scope=row>6</th><td>GCAGTTACACCAGCAC-1_contig_2</td><td>0.002923977</td><td>0.000000000</td></tr>\n",
       "\t<tr><th scope=row>7</th><td>CACAAACGTAAAGTCA-1_contig_1</td><td>0.017647059</td><td>0.002941176</td></tr>\n",
       "\t<tr><th scope=row>8</th><td>CTGAAACTCAGCAACT-1_contig_1</td><td>0.023323615</td><td>0.026239067</td></tr>\n",
       "\t<tr><th scope=row>9</th><td>TCAGATGCACTCGACG-1_contig_2</td><td>0.000000000</td><td>0.000000000</td></tr>\n",
       "\t<tr><th scope=row>10</th><td>ATGAGGGGTAGTGAAT-1_contig_1</td><td>0.023668639</td><td>0.011834320</td></tr>\n",
       "</tbody>\n",
       "</table>\n"
      ],
      "text/latex": [
       "A data.frame: 10 × 3\n",
       "\\begin{tabular}{r|lll}\n",
       "  & sequence\\_id & mu\\_freq\\_seq\\_r & mu\\_freq\\_seq\\_s\\\\\n",
       "  & <chr> & <dbl> & <dbl>\\\\\n",
       "\\hline\n",
       "\t1 & AGGTCCGCACCTTGTC-1\\_contig\\_2 & 0.023188406 & 0.020289855\\\\\n",
       "\t2 & GCGACCACAAGAAGAG-1\\_contig\\_1 & 0.026627219 & 0.011834320\\\\\n",
       "\t3 & GGCAATTAGTAGGCCA-1\\_contig\\_1 & 0.029761905 & 0.002976190\\\\\n",
       "\t4 & ACGAGCCTCGCCAGCA-1\\_contig\\_2 & 0.002967359 & 0.000000000\\\\\n",
       "\t5 & GCGCCAATCTCGTATT-1\\_contig\\_2 & 0.002941176 & 0.000000000\\\\\n",
       "\t6 & GCAGTTACACCAGCAC-1\\_contig\\_2 & 0.002923977 & 0.000000000\\\\\n",
       "\t7 & CACAAACGTAAAGTCA-1\\_contig\\_1 & 0.017647059 & 0.002941176\\\\\n",
       "\t8 & CTGAAACTCAGCAACT-1\\_contig\\_1 & 0.023323615 & 0.026239067\\\\\n",
       "\t9 & TCAGATGCACTCGACG-1\\_contig\\_2 & 0.000000000 & 0.000000000\\\\\n",
       "\t10 & ATGAGGGGTAGTGAAT-1\\_contig\\_1 & 0.023668639 & 0.011834320\\\\\n",
       "\\end{tabular}\n"
      ],
      "text/markdown": [
       "\n",
       "A data.frame: 10 × 3\n",
       "\n",
       "| <!--/--> | sequence_id &lt;chr&gt; | mu_freq_seq_r &lt;dbl&gt; | mu_freq_seq_s &lt;dbl&gt; |\n",
       "|---|---|---|---|\n",
       "| 1 | AGGTCCGCACCTTGTC-1_contig_2 | 0.023188406 | 0.020289855 |\n",
       "| 2 | GCGACCACAAGAAGAG-1_contig_1 | 0.026627219 | 0.011834320 |\n",
       "| 3 | GGCAATTAGTAGGCCA-1_contig_1 | 0.029761905 | 0.002976190 |\n",
       "| 4 | ACGAGCCTCGCCAGCA-1_contig_2 | 0.002967359 | 0.000000000 |\n",
       "| 5 | GCGCCAATCTCGTATT-1_contig_2 | 0.002941176 | 0.000000000 |\n",
       "| 6 | GCAGTTACACCAGCAC-1_contig_2 | 0.002923977 | 0.000000000 |\n",
       "| 7 | CACAAACGTAAAGTCA-1_contig_1 | 0.017647059 | 0.002941176 |\n",
       "| 8 | CTGAAACTCAGCAACT-1_contig_1 | 0.023323615 | 0.026239067 |\n",
       "| 9 | TCAGATGCACTCGACG-1_contig_2 | 0.000000000 | 0.000000000 |\n",
       "| 10 | ATGAGGGGTAGTGAAT-1_contig_1 | 0.023668639 | 0.011834320 |\n",
       "\n"
      ],
      "text/plain": [
       "   sequence_id                 mu_freq_seq_r mu_freq_seq_s\n",
       "1  AGGTCCGCACCTTGTC-1_contig_2 0.023188406   0.020289855  \n",
       "2  GCGACCACAAGAAGAG-1_contig_1 0.026627219   0.011834320  \n",
       "3  GGCAATTAGTAGGCCA-1_contig_1 0.029761905   0.002976190  \n",
       "4  ACGAGCCTCGCCAGCA-1_contig_2 0.002967359   0.000000000  \n",
       "5  GCGCCAATCTCGTATT-1_contig_2 0.002941176   0.000000000  \n",
       "6  GCAGTTACACCAGCAC-1_contig_2 0.002923977   0.000000000  \n",
       "7  CACAAACGTAAAGTCA-1_contig_1 0.017647059   0.002941176  \n",
       "8  CTGAAACTCAGCAACT-1_contig_1 0.023323615   0.026239067  \n",
       "9  TCAGATGCACTCGACG-1_contig_2 0.000000000   0.000000000  \n",
       "10 ATGAGGGGTAGTGAAT-1_contig_1 0.023668639   0.011834320  "
      ]
     },
     "metadata": {},
     "output_type": "display_data"
    }
   ],
   "source": [
    "# Calculate R and S mutation frequencies\n",
    "db_obs <- observedMutations(db_obs, sequenceColumn=\"sequence_alignment\",\n",
    "                            germlineColumn=\"germline_alignment_d_mask\",\n",
    "                            regionDefinition=NULL,\n",
    "                            frequency=TRUE, \n",
    "                            nproc=1)\n",
    "# Show new mutation frequency columns\n",
    "db_obs %>% \n",
    "    select(sequence_id, starts_with(\"mu_freq_\")) %>%\n",
    "    head(n=10)"
   ]
  },
  {
   "cell_type": "code",
   "execution_count": 7,
   "id": "august-indication",
   "metadata": {},
   "outputs": [
    {
     "data": {
      "text/html": [
       "<table class=\"dataframe\">\n",
       "<caption>A data.frame: 4 × 1</caption>\n",
       "<thead>\n",
       "\t<tr><th></th><th scope=col>sequence_id</th></tr>\n",
       "\t<tr><th></th><th scope=col>&lt;chr&gt;</th></tr>\n",
       "</thead>\n",
       "<tbody>\n",
       "\t<tr><th scope=row>1</th><td>AGGTCCGCACCTTGTC-1_contig_2</td></tr>\n",
       "\t<tr><th scope=row>2</th><td>GCGACCACAAGAAGAG-1_contig_1</td></tr>\n",
       "\t<tr><th scope=row>3</th><td>GGCAATTAGTAGGCCA-1_contig_1</td></tr>\n",
       "\t<tr><th scope=row>4</th><td>ACGAGCCTCGCCAGCA-1_contig_2</td></tr>\n",
       "</tbody>\n",
       "</table>\n"
      ],
      "text/latex": [
       "A data.frame: 4 × 1\n",
       "\\begin{tabular}{r|l}\n",
       "  & sequence\\_id\\\\\n",
       "  & <chr>\\\\\n",
       "\\hline\n",
       "\t1 & AGGTCCGCACCTTGTC-1\\_contig\\_2\\\\\n",
       "\t2 & GCGACCACAAGAAGAG-1\\_contig\\_1\\\\\n",
       "\t3 & GGCAATTAGTAGGCCA-1\\_contig\\_1\\\\\n",
       "\t4 & ACGAGCCTCGCCAGCA-1\\_contig\\_2\\\\\n",
       "\\end{tabular}\n"
      ],
      "text/markdown": [
       "\n",
       "A data.frame: 4 × 1\n",
       "\n",
       "| <!--/--> | sequence_id &lt;chr&gt; |\n",
       "|---|---|\n",
       "| 1 | AGGTCCGCACCTTGTC-1_contig_2 |\n",
       "| 2 | GCGACCACAAGAAGAG-1_contig_1 |\n",
       "| 3 | GGCAATTAGTAGGCCA-1_contig_1 |\n",
       "| 4 | ACGAGCCTCGCCAGCA-1_contig_2 |\n",
       "\n"
      ],
      "text/plain": [
       "  sequence_id                \n",
       "1 AGGTCCGCACCTTGTC-1_contig_2\n",
       "2 GCGACCACAAGAAGAG-1_contig_1\n",
       "3 GGCAATTAGTAGGCCA-1_contig_1\n",
       "4 ACGAGCCTCGCCAGCA-1_contig_2"
      ]
     },
     "metadata": {},
     "output_type": "display_data"
    }
   ],
   "source": [
    "# Calculate combined R and S mutation frequencies\n",
    "db_obs <- observedMutations(db, sequenceColumn=\"sequence_alignment\",\n",
    "                            germlineColumn=\"germline_alignment_d_mask\",\n",
    "                            regionDefinition=NULL,\n",
    "                            frequency=TRUE, \n",
    "                            combine=TRUE,\n",
    "                            nproc=1)\n",
    "# Show new mutation frequency columns\n",
    "db_obs %>% \n",
    "    select(sequence_id, starts_with(\"mu_freq_\")) %>%\n",
    "    head(n=4)"
   ]
  },
  {
   "cell_type": "code",
   "execution_count": 8,
   "id": "rental-ensemble",
   "metadata": {},
   "outputs": [
    {
     "data": {
      "image/png": "[encoded data removed]",
      "text/plain": [
       "plot without title"
      ]
     },
     "metadata": {
      "image/png": {
       "height": 420,
       "width": 420
      }
     },
     "output_type": "display_data"
    }
   ],
   "source": [
    "g1 <- ggplot(db_obs, aes(x=c_call, y=mu_freq, fill=c_call)) +\n",
    "    theme_bw() + ggtitle(\"Total mutations\") +\n",
    "    xlab(\"Isotype\") + ylab(\"Mutation frequency\") +\n",
    "    scale_fill_manual(name=\"Isotype\", values=IG_COLORS) +\n",
    "    geom_boxplot()\n",
    "plot(g1)"
   ]
  },
  {
   "cell_type": "code",
   "execution_count": 9,
   "id": "sweet-convertible",
   "metadata": {},
   "outputs": [
    {
     "data": {
      "text/html": [
       "<table class=\"dataframe\">\n",
       "<caption>A data.frame: 4 × 7</caption>\n",
       "<thead>\n",
       "\t<tr><th></th><th scope=col>sequence_id</th><th scope=col>mu_count_fwr1_r</th><th scope=col>mu_count_fwr1_s</th><th scope=col>mu_count_fwr2_r</th><th scope=col>mu_count_fwr2_s</th><th scope=col>mu_count_fwr3_r</th><th scope=col>mu_count_fwr3_s</th></tr>\n",
       "\t<tr><th></th><th scope=col>&lt;chr&gt;</th><th scope=col>&lt;dbl&gt;</th><th scope=col>&lt;dbl&gt;</th><th scope=col>&lt;dbl&gt;</th><th scope=col>&lt;dbl&gt;</th><th scope=col>&lt;dbl&gt;</th><th scope=col>&lt;dbl&gt;</th></tr>\n",
       "</thead>\n",
       "<tbody>\n",
       "\t<tr><th scope=row>1</th><td>AGGTCCGCACCTTGTC-1_contig_2</td><td>1</td><td>1</td><td>2</td><td>0</td><td>3</td><td>4</td></tr>\n",
       "\t<tr><th scope=row>2</th><td>GCGACCACAAGAAGAG-1_contig_1</td><td>2</td><td>3</td><td>0</td><td>0</td><td>5</td><td>1</td></tr>\n",
       "\t<tr><th scope=row>3</th><td>GGCAATTAGTAGGCCA-1_contig_1</td><td>1</td><td>0</td><td>3</td><td>0</td><td>2</td><td>1</td></tr>\n",
       "\t<tr><th scope=row>4</th><td>ACGAGCCTCGCCAGCA-1_contig_2</td><td>0</td><td>0</td><td>0</td><td>0</td><td>1</td><td>0</td></tr>\n",
       "</tbody>\n",
       "</table>\n"
      ],
      "text/latex": [
       "A data.frame: 4 × 7\n",
       "\\begin{tabular}{r|lllllll}\n",
       "  & sequence\\_id & mu\\_count\\_fwr1\\_r & mu\\_count\\_fwr1\\_s & mu\\_count\\_fwr2\\_r & mu\\_count\\_fwr2\\_s & mu\\_count\\_fwr3\\_r & mu\\_count\\_fwr3\\_s\\\\\n",
       "  & <chr> & <dbl> & <dbl> & <dbl> & <dbl> & <dbl> & <dbl>\\\\\n",
       "\\hline\n",
       "\t1 & AGGTCCGCACCTTGTC-1\\_contig\\_2 & 1 & 1 & 2 & 0 & 3 & 4\\\\\n",
       "\t2 & GCGACCACAAGAAGAG-1\\_contig\\_1 & 2 & 3 & 0 & 0 & 5 & 1\\\\\n",
       "\t3 & GGCAATTAGTAGGCCA-1\\_contig\\_1 & 1 & 0 & 3 & 0 & 2 & 1\\\\\n",
       "\t4 & ACGAGCCTCGCCAGCA-1\\_contig\\_2 & 0 & 0 & 0 & 0 & 1 & 0\\\\\n",
       "\\end{tabular}\n"
      ],
      "text/markdown": [
       "\n",
       "A data.frame: 4 × 7\n",
       "\n",
       "| <!--/--> | sequence_id &lt;chr&gt; | mu_count_fwr1_r &lt;dbl&gt; | mu_count_fwr1_s &lt;dbl&gt; | mu_count_fwr2_r &lt;dbl&gt; | mu_count_fwr2_s &lt;dbl&gt; | mu_count_fwr3_r &lt;dbl&gt; | mu_count_fwr3_s &lt;dbl&gt; |\n",
       "|---|---|---|---|---|---|---|---|\n",
       "| 1 | AGGTCCGCACCTTGTC-1_contig_2 | 1 | 1 | 2 | 0 | 3 | 4 |\n",
       "| 2 | GCGACCACAAGAAGAG-1_contig_1 | 2 | 3 | 0 | 0 | 5 | 1 |\n",
       "| 3 | GGCAATTAGTAGGCCA-1_contig_1 | 1 | 0 | 3 | 0 | 2 | 1 |\n",
       "| 4 | ACGAGCCTCGCCAGCA-1_contig_2 | 0 | 0 | 0 | 0 | 1 | 0 |\n",
       "\n"
      ],
      "text/plain": [
       "  sequence_id                 mu_count_fwr1_r mu_count_fwr1_s mu_count_fwr2_r\n",
       "1 AGGTCCGCACCTTGTC-1_contig_2 1               1               2              \n",
       "2 GCGACCACAAGAAGAG-1_contig_1 2               3               0              \n",
       "3 GGCAATTAGTAGGCCA-1_contig_1 1               0               3              \n",
       "4 ACGAGCCTCGCCAGCA-1_contig_2 0               0               0              \n",
       "  mu_count_fwr2_s mu_count_fwr3_r mu_count_fwr3_s\n",
       "1 0               3               4              \n",
       "2 0               5               1              \n",
       "3 0               2               1              \n",
       "4 0               1               0              "
      ]
     },
     "metadata": {},
     "output_type": "display_data"
    }
   ],
   "source": [
    "# Calculate R and S mutation counts for individual CDRs and FWRs\n",
    "db_obs_v <- observedMutations(db, sequenceColumn=\"sequence_alignment\",\n",
    "                              germlineColumn=\"germline_alignment_d_mask\",\n",
    "                              regionDefinition=IMGT_V_BY_REGIONS,\n",
    "                              frequency=FALSE, \n",
    "                              nproc=1)\n",
    "# Show new FWR mutation columns\n",
    "db_obs_v %>% \n",
    "    select(sequence_id, starts_with(\"mu_count_fwr\")) %>%\n",
    "    head(n=4)"
   ]
  },
  {
   "cell_type": "code",
   "execution_count": 10,
   "id": "demonstrated-external",
   "metadata": {},
   "outputs": [
    {
     "data": {
      "text/html": [
       "<table class=\"dataframe\">\n",
       "<caption>A data.frame: 4 × 5</caption>\n",
       "<thead>\n",
       "\t<tr><th></th><th scope=col>sequence_id</th><th scope=col>mu_freq_cdr_r</th><th scope=col>mu_freq_cdr_s</th><th scope=col>mu_freq_fwr_r</th><th scope=col>mu_freq_fwr_s</th></tr>\n",
       "\t<tr><th></th><th scope=col>&lt;chr&gt;</th><th scope=col>&lt;dbl&gt;</th><th scope=col>&lt;dbl&gt;</th><th scope=col>&lt;dbl&gt;</th><th scope=col>&lt;dbl&gt;</th></tr>\n",
       "</thead>\n",
       "<tbody>\n",
       "\t<tr><th scope=row>1</th><td>AGGTCCGCACCTTGTC-1_contig_2</td><td>0.03703704</td><td>0.03703704</td><td>0.025000000</td><td>0.020833333</td></tr>\n",
       "\t<tr><th scope=row>2</th><td>GCGACCACAAGAAGAG-1_contig_1</td><td>0.02083333</td><td>0.00000000</td><td>0.029166667</td><td>0.016666667</td></tr>\n",
       "\t<tr><th scope=row>3</th><td>GGCAATTAGTAGGCCA-1_contig_1</td><td>0.00000000</td><td>0.00000000</td><td>0.025000000</td><td>0.004166667</td></tr>\n",
       "\t<tr><th scope=row>4</th><td>ACGAGCCTCGCCAGCA-1_contig_2</td><td>0.00000000</td><td>0.00000000</td><td>0.004166667</td><td>0.000000000</td></tr>\n",
       "</tbody>\n",
       "</table>\n"
      ],
      "text/latex": [
       "A data.frame: 4 × 5\n",
       "\\begin{tabular}{r|lllll}\n",
       "  & sequence\\_id & mu\\_freq\\_cdr\\_r & mu\\_freq\\_cdr\\_s & mu\\_freq\\_fwr\\_r & mu\\_freq\\_fwr\\_s\\\\\n",
       "  & <chr> & <dbl> & <dbl> & <dbl> & <dbl>\\\\\n",
       "\\hline\n",
       "\t1 & AGGTCCGCACCTTGTC-1\\_contig\\_2 & 0.03703704 & 0.03703704 & 0.025000000 & 0.020833333\\\\\n",
       "\t2 & GCGACCACAAGAAGAG-1\\_contig\\_1 & 0.02083333 & 0.00000000 & 0.029166667 & 0.016666667\\\\\n",
       "\t3 & GGCAATTAGTAGGCCA-1\\_contig\\_1 & 0.00000000 & 0.00000000 & 0.025000000 & 0.004166667\\\\\n",
       "\t4 & ACGAGCCTCGCCAGCA-1\\_contig\\_2 & 0.00000000 & 0.00000000 & 0.004166667 & 0.000000000\\\\\n",
       "\\end{tabular}\n"
      ],
      "text/markdown": [
       "\n",
       "A data.frame: 4 × 5\n",
       "\n",
       "| <!--/--> | sequence_id &lt;chr&gt; | mu_freq_cdr_r &lt;dbl&gt; | mu_freq_cdr_s &lt;dbl&gt; | mu_freq_fwr_r &lt;dbl&gt; | mu_freq_fwr_s &lt;dbl&gt; |\n",
       "|---|---|---|---|---|---|\n",
       "| 1 | AGGTCCGCACCTTGTC-1_contig_2 | 0.03703704 | 0.03703704 | 0.025000000 | 0.020833333 |\n",
       "| 2 | GCGACCACAAGAAGAG-1_contig_1 | 0.02083333 | 0.00000000 | 0.029166667 | 0.016666667 |\n",
       "| 3 | GGCAATTAGTAGGCCA-1_contig_1 | 0.00000000 | 0.00000000 | 0.025000000 | 0.004166667 |\n",
       "| 4 | ACGAGCCTCGCCAGCA-1_contig_2 | 0.00000000 | 0.00000000 | 0.004166667 | 0.000000000 |\n",
       "\n"
      ],
      "text/plain": [
       "  sequence_id                 mu_freq_cdr_r mu_freq_cdr_s mu_freq_fwr_r\n",
       "1 AGGTCCGCACCTTGTC-1_contig_2 0.03703704    0.03703704    0.025000000  \n",
       "2 GCGACCACAAGAAGAG-1_contig_1 0.02083333    0.00000000    0.029166667  \n",
       "3 GGCAATTAGTAGGCCA-1_contig_1 0.00000000    0.00000000    0.025000000  \n",
       "4 ACGAGCCTCGCCAGCA-1_contig_2 0.00000000    0.00000000    0.004166667  \n",
       "  mu_freq_fwr_s\n",
       "1 0.020833333  \n",
       "2 0.016666667  \n",
       "3 0.004166667  \n",
       "4 0.000000000  "
      ]
     },
     "metadata": {},
     "output_type": "display_data"
    }
   ],
   "source": [
    "# Calculate aggregate CDR and FWR V-segment R and S mutation frequencies\n",
    "db_obs_v <- observedMutations(db_obs_v, sequenceColumn=\"sequence_alignment\",\n",
    "                              germlineColumn=\"germline_alignment_d_mask\",\n",
    "                              regionDefinition=IMGT_V,\n",
    "                              frequency=TRUE, \n",
    "                              nproc=1)\n",
    "# Show new CDR and FWR mutation frequency columns\n",
    "db_obs_v %>% \n",
    "    select(sequence_id, starts_with(\"mu_freq_\")) %>%\n",
    "    head(n=4)"
   ]
  },
  {
   "cell_type": "code",
   "execution_count": 11,
   "id": "clear-income",
   "metadata": {},
   "outputs": [
    {
     "data": {
      "image/png": "[encoded data removed]",
      "text/plain": [
       "plot without title"
      ]
     },
     "metadata": {
      "image/png": {
       "height": 420,
       "width": 420
      }
     },
     "output_type": "display_data"
    }
   ],
   "source": [
    "g2 <- ggplot(db_obs_v, aes(x=c_call, y=mu_freq_cdr_s, fill=c_call)) +\n",
    "    theme_bw() + ggtitle(\"CDR silent mutations\") +\n",
    "    xlab(\"Isotype\") + ylab(\"Mutation frequency\") +\n",
    "    scale_fill_manual(name=\"Isotype\", values=IG_COLORS) +\n",
    "    geom_boxplot()\n",
    "g3 <- ggplot(db_obs_v, aes(x=c_call, y=mu_freq_cdr_r, fill=c_call)) +\n",
    "    theme_bw() + ggtitle(\"CDR replacement mutations\") +\n",
    "    xlab(\"Isotype\") + ylab(\"Mutation frequency\") +\n",
    "    scale_fill_manual(name=\"Isotype\", values=IG_COLORS) +\n",
    "    geom_boxplot()\n",
    "alakazam::gridPlot(g2, g3, ncol=2)"
   ]
  },
  {
   "cell_type": "code",
   "execution_count": 12,
   "id": "civilian-infrastructure",
   "metadata": {},
   "outputs": [
    {
     "data": {
      "text/html": [
       "<table class=\"dataframe\">\n",
       "<caption>A data.frame: 4 × 3</caption>\n",
       "<thead>\n",
       "\t<tr><th></th><th scope=col>sequence_id</th><th scope=col>mu_freq_seq_r</th><th scope=col>mu_freq_seq_s</th></tr>\n",
       "\t<tr><th></th><th scope=col>&lt;chr&gt;</th><th scope=col>&lt;dbl&gt;</th><th scope=col>&lt;dbl&gt;</th></tr>\n",
       "</thead>\n",
       "<tbody>\n",
       "\t<tr><th scope=row>1</th><td>AGGTCCGCACCTTGTC-1_contig_2</td><td>0.011594203</td><td>0.03188406</td></tr>\n",
       "\t<tr><th scope=row>2</th><td>GCGACCACAAGAAGAG-1_contig_1</td><td>0.002958580</td><td>0.03550296</td></tr>\n",
       "\t<tr><th scope=row>3</th><td>GGCAATTAGTAGGCCA-1_contig_1</td><td>0.005952381</td><td>0.02678571</td></tr>\n",
       "\t<tr><th scope=row>4</th><td>ACGAGCCTCGCCAGCA-1_contig_2</td><td>0.002967359</td><td>0.00000000</td></tr>\n",
       "</tbody>\n",
       "</table>\n"
      ],
      "text/latex": [
       "A data.frame: 4 × 3\n",
       "\\begin{tabular}{r|lll}\n",
       "  & sequence\\_id & mu\\_freq\\_seq\\_r & mu\\_freq\\_seq\\_s\\\\\n",
       "  & <chr> & <dbl> & <dbl>\\\\\n",
       "\\hline\n",
       "\t1 & AGGTCCGCACCTTGTC-1\\_contig\\_2 & 0.011594203 & 0.03188406\\\\\n",
       "\t2 & GCGACCACAAGAAGAG-1\\_contig\\_1 & 0.002958580 & 0.03550296\\\\\n",
       "\t3 & GGCAATTAGTAGGCCA-1\\_contig\\_1 & 0.005952381 & 0.02678571\\\\\n",
       "\t4 & ACGAGCCTCGCCAGCA-1\\_contig\\_2 & 0.002967359 & 0.00000000\\\\\n",
       "\\end{tabular}\n"
      ],
      "text/markdown": [
       "\n",
       "A data.frame: 4 × 3\n",
       "\n",
       "| <!--/--> | sequence_id &lt;chr&gt; | mu_freq_seq_r &lt;dbl&gt; | mu_freq_seq_s &lt;dbl&gt; |\n",
       "|---|---|---|---|\n",
       "| 1 | AGGTCCGCACCTTGTC-1_contig_2 | 0.011594203 | 0.03188406 |\n",
       "| 2 | GCGACCACAAGAAGAG-1_contig_1 | 0.002958580 | 0.03550296 |\n",
       "| 3 | GGCAATTAGTAGGCCA-1_contig_1 | 0.005952381 | 0.02678571 |\n",
       "| 4 | ACGAGCCTCGCCAGCA-1_contig_2 | 0.002967359 | 0.00000000 |\n",
       "\n"
      ],
      "text/plain": [
       "  sequence_id                 mu_freq_seq_r mu_freq_seq_s\n",
       "1 AGGTCCGCACCTTGTC-1_contig_2 0.011594203   0.03188406   \n",
       "2 GCGACCACAAGAAGAG-1_contig_1 0.002958580   0.03550296   \n",
       "3 GGCAATTAGTAGGCCA-1_contig_1 0.005952381   0.02678571   \n",
       "4 ACGAGCCTCGCCAGCA-1_contig_2 0.002967359   0.00000000   "
      ]
     },
     "metadata": {},
     "output_type": "display_data"
    }
   ],
   "source": [
    "# Calculate charge mutation frequency for the full sequence\n",
    "db_obs_ch <- observedMutations(db, sequenceColumn=\"sequence_alignment\",\n",
    "                               germlineColumn=\"germline_alignment_d_mask\",\n",
    "                               regionDefinition=NULL,\n",
    "                               mutationDefinition=CHARGE_MUTATIONS,\n",
    "                               frequency=TRUE, \n",
    "                               nproc=1)\n",
    "# Show new charge mutation frequency columns\n",
    "db_obs_ch %>% \n",
    "    select(sequence_id, starts_with(\"mu_freq_\")) %>%\n",
    "    head(n=4)"
   ]
  },
  {
   "cell_type": "code",
   "execution_count": 13,
   "id": "induced-contributor",
   "metadata": {},
   "outputs": [
    {
     "data": {
      "image/png": "[encoded data removed]",
      "text/plain": [
       "plot without title"
      ]
     },
     "metadata": {
      "image/png": {
       "height": 420,
       "width": 420
      }
     },
     "output_type": "display_data"
    }
   ],
   "source": [
    "g4 <- ggplot(db_obs_ch, aes(x=c_call, y=mu_freq_seq_r, fill=c_call)) +\n",
    "    theme_bw() + ggtitle(\"Charge replacement mutations\") +\n",
    "    xlab(\"Isotype\") + ylab(\"Mutation frequency\") +\n",
    "    scale_fill_manual(name=\"Isotype\", values=IG_COLORS) +\n",
    "    geom_boxplot()\n",
    "plot(g4)"
   ]
  }
 ],
 "metadata": {
  "kernelspec": {
   "display_name": "R",
   "language": "R",
   "name": "ir"
  },
  "language_info": {
   "codemirror_mode": "r",
   "file_extension": ".r",
   "mimetype": "text/x-r-source",
   "name": "R",
   "pygments_lexer": "r",
   "version": "4.0.3"
  }
 },
 "nbformat": 4,
 "nbformat_minor": 5
}
