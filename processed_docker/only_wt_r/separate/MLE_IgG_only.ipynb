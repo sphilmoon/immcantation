{
 "cells": [
  {
   "cell_type": "code",
   "execution_count": 3,
   "id": "postal-dynamics",
   "metadata": {},
   "outputs": [
    {
     "name": "stderr",
     "output_type": "stream",
     "text": [
      "Warning message in ape::read.tree(text = df[i, ][[\"TREE\"]]):\n",
      "“empty character string.”\n"
     ]
    },
    {
     "ename": "ERROR",
     "evalue": "Error in UseMethod(\"is.rooted\"): no applicable method for 'is.rooted' applied to an object of class \"NULL\"\n",
     "output_type": "error",
     "traceback": [
      "Error in UseMethod(\"is.rooted\"): no applicable method for 'is.rooted' applied to an object of class \"NULL\"\nTraceback:\n",
      "1. readIgphyml(\"r_igg_only_filtered_contig_heavy_germ-pass.tsv\", \n .     id = \"R\")",
      "2. ape::is.rooted(tree)"
     ]
    }
   ],
   "source": [
    "# IgPhyML visualization in R\n",
    "# graphing individual data\n",
    "# displaying the maximum likelihood of HLP19 parameters\n",
    "\n",
    "#!/usr/bin/R\n",
    "library(alakazam)\n",
    "library(ggplot2)\n",
    "library(ape)\n",
    "library(dplyr)\n",
    "library(igraph)\n",
    "\n",
    "#read in three different samples\n",
    "db_r = readIgphyml(\"r_igg_only_filtered_contig_heavy_germ-pass.tsv\",id=\"R\")\n",
    "db_wt = readIgphyml(\"wt_igg_only_filtered_contig_heavy_germ-pass.tsv\",id=\"WT\") \n",
    "\n",
    "#print out parameter values for the naive sample\n",
    "head(db_wt$param[1,])\n",
    "\n",
    "#****************************************\n",
    "##### there is no upper or lower ci #####\n",
    "#****************************************"
   ]
  },
  {
   "cell_type": "code",
   "execution_count": null,
   "id": "collaborative-empty",
   "metadata": {},
   "outputs": [],
   "source": []
  }
 ],
 "metadata": {
  "kernelspec": {
   "display_name": "R",
   "language": "R",
   "name": "ir"
  },
  "language_info": {
   "codemirror_mode": "r",
   "file_extension": ".r",
   "mimetype": "text/x-r-source",
   "name": "R",
   "pygments_lexer": "r",
   "version": "4.0.3"
  }
 },
 "nbformat": 4,
 "nbformat_minor": 5
}
