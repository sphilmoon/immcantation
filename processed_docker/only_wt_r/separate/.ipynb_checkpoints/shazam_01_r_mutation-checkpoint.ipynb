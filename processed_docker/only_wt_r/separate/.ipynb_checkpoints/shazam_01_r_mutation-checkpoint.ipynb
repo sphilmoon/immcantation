{
 "cells": [
  {
   "cell_type": "code",
   "execution_count": 23,
   "id": "secure-battle",
   "metadata": {},
   "outputs": [],
   "source": [
    "### Mutation analysis ###\n",
    "# r only - No IgM\n",
    "\n",
    "# observedMutations function calualte the basic mutational load. \n",
    "# Mutations can be calculated as counts or frequencies and divided into replacement (R) or \n",
    "# silent (S) mutations, and subset into FWR and CDR specific mutations. \n",
    "\n",
    "# Import required packages\n",
    "library(alakazam)\n",
    "library(shazam)\n",
    "library(dplyr)\n",
    "library(ggplot2)\n",
    "\n",
    "# loading my tsv as a df\n",
    "require(data.table)\n",
    "my_data <- as.data.frame(fread(\"r_igg_only_filtered_contig_heavy_germ-pass.tsv\"))\n",
    "\n",
    "\n",
    "# Load and subset example data\n",
    "db <- subset(my_data, c_call %in% c(\"IGHG1\", \"IGHG2B\", \"IGHG2C\",\"IGHG3\"))"
   ]
  },
  {
   "cell_type": "code",
   "execution_count": 24,
   "id": "mexican-melissa",
   "metadata": {},
   "outputs": [
    {
     "data": {
      "text/html": [
       "<table class=\"dataframe\">\n",
       "<caption>A data.frame: 10 × 3</caption>\n",
       "<thead>\n",
       "\t<tr><th></th><th scope=col>sequence_id</th><th scope=col>mu_count_seq_r</th><th scope=col>mu_count_seq_s</th></tr>\n",
       "\t<tr><th></th><th scope=col>&lt;chr&gt;</th><th scope=col>&lt;dbl&gt;</th><th scope=col>&lt;dbl&gt;</th></tr>\n",
       "</thead>\n",
       "<tbody>\n",
       "\t<tr><th scope=row>1</th><td>TACTTACAGGCTAGCA-1_contig_1</td><td>3</td><td>1</td></tr>\n",
       "\t<tr><th scope=row>2</th><td>GGGTCTGTCTGGAGCC-1_contig_1</td><td>0</td><td>0</td></tr>\n",
       "\t<tr><th scope=row>3</th><td>ACTTTCACATAACCTG-1_contig_2</td><td>0</td><td>0</td></tr>\n",
       "\t<tr><th scope=row>4</th><td>TCTCATAAGGATTCGG-1_contig_2</td><td>6</td><td>4</td></tr>\n",
       "\t<tr><th scope=row>5</th><td>CCTTCGATCACGCATA-1_contig_1</td><td>0</td><td>0</td></tr>\n",
       "\t<tr><th scope=row>6</th><td>GATCGTAAGTACGCGA-1_contig_1</td><td>6</td><td>1</td></tr>\n",
       "\t<tr><th scope=row>7</th><td>CACATTTTCTACTATC-1_contig_1</td><td>1</td><td>0</td></tr>\n",
       "\t<tr><th scope=row>8</th><td>ACTATCTGTGCATCTA-1_contig_1</td><td>1</td><td>0</td></tr>\n",
       "\t<tr><th scope=row>9</th><td>ACAGCCGCAGCTGTGC-1_contig_2</td><td>0</td><td>0</td></tr>\n",
       "\t<tr><th scope=row>10</th><td>CCTCTGAAGGTGCAAC-1_contig_1</td><td>0</td><td>0</td></tr>\n",
       "</tbody>\n",
       "</table>\n"
      ],
      "text/latex": [
       "A data.frame: 10 × 3\n",
       "\\begin{tabular}{r|lll}\n",
       "  & sequence\\_id & mu\\_count\\_seq\\_r & mu\\_count\\_seq\\_s\\\\\n",
       "  & <chr> & <dbl> & <dbl>\\\\\n",
       "\\hline\n",
       "\t1 & TACTTACAGGCTAGCA-1\\_contig\\_1 & 3 & 1\\\\\n",
       "\t2 & GGGTCTGTCTGGAGCC-1\\_contig\\_1 & 0 & 0\\\\\n",
       "\t3 & ACTTTCACATAACCTG-1\\_contig\\_2 & 0 & 0\\\\\n",
       "\t4 & TCTCATAAGGATTCGG-1\\_contig\\_2 & 6 & 4\\\\\n",
       "\t5 & CCTTCGATCACGCATA-1\\_contig\\_1 & 0 & 0\\\\\n",
       "\t6 & GATCGTAAGTACGCGA-1\\_contig\\_1 & 6 & 1\\\\\n",
       "\t7 & CACATTTTCTACTATC-1\\_contig\\_1 & 1 & 0\\\\\n",
       "\t8 & ACTATCTGTGCATCTA-1\\_contig\\_1 & 1 & 0\\\\\n",
       "\t9 & ACAGCCGCAGCTGTGC-1\\_contig\\_2 & 0 & 0\\\\\n",
       "\t10 & CCTCTGAAGGTGCAAC-1\\_contig\\_1 & 0 & 0\\\\\n",
       "\\end{tabular}\n"
      ],
      "text/markdown": [
       "\n",
       "A data.frame: 10 × 3\n",
       "\n",
       "| <!--/--> | sequence_id &lt;chr&gt; | mu_count_seq_r &lt;dbl&gt; | mu_count_seq_s &lt;dbl&gt; |\n",
       "|---|---|---|---|\n",
       "| 1 | TACTTACAGGCTAGCA-1_contig_1 | 3 | 1 |\n",
       "| 2 | GGGTCTGTCTGGAGCC-1_contig_1 | 0 | 0 |\n",
       "| 3 | ACTTTCACATAACCTG-1_contig_2 | 0 | 0 |\n",
       "| 4 | TCTCATAAGGATTCGG-1_contig_2 | 6 | 4 |\n",
       "| 5 | CCTTCGATCACGCATA-1_contig_1 | 0 | 0 |\n",
       "| 6 | GATCGTAAGTACGCGA-1_contig_1 | 6 | 1 |\n",
       "| 7 | CACATTTTCTACTATC-1_contig_1 | 1 | 0 |\n",
       "| 8 | ACTATCTGTGCATCTA-1_contig_1 | 1 | 0 |\n",
       "| 9 | ACAGCCGCAGCTGTGC-1_contig_2 | 0 | 0 |\n",
       "| 10 | CCTCTGAAGGTGCAAC-1_contig_1 | 0 | 0 |\n",
       "\n"
      ],
      "text/plain": [
       "   sequence_id                 mu_count_seq_r mu_count_seq_s\n",
       "1  TACTTACAGGCTAGCA-1_contig_1 3              1             \n",
       "2  GGGTCTGTCTGGAGCC-1_contig_1 0              0             \n",
       "3  ACTTTCACATAACCTG-1_contig_2 0              0             \n",
       "4  TCTCATAAGGATTCGG-1_contig_2 6              4             \n",
       "5  CCTTCGATCACGCATA-1_contig_1 0              0             \n",
       "6  GATCGTAAGTACGCGA-1_contig_1 6              1             \n",
       "7  CACATTTTCTACTATC-1_contig_1 1              0             \n",
       "8  ACTATCTGTGCATCTA-1_contig_1 1              0             \n",
       "9  ACAGCCGCAGCTGTGC-1_contig_2 0              0             \n",
       "10 CCTCTGAAGGTGCAAC-1_contig_1 0              0             "
      ]
     },
     "metadata": {},
     "output_type": "display_data"
    }
   ],
   "source": [
    "# Calculate R and S mutation counts\n",
    "db_obs <- observedMutations(db, sequenceColumn=\"sequence_alignment\",\n",
    "                            germlineColumn=\"germline_alignment_d_mask\",\n",
    "                            regionDefinition=NULL,\n",
    "                            frequency=FALSE, \n",
    "                            nproc=1)\n",
    "# Show new mutation count columns\n",
    "db_obs %>% \n",
    "    select(sequence_id, starts_with(\"mu_count_\")) %>%\n",
    "    head(n=10)"
   ]
  },
  {
   "cell_type": "code",
   "execution_count": 25,
   "id": "incorporated-wrapping",
   "metadata": {},
   "outputs": [
    {
     "data": {
      "text/html": [
       "<table class=\"dataframe\">\n",
       "<caption>A data.frame: 10 × 3</caption>\n",
       "<thead>\n",
       "\t<tr><th></th><th scope=col>sequence_id</th><th scope=col>mu_freq_seq_r</th><th scope=col>mu_freq_seq_s</th></tr>\n",
       "\t<tr><th></th><th scope=col>&lt;chr&gt;</th><th scope=col>&lt;dbl&gt;</th><th scope=col>&lt;dbl&gt;</th></tr>\n",
       "</thead>\n",
       "<tbody>\n",
       "\t<tr><th scope=row>1</th><td>TACTTACAGGCTAGCA-1_contig_1</td><td>0.008771930</td><td>0.002923977</td></tr>\n",
       "\t<tr><th scope=row>2</th><td>GGGTCTGTCTGGAGCC-1_contig_1</td><td>0.000000000</td><td>0.000000000</td></tr>\n",
       "\t<tr><th scope=row>3</th><td>ACTTTCACATAACCTG-1_contig_2</td><td>0.000000000</td><td>0.000000000</td></tr>\n",
       "\t<tr><th scope=row>4</th><td>TCTCATAAGGATTCGG-1_contig_2</td><td>0.017647059</td><td>0.011764706</td></tr>\n",
       "\t<tr><th scope=row>5</th><td>CCTTCGATCACGCATA-1_contig_1</td><td>0.000000000</td><td>0.000000000</td></tr>\n",
       "\t<tr><th scope=row>6</th><td>GATCGTAAGTACGCGA-1_contig_1</td><td>0.017595308</td><td>0.002932551</td></tr>\n",
       "\t<tr><th scope=row>7</th><td>CACATTTTCTACTATC-1_contig_1</td><td>0.002915452</td><td>0.000000000</td></tr>\n",
       "\t<tr><th scope=row>8</th><td>ACTATCTGTGCATCTA-1_contig_1</td><td>0.002915452</td><td>0.000000000</td></tr>\n",
       "\t<tr><th scope=row>9</th><td>ACAGCCGCAGCTGTGC-1_contig_2</td><td>0.000000000</td><td>0.000000000</td></tr>\n",
       "\t<tr><th scope=row>10</th><td>CCTCTGAAGGTGCAAC-1_contig_1</td><td>0.000000000</td><td>0.000000000</td></tr>\n",
       "</tbody>\n",
       "</table>\n"
      ],
      "text/latex": [
       "A data.frame: 10 × 3\n",
       "\\begin{tabular}{r|lll}\n",
       "  & sequence\\_id & mu\\_freq\\_seq\\_r & mu\\_freq\\_seq\\_s\\\\\n",
       "  & <chr> & <dbl> & <dbl>\\\\\n",
       "\\hline\n",
       "\t1 & TACTTACAGGCTAGCA-1\\_contig\\_1 & 0.008771930 & 0.002923977\\\\\n",
       "\t2 & GGGTCTGTCTGGAGCC-1\\_contig\\_1 & 0.000000000 & 0.000000000\\\\\n",
       "\t3 & ACTTTCACATAACCTG-1\\_contig\\_2 & 0.000000000 & 0.000000000\\\\\n",
       "\t4 & TCTCATAAGGATTCGG-1\\_contig\\_2 & 0.017647059 & 0.011764706\\\\\n",
       "\t5 & CCTTCGATCACGCATA-1\\_contig\\_1 & 0.000000000 & 0.000000000\\\\\n",
       "\t6 & GATCGTAAGTACGCGA-1\\_contig\\_1 & 0.017595308 & 0.002932551\\\\\n",
       "\t7 & CACATTTTCTACTATC-1\\_contig\\_1 & 0.002915452 & 0.000000000\\\\\n",
       "\t8 & ACTATCTGTGCATCTA-1\\_contig\\_1 & 0.002915452 & 0.000000000\\\\\n",
       "\t9 & ACAGCCGCAGCTGTGC-1\\_contig\\_2 & 0.000000000 & 0.000000000\\\\\n",
       "\t10 & CCTCTGAAGGTGCAAC-1\\_contig\\_1 & 0.000000000 & 0.000000000\\\\\n",
       "\\end{tabular}\n"
      ],
      "text/markdown": [
       "\n",
       "A data.frame: 10 × 3\n",
       "\n",
       "| <!--/--> | sequence_id &lt;chr&gt; | mu_freq_seq_r &lt;dbl&gt; | mu_freq_seq_s &lt;dbl&gt; |\n",
       "|---|---|---|---|\n",
       "| 1 | TACTTACAGGCTAGCA-1_contig_1 | 0.008771930 | 0.002923977 |\n",
       "| 2 | GGGTCTGTCTGGAGCC-1_contig_1 | 0.000000000 | 0.000000000 |\n",
       "| 3 | ACTTTCACATAACCTG-1_contig_2 | 0.000000000 | 0.000000000 |\n",
       "| 4 | TCTCATAAGGATTCGG-1_contig_2 | 0.017647059 | 0.011764706 |\n",
       "| 5 | CCTTCGATCACGCATA-1_contig_1 | 0.000000000 | 0.000000000 |\n",
       "| 6 | GATCGTAAGTACGCGA-1_contig_1 | 0.017595308 | 0.002932551 |\n",
       "| 7 | CACATTTTCTACTATC-1_contig_1 | 0.002915452 | 0.000000000 |\n",
       "| 8 | ACTATCTGTGCATCTA-1_contig_1 | 0.002915452 | 0.000000000 |\n",
       "| 9 | ACAGCCGCAGCTGTGC-1_contig_2 | 0.000000000 | 0.000000000 |\n",
       "| 10 | CCTCTGAAGGTGCAAC-1_contig_1 | 0.000000000 | 0.000000000 |\n",
       "\n"
      ],
      "text/plain": [
       "   sequence_id                 mu_freq_seq_r mu_freq_seq_s\n",
       "1  TACTTACAGGCTAGCA-1_contig_1 0.008771930   0.002923977  \n",
       "2  GGGTCTGTCTGGAGCC-1_contig_1 0.000000000   0.000000000  \n",
       "3  ACTTTCACATAACCTG-1_contig_2 0.000000000   0.000000000  \n",
       "4  TCTCATAAGGATTCGG-1_contig_2 0.017647059   0.011764706  \n",
       "5  CCTTCGATCACGCATA-1_contig_1 0.000000000   0.000000000  \n",
       "6  GATCGTAAGTACGCGA-1_contig_1 0.017595308   0.002932551  \n",
       "7  CACATTTTCTACTATC-1_contig_1 0.002915452   0.000000000  \n",
       "8  ACTATCTGTGCATCTA-1_contig_1 0.002915452   0.000000000  \n",
       "9  ACAGCCGCAGCTGTGC-1_contig_2 0.000000000   0.000000000  \n",
       "10 CCTCTGAAGGTGCAAC-1_contig_1 0.000000000   0.000000000  "
      ]
     },
     "metadata": {},
     "output_type": "display_data"
    }
   ],
   "source": [
    "# Calculate R and S mutation frequencies\n",
    "db_obs <- observedMutations(db_obs, sequenceColumn=\"sequence_alignment\",\n",
    "                            germlineColumn=\"germline_alignment_d_mask\",\n",
    "                            regionDefinition=NULL,\n",
    "                            frequency=TRUE, \n",
    "                            nproc=1)\n",
    "# Show new mutation frequency columns\n",
    "db_obs %>% \n",
    "    select(sequence_id, starts_with(\"mu_freq_\")) %>%\n",
    "    head(n=10)"
   ]
  },
  {
   "cell_type": "code",
   "execution_count": 26,
   "id": "august-indication",
   "metadata": {},
   "outputs": [
    {
     "data": {
      "text/html": [
       "<table class=\"dataframe\">\n",
       "<caption>A data.frame: 4 × 1</caption>\n",
       "<thead>\n",
       "\t<tr><th></th><th scope=col>sequence_id</th></tr>\n",
       "\t<tr><th></th><th scope=col>&lt;chr&gt;</th></tr>\n",
       "</thead>\n",
       "<tbody>\n",
       "\t<tr><th scope=row>1</th><td>TACTTACAGGCTAGCA-1_contig_1</td></tr>\n",
       "\t<tr><th scope=row>2</th><td>GGGTCTGTCTGGAGCC-1_contig_1</td></tr>\n",
       "\t<tr><th scope=row>3</th><td>ACTTTCACATAACCTG-1_contig_2</td></tr>\n",
       "\t<tr><th scope=row>4</th><td>TCTCATAAGGATTCGG-1_contig_2</td></tr>\n",
       "</tbody>\n",
       "</table>\n"
      ],
      "text/latex": [
       "A data.frame: 4 × 1\n",
       "\\begin{tabular}{r|l}\n",
       "  & sequence\\_id\\\\\n",
       "  & <chr>\\\\\n",
       "\\hline\n",
       "\t1 & TACTTACAGGCTAGCA-1\\_contig\\_1\\\\\n",
       "\t2 & GGGTCTGTCTGGAGCC-1\\_contig\\_1\\\\\n",
       "\t3 & ACTTTCACATAACCTG-1\\_contig\\_2\\\\\n",
       "\t4 & TCTCATAAGGATTCGG-1\\_contig\\_2\\\\\n",
       "\\end{tabular}\n"
      ],
      "text/markdown": [
       "\n",
       "A data.frame: 4 × 1\n",
       "\n",
       "| <!--/--> | sequence_id &lt;chr&gt; |\n",
       "|---|---|\n",
       "| 1 | TACTTACAGGCTAGCA-1_contig_1 |\n",
       "| 2 | GGGTCTGTCTGGAGCC-1_contig_1 |\n",
       "| 3 | ACTTTCACATAACCTG-1_contig_2 |\n",
       "| 4 | TCTCATAAGGATTCGG-1_contig_2 |\n",
       "\n"
      ],
      "text/plain": [
       "  sequence_id                \n",
       "1 TACTTACAGGCTAGCA-1_contig_1\n",
       "2 GGGTCTGTCTGGAGCC-1_contig_1\n",
       "3 ACTTTCACATAACCTG-1_contig_2\n",
       "4 TCTCATAAGGATTCGG-1_contig_2"
      ]
     },
     "metadata": {},
     "output_type": "display_data"
    }
   ],
   "source": [
    "# Calculate combined R and S mutation frequencies\n",
    "db_obs <- observedMutations(db, sequenceColumn=\"sequence_alignment\",\n",
    "                            germlineColumn=\"germline_alignment_d_mask\",\n",
    "                            regionDefinition=NULL,\n",
    "                            frequency=TRUE, \n",
    "                            combine=TRUE,\n",
    "                            nproc=1)\n",
    "# Show new mutation frequency columns\n",
    "db_obs %>% \n",
    "    select(sequence_id, starts_with(\"mu_freq_\")) %>%\n",
    "    head(n=4)"
   ]
  },
  {
   "cell_type": "code",
   "execution_count": 27,
   "id": "rental-ensemble",
   "metadata": {},
   "outputs": [
    {
     "data": {
      "image/png": "[encoded data removed]",
      "text/plain": [
       "plot without title"
      ]
     },
     "metadata": {
      "image/png": {
       "height": 420,
       "width": 420
      }
     },
     "output_type": "display_data"
    }
   ],
   "source": [
    "g1 <- ggplot(db_obs, aes(x=c_call, y=mu_freq, fill=c_call)) +\n",
    "    theme_bw() + ggtitle(\"Total mutations\") +\n",
    "    xlab(\"Isotype\") + ylab(\"Mutation frequency\") +\n",
    "    scale_fill_manual(name=\"Isotype\", values=IG_COLORS) +\n",
    "    geom_boxplot()\n",
    "plot(g1)"
   ]
  },
  {
   "cell_type": "code",
   "execution_count": 28,
   "id": "sweet-convertible",
   "metadata": {},
   "outputs": [
    {
     "data": {
      "text/html": [
       "<table class=\"dataframe\">\n",
       "<caption>A data.frame: 4 × 7</caption>\n",
       "<thead>\n",
       "\t<tr><th></th><th scope=col>sequence_id</th><th scope=col>mu_count_fwr1_r</th><th scope=col>mu_count_fwr1_s</th><th scope=col>mu_count_fwr2_r</th><th scope=col>mu_count_fwr2_s</th><th scope=col>mu_count_fwr3_r</th><th scope=col>mu_count_fwr3_s</th></tr>\n",
       "\t<tr><th></th><th scope=col>&lt;chr&gt;</th><th scope=col>&lt;dbl&gt;</th><th scope=col>&lt;dbl&gt;</th><th scope=col>&lt;dbl&gt;</th><th scope=col>&lt;dbl&gt;</th><th scope=col>&lt;dbl&gt;</th><th scope=col>&lt;dbl&gt;</th></tr>\n",
       "</thead>\n",
       "<tbody>\n",
       "\t<tr><th scope=row>1</th><td>TACTTACAGGCTAGCA-1_contig_1</td><td>0</td><td>1</td><td>1</td><td>0</td><td>1</td><td>0</td></tr>\n",
       "\t<tr><th scope=row>2</th><td>GGGTCTGTCTGGAGCC-1_contig_1</td><td>0</td><td>0</td><td>0</td><td>0</td><td>0</td><td>0</td></tr>\n",
       "\t<tr><th scope=row>3</th><td>ACTTTCACATAACCTG-1_contig_2</td><td>0</td><td>0</td><td>0</td><td>0</td><td>0</td><td>0</td></tr>\n",
       "\t<tr><th scope=row>4</th><td>TCTCATAAGGATTCGG-1_contig_2</td><td>0</td><td>0</td><td>0</td><td>0</td><td>4</td><td>4</td></tr>\n",
       "</tbody>\n",
       "</table>\n"
      ],
      "text/latex": [
       "A data.frame: 4 × 7\n",
       "\\begin{tabular}{r|lllllll}\n",
       "  & sequence\\_id & mu\\_count\\_fwr1\\_r & mu\\_count\\_fwr1\\_s & mu\\_count\\_fwr2\\_r & mu\\_count\\_fwr2\\_s & mu\\_count\\_fwr3\\_r & mu\\_count\\_fwr3\\_s\\\\\n",
       "  & <chr> & <dbl> & <dbl> & <dbl> & <dbl> & <dbl> & <dbl>\\\\\n",
       "\\hline\n",
       "\t1 & TACTTACAGGCTAGCA-1\\_contig\\_1 & 0 & 1 & 1 & 0 & 1 & 0\\\\\n",
       "\t2 & GGGTCTGTCTGGAGCC-1\\_contig\\_1 & 0 & 0 & 0 & 0 & 0 & 0\\\\\n",
       "\t3 & ACTTTCACATAACCTG-1\\_contig\\_2 & 0 & 0 & 0 & 0 & 0 & 0\\\\\n",
       "\t4 & TCTCATAAGGATTCGG-1\\_contig\\_2 & 0 & 0 & 0 & 0 & 4 & 4\\\\\n",
       "\\end{tabular}\n"
      ],
      "text/markdown": [
       "\n",
       "A data.frame: 4 × 7\n",
       "\n",
       "| <!--/--> | sequence_id &lt;chr&gt; | mu_count_fwr1_r &lt;dbl&gt; | mu_count_fwr1_s &lt;dbl&gt; | mu_count_fwr2_r &lt;dbl&gt; | mu_count_fwr2_s &lt;dbl&gt; | mu_count_fwr3_r &lt;dbl&gt; | mu_count_fwr3_s &lt;dbl&gt; |\n",
       "|---|---|---|---|---|---|---|---|\n",
       "| 1 | TACTTACAGGCTAGCA-1_contig_1 | 0 | 1 | 1 | 0 | 1 | 0 |\n",
       "| 2 | GGGTCTGTCTGGAGCC-1_contig_1 | 0 | 0 | 0 | 0 | 0 | 0 |\n",
       "| 3 | ACTTTCACATAACCTG-1_contig_2 | 0 | 0 | 0 | 0 | 0 | 0 |\n",
       "| 4 | TCTCATAAGGATTCGG-1_contig_2 | 0 | 0 | 0 | 0 | 4 | 4 |\n",
       "\n"
      ],
      "text/plain": [
       "  sequence_id                 mu_count_fwr1_r mu_count_fwr1_s mu_count_fwr2_r\n",
       "1 TACTTACAGGCTAGCA-1_contig_1 0               1               1              \n",
       "2 GGGTCTGTCTGGAGCC-1_contig_1 0               0               0              \n",
       "3 ACTTTCACATAACCTG-1_contig_2 0               0               0              \n",
       "4 TCTCATAAGGATTCGG-1_contig_2 0               0               0              \n",
       "  mu_count_fwr2_s mu_count_fwr3_r mu_count_fwr3_s\n",
       "1 0               1               0              \n",
       "2 0               0               0              \n",
       "3 0               0               0              \n",
       "4 0               4               4              "
      ]
     },
     "metadata": {},
     "output_type": "display_data"
    }
   ],
   "source": [
    "# Calculate R and S mutation counts for individual CDRs and FWRs\n",
    "db_obs_v <- observedMutations(db, sequenceColumn=\"sequence_alignment\",\n",
    "                              germlineColumn=\"germline_alignment_d_mask\",\n",
    "                              regionDefinition=IMGT_V_BY_REGIONS,\n",
    "                              frequency=FALSE, \n",
    "                              nproc=1)\n",
    "# Show new FWR mutation columns\n",
    "db_obs_v %>% \n",
    "    select(sequence_id, starts_with(\"mu_count_fwr\")) %>%\n",
    "    head(n=4)"
   ]
  },
  {
   "cell_type": "code",
   "execution_count": 29,
   "id": "demonstrated-external",
   "metadata": {},
   "outputs": [
    {
     "data": {
      "text/html": [
       "<table class=\"dataframe\">\n",
       "<caption>A data.frame: 4 × 5</caption>\n",
       "<thead>\n",
       "\t<tr><th></th><th scope=col>sequence_id</th><th scope=col>mu_freq_cdr_r</th><th scope=col>mu_freq_cdr_s</th><th scope=col>mu_freq_fwr_r</th><th scope=col>mu_freq_fwr_s</th></tr>\n",
       "\t<tr><th></th><th scope=col>&lt;chr&gt;</th><th scope=col>&lt;dbl&gt;</th><th scope=col>&lt;dbl&gt;</th><th scope=col>&lt;dbl&gt;</th><th scope=col>&lt;dbl&gt;</th></tr>\n",
       "</thead>\n",
       "<tbody>\n",
       "\t<tr><th scope=row>1</th><td>TACTTACAGGCTAGCA-1_contig_1</td><td>0.02083333</td><td>0</td><td>0.008333333</td><td>0.004166667</td></tr>\n",
       "\t<tr><th scope=row>2</th><td>GGGTCTGTCTGGAGCC-1_contig_1</td><td>0.00000000</td><td>0</td><td>0.000000000</td><td>0.000000000</td></tr>\n",
       "\t<tr><th scope=row>3</th><td>ACTTTCACATAACCTG-1_contig_2</td><td>0.00000000</td><td>0</td><td>0.000000000</td><td>0.000000000</td></tr>\n",
       "\t<tr><th scope=row>4</th><td>TCTCATAAGGATTCGG-1_contig_2</td><td>0.04166667</td><td>0</td><td>0.016666667</td><td>0.016666667</td></tr>\n",
       "</tbody>\n",
       "</table>\n"
      ],
      "text/latex": [
       "A data.frame: 4 × 5\n",
       "\\begin{tabular}{r|lllll}\n",
       "  & sequence\\_id & mu\\_freq\\_cdr\\_r & mu\\_freq\\_cdr\\_s & mu\\_freq\\_fwr\\_r & mu\\_freq\\_fwr\\_s\\\\\n",
       "  & <chr> & <dbl> & <dbl> & <dbl> & <dbl>\\\\\n",
       "\\hline\n",
       "\t1 & TACTTACAGGCTAGCA-1\\_contig\\_1 & 0.02083333 & 0 & 0.008333333 & 0.004166667\\\\\n",
       "\t2 & GGGTCTGTCTGGAGCC-1\\_contig\\_1 & 0.00000000 & 0 & 0.000000000 & 0.000000000\\\\\n",
       "\t3 & ACTTTCACATAACCTG-1\\_contig\\_2 & 0.00000000 & 0 & 0.000000000 & 0.000000000\\\\\n",
       "\t4 & TCTCATAAGGATTCGG-1\\_contig\\_2 & 0.04166667 & 0 & 0.016666667 & 0.016666667\\\\\n",
       "\\end{tabular}\n"
      ],
      "text/markdown": [
       "\n",
       "A data.frame: 4 × 5\n",
       "\n",
       "| <!--/--> | sequence_id &lt;chr&gt; | mu_freq_cdr_r &lt;dbl&gt; | mu_freq_cdr_s &lt;dbl&gt; | mu_freq_fwr_r &lt;dbl&gt; | mu_freq_fwr_s &lt;dbl&gt; |\n",
       "|---|---|---|---|---|---|\n",
       "| 1 | TACTTACAGGCTAGCA-1_contig_1 | 0.02083333 | 0 | 0.008333333 | 0.004166667 |\n",
       "| 2 | GGGTCTGTCTGGAGCC-1_contig_1 | 0.00000000 | 0 | 0.000000000 | 0.000000000 |\n",
       "| 3 | ACTTTCACATAACCTG-1_contig_2 | 0.00000000 | 0 | 0.000000000 | 0.000000000 |\n",
       "| 4 | TCTCATAAGGATTCGG-1_contig_2 | 0.04166667 | 0 | 0.016666667 | 0.016666667 |\n",
       "\n"
      ],
      "text/plain": [
       "  sequence_id                 mu_freq_cdr_r mu_freq_cdr_s mu_freq_fwr_r\n",
       "1 TACTTACAGGCTAGCA-1_contig_1 0.02083333    0             0.008333333  \n",
       "2 GGGTCTGTCTGGAGCC-1_contig_1 0.00000000    0             0.000000000  \n",
       "3 ACTTTCACATAACCTG-1_contig_2 0.00000000    0             0.000000000  \n",
       "4 TCTCATAAGGATTCGG-1_contig_2 0.04166667    0             0.016666667  \n",
       "  mu_freq_fwr_s\n",
       "1 0.004166667  \n",
       "2 0.000000000  \n",
       "3 0.000000000  \n",
       "4 0.016666667  "
      ]
     },
     "metadata": {},
     "output_type": "display_data"
    }
   ],
   "source": [
    "# Calculate aggregate CDR and FWR V-segment R and S mutation frequencies\n",
    "db_obs_v <- observedMutations(db_obs_v, sequenceColumn=\"sequence_alignment\",\n",
    "                              germlineColumn=\"germline_alignment_d_mask\",\n",
    "                              regionDefinition=IMGT_V,\n",
    "                              frequency=TRUE, \n",
    "                              nproc=1)\n",
    "# Show new CDR and FWR mutation frequency columns\n",
    "db_obs_v %>% \n",
    "    select(sequence_id, starts_with(\"mu_freq_\")) %>%\n",
    "    head(n=4)"
   ]
  },
  {
   "cell_type": "code",
   "execution_count": 30,
   "id": "clear-income",
   "metadata": {},
   "outputs": [
    {
     "data": {
      "image/png": "[encoded data removed]",
      "text/plain": [
       "plot without title"
      ]
     },
     "metadata": {
      "image/png": {
       "height": 420,
       "width": 420
      }
     },
     "output_type": "display_data"
    }
   ],
   "source": [
    "g2 <- ggplot(db_obs_v, aes(x=c_call, y=mu_freq_cdr_s, fill=c_call)) +\n",
    "    theme_bw() + ggtitle(\"CDR silent mutations\") +\n",
    "    xlab(\"Isotype\") + ylab(\"Mutation frequency\") +\n",
    "    scale_fill_manual(name=\"Isotype\", values=IG_COLORS) +\n",
    "    geom_boxplot()\n",
    "g3 <- ggplot(db_obs_v, aes(x=c_call, y=mu_freq_cdr_r, fill=c_call)) +\n",
    "    theme_bw() + ggtitle(\"CDR replacement mutations\") +\n",
    "    xlab(\"Isotype\") + ylab(\"Mutation frequency\") +\n",
    "    scale_fill_manual(name=\"Isotype\", values=IG_COLORS) +\n",
    "    geom_boxplot()\n",
    "alakazam::gridPlot(g2, g3, ncol=2)"
   ]
  },
  {
   "cell_type": "code",
   "execution_count": 31,
   "id": "civilian-infrastructure",
   "metadata": {},
   "outputs": [
    {
     "data": {
      "text/html": [
       "<table class=\"dataframe\">\n",
       "<caption>A data.frame: 4 × 3</caption>\n",
       "<thead>\n",
       "\t<tr><th></th><th scope=col>sequence_id</th><th scope=col>mu_freq_seq_r</th><th scope=col>mu_freq_seq_s</th></tr>\n",
       "\t<tr><th></th><th scope=col>&lt;chr&gt;</th><th scope=col>&lt;dbl&gt;</th><th scope=col>&lt;dbl&gt;</th></tr>\n",
       "</thead>\n",
       "<tbody>\n",
       "\t<tr><th scope=row>1</th><td>TACTTACAGGCTAGCA-1_contig_1</td><td>0.005847953</td><td>0.005847953</td></tr>\n",
       "\t<tr><th scope=row>2</th><td>GGGTCTGTCTGGAGCC-1_contig_1</td><td>0.000000000</td><td>0.000000000</td></tr>\n",
       "\t<tr><th scope=row>3</th><td>ACTTTCACATAACCTG-1_contig_2</td><td>0.000000000</td><td>0.000000000</td></tr>\n",
       "\t<tr><th scope=row>4</th><td>TCTCATAAGGATTCGG-1_contig_2</td><td>0.002941176</td><td>0.026470588</td></tr>\n",
       "</tbody>\n",
       "</table>\n"
      ],
      "text/latex": [
       "A data.frame: 4 × 3\n",
       "\\begin{tabular}{r|lll}\n",
       "  & sequence\\_id & mu\\_freq\\_seq\\_r & mu\\_freq\\_seq\\_s\\\\\n",
       "  & <chr> & <dbl> & <dbl>\\\\\n",
       "\\hline\n",
       "\t1 & TACTTACAGGCTAGCA-1\\_contig\\_1 & 0.005847953 & 0.005847953\\\\\n",
       "\t2 & GGGTCTGTCTGGAGCC-1\\_contig\\_1 & 0.000000000 & 0.000000000\\\\\n",
       "\t3 & ACTTTCACATAACCTG-1\\_contig\\_2 & 0.000000000 & 0.000000000\\\\\n",
       "\t4 & TCTCATAAGGATTCGG-1\\_contig\\_2 & 0.002941176 & 0.026470588\\\\\n",
       "\\end{tabular}\n"
      ],
      "text/markdown": [
       "\n",
       "A data.frame: 4 × 3\n",
       "\n",
       "| <!--/--> | sequence_id &lt;chr&gt; | mu_freq_seq_r &lt;dbl&gt; | mu_freq_seq_s &lt;dbl&gt; |\n",
       "|---|---|---|---|\n",
       "| 1 | TACTTACAGGCTAGCA-1_contig_1 | 0.005847953 | 0.005847953 |\n",
       "| 2 | GGGTCTGTCTGGAGCC-1_contig_1 | 0.000000000 | 0.000000000 |\n",
       "| 3 | ACTTTCACATAACCTG-1_contig_2 | 0.000000000 | 0.000000000 |\n",
       "| 4 | TCTCATAAGGATTCGG-1_contig_2 | 0.002941176 | 0.026470588 |\n",
       "\n"
      ],
      "text/plain": [
       "  sequence_id                 mu_freq_seq_r mu_freq_seq_s\n",
       "1 TACTTACAGGCTAGCA-1_contig_1 0.005847953   0.005847953  \n",
       "2 GGGTCTGTCTGGAGCC-1_contig_1 0.000000000   0.000000000  \n",
       "3 ACTTTCACATAACCTG-1_contig_2 0.000000000   0.000000000  \n",
       "4 TCTCATAAGGATTCGG-1_contig_2 0.002941176   0.026470588  "
      ]
     },
     "metadata": {},
     "output_type": "display_data"
    }
   ],
   "source": [
    "# Calculate charge mutation frequency for the full sequence\n",
    "db_obs_ch <- observedMutations(db, sequenceColumn=\"sequence_alignment\",\n",
    "                               germlineColumn=\"germline_alignment_d_mask\",\n",
    "                               regionDefinition=NULL,\n",
    "                               mutationDefinition=CHARGE_MUTATIONS,\n",
    "                               frequency=TRUE, \n",
    "                               nproc=1)\n",
    "# Show new charge mutation frequency columns\n",
    "db_obs_ch %>% \n",
    "    select(sequence_id, starts_with(\"mu_freq_\")) %>%\n",
    "    head(n=4)"
   ]
  },
  {
   "cell_type": "code",
   "execution_count": 32,
   "id": "induced-contributor",
   "metadata": {},
   "outputs": [
    {
     "data": {
      "image/png": "[encoded data removed]",
      "text/plain": [
       "plot without title"
      ]
     },
     "metadata": {
      "image/png": {
       "height": 420,
       "width": 420
      }
     },
     "output_type": "display_data"
    }
   ],
   "source": [
    "g4 <- ggplot(db_obs_ch, aes(x=c_call, y=mu_freq_seq_r, fill=c_call)) +\n",
    "    theme_bw() + ggtitle(\"Charge replacement mutations\") +\n",
    "    xlab(\"Isotype\") + ylab(\"Mutation frequency\") +\n",
    "    scale_fill_manual(name=\"Isotype\", values=IG_COLORS) +\n",
    "    geom_boxplot()\n",
    "plot(g4)"
   ]
  }
 ],
 "metadata": {
  "kernelspec": {
   "display_name": "R",
   "language": "R",
   "name": "ir"
  },
  "language_info": {
   "codemirror_mode": "r",
   "file_extension": ".r",
   "mimetype": "text/x-r-source",
   "name": "R",
   "pygments_lexer": "r",
   "version": "4.0.3"
  }
 },
 "nbformat": 4,
 "nbformat_minor": 5
}
