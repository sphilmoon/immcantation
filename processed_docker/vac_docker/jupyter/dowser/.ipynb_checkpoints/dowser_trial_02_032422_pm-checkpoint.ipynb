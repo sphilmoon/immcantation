{
 "cells": [
  {
   "cell_type": "code",
   "execution_count": 2,
   "id": "competent-alias",
   "metadata": {},
   "outputs": [
    {
     "name": "stderr",
     "output_type": "stream",
     "text": [
      "Installing package into ‘/usr/lib64/R/library’\n",
      "(as ‘lib’ is unspecified)\n",
      "\n",
      "Warning message:\n",
      "“dependency ‘phangorn’ is not available”\n",
      "Warning message in install.packages(\"dowser\"):\n",
      "“installation of package ‘dowser’ had non-zero exit status”\n",
      "Updating HTML index of packages in '.Library'\n",
      "\n",
      "Making 'packages.html' ...\n",
      " done\n",
      "\n"
     ]
    }
   ],
   "source": [
    "install.packages(\"dowser\")"
   ]
  },
  {
   "cell_type": "code",
   "execution_count": 4,
   "id": "advised-clone",
   "metadata": {},
   "outputs": [
    {
     "name": "stderr",
     "output_type": "stream",
     "text": [
      "\n",
      "Attaching package: ‘dplyr’\n",
      "\n",
      "\n",
      "The following objects are masked from ‘package:stats’:\n",
      "\n",
      "    filter, lag\n",
      "\n",
      "\n",
      "The following objects are masked from ‘package:base’:\n",
      "\n",
      "    intersect, setdiff, setequal, union\n",
      "\n",
      "\n"
     ]
    },
    {
     "name": "stdout",
     "output_type": "stream",
     "text": [
      "Rows: 3,060\n",
      "Columns: 62\n",
      "$ sequence_id               \u001b[3m\u001b[38;5;246m<chr>\u001b[39m\u001b[23m \"ACGATACTCAACGCTA-1_contig_2\", \"TGGCCAGTCTC…\n",
      "$ sequence                  \u001b[3m\u001b[38;5;246m<chr>\u001b[39m\u001b[23m \"ACTGTTCTCTTTACAGTTACTGAGCACACAGGACCTCACCAT…\n",
      "$ rev_comp                  \u001b[3m\u001b[38;5;246m<lgl>\u001b[39m\u001b[23m FALSE, FALSE, FALSE, FALSE, FALSE, FALSE, F…\n",
      "$ productive                \u001b[3m\u001b[38;5;246m<lgl>\u001b[39m\u001b[23m TRUE, TRUE, TRUE, TRUE, TRUE, TRUE, TRUE, T…\n",
      "$ v_call                    \u001b[3m\u001b[38;5;246m<chr>\u001b[39m\u001b[23m \"IGHV1-72*01\", \"IGHV1-62-2*01,IGHV1-71*01\",…\n",
      "$ d_call                    \u001b[3m\u001b[38;5;246m<chr>\u001b[39m\u001b[23m \"IGHD1-1*01\", NA, \"IGHD2-1*01,IGHD2-13*01,I…\n",
      "$ j_call                    \u001b[3m\u001b[38;5;246m<chr>\u001b[39m\u001b[23m \"IGHJ4*01\", \"IGHJ4*01\", \"IGHJ2*01\", \"IGHJ4*…\n",
      "$ sequence_alignment        \u001b[3m\u001b[38;5;246m<chr>\u001b[39m\u001b[23m \"CAGGTCCAACTGCAGCAGCCTGGGGCT...GAGCTTGTGAAG…\n",
      "$ germline_alignment        \u001b[3m\u001b[38;5;246m<chr>\u001b[39m\u001b[23m \"CAGGTCCAACTGCAGCAGCCTGGGGCT...GAGCTTGTGAAG…\n",
      "$ junction                  \u001b[3m\u001b[38;5;246m<chr>\u001b[39m\u001b[23m \"TGTGCAAGATTAGGGGGCTACGGTAATGCTATGGACTACTGG…\n",
      "$ junction_aa               \u001b[3m\u001b[38;5;246m<chr>\u001b[39m\u001b[23m \"CARLGGYGNAMDYW\", \"CARHEEDYYAMDYW\", \"CTRDST…\n",
      "$ v_cigar                   \u001b[3m\u001b[38;5;246m<chr>\u001b[39m\u001b[23m \"97S294=\", \"112S302=\", \"117S294=\", \"72S299=…\n",
      "$ d_cigar                   \u001b[3m\u001b[38;5;246m<chr>\u001b[39m\u001b[23m \"399S7N8=\", NA, \"414S7=\", \"374S5=\", NA, \"42…\n",
      "$ j_cigar                   \u001b[3m\u001b[38;5;246m<chr>\u001b[39m\u001b[23m \"407S6N48=\", \"418S2N52=\", \"430S3N45=\", \"387…\n",
      "$ stop_codon                \u001b[3m\u001b[38;5;246m<lgl>\u001b[39m\u001b[23m FALSE, FALSE, FALSE, FALSE, FALSE, FALSE, F…\n",
      "$ vj_in_frame               \u001b[3m\u001b[38;5;246m<lgl>\u001b[39m\u001b[23m TRUE, TRUE, TRUE, TRUE, TRUE, TRUE, TRUE, T…\n",
      "$ locus                     \u001b[3m\u001b[38;5;246m<chr>\u001b[39m\u001b[23m \"IGH\", \"IGH\", \"IGH\", \"IGH\", \"IGH\", \"IGH\", \"…\n",
      "$ junction_length           \u001b[3m\u001b[38;5;246m<dbl>\u001b[39m\u001b[23m 42, 42, 42, 42, 42, 42, 42, 42, 42, 42, 51,…\n",
      "$ np1_length                \u001b[3m\u001b[38;5;246m<dbl>\u001b[39m\u001b[23m 8, 4, 3, 3, 14, 0, 0, 8, 2, 2, 6, 5, 7, 12,…\n",
      "$ np2_length                \u001b[3m\u001b[38;5;246m<dbl>\u001b[39m\u001b[23m 0, NA, 9, 8, NA, 8, 4, NA, 3, 1, 10, 2, 1, …\n",
      "$ v_sequence_start          \u001b[3m\u001b[38;5;246m<dbl>\u001b[39m\u001b[23m 98, 113, 118, 73, 69, 130, 130, 130, 119, 1…\n",
      "$ v_sequence_end            \u001b[3m\u001b[38;5;246m<dbl>\u001b[39m\u001b[23m 391, 414, 411, 371, 365, 425, 425, 425, 412…\n",
      "$ v_germline_start          \u001b[3m\u001b[38;5;246m<dbl>\u001b[39m\u001b[23m 1, 1, 1, 1, 1, 1, 1, 1, 1, 1, 1, 1, 1, 1, 1…\n",
      "$ v_germline_end            \u001b[3m\u001b[38;5;246m<dbl>\u001b[39m\u001b[23m 318, 326, 318, 320, 318, 320, 320, 320, 318…\n",
      "$ d_sequence_start          \u001b[3m\u001b[38;5;246m<dbl>\u001b[39m\u001b[23m 400, NA, 415, 375, NA, 426, 426, NA, 415, 4…\n",
      "$ d_sequence_end            \u001b[3m\u001b[38;5;246m<dbl>\u001b[39m\u001b[23m 407, NA, 421, 379, NA, 432, 435, NA, 419, 4…\n",
      "$ d_germline_start          \u001b[3m\u001b[38;5;246m<dbl>\u001b[39m\u001b[23m 8, NA, 1, 1, NA, 11, 4, NA, 7, 12, 12, 20, …\n",
      "$ d_germline_end            \u001b[3m\u001b[38;5;246m<dbl>\u001b[39m\u001b[23m 15, NA, 7, 5, NA, 17, 13, NA, 11, 17, 20, 2…\n",
      "$ j_sequence_start          \u001b[3m\u001b[38;5;246m<dbl>\u001b[39m\u001b[23m 408, 419, 431, 388, 380, 441, 440, 434, 423…\n",
      "$ j_sequence_end            \u001b[3m\u001b[38;5;246m<dbl>\u001b[39m\u001b[23m 455, 470, 475, 433, 429, 487, 487, 487, 476…\n",
      "$ j_germline_start          \u001b[3m\u001b[38;5;246m<dbl>\u001b[39m\u001b[23m 7, 3, 4, 9, 5, 8, 7, 1, 1, 1, 7, 5, 12, 3, …\n",
      "$ j_germline_end            \u001b[3m\u001b[38;5;246m<dbl>\u001b[39m\u001b[23m 54, 54, 48, 54, 54, 54, 54, 54, 54, 54, 54,…\n",
      "$ v_score                   \u001b[3m\u001b[38;5;246m<dbl>\u001b[39m\u001b[23m 459, 472, 459, 467, 464, 463, 459, 463, 459…\n",
      "$ v_identity                \u001b[3m\u001b[38;5;246m<dbl>\u001b[39m\u001b[23m 1.00000, 1.00000, 1.00000, 1.00000, 1.00000…\n",
      "$ v_support                 \u001b[3m\u001b[38;5;246m<dbl>\u001b[39m\u001b[23m 3.33e-131, 6.02e-135, 3.43e-131, 1.45e-133,…\n",
      "$ d_score                   \u001b[3m\u001b[38;5;246m<dbl>\u001b[39m\u001b[23m 16.1, NA, 14.1, 10.3, NA, 14.1, 19.9, NA, 1…\n",
      "$ d_identity                \u001b[3m\u001b[38;5;246m<dbl>\u001b[39m\u001b[23m 1, NA, 1, 1, NA, 1, 1, NA, 1, 1, 1, 1, 1, N…\n",
      "$ d_support                 \u001b[3m\u001b[38;5;246m<dbl>\u001b[39m\u001b[23m 3.20e+00, NA, 1.20e+01, 1.68e+02, NA, 1.30e…\n",
      "$ j_score                   \u001b[3m\u001b[38;5;246m<dbl>\u001b[39m\u001b[23m 93.0, 100.0, 87.2, 89.1, 96.8, 91.1, 93.0, …\n",
      "$ j_identity                \u001b[3m\u001b[38;5;246m<dbl>\u001b[39m\u001b[23m 1, 1, 1, 1, 1, 1, 1, 1, 1, 1, 1, 1, 1, 1, 1…\n",
      "$ j_support                 \u001b[3m\u001b[38;5;246m<dbl>\u001b[39m\u001b[23m 5.31e-23, 2.63e-25, 2.98e-21, 7.38e-22, 3.5…\n",
      "$ fwr1                      \u001b[3m\u001b[38;5;246m<chr>\u001b[39m\u001b[23m \"CAGGTCCAACTGCAGCAGCCTGGGGCT...GAGCTTGTGAAG…\n",
      "$ fwr2                      \u001b[3m\u001b[38;5;246m<chr>\u001b[39m\u001b[23m \"ATGCACTGGGTGAAGCAGAGGCCTGGACGAGGCCTTGAGTGG…\n",
      "$ fwr3                      \u001b[3m\u001b[38;5;246m<chr>\u001b[39m\u001b[23m \"AAGTACAATGAGAAGTTCAAG...AGCAAGGCCACACTGACT…\n",
      "$ fwr4                      \u001b[3m\u001b[38;5;246m<chr>\u001b[39m\u001b[23m \"TGGGGTCAAGGAACCTCAGTCACCGTCTCCTCAG\", \"TGGG…\n",
      "$ cdr1                      \u001b[3m\u001b[38;5;246m<chr>\u001b[39m\u001b[23m \"GGCTACACCTTC............ACCAGCTACTGG\", \"GG…\n",
      "$ cdr2                      \u001b[3m\u001b[38;5;246m<chr>\u001b[39m\u001b[23m \"ATTGATCCTAAT......AGTGGTGGTACT\", \"TTTTACCC…\n",
      "$ cdr3                      \u001b[3m\u001b[38;5;246m<chr>\u001b[39m\u001b[23m \"GCAAGATTAGGGGGCTACGGTAATGCTATGGACTAC\", \"GC…\n",
      "$ cell_id                   \u001b[3m\u001b[38;5;246m<chr>\u001b[39m\u001b[23m \"ACGATACTCAACGCTA-1\", \"TGGCCAGTCTCTTATG-1\",…\n",
      "$ c_call                    \u001b[3m\u001b[38;5;246m<chr>\u001b[39m\u001b[23m \"IGHM\", \"IGHM\", \"IGHM\", \"IGHM\", \"IGHM\", \"IG…\n",
      "$ consensus_count           \u001b[3m\u001b[38;5;246m<dbl>\u001b[39m\u001b[23m 866, 1092, 2406, 856, 252, 4676, 334, 380, …\n",
      "$ clone_id                  \u001b[3m\u001b[38;5;246m<chr>\u001b[39m\u001b[23m \"1000_220\", \"1001_2804\", \"1002_532\", \"1003_…\n",
      "$ umi_count                 \u001b[3m\u001b[38;5;246m<dbl>\u001b[39m\u001b[23m 6, 9, 17, 7, 3, 38, 3, 4, 4, 18, 9, 18, 7, …\n",
      "$ v_call_10x                \u001b[3m\u001b[38;5;246m<chr>\u001b[39m\u001b[23m \"IGHV1-72\", \"IGHV1-71\", \"IGHV5-9-1\", \"IGHV8…\n",
      "$ d_call_10x                \u001b[3m\u001b[38;5;246m<chr>\u001b[39m\u001b[23m NA, NA, NA, NA, NA, NA, \"IGHD3-2\", NA, NA, …\n",
      "$ j_call_10x                \u001b[3m\u001b[38;5;246m<chr>\u001b[39m\u001b[23m \"IGHJ4\", \"IGHJ4\", \"IGHJ2\", \"IGHJ4\", \"IGHJ4\"…\n",
      "$ junction_10x              \u001b[3m\u001b[38;5;246m<chr>\u001b[39m\u001b[23m \"TGTGCAAGATTAGGGGGCTACGGTAATGCTATGGACTACTGG…\n",
      "$ junction_10x_aa           \u001b[3m\u001b[38;5;246m<chr>\u001b[39m\u001b[23m \"CARLGGYGNAMDYW\", \"CARHEEDYYAMDYW\", \"CTRDST…\n",
      "$ germline_alignment_d_mask \u001b[3m\u001b[38;5;246m<chr>\u001b[39m\u001b[23m \"CAGGTCCAACTGCAGCAGCCTGGGGCT...GAGCTTGTGAAG…\n",
      "$ germline_v_call           \u001b[3m\u001b[38;5;246m<chr>\u001b[39m\u001b[23m \"IGHV1-72*01\", \"IGHV1-62-2*01\", \"IGHV5-9-1*…\n",
      "$ germline_d_call           \u001b[3m\u001b[38;5;246m<chr>\u001b[39m\u001b[23m \"IGHD1-1*01\", NA, \"IGHD2-1*01\", \"IGHD2-1*01…\n",
      "$ germline_j_call           \u001b[3m\u001b[38;5;246m<chr>\u001b[39m\u001b[23m \"IGHJ4*01\", \"IGHJ4*01\", \"IGHJ2*01\", \"IGHJ4*…\n"
     ]
    }
   ],
   "source": [
    "# Load required packages\n",
    "library(alakazam)\n",
    "library(dowser)\n",
    "library(dplyr)\n",
    "library(scales)\n",
    "\n",
    "# accurate infering D region and junction region is very difficult\n",
    "# so you only reconstruct V and J sequence when you reconstruct germline\n",
    "# you mask D region with ambiguous nucelotides\n",
    "\n",
    "db <- readChangeoDb(\"../../changeo_10x/vac_heavy_germ-pass.tsv\", select = NULL, drop = NULL, seq_upper = TRUE)\n",
    "glimpse(db)"
   ]
  },
  {
   "cell_type": "code",
   "execution_count": 27,
   "id": "original-veteran",
   "metadata": {},
   "outputs": [],
   "source": [
    "# Create ordered list for constructing lineage tree\n",
    "clones <- formatClones(db, traits = c(\"clone_id\", \"germline_alignment_d_mask\"), minseq=2)\n",
    "\n",
    "# constructing trees using maximum parsinomy trees\n",
    "trees <- getTrees(clones, build=\"igphyml\", exec=\"/usr/local/share/igphyml/src/igphyml\", nproc=2)\n",
    "\n",
    "# Plot trees\n",
    "plots <- plotTrees(trees, tips=\"c_call\", tipsize=2)\n",
    "plots[[1]]"
   ]
  }
 ],
 "metadata": {
  "kernelspec": {
   "display_name": "R",
   "language": "R",
   "name": "ir"
  },
  "language_info": {
   "codemirror_mode": "r",
   "file_extension": ".r",
   "mimetype": "text/x-r-source",
   "name": "R",
   "pygments_lexer": "r",
   "version": "4.0.3"
  }
 },
 "nbformat": 4,
 "nbformat_minor": 5
}
