{
 "cells": [
  {
   "cell_type": "code",
   "execution_count": 5,
   "id": "realistic-credits",
   "metadata": {},
   "outputs": [
    {
     "name": "stderr",
     "output_type": "stream",
     "text": [
      "Installing package into ‘/usr/lib64/R/library’\n",
      "(as ‘lib’ is unspecified)\n",
      "\n",
      "Warning message:\n",
      "“dependency ‘phangorn’ is not available”\n",
      "also installing the dependencies ‘ggplot2’, ‘ape’, ‘shazam’\n",
      "\n",
      "\n",
      "Warning message in install.packages(\"dowser\"):\n",
      "“installation of package ‘dowser’ had non-zero exit status”\n",
      "Updating HTML index of packages in '.Library'\n",
      "\n",
      "Making 'packages.html' ...\n",
      " done\n",
      "\n"
     ]
    }
   ],
   "source": [
    "install.packages(\"dowser\")"
   ]
  },
  {
   "cell_type": "code",
   "execution_count": 7,
   "id": "breathing-candle",
   "metadata": {},
   "outputs": [],
   "source": [
    "# Load required packages\n",
    "library(alakazam)\n",
    "library(dowser)"
   ]
  },
  {
   "cell_type": "code",
   "execution_count": 21,
   "id": "yellow-sellers",
   "metadata": {},
   "outputs": [],
   "source": [
    "db <- readChangeoDb(\"../../changeo_10x/vac_heavy_germ-pass.tsv\", select = NULL, drop = NULL, seq_upper = TRUE)"
   ]
  },
  {
   "cell_type": "code",
   "execution_count": 41,
   "id": "guided-hollow",
   "metadata": {},
   "outputs": [],
   "source": [
    "# subset data for this example\n",
    "db = db[db$clone_id %in% c(\"1002_532\", \"1005_2892\"),]"
   ]
  },
  {
   "cell_type": "code",
   "execution_count": 42,
   "id": "orange-schedule",
   "metadata": {},
   "outputs": [
    {
     "ename": "ERROR",
     "evalue": "Error in clones$data[[1]]: subscript out of bounds\n",
     "output_type": "error",
     "traceback": [
      "Error in clones$data[[1]]: subscript out of bounds\nTraceback:\n",
      "1. formatClones(db, seq = \"sequence_alignment\", clone = \"clone_id\", \n .     subclone = \"subclone_id\", nproc = 1, chain = \"H\", heavy = \"IGH\", \n .     cell = \"cell_id\", locus = \"locus\", minseq = 2, split_light = FALSE, \n .     majoronly = FALSE, columns = NULL)",
      "2. processClones(clones, nproc = nproc, seq = seq_name, minseq = minseq)"
     ]
    }
   ],
   "source": [
    "formatClones(\n",
    "db,\n",
    "seq = \"sequence_alignment\",\n",
    "clone = \"clone_id\",\n",
    "subclone = \"subclone_id\",\n",
    "nproc = 1,\n",
    "chain = \"H\",\n",
    "heavy = \"IGH\",\n",
    "cell = \"cell_id\",\n",
    "locus = \"locus\",\n",
    "minseq = 2,\n",
    "split_light = FALSE,\n",
    "majoronly = FALSE,\n",
    "columns = NULL\n",
    ")"
   ]
  }
 ],
 "metadata": {
  "kernelspec": {
   "display_name": "R",
   "language": "R",
   "name": "ir"
  },
  "language_info": {
   "codemirror_mode": "r",
   "file_extension": ".r",
   "mimetype": "text/x-r-source",
   "name": "R",
   "pygments_lexer": "r",
   "version": "4.0.3"
  }
 },
 "nbformat": 4,
 "nbformat_minor": 5
}
