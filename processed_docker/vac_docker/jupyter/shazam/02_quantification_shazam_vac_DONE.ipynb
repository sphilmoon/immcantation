{
 "cells": [
  {
   "cell_type": "code",
   "execution_count": 1,
   "id": "behind-curtis",
   "metadata": {},
   "outputs": [
    {
     "name": "stderr",
     "output_type": "stream",
     "text": [
      "Loading required package: ggplot2\n",
      "\n",
      "As of v1.0.0 the AIRR Rearrangement schema is now the default file format.\n",
      "A description of the standard is available at https://docs.airr-community.org.\n",
      "The legacy Change-O format is supported through arguments to each function\n",
      "that allow the input column names to be explicitly defined.\n",
      "\n",
      "As of v1.0.0 the AIRR Rearrangement schema is now the default file format.\n",
      "A description of the standard is available at https://docs.airr-community.org.\n",
      "The legacy Change-O format is supported through arguments to each function\n",
      "that allow the input column names to be explicitly defined.\n",
      "\n",
      "\n",
      "Attaching package: ‘dplyr’\n",
      "\n",
      "\n",
      "The following objects are masked from ‘package:stats’:\n",
      "\n",
      "    filter, lag\n",
      "\n",
      "\n",
      "The following objects are masked from ‘package:base’:\n",
      "\n",
      "    intersect, setdiff, setequal, union\n",
      "\n",
      "\n",
      "Loading required package: data.table\n",
      "\n",
      "\n",
      "Attaching package: ‘data.table’\n",
      "\n",
      "\n",
      "The following objects are masked from ‘package:dplyr’:\n",
      "\n",
      "    between, first, last\n",
      "\n",
      "\n"
     ]
    }
   ],
   "source": [
    "# Import required packages\n",
    "library(alakazam)\n",
    "library(shazam)\n",
    "library(dplyr)\n",
    "library(ggplot2)\n",
    "\n",
    "require(data.table)\n",
    "my_data <- as.data.frame(fread(\"../changeo10x/vac_heavy_germ-pass.tsv\"))"
   ]
  },
  {
   "cell_type": "code",
   "execution_count": 2,
   "id": "particular-frost",
   "metadata": {},
   "outputs": [],
   "source": [
    "# Collapse clonal groups into single sequences\n",
    "clones <- collapseClones(my_data, cloneColumn=\"clone_id\", \n",
    "                         sequenceColumn=\"sequence_alignment\", \n",
    "                         germlineColumn=\"germline_alignment_d_mask\", \n",
    "                         regionDefinition=IMGT_V, \n",
    "                         method=\"thresholdedFreq\", minimumFrequency=0.6,\n",
    "                         includeAmbiguous=FALSE, breakTiesStochastic=FALSE, \n",
    "                         nproc=1)"
   ]
  },
  {
   "cell_type": "code",
   "execution_count": 3,
   "id": "opposed-leone",
   "metadata": {},
   "outputs": [],
   "source": [
    "# Count observed mutations and append mu_count columns to the output\n",
    "observed <- observedMutations(clones, \n",
    "                              sequenceColumn=\"clonal_sequence\",\n",
    "                              germlineColumn=\"clonal_germline\",\n",
    "                              regionDefinition=IMGT_V, nproc=1)\n",
    "# Count expected mutations and append mu_exptected columns to the output\n",
    "expected <- expectedMutations(observed, \n",
    "                              sequenceColumn=\"clonal_sequence\",\n",
    "                              germlineColumn=\"clonal_germline\",\n",
    "                              targetingModel=HH_S5F,\n",
    "                              regionDefinition=IMGT_V, nproc=1)"
   ]
  },
  {
   "cell_type": "code",
   "execution_count": 4,
   "id": "expanded-border",
   "metadata": {},
   "outputs": [
    {
     "name": "stderr",
     "output_type": "stream",
     "text": [
      "calcBaseline will use existing observed and expected mutations, in the fields: mu_count_cdr_r, mu_count_cdr_s, mu_count_fwr_r, mu_count_fwr_s and mu_expected_cdr_r, mu_expected_cdr_s, mu_expected_fwr_r, mu_expected_fwr_s\n",
      "\n"
     ]
    },
    {
     "name": "stdout",
     "output_type": "stream",
     "text": [
      "Calculating BASELINe probability density functions...\n"
     ]
    }
   ],
   "source": [
    "# Calculate selection scores using the output from expectedMutations\n",
    "baseline_focused <- calcBaseline(expected, testStatistic=\"focused\", \n",
    "                         regionDefinition=IMGT_V, nproc=1)"
   ]
  },
  {
   "cell_type": "code",
   "execution_count": 6,
   "id": "confirmed-adjustment",
   "metadata": {
    "scrolled": true
   },
   "outputs": [
    {
     "ename": "ERROR",
     "evalue": "Error in (function(x, i, exact) if (is.matrix(i)) as.matrix(x)[[i]] else .subset2(x, : argument \"groupBy\" is missing, with no default\n",
     "output_type": "error",
     "traceback": [
      "Error in (function(x, i, exact) if (is.matrix(i)) as.matrix(x)[[i]] else .subset2(x, : argument \"groupBy\" is missing, with no default\nTraceback:\n",
      "1. testBaseline(baseline)",
      "2. baseline@db[[groupBy]]",
      "3. `[[.data.frame`(baseline@db, groupBy)",
      "4. (function(x, i, exact) if (is.matrix(i)) as.matrix(x)[[i]] else .subset2(x, \n .     i, exact = exact))(x, ..., exact = exact)"
     ]
    }
   ],
   "source": [
    "testBaseline(baseline_focused)"
   ]
  },
  {
   "cell_type": "code",
   "execution_count": 9,
   "id": "illegal-paper",
   "metadata": {},
   "outputs": [
    {
     "name": "stderr",
     "output_type": "stream",
     "text": [
      "calcBaseline will calculate observed and expected mutations for clonal_sequence using clonal_germline as a reference.\n",
      "\n"
     ]
    },
    {
     "name": "stdout",
     "output_type": "stream",
     "text": [
      "Calculating BASELINe probability density functions...\n"
     ]
    }
   ],
   "source": [
    "# Calculate selection scores from scratch\n",
    "baseline <- calcBaseline(clones, testStatistic=\"focused\", \n",
    "                         regionDefinition=IMGT_V, nproc=1)"
   ]
  },
  {
   "cell_type": "code",
   "execution_count": 12,
   "id": "legislative-fortune",
   "metadata": {},
   "outputs": [
    {
     "name": "stdout",
     "output_type": "stream",
     "text": [
      "Grouping BASELINe probability density functions...\n",
      "Calculating BASELINe statistics...\n"
     ]
    }
   ],
   "source": [
    "grouped_1 <- groupBaseline(baseline, groupBy=\"c_call\")"
   ]
  },
  {
   "cell_type": "code",
   "execution_count": 14,
   "id": "regulated-business",
   "metadata": {},
   "outputs": [
    {
     "name": "stderr",
     "output_type": "stream",
     "text": [
      "calcBaseline will calculate observed and expected mutations for clonal_sequence using clonal_germline as a reference.\n",
      "\n"
     ]
    },
    {
     "name": "stdout",
     "output_type": "stream",
     "text": [
      "Calculating BASELINe probability density functions...\n",
      "Grouping BASELINe probability density functions...\n",
      "Calculating BASELINe statistics...\n"
     ]
    }
   ],
   "source": [
    "# Subset the original data to switched isotypes\n",
    "db_sub <- subset(my_data, c_call %in% c(\"IGHM\", \"IGHG\"))\n",
    "\n",
    "# Collapse clonal groups into single sequence\n",
    "clones_sub <- collapseClones(db_sub, cloneColumn=\"clone_id\",\n",
    "                             sequenceColumn=\"sequence_alignment\",\n",
    "                             germlineColumn=\"germline_alignment_d_mask\",\n",
    "                             regionDefinition=IMGT_V, \n",
    "                             method=\"thresholdedFreq\", minimumFrequency=0.6,\n",
    "                             includeAmbiguous=FALSE, breakTiesStochastic=FALSE, \n",
    "                             nproc=1)\n",
    "\n",
    "# Calculate selection scores from scratch\n",
    "baseline_sub <- calcBaseline(clones_sub, testStatistic=\"focused\", \n",
    "                             regionDefinition=IMGT_V, nproc=1)\n",
    "\n",
    "# Combine selection scores by time-point and isotype\n",
    "grouped_2 <- groupBaseline(baseline_sub, groupBy=\"c_call\")"
   ]
  },
  {
   "cell_type": "code",
   "execution_count": 15,
   "id": "similar-softball",
   "metadata": {},
   "outputs": [
    {
     "ename": "ERROR",
     "evalue": "Error in `[.data.frame`(baseline@db, , groupBy): undefined columns selected\n",
     "output_type": "error",
     "traceback": [
      "Error in `[.data.frame`(baseline@db, , groupBy): undefined columns selected\nTraceback:\n",
      "1. groupBaseline(baseline, groupBy = c(\"status\", \"subject\"))",
      "2. data.frame(unique(baseline@db[, groupBy]))",
      "3. unique(baseline@db[, groupBy])",
      "4. baseline@db[, groupBy]",
      "5. `[.data.frame`(baseline@db, , groupBy)",
      "6. stop(\"undefined columns selected\")"
     ]
    }
   ],
   "source": [
    "# First group by subject and status\n",
    "subject_grouped <- groupBaseline(baseline, groupBy=c(\"status\", \"subject\"))\n",
    "\n",
    "# Then group the output by status\n",
    "status_grouped <- groupBaseline(subject_grouped, groupBy=\"status\")"
   ]
  },
  {
   "cell_type": "code",
   "execution_count": 16,
   "id": "processed-amazon",
   "metadata": {},
   "outputs": [
    {
     "data": {
      "text/html": [
       "<table class=\"dataframe\">\n",
       "<caption>A data.frame: 56 × 4</caption>\n",
       "<thead>\n",
       "\t<tr><th scope=col>region</th><th scope=col>test</th><th scope=col>pvalue</th><th scope=col>fdr</th></tr>\n",
       "\t<tr><th scope=col>&lt;chr&gt;</th><th scope=col>&lt;chr&gt;</th><th scope=col>&lt;dbl&gt;</th><th scope=col>&lt;dbl&gt;</th></tr>\n",
       "</thead>\n",
       "<tbody>\n",
       "\t<tr><td>cdr</td><td>IGHM != IGHD    </td><td>1.932840e-01</td><td>0.2833263813</td></tr>\n",
       "\t<tr><td>cdr</td><td>IGHM != IGHA    </td><td>6.920695e-02</td><td>0.2214363466</td></tr>\n",
       "\t<tr><td>cdr</td><td>IGHM != IGHG1   </td><td>1.482371e-01</td><td>0.2779445969</td></tr>\n",
       "\t<tr><td>cdr</td><td>IGHM !=         </td><td>          NA</td><td>          NA</td></tr>\n",
       "\t<tr><td>cdr</td><td>IGHM != IGHG2C  </td><td>4.957757e-01</td><td>0.4957757185</td></tr>\n",
       "\t<tr><td>cdr</td><td>IGHM != IGHG3   </td><td>          NA</td><td>          NA</td></tr>\n",
       "\t<tr><td>cdr</td><td>IGHM != IGHG2B  </td><td>1.818871e-01</td><td>0.2833263813</td></tr>\n",
       "\t<tr><td>cdr</td><td>IGHD != IGHA    </td><td>7.717564e-02</td><td>0.2214363466</td></tr>\n",
       "\t<tr><td>cdr</td><td>IGHD != IGHG1   </td><td>8.634119e-02</td><td>0.2214363466</td></tr>\n",
       "\t<tr><td>cdr</td><td>IGHD !=         </td><td>          NA</td><td>          NA</td></tr>\n",
       "\t<tr><td>cdr</td><td>IGHD != IGHG2C  </td><td>2.051658e-01</td><td>0.2833263813</td></tr>\n",
       "\t<tr><td>cdr</td><td>IGHD != IGHG3   </td><td>          NA</td><td>          NA</td></tr>\n",
       "\t<tr><td>cdr</td><td>IGHD != IGHG2B  </td><td>1.016213e-01</td><td>0.2214363466</td></tr>\n",
       "\t<tr><td>cdr</td><td>IGHA != IGHG1   </td><td>4.379195e-01</td><td>0.4530201340</td></tr>\n",
       "\t<tr><td>cdr</td><td>IGHA !=         </td><td>          NA</td><td>          NA</td></tr>\n",
       "\t<tr><td>cdr</td><td>IGHA != IGHG2C  </td><td>1.128113e-01</td><td>0.2256225302</td></tr>\n",
       "\t<tr><td>cdr</td><td>IGHA != IGHG3   </td><td>          NA</td><td>          NA</td></tr>\n",
       "\t<tr><td>cdr</td><td>IGHA != IGHG2B  </td><td>4.335772e-01</td><td>0.4530201340</td></tr>\n",
       "\t<tr><td>cdr</td><td>IGHG1 !=        </td><td>          NA</td><td>          NA</td></tr>\n",
       "\t<tr><td>cdr</td><td>IGHG1 != IGHG2C </td><td>1.676789e-01</td><td>0.2833263813</td></tr>\n",
       "\t<tr><td>cdr</td><td>IGHG1 != IGHG3  </td><td>          NA</td><td>          NA</td></tr>\n",
       "\t<tr><td>cdr</td><td>IGHG1 != IGHG2B </td><td>4.080114e-01</td><td>0.4530201340</td></tr>\n",
       "\t<tr><td>cdr</td><td> != IGHG2C      </td><td>          NA</td><td>          NA</td></tr>\n",
       "\t<tr><td>cdr</td><td> != IGHG3       </td><td>          NA</td><td>          NA</td></tr>\n",
       "\t<tr><td>cdr</td><td> != IGHG2B      </td><td>          NA</td><td>          NA</td></tr>\n",
       "\t<tr><td>cdr</td><td>IGHG2C != IGHG3 </td><td>          NA</td><td>          NA</td></tr>\n",
       "\t<tr><td>cdr</td><td>IGHG2C != IGHG2B</td><td>2.077727e-01</td><td>0.2833263813</td></tr>\n",
       "\t<tr><td>cdr</td><td>IGHG3 != IGHG2B </td><td>          NA</td><td>          NA</td></tr>\n",
       "\t<tr><td>fwr</td><td>IGHM != IGHD    </td><td>3.741089e-01</td><td>0.4316640904</td></tr>\n",
       "\t<tr><td>fwr</td><td>IGHM != IGHA    </td><td>1.904906e-04</td><td>0.0028573595</td></tr>\n",
       "\t<tr><td>fwr</td><td>IGHM != IGHG1   </td><td>3.677153e-03</td><td>0.0367715268</td></tr>\n",
       "\t<tr><td>fwr</td><td>IGHM !=         </td><td>          NA</td><td>          NA</td></tr>\n",
       "\t<tr><td>fwr</td><td>IGHM != IGHG2C  </td><td>9.091354e-06</td><td>0.0002727406</td></tr>\n",
       "\t<tr><td>fwr</td><td>IGHM != IGHG3   </td><td>          NA</td><td>          NA</td></tr>\n",
       "\t<tr><td>fwr</td><td>IGHM != IGHG2B  </td><td>1.002638e-01</td><td>0.2214363466</td></tr>\n",
       "\t<tr><td>fwr</td><td>IGHD != IGHA    </td><td>6.992026e-02</td><td>0.2214363466</td></tr>\n",
       "\t<tr><td>fwr</td><td>IGHD != IGHG1   </td><td>3.924997e-02</td><td>0.1682141483</td></tr>\n",
       "\t<tr><td>fwr</td><td>IGHD !=         </td><td>          NA</td><td>          NA</td></tr>\n",
       "\t<tr><td>fwr</td><td>IGHD != IGHG2C  </td><td>5.381514e-03</td><td>0.0403613583</td></tr>\n",
       "\t<tr><td>fwr</td><td>IGHD != IGHG3   </td><td>          NA</td><td>          NA</td></tr>\n",
       "\t<tr><td>fwr</td><td>IGHD != IGHG2B  </td><td>2.504381e-01</td><td>0.3130476655</td></tr>\n",
       "\t<tr><td>fwr</td><td>IGHA != IGHG1   </td><td>2.010743e-01</td><td>0.2833263813</td></tr>\n",
       "\t<tr><td>fwr</td><td>IGHA !=         </td><td>          NA</td><td>          NA</td></tr>\n",
       "\t<tr><td>fwr</td><td>IGHA != IGHG2C  </td><td>2.749825e-02</td><td>0.1374912548</td></tr>\n",
       "\t<tr><td>fwr</td><td>IGHA != IGHG3   </td><td>          NA</td><td>          NA</td></tr>\n",
       "\t<tr><td>fwr</td><td>IGHA != IGHG2B  </td><td>2.184770e-01</td><td>0.2849700366</td></tr>\n",
       "\t<tr><td>fwr</td><td>IGHG1 !=        </td><td>          NA</td><td>          NA</td></tr>\n",
       "\t<tr><td>fwr</td><td>IGHG1 != IGHG2C </td><td>2.874910e-01</td><td>0.3449892556</td></tr>\n",
       "\t<tr><td>fwr</td><td>IGHG1 != IGHG3  </td><td>          NA</td><td>          NA</td></tr>\n",
       "\t<tr><td>fwr</td><td>IGHG1 != IGHG2B </td><td>1.033370e-01</td><td>0.2214363466</td></tr>\n",
       "\t<tr><td>fwr</td><td> != IGHG2C      </td><td>          NA</td><td>          NA</td></tr>\n",
       "\t<tr><td>fwr</td><td> != IGHG3       </td><td>          NA</td><td>          NA</td></tr>\n",
       "\t<tr><td>fwr</td><td> != IGHG2B      </td><td>          NA</td><td>          NA</td></tr>\n",
       "\t<tr><td>fwr</td><td>IGHG2C != IGHG3 </td><td>          NA</td><td>          NA</td></tr>\n",
       "\t<tr><td>fwr</td><td>IGHG2C != IGHG2B</td><td>1.427870e-02</td><td>0.0856722165</td></tr>\n",
       "\t<tr><td>fwr</td><td>IGHG3 != IGHG2B </td><td>          NA</td><td>          NA</td></tr>\n",
       "</tbody>\n",
       "</table>\n"
      ],
      "text/latex": [
       "A data.frame: 56 × 4\n",
       "\\begin{tabular}{llll}\n",
       " region & test & pvalue & fdr\\\\\n",
       " <chr> & <chr> & <dbl> & <dbl>\\\\\n",
       "\\hline\n",
       "\t cdr & IGHM != IGHD     & 1.932840e-01 & 0.2833263813\\\\\n",
       "\t cdr & IGHM != IGHA     & 6.920695e-02 & 0.2214363466\\\\\n",
       "\t cdr & IGHM != IGHG1    & 1.482371e-01 & 0.2779445969\\\\\n",
       "\t cdr & IGHM !=          &           NA &           NA\\\\\n",
       "\t cdr & IGHM != IGHG2C   & 4.957757e-01 & 0.4957757185\\\\\n",
       "\t cdr & IGHM != IGHG3    &           NA &           NA\\\\\n",
       "\t cdr & IGHM != IGHG2B   & 1.818871e-01 & 0.2833263813\\\\\n",
       "\t cdr & IGHD != IGHA     & 7.717564e-02 & 0.2214363466\\\\\n",
       "\t cdr & IGHD != IGHG1    & 8.634119e-02 & 0.2214363466\\\\\n",
       "\t cdr & IGHD !=          &           NA &           NA\\\\\n",
       "\t cdr & IGHD != IGHG2C   & 2.051658e-01 & 0.2833263813\\\\\n",
       "\t cdr & IGHD != IGHG3    &           NA &           NA\\\\\n",
       "\t cdr & IGHD != IGHG2B   & 1.016213e-01 & 0.2214363466\\\\\n",
       "\t cdr & IGHA != IGHG1    & 4.379195e-01 & 0.4530201340\\\\\n",
       "\t cdr & IGHA !=          &           NA &           NA\\\\\n",
       "\t cdr & IGHA != IGHG2C   & 1.128113e-01 & 0.2256225302\\\\\n",
       "\t cdr & IGHA != IGHG3    &           NA &           NA\\\\\n",
       "\t cdr & IGHA != IGHG2B   & 4.335772e-01 & 0.4530201340\\\\\n",
       "\t cdr & IGHG1 !=         &           NA &           NA\\\\\n",
       "\t cdr & IGHG1 != IGHG2C  & 1.676789e-01 & 0.2833263813\\\\\n",
       "\t cdr & IGHG1 != IGHG3   &           NA &           NA\\\\\n",
       "\t cdr & IGHG1 != IGHG2B  & 4.080114e-01 & 0.4530201340\\\\\n",
       "\t cdr &  != IGHG2C       &           NA &           NA\\\\\n",
       "\t cdr &  != IGHG3        &           NA &           NA\\\\\n",
       "\t cdr &  != IGHG2B       &           NA &           NA\\\\\n",
       "\t cdr & IGHG2C != IGHG3  &           NA &           NA\\\\\n",
       "\t cdr & IGHG2C != IGHG2B & 2.077727e-01 & 0.2833263813\\\\\n",
       "\t cdr & IGHG3 != IGHG2B  &           NA &           NA\\\\\n",
       "\t fwr & IGHM != IGHD     & 3.741089e-01 & 0.4316640904\\\\\n",
       "\t fwr & IGHM != IGHA     & 1.904906e-04 & 0.0028573595\\\\\n",
       "\t fwr & IGHM != IGHG1    & 3.677153e-03 & 0.0367715268\\\\\n",
       "\t fwr & IGHM !=          &           NA &           NA\\\\\n",
       "\t fwr & IGHM != IGHG2C   & 9.091354e-06 & 0.0002727406\\\\\n",
       "\t fwr & IGHM != IGHG3    &           NA &           NA\\\\\n",
       "\t fwr & IGHM != IGHG2B   & 1.002638e-01 & 0.2214363466\\\\\n",
       "\t fwr & IGHD != IGHA     & 6.992026e-02 & 0.2214363466\\\\\n",
       "\t fwr & IGHD != IGHG1    & 3.924997e-02 & 0.1682141483\\\\\n",
       "\t fwr & IGHD !=          &           NA &           NA\\\\\n",
       "\t fwr & IGHD != IGHG2C   & 5.381514e-03 & 0.0403613583\\\\\n",
       "\t fwr & IGHD != IGHG3    &           NA &           NA\\\\\n",
       "\t fwr & IGHD != IGHG2B   & 2.504381e-01 & 0.3130476655\\\\\n",
       "\t fwr & IGHA != IGHG1    & 2.010743e-01 & 0.2833263813\\\\\n",
       "\t fwr & IGHA !=          &           NA &           NA\\\\\n",
       "\t fwr & IGHA != IGHG2C   & 2.749825e-02 & 0.1374912548\\\\\n",
       "\t fwr & IGHA != IGHG3    &           NA &           NA\\\\\n",
       "\t fwr & IGHA != IGHG2B   & 2.184770e-01 & 0.2849700366\\\\\n",
       "\t fwr & IGHG1 !=         &           NA &           NA\\\\\n",
       "\t fwr & IGHG1 != IGHG2C  & 2.874910e-01 & 0.3449892556\\\\\n",
       "\t fwr & IGHG1 != IGHG3   &           NA &           NA\\\\\n",
       "\t fwr & IGHG1 != IGHG2B  & 1.033370e-01 & 0.2214363466\\\\\n",
       "\t fwr &  != IGHG2C       &           NA &           NA\\\\\n",
       "\t fwr &  != IGHG3        &           NA &           NA\\\\\n",
       "\t fwr &  != IGHG2B       &           NA &           NA\\\\\n",
       "\t fwr & IGHG2C != IGHG3  &           NA &           NA\\\\\n",
       "\t fwr & IGHG2C != IGHG2B & 1.427870e-02 & 0.0856722165\\\\\n",
       "\t fwr & IGHG3 != IGHG2B  &           NA &           NA\\\\\n",
       "\\end{tabular}\n"
      ],
      "text/markdown": [
       "\n",
       "A data.frame: 56 × 4\n",
       "\n",
       "| region &lt;chr&gt; | test &lt;chr&gt; | pvalue &lt;dbl&gt; | fdr &lt;dbl&gt; |\n",
       "|---|---|---|---|\n",
       "| cdr | IGHM != IGHD     | 1.932840e-01 | 0.2833263813 |\n",
       "| cdr | IGHM != IGHA     | 6.920695e-02 | 0.2214363466 |\n",
       "| cdr | IGHM != IGHG1    | 1.482371e-01 | 0.2779445969 |\n",
       "| cdr | IGHM !=          |           NA |           NA |\n",
       "| cdr | IGHM != IGHG2C   | 4.957757e-01 | 0.4957757185 |\n",
       "| cdr | IGHM != IGHG3    |           NA |           NA |\n",
       "| cdr | IGHM != IGHG2B   | 1.818871e-01 | 0.2833263813 |\n",
       "| cdr | IGHD != IGHA     | 7.717564e-02 | 0.2214363466 |\n",
       "| cdr | IGHD != IGHG1    | 8.634119e-02 | 0.2214363466 |\n",
       "| cdr | IGHD !=          |           NA |           NA |\n",
       "| cdr | IGHD != IGHG2C   | 2.051658e-01 | 0.2833263813 |\n",
       "| cdr | IGHD != IGHG3    |           NA |           NA |\n",
       "| cdr | IGHD != IGHG2B   | 1.016213e-01 | 0.2214363466 |\n",
       "| cdr | IGHA != IGHG1    | 4.379195e-01 | 0.4530201340 |\n",
       "| cdr | IGHA !=          |           NA |           NA |\n",
       "| cdr | IGHA != IGHG2C   | 1.128113e-01 | 0.2256225302 |\n",
       "| cdr | IGHA != IGHG3    |           NA |           NA |\n",
       "| cdr | IGHA != IGHG2B   | 4.335772e-01 | 0.4530201340 |\n",
       "| cdr | IGHG1 !=         |           NA |           NA |\n",
       "| cdr | IGHG1 != IGHG2C  | 1.676789e-01 | 0.2833263813 |\n",
       "| cdr | IGHG1 != IGHG3   |           NA |           NA |\n",
       "| cdr | IGHG1 != IGHG2B  | 4.080114e-01 | 0.4530201340 |\n",
       "| cdr |  != IGHG2C       |           NA |           NA |\n",
       "| cdr |  != IGHG3        |           NA |           NA |\n",
       "| cdr |  != IGHG2B       |           NA |           NA |\n",
       "| cdr | IGHG2C != IGHG3  |           NA |           NA |\n",
       "| cdr | IGHG2C != IGHG2B | 2.077727e-01 | 0.2833263813 |\n",
       "| cdr | IGHG3 != IGHG2B  |           NA |           NA |\n",
       "| fwr | IGHM != IGHD     | 3.741089e-01 | 0.4316640904 |\n",
       "| fwr | IGHM != IGHA     | 1.904906e-04 | 0.0028573595 |\n",
       "| fwr | IGHM != IGHG1    | 3.677153e-03 | 0.0367715268 |\n",
       "| fwr | IGHM !=          |           NA |           NA |\n",
       "| fwr | IGHM != IGHG2C   | 9.091354e-06 | 0.0002727406 |\n",
       "| fwr | IGHM != IGHG3    |           NA |           NA |\n",
       "| fwr | IGHM != IGHG2B   | 1.002638e-01 | 0.2214363466 |\n",
       "| fwr | IGHD != IGHA     | 6.992026e-02 | 0.2214363466 |\n",
       "| fwr | IGHD != IGHG1    | 3.924997e-02 | 0.1682141483 |\n",
       "| fwr | IGHD !=          |           NA |           NA |\n",
       "| fwr | IGHD != IGHG2C   | 5.381514e-03 | 0.0403613583 |\n",
       "| fwr | IGHD != IGHG3    |           NA |           NA |\n",
       "| fwr | IGHD != IGHG2B   | 2.504381e-01 | 0.3130476655 |\n",
       "| fwr | IGHA != IGHG1    | 2.010743e-01 | 0.2833263813 |\n",
       "| fwr | IGHA !=          |           NA |           NA |\n",
       "| fwr | IGHA != IGHG2C   | 2.749825e-02 | 0.1374912548 |\n",
       "| fwr | IGHA != IGHG3    |           NA |           NA |\n",
       "| fwr | IGHA != IGHG2B   | 2.184770e-01 | 0.2849700366 |\n",
       "| fwr | IGHG1 !=         |           NA |           NA |\n",
       "| fwr | IGHG1 != IGHG2C  | 2.874910e-01 | 0.3449892556 |\n",
       "| fwr | IGHG1 != IGHG3   |           NA |           NA |\n",
       "| fwr | IGHG1 != IGHG2B  | 1.033370e-01 | 0.2214363466 |\n",
       "| fwr |  != IGHG2C       |           NA |           NA |\n",
       "| fwr |  != IGHG3        |           NA |           NA |\n",
       "| fwr |  != IGHG2B       |           NA |           NA |\n",
       "| fwr | IGHG2C != IGHG3  |           NA |           NA |\n",
       "| fwr | IGHG2C != IGHG2B | 1.427870e-02 | 0.0856722165 |\n",
       "| fwr | IGHG3 != IGHG2B  |           NA |           NA |\n",
       "\n"
      ],
      "text/plain": [
       "   region test             pvalue       fdr         \n",
       "1  cdr    IGHM != IGHD     1.932840e-01 0.2833263813\n",
       "2  cdr    IGHM != IGHA     6.920695e-02 0.2214363466\n",
       "3  cdr    IGHM != IGHG1    1.482371e-01 0.2779445969\n",
       "4  cdr    IGHM !=                    NA           NA\n",
       "5  cdr    IGHM != IGHG2C   4.957757e-01 0.4957757185\n",
       "6  cdr    IGHM != IGHG3              NA           NA\n",
       "7  cdr    IGHM != IGHG2B   1.818871e-01 0.2833263813\n",
       "8  cdr    IGHD != IGHA     7.717564e-02 0.2214363466\n",
       "9  cdr    IGHD != IGHG1    8.634119e-02 0.2214363466\n",
       "10 cdr    IGHD !=                    NA           NA\n",
       "11 cdr    IGHD != IGHG2C   2.051658e-01 0.2833263813\n",
       "12 cdr    IGHD != IGHG3              NA           NA\n",
       "13 cdr    IGHD != IGHG2B   1.016213e-01 0.2214363466\n",
       "14 cdr    IGHA != IGHG1    4.379195e-01 0.4530201340\n",
       "15 cdr    IGHA !=                    NA           NA\n",
       "16 cdr    IGHA != IGHG2C   1.128113e-01 0.2256225302\n",
       "17 cdr    IGHA != IGHG3              NA           NA\n",
       "18 cdr    IGHA != IGHG2B   4.335772e-01 0.4530201340\n",
       "19 cdr    IGHG1 !=                   NA           NA\n",
       "20 cdr    IGHG1 != IGHG2C  1.676789e-01 0.2833263813\n",
       "21 cdr    IGHG1 != IGHG3             NA           NA\n",
       "22 cdr    IGHG1 != IGHG2B  4.080114e-01 0.4530201340\n",
       "23 cdr     != IGHG2C                 NA           NA\n",
       "24 cdr     != IGHG3                  NA           NA\n",
       "25 cdr     != IGHG2B                 NA           NA\n",
       "26 cdr    IGHG2C != IGHG3            NA           NA\n",
       "27 cdr    IGHG2C != IGHG2B 2.077727e-01 0.2833263813\n",
       "28 cdr    IGHG3 != IGHG2B            NA           NA\n",
       "29 fwr    IGHM != IGHD     3.741089e-01 0.4316640904\n",
       "30 fwr    IGHM != IGHA     1.904906e-04 0.0028573595\n",
       "31 fwr    IGHM != IGHG1    3.677153e-03 0.0367715268\n",
       "32 fwr    IGHM !=                    NA           NA\n",
       "33 fwr    IGHM != IGHG2C   9.091354e-06 0.0002727406\n",
       "34 fwr    IGHM != IGHG3              NA           NA\n",
       "35 fwr    IGHM != IGHG2B   1.002638e-01 0.2214363466\n",
       "36 fwr    IGHD != IGHA     6.992026e-02 0.2214363466\n",
       "37 fwr    IGHD != IGHG1    3.924997e-02 0.1682141483\n",
       "38 fwr    IGHD !=                    NA           NA\n",
       "39 fwr    IGHD != IGHG2C   5.381514e-03 0.0403613583\n",
       "40 fwr    IGHD != IGHG3              NA           NA\n",
       "41 fwr    IGHD != IGHG2B   2.504381e-01 0.3130476655\n",
       "42 fwr    IGHA != IGHG1    2.010743e-01 0.2833263813\n",
       "43 fwr    IGHA !=                    NA           NA\n",
       "44 fwr    IGHA != IGHG2C   2.749825e-02 0.1374912548\n",
       "45 fwr    IGHA != IGHG3              NA           NA\n",
       "46 fwr    IGHA != IGHG2B   2.184770e-01 0.2849700366\n",
       "47 fwr    IGHG1 !=                   NA           NA\n",
       "48 fwr    IGHG1 != IGHG2C  2.874910e-01 0.3449892556\n",
       "49 fwr    IGHG1 != IGHG3             NA           NA\n",
       "50 fwr    IGHG1 != IGHG2B  1.033370e-01 0.2214363466\n",
       "51 fwr     != IGHG2C                 NA           NA\n",
       "52 fwr     != IGHG3                  NA           NA\n",
       "53 fwr     != IGHG2B                 NA           NA\n",
       "54 fwr    IGHG2C != IGHG3            NA           NA\n",
       "55 fwr    IGHG2C != IGHG2B 1.427870e-02 0.0856722165\n",
       "56 fwr    IGHG3 != IGHG2B            NA           NA"
      ]
     },
     "metadata": {},
     "output_type": "display_data"
    }
   ],
   "source": [
    "testBaseline(grouped_1, groupBy=\"c_call\")"
   ]
  },
  {
   "cell_type": "code",
   "execution_count": 17,
   "id": "rocky-baking",
   "metadata": {},
   "outputs": [
    {
     "data": {
      "image/png": "[encoded data removed]",
      "text/plain": [
       "plot without title"
      ]
     },
     "metadata": {
      "image/png": {
       "height": 420,
       "width": 420
      }
     },
     "output_type": "display_data"
    }
   ],
   "source": [
    "isotype_colors <- c(\"IGHM\"=\"darkorchid\", \"IGHD\"=\"firebrick\", \n",
    "                    \"IGHG\"=\"seagreen\", \"IGHA\"=\"steelblue\")\n",
    "\n",
    "# Plot mean and confidence interval by time-point\n",
    "plotBaselineSummary(grouped_1, \"c_call\")"
   ]
  },
  {
   "cell_type": "code",
   "execution_count": 19,
   "id": "informative-independence",
   "metadata": {},
   "outputs": [
    {
     "data": {
      "image/png": "[encoded data removed]",
      "text/plain": [
       "plot without title"
      ]
     },
     "metadata": {
      "image/png": {
       "height": 420,
       "width": 420
      }
     },
     "output_type": "display_data"
    }
   ],
   "source": [
    "# Group by CDR/FWR and facet by isotype\n",
    "plotBaselineSummary(grouped_2, \"c_call\")"
   ]
  },
  {
   "cell_type": "code",
   "execution_count": 23,
   "id": "western-carter",
   "metadata": {},
   "outputs": [
    {
     "data": {
      "image/png": "[encoded data removed]",
      "text/plain": [
       "plot without title"
      ]
     },
     "metadata": {
      "image/png": {
       "height": 420,
       "width": 420
      }
     },
     "output_type": "display_data"
    }
   ],
   "source": [
    "# Plot selection PDFs for a subset of the data\n",
    "plotBaselineDensity(grouped_2, \"c_call\", groupColumn=\"c_call\", colorElement=\"group\", \n",
    "                    sigmaLimits=c(-2, 2))"
   ]
  }
 ],
 "metadata": {
  "kernelspec": {
   "display_name": "R",
   "language": "R",
   "name": "ir"
  },
  "language_info": {
   "codemirror_mode": "r",
   "file_extension": ".r",
   "mimetype": "text/x-r-source",
   "name": "R",
   "pygments_lexer": "r",
   "version": "4.0.3"
  }
 },
 "nbformat": 4,
 "nbformat_minor": 5
}
