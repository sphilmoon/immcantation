{
 "cells": [
  {
   "cell_type": "code",
   "execution_count": 18,
   "id": "quantitative-retro",
   "metadata": {},
   "outputs": [],
   "source": [
    "### SHM targeting models ###\n",
    "\n",
    "# The background of a particular mutation from the surrounding sequence and \n",
    "# the mutation itself. The model is produced from observed mutations in the data.\n",
    "# Then, the model is transformed into a distance function to compare Ig sequences\n",
    "# from the background. \n",
    "\n",
    "# 1. use a substitution model.\n",
    "# 2. use a mutability model.\n",
    "# 3. visualize the mutability model.\n",
    "# 4. calculate a nucleotide distance matrix. \n",
    "\n",
    "# Import required packages\n",
    "library(alakazam)\n",
    "library(shazam)\n",
    "library(dplyr)\n",
    "library(ggplot2)\n",
    "\n",
    "require(data.table)\n",
    "my_data <- as.data.frame(fread(\"../changeo10x/vac_heavy_germ-pass.tsv\"))\n",
    "db <- subset(my_data, c_call == \"IGHD\")"
   ]
  },
  {
   "cell_type": "code",
   "execution_count": 20,
   "id": "textile-toolbox",
   "metadata": {},
   "outputs": [],
   "source": [
    "# Calculate mutation frequency over the entire sequence\n",
    "db_obs <- observedMutations(db, sequenceColumn=\"sequence_alignment\",\n",
    "germlineColumn=\"germline_alignment_d_mask\",\n",
    "frequency=TRUE,\n",
    "nproc=1)\n",
    "\n",
    "# Count of V-region mutations split by FWR and CDR\n",
    "# With mutations only considered replacement if charge changes\n",
    "\n",
    "# db_obs <- observedMutations(db, sequenceColumn=\"sequence_alignment\",\n",
    "# germlineColumn=\"germline_alignment_d_mask\",\n",
    "# regionDefinition=IMGT_V,\n",
    "# mutationDefinition=CHARGE_MUTATIONS,\n",
    "# nproc=1)"
   ]
  },
  {
   "cell_type": "code",
   "execution_count": 21,
   "id": "southwest-queens",
   "metadata": {},
   "outputs": [
    {
     "name": "stderr",
     "output_type": "stream",
     "text": [
      "Warning message in createMutabilityMatrix(db, sub_model, model = \"s\", sequenceColumn = \"sequence_alignment\", :\n",
      "“Insufficient number of mutations to infer some 5-mers. Filled with 0. ”\n"
     ]
    }
   ],
   "source": []
  },
  {
   "cell_type": "code",
   "execution_count": null,
   "id": "dominican-treasury",
   "metadata": {},
   "outputs": [],
   "source": []
  }
 ],
 "metadata": {
  "kernelspec": {
   "display_name": "R",
   "language": "R",
   "name": "ir"
  },
  "language_info": {
   "codemirror_mode": "r",
   "file_extension": ".r",
   "mimetype": "text/x-r-source",
   "name": "R",
   "pygments_lexer": "r",
   "version": "4.0.3"
  }
 },
 "nbformat": 4,
 "nbformat_minor": 5
}
