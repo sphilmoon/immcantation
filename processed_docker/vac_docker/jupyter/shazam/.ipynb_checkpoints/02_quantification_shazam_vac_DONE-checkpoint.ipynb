{
 "cells": [
  {
   "cell_type": "code",
   "execution_count": 25,
   "id": "perfect-correlation",
   "metadata": {},
   "outputs": [],
   "source": [
    "# Import required packages\n",
    "library(alakazam)\n",
    "library(shazam)\n",
    "library(dplyr)\n",
    "library(ggplot2)\n",
    "\n",
    "my_data <- read."
   ]
  },
  {
   "cell_type": "code",
   "execution_count": 39,
   "id": "northern-cursor",
   "metadata": {},
   "outputs": [
    {
     "ename": "ERROR",
     "evalue": "Error in collapseClones(\"../vac_heavy_clone-light_germ-pass.tsv\", cloneColumn = \"clone_id\", : The column clone_id was not found\n",
     "output_type": "error",
     "traceback": [
      "Error in collapseClones(\"../vac_heavy_clone-light_germ-pass.tsv\", cloneColumn = \"clone_id\", : The column clone_id was not found\nTraceback:\n",
      "1. collapseClones(\"../vac_heavy_clone-light_germ-pass.tsv\", cloneColumn = \"clone_id\", \n .     sequenceColumn = \"sequence_alignment\", germlineColumn = \"germline_alignment_d_mask\", \n .     regionDefinition = IMGT_V, method = \"thresholdedFreq\", minimumFrequency = 0.6, \n .     includeAmbiguous = FALSE, breakTiesStochastic = FALSE, nproc = 1)",
      "2. stop(check)"
     ]
    }
   ],
   "source": [
    "# Collapse clonal groups into single sequences\n",
    "clones <- collapseClones(\"../vac_heavy_clone-light_germ-pass.tsv\", cloneColumn=\"clone_id\", \n",
    "                         sequenceColumn=\"sequence_alignment\", \n",
    "                         germlineColumn=\"germline_alignment_d_mask\", \n",
    "                         regionDefinition=IMGT_V, \n",
    "                         method=\"thresholdedFreq\", minimumFrequency=0.6,\n",
    "                         includeAmbiguous=FALSE, breakTiesStochastic=FALSE, \n",
    "                         nproc=1)"
   ]
  }
 ],
 "metadata": {
  "kernelspec": {
   "display_name": "R",
   "language": "R",
   "name": "ir"
  },
  "language_info": {
   "codemirror_mode": "r",
   "file_extension": ".r",
   "mimetype": "text/x-r-source",
   "name": "R",
   "pygments_lexer": "r",
   "version": "4.0.3"
  }
 },
 "nbformat": 4,
 "nbformat_minor": 5
}
