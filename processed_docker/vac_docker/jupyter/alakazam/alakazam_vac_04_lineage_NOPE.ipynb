{
 "cells": [
  {
   "cell_type": "code",
   "execution_count": 31,
   "id": "opposed-cliff",
   "metadata": {},
   "outputs": [
    {
     "name": "stderr",
     "output_type": "stream",
     "text": [
      "Warning message in cbind(parts$left, ellip_h, parts$right, deparse.level = 0L):\n",
      "“number of rows of result is not a multiple of vector length (arg 2)”\n",
      "Warning message in cbind(parts$left, ellip_h, parts$right, deparse.level = 0L):\n",
      "“number of rows of result is not a multiple of vector length (arg 2)”\n",
      "Warning message in cbind(parts$left, ellip_h, parts$right, deparse.level = 0L):\n",
      "“number of rows of result is not a multiple of vector length (arg 2)”\n",
      "Warning message in cbind(parts$left, ellip_h, parts$right, deparse.level = 0L):\n",
      "“number of rows of result is not a multiple of vector length (arg 2)”\n"
     ]
    },
    {
     "data": {
      "text/html": [
       "<table class=\"dataframe\">\n",
       "<caption>A tibble: 0 × 62</caption>\n",
       "<thead>\n",
       "\t<tr><th scope=col>sequence_id</th><th scope=col>sequence</th><th scope=col>rev_comp</th><th scope=col>productive</th><th scope=col>v_call</th><th scope=col>d_call</th><th scope=col>j_call</th><th scope=col>sequence_alignment</th><th scope=col>germline_alignment</th><th scope=col>junction</th><th scope=col>⋯</th><th scope=col>umi_count</th><th scope=col>v_call_10x</th><th scope=col>d_call_10x</th><th scope=col>j_call_10x</th><th scope=col>junction_10x</th><th scope=col>junction_10x_aa</th><th scope=col>germline_alignment_d_mask</th><th scope=col>germline_v_call</th><th scope=col>germline_d_call</th><th scope=col>germline_j_call</th></tr>\n",
       "\t<tr><th scope=col>&lt;chr&gt;</th><th scope=col>&lt;chr&gt;</th><th scope=col>&lt;lgl&gt;</th><th scope=col>&lt;lgl&gt;</th><th scope=col>&lt;chr&gt;</th><th scope=col>&lt;chr&gt;</th><th scope=col>&lt;chr&gt;</th><th scope=col>&lt;chr&gt;</th><th scope=col>&lt;chr&gt;</th><th scope=col>&lt;chr&gt;</th><th scope=col>⋯</th><th scope=col>&lt;dbl&gt;</th><th scope=col>&lt;chr&gt;</th><th scope=col>&lt;chr&gt;</th><th scope=col>&lt;chr&gt;</th><th scope=col>&lt;chr&gt;</th><th scope=col>&lt;chr&gt;</th><th scope=col>&lt;chr&gt;</th><th scope=col>&lt;chr&gt;</th><th scope=col>&lt;chr&gt;</th><th scope=col>&lt;chr&gt;</th></tr>\n",
       "</thead>\n",
       "<tbody>\n",
       "</tbody>\n",
       "</table>\n"
      ],
      "text/latex": [
       "A tibble: 0 × 62\n",
       "\\begin{tabular}{lllllllllllllllllllll}\n",
       " sequence\\_id & sequence & rev\\_comp & productive & v\\_call & d\\_call & j\\_call & sequence\\_alignment & germline\\_alignment & junction & ⋯ & umi\\_count & v\\_call\\_10x & d\\_call\\_10x & j\\_call\\_10x & junction\\_10x & junction\\_10x\\_aa & germline\\_alignment\\_d\\_mask & germline\\_v\\_call & germline\\_d\\_call & germline\\_j\\_call\\\\\n",
       " <chr> & <chr> & <lgl> & <lgl> & <chr> & <chr> & <chr> & <chr> & <chr> & <chr> & ⋯ & <dbl> & <chr> & <chr> & <chr> & <chr> & <chr> & <chr> & <chr> & <chr> & <chr>\\\\\n",
       "\\hline\n",
       "\\end{tabular}\n"
      ],
      "text/markdown": [
       "\n",
       "A tibble: 0 × 62\n",
       "\n",
       "| sequence_id &lt;chr&gt; | sequence &lt;chr&gt; | rev_comp &lt;lgl&gt; | productive &lt;lgl&gt; | v_call &lt;chr&gt; | d_call &lt;chr&gt; | j_call &lt;chr&gt; | sequence_alignment &lt;chr&gt; | germline_alignment &lt;chr&gt; | junction &lt;chr&gt; | ⋯ ⋯ | umi_count &lt;dbl&gt; | v_call_10x &lt;chr&gt; | d_call_10x &lt;chr&gt; | j_call_10x &lt;chr&gt; | junction_10x &lt;chr&gt; | junction_10x_aa &lt;chr&gt; | germline_alignment_d_mask &lt;chr&gt; | germline_v_call &lt;chr&gt; | germline_d_call &lt;chr&gt; | germline_j_call &lt;chr&gt; |\n",
       "|---|---|---|---|---|---|---|---|---|---|---|---|---|---|---|---|---|---|---|---|---|\n",
       "\n"
      ],
      "text/plain": [
       "     sequence_id sequence rev_comp productive v_call d_call j_call\n",
       "     sequence_alignment germline_alignment junction ⋯ umi_count v_call_10x\n",
       "     d_call_10x j_call_10x junction_10x junction_10x_aa\n",
       "     germline_alignment_d_mask germline_v_call germline_d_call germline_j_call"
      ]
     },
     "metadata": {},
     "output_type": "display_data"
    }
   ],
   "source": [
    "### Ig lineage reconstruction ###\n",
    "\n",
    "# 1. Load the tsv file (AIRR format) and select a clone.\n",
    "# 2. Preprocess the clone to remove gap characters and duplicate sequences.\n",
    "# 3. Run PHYLIP, parse the output, and modify the tree topology. \n",
    "\n",
    "# Load required packages\n",
    "library(alakazam)\n",
    "library(dplyr)\n",
    "library(scales)\n",
    "library(ggplot2)\n",
    "\n",
    "# require(data.table)\n",
    "# db <- as.data.frame(fread(\"../changeo10x/vac_heavy_germ-pass.tsv\"))\n",
    "\n",
    "db <- readChangeoDb(\"../changeo10x/vac_heavy_germ-pass.tsv\", select = NULL, drop = NULL, seq_upper = TRUE)\n",
    "sub_db <- subset(db, clone_id == 1)\n",
    "head(sub_db, 5)"
   ]
  },
  {
   "cell_type": "code",
   "execution_count": 24,
   "id": "absent-withdrawal",
   "metadata": {},
   "outputs": [
    {
     "ename": "ERROR",
     "evalue": "Error in makeChangeoClone(sub_db, text_fields = c(\"c_call\", num_fields = NULL)): The column sequence_id contains no data\n",
     "output_type": "error",
     "traceback": [
      "Error in makeChangeoClone(sub_db, text_fields = c(\"c_call\", num_fields = NULL)): The column sequence_id contains no data\nTraceback:\n",
      "1. makeChangeoClone(sub_db, text_fields = c(\"c_call\", num_fields = NULL))",
      "2. stop(check)"
     ]
    }
   ],
   "source": [
    "# This example data set does not have ragged ends\n",
    "# Preprocess clone without ragged end masking (default)\n",
    "clone <- makeChangeoClone(sub_db, text_fields=c(\"c_call\", num_fields = NULL))\n",
    "\n",
    "# Show combined annotations\n",
    "clone@db[, c(\"c_call\")]"
   ]
  },
  {
   "cell_type": "code",
   "execution_count": 32,
   "id": "thorough-listing",
   "metadata": {},
   "outputs": [
    {
     "ename": "ERROR",
     "evalue": "Error in nrow(clone@data): trying to get slot \"data\" from an object (class \"tbl_df\") that is not an S4 object \n",
     "output_type": "error",
     "traceback": [
      "Error in nrow(clone@data): trying to get slot \"data\" from an object (class \"tbl_df\") that is not an S4 object \nTraceback:\n",
      "1. buildPhylipLineage(sub_db, phylip_exec, rm_temp = TRUE)",
      "2. nrow(clone@data)"
     ]
    }
   ],
   "source": [
    "# Run PHYLIP and parse output\n",
    "phylip_exec <- \"~/apps/phylip-3.69/dnapars\"\n",
    "graph <- buildPhylipLineage(sub_db, phylip_exec, rm_temp=TRUE)"
   ]
  }
 ],
 "metadata": {
  "kernelspec": {
   "display_name": "R",
   "language": "R",
   "name": "ir"
  },
  "language_info": {
   "codemirror_mode": "r",
   "file_extension": ".r",
   "mimetype": "text/x-r-source",
   "name": "R",
   "pygments_lexer": "r",
   "version": "4.0.3"
  }
 },
 "nbformat": 4,
 "nbformat_minor": 5
}
