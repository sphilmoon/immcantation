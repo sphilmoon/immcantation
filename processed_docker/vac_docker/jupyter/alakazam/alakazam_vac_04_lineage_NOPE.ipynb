{
 "cells": [
  {
   "cell_type": "code",
   "execution_count": 1,
   "id": "opposed-cliff",
   "metadata": {},
   "outputs": [
    {
     "name": "stderr",
     "output_type": "stream",
     "text": [
      "Loading required package: ggplot2\n",
      "\n",
      "As of v1.0.0 the AIRR Rearrangement schema is now the default file format.\n",
      "A description of the standard is available at https://docs.airr-community.org.\n",
      "The legacy Change-O format is supported through arguments to each function\n",
      "that allow the input column names to be explicitly defined.\n",
      "\n",
      "\n",
      "Attaching package: ‘dplyr’\n",
      "\n",
      "\n",
      "The following objects are masked from ‘package:stats’:\n",
      "\n",
      "    filter, lag\n",
      "\n",
      "\n",
      "The following objects are masked from ‘package:base’:\n",
      "\n",
      "    intersect, setdiff, setequal, union\n",
      "\n",
      "\n"
     ]
    },
    {
     "ename": "ERROR",
     "evalue": "Error: '../changeo10x/vac_heavy_germ-pass.tsv' does not exist in current working directory ('/home/phil/processed_docker/vac_docker/jupyter/alakazam').\n",
     "output_type": "error",
     "traceback": [
      "Error: '../changeo10x/vac_heavy_germ-pass.tsv' does not exist in current working directory ('/home/phil/processed_docker/vac_docker/jupyter/alakazam').\nTraceback:\n",
      "1. readChangeoDb(\"../changeo10x/vac_heavy_germ-pass.tsv\", select = NULL, \n .     drop = NULL, seq_upper = TRUE)",
      "2. suppressMessages(readr::read_tsv(file, n_max = 1))",
      "3. withCallingHandlers(expr, message = function(c) if (inherits(c, \n .     classes)) tryInvokeRestart(\"muffleMessage\"))",
      "4. readr::read_tsv(file, n_max = 1)",
      "5. read_delimited(file, tokenizer, col_names = col_names, col_types = col_types, \n .     locale = locale, skip = skip, skip_empty_rows = skip_empty_rows, \n .     comment = comment, n_max = n_max, guess_max = guess_max, \n .     progress = progress)",
      "6. standardise_path(file)",
      "7. check_path(path)",
      "8. stop(\"'\", path, \"' does not exist\", if (!is_absolute_path(path)) paste0(\" in current working directory ('\", \n .     getwd(), \"')\"), \".\", call. = FALSE)"
     ]
    }
   ],
   "source": [
    "### Ig lineage reconstruction ###\n",
    "\n",
    "# 1. Load the tsv file (AIRR format) and select a clone.\n",
    "# 2. Preprocess the clone to remove gap characters and duplicate sequences.\n",
    "# 3. Run PHYLIP, parse the output, and modify the tree topology. \n",
    "\n",
    "# Load required packages\n",
    "library(alakazam)\n",
    "library(dplyr)\n",
    "library(scales)\n",
    "library(ggplot2)\n",
    "\n",
    "# require(data.table)\n",
    "# db <- as.data.frame(fread(\"../changeo10x/vac_heavy_germ-pass.tsv\"))\n",
    "\n",
    "db <- readChangeoDb(\"../changeo10x/vac_heavy_germ-pass.tsv\", select = NULL, drop = NULL, seq_upper = TRUE)\n",
    "sub_db <- subset(db, clone_id == 1)\n",
    "head(sub_db, 5)"
   ]
  },
  {
   "cell_type": "code",
   "execution_count": 24,
   "id": "absent-withdrawal",
   "metadata": {},
   "outputs": [
    {
     "ename": "ERROR",
     "evalue": "Error in makeChangeoClone(sub_db, text_fields = c(\"c_call\", num_fields = NULL)): The column sequence_id contains no data\n",
     "output_type": "error",
     "traceback": [
      "Error in makeChangeoClone(sub_db, text_fields = c(\"c_call\", num_fields = NULL)): The column sequence_id contains no data\nTraceback:\n",
      "1. makeChangeoClone(sub_db, text_fields = c(\"c_call\", num_fields = NULL))",
      "2. stop(check)"
     ]
    }
   ],
   "source": [
    "# This example data set does not have ragged ends\n",
    "# Preprocess clone without ragged end masking (default)\n",
    "clone <- makeChangeoClone(sub_db, text_fields=c(\"c_call\", num_fields = NULL))\n",
    "\n",
    "# Show combined annotations\n",
    "clone@db[, c(\"c_call\")]"
   ]
  },
  {
   "cell_type": "code",
   "execution_count": 32,
   "id": "thorough-listing",
   "metadata": {},
   "outputs": [
    {
     "ename": "ERROR",
     "evalue": "Error in nrow(clone@data): trying to get slot \"data\" from an object (class \"tbl_df\") that is not an S4 object \n",
     "output_type": "error",
     "traceback": [
      "Error in nrow(clone@data): trying to get slot \"data\" from an object (class \"tbl_df\") that is not an S4 object \nTraceback:\n",
      "1. buildPhylipLineage(sub_db, phylip_exec, rm_temp = TRUE)",
      "2. nrow(clone@data)"
     ]
    }
   ],
   "source": [
    "# Run PHYLIP and parse output\n",
    "phylip_exec <- \"~/apps/phylip-3.69/dnapars\"\n",
    "graph <- buildPhylipLineage(sub_db, phylip_exec, rm_temp=TRUE)"
   ]
  }
 ],
 "metadata": {
  "kernelspec": {
   "display_name": "R",
   "language": "R",
   "name": "ir"
  },
  "language_info": {
   "codemirror_mode": "r",
   "file_extension": ".r",
   "mimetype": "text/x-r-source",
   "name": "R",
   "pygments_lexer": "r",
   "version": "4.0.3"
  }
 },
 "nbformat": 4,
 "nbformat_minor": 5
}
