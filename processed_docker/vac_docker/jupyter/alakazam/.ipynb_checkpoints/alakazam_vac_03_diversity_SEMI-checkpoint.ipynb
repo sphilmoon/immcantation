{
 "cells": [
  {
   "cell_type": "code",
   "execution_count": 1,
   "id": "following-terror",
   "metadata": {},
   "outputs": [
    {
     "name": "stderr",
     "output_type": "stream",
     "text": [
      "Loading required package: ggplot2\n",
      "\n",
      "As of v1.0.0 the AIRR Rearrangement schema is now the default file format.\n",
      "A description of the standard is available at https://docs.airr-community.org.\n",
      "The legacy Change-O format is supported through arguments to each function\n",
      "that allow the input column names to be explicitly defined.\n",
      "\n",
      "\n",
      "Attaching package: ‘dplyr’\n",
      "\n",
      "\n",
      "The following objects are masked from ‘package:stats’:\n",
      "\n",
      "    filter, lag\n",
      "\n",
      "\n",
      "The following objects are masked from ‘package:base’:\n",
      "\n",
      "    intersect, setdiff, setequal, union\n",
      "\n",
      "\n"
     ]
    }
   ],
   "source": [
    "### Diversity analysis ###\n",
    "\n",
    "# \"estimateAbundance\" function infers a complete clonal abundance distribution.\n",
    "# \"alphaDiversity\" function generate a smooth diversity (D) curve is generated over a range of diversity orders (q).\n",
    "# also test the diverstiy (D) at a fixed diversity order (q).\n",
    "\n",
    "# Load required packages\n",
    "library(alakazam)\n",
    "library(dplyr)\n",
    "library(scales)\n",
    "library(ggplot2)\n",
    "\n",
    "db <- readChangeoDb(\"../changeo10x/vac_heavy_germ-pass.tsv\", select = NULL, drop = NULL, seq_upper = TRUE)"
   ]
  },
  {
   "cell_type": "code",
   "execution_count": 2,
   "id": "quality-fiber",
   "metadata": {},
   "outputs": [
    {
     "data": {
      "text/html": [
       "<table class=\"dataframe\">\n",
       "<caption>A tibble: 5 × 3</caption>\n",
       "<thead>\n",
       "\t<tr><th scope=col>clone_id</th><th scope=col>seq_count</th><th scope=col>seq_freq</th></tr>\n",
       "\t<tr><th scope=col>&lt;chr&gt;</th><th scope=col>&lt;int&gt;</th><th scope=col>&lt;dbl&gt;</th></tr>\n",
       "</thead>\n",
       "<tbody>\n",
       "\t<tr><td>411_104  </td><td>27</td><td>0.0088235294</td></tr>\n",
       "\t<tr><td>151_308  </td><td> 2</td><td>0.0006535948</td></tr>\n",
       "\t<tr><td>1511_1142</td><td> 2</td><td>0.0006535948</td></tr>\n",
       "\t<tr><td>1857_1412</td><td> 2</td><td>0.0006535948</td></tr>\n",
       "\t<tr><td>2550_1945</td><td> 2</td><td>0.0006535948</td></tr>\n",
       "</tbody>\n",
       "</table>\n"
      ],
      "text/latex": [
       "A tibble: 5 × 3\n",
       "\\begin{tabular}{lll}\n",
       " clone\\_id & seq\\_count & seq\\_freq\\\\\n",
       " <chr> & <int> & <dbl>\\\\\n",
       "\\hline\n",
       "\t 411\\_104   & 27 & 0.0088235294\\\\\n",
       "\t 151\\_308   &  2 & 0.0006535948\\\\\n",
       "\t 1511\\_1142 &  2 & 0.0006535948\\\\\n",
       "\t 1857\\_1412 &  2 & 0.0006535948\\\\\n",
       "\t 2550\\_1945 &  2 & 0.0006535948\\\\\n",
       "\\end{tabular}\n"
      ],
      "text/markdown": [
       "\n",
       "A tibble: 5 × 3\n",
       "\n",
       "| clone_id &lt;chr&gt; | seq_count &lt;int&gt; | seq_freq &lt;dbl&gt; |\n",
       "|---|---|---|\n",
       "| 411_104   | 27 | 0.0088235294 |\n",
       "| 151_308   |  2 | 0.0006535948 |\n",
       "| 1511_1142 |  2 | 0.0006535948 |\n",
       "| 1857_1412 |  2 | 0.0006535948 |\n",
       "| 2550_1945 |  2 | 0.0006535948 |\n",
       "\n"
      ],
      "text/plain": [
       "  clone_id  seq_count seq_freq    \n",
       "1 411_104   27        0.0088235294\n",
       "2 151_308    2        0.0006535948\n",
       "3 1511_1142  2        0.0006535948\n",
       "4 1857_1412  2        0.0006535948\n",
       "5 2550_1945  2        0.0006535948"
      ]
     },
     "metadata": {},
     "output_type": "display_data"
    }
   ],
   "source": [
    "# Partitions the data based on the sample column\n",
    "clones <- countClones(db)\n",
    "head(clones, 5)"
   ]
  },
  {
   "cell_type": "code",
   "execution_count": 4,
   "id": "selective-cabin",
   "metadata": {},
   "outputs": [
    {
     "data": {
      "text/html": [
       "<table class=\"dataframe\">\n",
       "<caption>A grouped_df: 5 × 4</caption>\n",
       "<thead>\n",
       "\t<tr><th scope=col>c_call</th><th scope=col>clone_id</th><th scope=col>seq_count</th><th scope=col>seq_freq</th></tr>\n",
       "\t<tr><th scope=col>&lt;chr&gt;</th><th scope=col>&lt;chr&gt;</th><th scope=col>&lt;int&gt;</th><th scope=col>&lt;dbl&gt;</th></tr>\n",
       "</thead>\n",
       "<tbody>\n",
       "\t<tr><td>IGHM</td><td>411_104</td><td>26</td><td>0.0100736149</td></tr>\n",
       "\t<tr><td>IGHA</td><td>280_508</td><td> 2</td><td>0.0487804878</td></tr>\n",
       "\t<tr><td>IGHA</td><td>373_817</td><td> 2</td><td>0.0487804878</td></tr>\n",
       "\t<tr><td>IGHA</td><td>397_555</td><td> 2</td><td>0.0487804878</td></tr>\n",
       "\t<tr><td>IGHM</td><td>151_308</td><td> 2</td><td>0.0007748935</td></tr>\n",
       "</tbody>\n",
       "</table>\n"
      ],
      "text/latex": [
       "A grouped\\_df: 5 × 4\n",
       "\\begin{tabular}{llll}\n",
       " c\\_call & clone\\_id & seq\\_count & seq\\_freq\\\\\n",
       " <chr> & <chr> & <int> & <dbl>\\\\\n",
       "\\hline\n",
       "\t IGHM & 411\\_104 & 26 & 0.0100736149\\\\\n",
       "\t IGHA & 280\\_508 &  2 & 0.0487804878\\\\\n",
       "\t IGHA & 373\\_817 &  2 & 0.0487804878\\\\\n",
       "\t IGHA & 397\\_555 &  2 & 0.0487804878\\\\\n",
       "\t IGHM & 151\\_308 &  2 & 0.0007748935\\\\\n",
       "\\end{tabular}\n"
      ],
      "text/markdown": [
       "\n",
       "A grouped_df: 5 × 4\n",
       "\n",
       "| c_call &lt;chr&gt; | clone_id &lt;chr&gt; | seq_count &lt;int&gt; | seq_freq &lt;dbl&gt; |\n",
       "|---|---|---|---|\n",
       "| IGHM | 411_104 | 26 | 0.0100736149 |\n",
       "| IGHA | 280_508 |  2 | 0.0487804878 |\n",
       "| IGHA | 373_817 |  2 | 0.0487804878 |\n",
       "| IGHA | 397_555 |  2 | 0.0487804878 |\n",
       "| IGHM | 151_308 |  2 | 0.0007748935 |\n",
       "\n"
      ],
      "text/plain": [
       "  c_call clone_id seq_count seq_freq    \n",
       "1 IGHM   411_104  26        0.0100736149\n",
       "2 IGHA   280_508   2        0.0487804878\n",
       "3 IGHA   373_817   2        0.0487804878\n",
       "4 IGHA   397_555   2        0.0487804878\n",
       "5 IGHM   151_308   2        0.0007748935"
      ]
     },
     "metadata": {},
     "output_type": "display_data"
    }
   ],
   "source": [
    "# Partitions the data based on both the sample_id and c_call columns\n",
    "# Weights the clone sizes by the duplicate_count column\n",
    "clones <- countClones(db, group=c(\"c_call\"), clone=\"clone_id\")\n",
    "head(clones, 5)"
   ]
  },
  {
   "cell_type": "code",
   "execution_count": 5,
   "id": "accepted-happening",
   "metadata": {},
   "outputs": [],
   "source": [
    "# Partitions the data on the sample column\n",
    "# Calculates a 95% confidence interval via 200 bootstrap realizations\n",
    "curve <- estimateAbundance(db, ci=0.95, nboot=200, clone=\"clone_id\")"
   ]
  },
  {
   "cell_type": "code",
   "execution_count": 6,
   "id": "functioning-revelation",
   "metadata": {},
   "outputs": [
    {
     "data": {
      "image/png": "[encoded data removed]",
      "text/plain": [
       "plot without title"
      ]
     },
     "metadata": {
      "image/png": {
       "height": 420,
       "width": 420
      }
     },
     "output_type": "display_data"
    }
   ],
   "source": [
    "# Plots a rank abundance curve of the relative clonal abundances\n",
    "plot(curve)"
   ]
  },
  {
   "cell_type": "code",
   "execution_count": 15,
   "id": "uniform-findings",
   "metadata": {},
   "outputs": [
    {
     "data": {
      "image/png": "[encoded data removed]",
      "text/plain": [
       "plot without title"
      ]
     },
     "metadata": {
      "image/png": {
       "height": 420,
       "width": 420
      }
     },
     "output_type": "display_data"
    }
   ],
   "source": [
    "# \"alphaDiversity\" function re-calculates the clone size distribution and diversity based on the\n",
    "# each resampling realization. \n",
    "# smooth diversity (D) curve is generated over a range of diversity orders (q).\n",
    "\n",
    "# Compare diversity curve across values in the \"sample\" column\n",
    "# q ranges from 0 (min_q=0) to 4 (max_q=4) in 0.05 increments (step_q=0.05)\n",
    "# A 95% confidence interval will be calculated (ci=0.95)\n",
    "# 200 resampling realizations are performed (nboot=200)\n",
    "sample_curve <- alphaDiversity(db, clone=\"clone_id\",\n",
    "                               min_q=0, max_q=4, step_q=0.1,\n",
    "                               ci=0.95, nboot=200)\n",
    "\n",
    "# Plot a log-log (log_q=TRUE, log_d=TRUE) plot of sample diversity\n",
    "# Indicate number of sequences resampled from each group in the title\n",
    "sample_main <- paste0(\"Sample diversity\")\n",
    "plot(sample_curve, main_title=sample_main, \n",
    "     legend_title=\"Sample\")"
   ]
  },
  {
   "cell_type": "code",
   "execution_count": 16,
   "id": "delayed-party",
   "metadata": {},
   "outputs": [
    {
     "name": "stderr",
     "output_type": "stream",
     "text": [
      "Warning message in estimateAbundance(data, ci = 0.95, ...):\n",
      "“Not all groups passed threshold min_n=30. Excluded: IGHG1, IGHG2B, IGHG2C, IGHG3, NA”\n"
     ]
    },
    {
     "ename": "ERROR",
     "evalue": "Error in if (f2 > 0) {: missing value where TRUE/FALSE needed\n",
     "output_type": "error",
     "traceback": [
      "Error in if (f2 > 0) {: missing value where TRUE/FALSE needed\nTraceback:\n",
      "1. alphaDiversity(db, group = \"c_call\", clone = \"clone_id\", min_q = 0, \n .     max_q = 4, step_q = 0.1, ci = 0.95, nboot = 200)",
      "2. estimateAbundance(data, ci = 0.95, ...)",
      "3. bootstrapAbundance(abund_obs, n, nboot = nboot, method = \"before\")",
      "4. inferCompleteAbundance(x)",
      "5. adjustObservedAbundance(x)",
      "6. calcCoverage(x, r = 1)",
      "7. calcChao1Coverage(x)"
     ]
    }
   ],
   "source": [
    "# Compare diversity curve across values in the c_call column\n",
    "# Analyse is restricted to c_call values with at least 30 sequences by min_n=30\n",
    "# Excluded groups are indicated by a warning message\n",
    "isotype_curve <- alphaDiversity(db, group=\"c_call\", clone=\"clone_id\",\n",
    "                                min_q=0, max_q=4, step_q=0.1,\n",
    "                                ci=0.95, nboot=200)\n",
    "\n",
    "# Plot isotype diversity using default set of Ig isotype colors\n",
    "isotype_main <- paste0(\"Isotype diversity\")\n",
    "plot(isotype_curve, main_title=isotype_main, \n",
    "     legend_title=\"Isotype\")"
   ]
  },
  {
   "cell_type": "code",
   "execution_count": null,
   "id": "representative-defeat",
   "metadata": {},
   "outputs": [],
   "source": []
  },
  {
   "cell_type": "code",
   "execution_count": null,
   "id": "hybrid-grocery",
   "metadata": {},
   "outputs": [],
   "source": []
  }
 ],
 "metadata": {
  "kernelspec": {
   "display_name": "R",
   "language": "R",
   "name": "ir"
  },
  "language_info": {
   "codemirror_mode": "r",
   "file_extension": ".r",
   "mimetype": "text/x-r-source",
   "name": "R",
   "pygments_lexer": "r",
   "version": "4.0.3"
  }
 },
 "nbformat": 4,
 "nbformat_minor": 5
}
