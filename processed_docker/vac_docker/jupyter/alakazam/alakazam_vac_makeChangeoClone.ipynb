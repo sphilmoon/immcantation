{
 "cells": [
  {
   "cell_type": "code",
   "execution_count": 32,
   "id": "sensitive-object",
   "metadata": {},
   "outputs": [],
   "source": [
    "# Load required packages\n",
    "library(alakazam)\n",
    "library(dplyr)\n",
    "library(scales)\n",
    "library(ggplot2)\n",
    "\n",
    "require(data.table)\n",
    "db <- as.data.frame(fread(\"../changeo10x/vac_heavy_germ-pass.tsv\"))\n",
    "# sub_db <- subset(db, clone_id ==3138)\n",
    "\n",
    "clone <- makeChangeoClone(db, id = \"sequence_id\",\n",
    "seq = \"sequence_alignment\",\n",
    "germ = \"germline_alignment\",\n",
    "v_call = \"v_call\",\n",
    "j_call = \"j_call\",\n",
    "junc_len = \"junction_length\",\n",
    "clone = \"clone_id\",\n",
    "mask_char = \"N\",\n",
    "max_mask = 0,\n",
    "pad_end = TRUE,\n",
    "text_fields = \"c_call\",\n",
    "num_fields = NULL,\n",
    "seq_fields = NULL,\n",
    "add_count = TRUE,\n",
    "verbose = FALSE)"
   ]
  },
  {
   "cell_type": "code",
   "execution_count": 22,
   "id": "collect-explanation",
   "metadata": {},
   "outputs": [
    {
     "ename": "ERROR",
     "evalue": "Error in buildPhylipLineage(clone, phylip_exec, dist_mat = getDNAMatrix(gap = 0), : The germline and input sequences are not the same length for clone 1000_220\n",
     "output_type": "error",
     "traceback": [
      "Error in buildPhylipLineage(clone, phylip_exec, dist_mat = getDNAMatrix(gap = 0), : The germline and input sequences are not the same length for clone 1000_220\nTraceback:\n",
      "1. buildPhylipLineage(clone, phylip_exec, dist_mat = getDNAMatrix(gap = 0), \n .     rm_temp = FALSE, verbose = FALSE)",
      "2. stop(\"The germline and input sequences are not the same length for clone \", \n .     clone@clone)"
     ]
    }
   ],
   "source": [
    "# Run PHYLIP and parse output\n",
    "phylip_exec <- \"~/apps/phylip-3.69/dnapars\"\n",
    "graph <- buildPhylipLineage(clone, phylip_exec, dist_mat = getDNAMatrix(gap = 0),\n",
    "rm_temp = FALSE, verbose = FALSE)"
   ]
  },
  {
   "cell_type": "code",
   "execution_count": 35,
   "id": "foreign-grade",
   "metadata": {},
   "outputs": [
    {
     "ename": "ERROR",
     "evalue": "Error in parse(text = x, srcfile = src): <text>:5:0: unexpected end of input\n3:     group_by(clone_id) %>%\n4:     do(CHANGEO=makeChangeoClone(., text_fields=c(\"sequence_id\",\"c_call\"))\n  ^\n",
     "output_type": "error",
     "traceback": [
      "Error in parse(text = x, srcfile = src): <text>:5:0: unexpected end of input\n3:     group_by(clone_id) %>%\n4:     do(CHANGEO=makeChangeoClone(., text_fields=c(\"sequence_id\",\"c_call\"))\n  ^\nTraceback:\n"
     ]
    }
   ],
   "source": [
    "# Preprocess clones\n",
    "clones <- db %>%\n",
    "    group_by(clone_id) %>%\n",
    "    do(CHANGEO=makeChangeoClone(., text_fields=c(\"sequence_id\",\"c_call\"))"
   ]
  },
  {
   "cell_type": "code",
   "execution_count": null,
   "id": "engaged-split",
   "metadata": {},
   "outputs": [],
   "source": []
  }
 ],
 "metadata": {
  "kernelspec": {
   "display_name": "R",
   "language": "R",
   "name": "ir"
  },
  "language_info": {
   "codemirror_mode": "r",
   "file_extension": ".r",
   "mimetype": "text/x-r-source",
   "name": "R",
   "pygments_lexer": "r",
   "version": "4.0.3"
  }
 },
 "nbformat": 4,
 "nbformat_minor": 5
}
