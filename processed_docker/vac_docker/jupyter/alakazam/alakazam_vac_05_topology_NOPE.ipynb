{
 "cells": [
  {
   "cell_type": "code",
   "execution_count": null,
   "id": "allied-approval",
   "metadata": {},
   "outputs": [],
   "source": [
    "### Topology analysis ###\n",
    "\n",
    "# Quantifying the VDJ gene based on either sequence count or clonotypes.\n",
    "# options are based on \"gene\", \"allele\", \"family\"\n",
    "# duplicate count does not work... missing the column. \n",
    "\n",
    "# Load required packages\n",
    "library(alakazam)\n",
    "library(dplyr)\n",
    "library(scales)\n",
    "library(ggplot2)\n",
    "\n",
    "db <- readChangeoDb(\"../changeo10x/vac_heavy_germ-pass.tsv\", select = NULL, drop = NULL, seq_upper = TRUE)"
   ]
  }
 ],
 "metadata": {
  "kernelspec": {
   "display_name": "R",
   "language": "R",
   "name": "ir"
  },
  "language_info": {
   "codemirror_mode": "r",
   "file_extension": ".r",
   "mimetype": "text/x-r-source",
   "name": "R",
   "pygments_lexer": "r",
   "version": "4.0.3"
  }
 },
 "nbformat": 4,
 "nbformat_minor": 5
}
