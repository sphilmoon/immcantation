{
 "cells": [
  {
   "cell_type": "code",
   "execution_count": 23,
   "id": "urban-denial",
   "metadata": {},
   "outputs": [
    {
     "name": "stdout",
     "output_type": "stream",
     "text": [
      "immcantation: devel\r\n",
      "date: 2021.01.18\r\n",
      "\r\n",
      "presto: 0.6.2\r\n",
      "changeo: 1.0.2\r\n",
      "alakazam: 1.1.0.999\r\n",
      "shazam: 1.0.2.999\r\n",
      "tigger: 1.0.0.999\r\n",
      "scoper: 1.1.0.999\r\n",
      "prestor: 0.0.5\r\n",
      "rabhit: 0.1.5\r\n",
      "rdi: 1.0.0\r\n",
      "igphyml: 1.1.3\r\n",
      "\r\n",
      "airr-py: 1.3.1\r\n",
      "airr-r: 1.3.0\r\n",
      "blast: 2.9.0\r\n",
      "cd-hit: 4.8.1\r\n",
      "igblast: 1.17.0\r\n",
      "muscle: 3.8.425\r\n",
      "phylip: 3.697\r\n",
      "vsearch: 2.13.6\r\n"
     ]
    }
   ],
   "source": [
    "# 01. Trying Bitbucket tutorial\n",
    "# https://kleinstein.bitbucket.io/tutorials/intro-lab/index.html\n",
    "\n",
    "!versions report"
   ]
  },
  {
   "cell_type": "code",
   "execution_count": 15,
   "id": "neither-visitor",
   "metadata": {},
   "outputs": [
    {
     "name": "stdout",
     "output_type": "stream",
     "text": [
      "date: 2021-01-28 13:09:59 UTC\r\n",
      "immcantation: 4.1.0-29-g374efe1e079f+\r\n",
      "presto: 0.6.2-1-gb830eff5ae67\r\n",
      "changeo: 1.0.2\r\n",
      "alakazam: 1.0.2-60-g48d0242e3b4a\r\n",
      "shazam: 1.0.2-66-g2575e10ecb40\r\n",
      "tigger: e1a72eb6160d\r\n",
      "rdi: d27b9067cab6+\r\n",
      "scoper: 1.1.0-26-g53ad215b9ffb\r\n",
      "prestor: eb02b1e36424+\r\n"
     ]
    }
   ],
   "source": [
    "!builds report"
   ]
  },
  {
   "cell_type": "code",
   "execution_count": 22,
   "id": "crude-yacht",
   "metadata": {},
   "outputs": [
    {
     "ename": "SyntaxError",
     "evalue": "invalid syntax (<ipython-input-22-66ea5a734bc8>, line 5)",
     "output_type": "error",
     "traceback": [
      "\u001b[0;36m  File \u001b[0;32m\"<ipython-input-22-66ea5a734bc8>\"\u001b[0;36m, line \u001b[0;32m5\u001b[0m\n\u001b[0;31m    versions report\u001b[0m\n\u001b[0m             ^\u001b[0m\n\u001b[0;31mSyntaxError\u001b[0m\u001b[0;31m:\u001b[0m invalid syntax\n"
     ]
    }
   ],
   "source": []
  },
  {
   "cell_type": "code",
   "execution_count": 21,
   "id": "consistent-removal",
   "metadata": {},
   "outputs": [
    {
     "name": "stdout",
     "output_type": "stream",
     "text": [
      "date: 2021-01-28 13:09:59 UTC\n",
      "immcantation: 4.1.0-29-g374efe1e079f+\n",
      "presto: 0.6.2-1-gb830eff5ae67\n",
      "changeo: 1.0.2\n",
      "alakazam: 1.0.2-60-g48d0242e3b4a\n",
      "shazam: 1.0.2-66-g2575e10ecb40\n",
      "tigger: e1a72eb6160d\n",
      "rdi: d27b9067cab6+\n",
      "scoper: 1.1.0-26-g53ad215b9ffb\n",
      "prestor: eb02b1e36424+\n"
     ]
    }
   ],
   "source": [
    "%%bash \n",
    "builds report"
   ]
  },
  {
   "cell_type": "code",
   "execution_count": 24,
   "id": "potential-hollow",
   "metadata": {},
   "outputs": [
    {
     "name": "stdout",
     "output_type": "stream",
     "text": [
      "ERROR> Sequence file /home/phil/vac/filtered_contig.fasta does not exist.\r\n",
      "\r\n"
     ]
    }
   ],
   "source": [
    "# 01_AssignGenes.py \n",
    "# Perform VDJ assignment with IgBLAST.\n",
    "# This function use IgBLAST germline reference to assign VDJ sequences of my data. \n",
    "# -s for my input VDJ sequence\n",
    "# -b for the reference database\n",
    "\n",
    "!AssignGenes.py igblast -s /home/phil/vac/filtered_contig.fasta \\\n",
    "-b /usr/local/share/igblast/ --organism mouse --loci ig \\\n",
    "--format blast --nproc 8"
   ]
  },
  {
   "cell_type": "code",
   "execution_count": null,
   "id": "normal-bundle",
   "metadata": {},
   "outputs": [],
   "source": []
  }
 ],
 "metadata": {
  "kernelspec": {
   "display_name": "Python 3",
   "language": "python",
   "name": "python3"
  },
  "language_info": {
   "codemirror_mode": {
    "name": "ipython",
    "version": 3
   },
   "file_extension": ".py",
   "mimetype": "text/x-python",
   "name": "python",
   "nbconvert_exporter": "python",
   "pygments_lexer": "ipython3",
   "version": "3.9.1"
  }
 },
 "nbformat": 4,
 "nbformat_minor": 5
}
